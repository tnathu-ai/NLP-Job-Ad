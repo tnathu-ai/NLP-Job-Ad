{
 "cells": [
  {
   "cell_type": "markdown",
   "metadata": {
    "pycharm": {
     "name": "#%% md\n"
    }
   },
   "source": [
    "## Intro\n",
    "\n",
    "Once the text data is cleaned and tokenized it is ready for NLP analysis. Vectorization of the tokens allows data scientist to mathematically represent text as vectors. There are numerous ways to create these vectors.\n",
    "\n",
    "\n",
    "+ compare between ML models with different feature representation (count vector, weigthed and unweighted embedding models)\n",
    "\n",
    "+ single model (e.g., logistic regression with count vector representation), and compare the performance with different amount of info. \n",
    "\n",
    "+ Unweighted, you just sum the word embeddings of an job ad as the representation of an job ad. \n",
    "\n",
    "+ Weighted sum, ou can do a weighted sum of word embeddings as representation instead of just sum. \n",
    "\n",
    "You can do that for any embedding models and generate two version of doc representation\n",
    "\n",
    "## bulid:\n",
    "\n",
    "+ count vector representation\n",
    "+ weigthed embedding representation (use TF-IDF as the weight when you do weighted sum of word embeddings)\n",
    "+ unweigted embedding representation. \n",
    "\n",
    "## Question \n",
    "+ load pretrained model or train it from stractch"
   ]
  },
  {
   "cell_type": "code",
   "execution_count": null,
   "metadata": {},
   "outputs": [],
   "source": [
    "from itertools import chain\n",
    "from nltk.probability import *\n",
    "from itertools import chain\n",
    "# import code as a function\n",
    "from src.utils import *\n",
    "\n",
    "import pandas as pd\n",
    "import numpy as np\n",
    "import matplotlib.pyplot as plt\n",
    "import seaborn as sns\n",
    "\n",
    "%matplotlib inline"
   ]
  },
  {
   "cell_type": "markdown",
   "metadata": {
    "pycharm": {
     "name": "#%% md\n"
    }
   },
   "source": [
    "## Importing libraries"
   ]
  },
  {
   "cell_type": "code",
   "execution_count": 1,
   "metadata": {
    "collapsed": false,
    "jupyter": {
     "outputs_hidden": false
    },
    "pycharm": {
     "name": "#%%\n"
    }
   },
   "outputs": [
    {
     "data": {
      "text/html": [
       "<div>\n",
       "<style scoped>\n",
       "    .dataframe tbody tr th:only-of-type {\n",
       "        vertical-align: middle;\n",
       "    }\n",
       "\n",
       "    .dataframe tbody tr th {\n",
       "        vertical-align: top;\n",
       "    }\n",
       "\n",
       "    .dataframe thead th {\n",
       "        text-align: right;\n",
       "    }\n",
       "</style>\n",
       "<table border=\"1\" class=\"dataframe\">\n",
       "  <thead>\n",
       "    <tr style=\"text-align: right;\">\n",
       "      <th></th>\n",
       "      <th>Title</th>\n",
       "      <th>Webindex</th>\n",
       "      <th>Company</th>\n",
       "      <th>Description</th>\n",
       "      <th>Tokenized Description</th>\n",
       "      <th>Category</th>\n",
       "    </tr>\n",
       "  </thead>\n",
       "  <tbody>\n",
       "    <tr>\n",
       "      <th>0</th>\n",
       "      <td>Finance / Accounts Asst Bromley to ****k</td>\n",
       "      <td>68997528</td>\n",
       "      <td>First Recruitment Services</td>\n",
       "      <td>Accountant (partqualified) to **** p.a. South ...</td>\n",
       "      <td>['accountant', 'partqualified', 'south', 'east...</td>\n",
       "      <td>Accounting_Finance</td>\n",
       "    </tr>\n",
       "    <tr>\n",
       "      <th>1</th>\n",
       "      <td>Fund Accountant  Hedge Fund</td>\n",
       "      <td>68063513</td>\n",
       "      <td>Austin Andrew Ltd</td>\n",
       "      <td>One of the leading Hedge Funds in London is cu...</td>\n",
       "      <td>['leading', 'hedge', 'funds', 'london', 'recru...</td>\n",
       "      <td>Accounting_Finance</td>\n",
       "    </tr>\n",
       "    <tr>\n",
       "      <th>2</th>\n",
       "      <td>Deputy Home Manager</td>\n",
       "      <td>68700336</td>\n",
       "      <td>Caritas</td>\n",
       "      <td>An exciting opportunity has arisen to join an ...</td>\n",
       "      <td>['exciting', 'opportunity', 'arisen', 'join', ...</td>\n",
       "      <td>Healthcare_Nursing</td>\n",
       "    </tr>\n",
       "  </tbody>\n",
       "</table>\n",
       "</div>"
      ],
      "text/plain": [
       "                                      Title  Webindex  \\\n",
       "0  Finance / Accounts Asst Bromley to ****k  68997528   \n",
       "1               Fund Accountant  Hedge Fund  68063513   \n",
       "2                       Deputy Home Manager  68700336   \n",
       "\n",
       "                      Company  \\\n",
       "0  First Recruitment Services   \n",
       "1           Austin Andrew Ltd   \n",
       "2                     Caritas   \n",
       "\n",
       "                                         Description  \\\n",
       "0  Accountant (partqualified) to **** p.a. South ...   \n",
       "1  One of the leading Hedge Funds in London is cu...   \n",
       "2  An exciting opportunity has arisen to join an ...   \n",
       "\n",
       "                               Tokenized Description            Category  \n",
       "0  ['accountant', 'partqualified', 'south', 'east...  Accounting_Finance  \n",
       "1  ['leading', 'hedge', 'funds', 'london', 'recru...  Accounting_Finance  \n",
       "2  ['exciting', 'opportunity', 'arisen', 'join', ...  Healthcare_Nursing  "
      ]
     },
     "execution_count": 1,
     "metadata": {},
     "output_type": "execute_result"
    }
   ],
   "source": [
    "# def stats_print(tk_description):\n",
    "#     words = list(chain.from_iterable(tk_description)) # we put all the tokens in the corpus in a single list\n",
    "#     vocab = set(words) # compute the vocabulary by converting the list of words/tokens to a set, i.e., giving a set of unique words\n",
    "#     lexical_diversity = len(vocab)/len(words)\n",
    "#     print(\"Vocabulary size: \",len(vocab))\n",
    "#     print(\"Total number of tokens: \", len(words))\n",
    "#     print(\"Lexical diversity: \", lexical_diversity)\n",
    "#     print(\"Total number of description:\", len(tk_description))\n",
    "#     lens = [len(article) for article in tk_description]\n",
    "#     print(\"Average description length:\", np.mean(lens))\n",
    "#     print(\"Maximum description length:\", np.max(lens))\n",
    "#     print(\"Minimum description length:\", np.min(lens))\n",
    "#     print(\"Standard deviation of description length:\", np.std(lens))\n",
    "\n",
    "# Code to import libraries as you need in this assessment, e.g.,\n",
    "# Read job_ad.csv\n",
    "job_ad = pd.read_csv('job_ad.csv')\n",
    "\n",
    "# # get the description of the job ad\n",
    "# description = job_ad['Description']\n",
    "# # get the tokenized description of the job ad\n",
    "# tk_description = job_ad['Tokenized Description']\n",
    "webindex = job_ad['Webindex']\n",
    "\n",
    "\n",
    "# print first 3 rows\n",
    "job_ad.head(3)"
   ]
  },
  {
   "cell_type": "code",
   "execution_count": 2,
   "metadata": {
    "collapsed": false,
    "jupyter": {
     "outputs_hidden": false
    },
    "pycharm": {
     "name": "#%%\n"
    }
   },
   "outputs": [
    {
     "name": "stdout",
     "output_type": "stream",
     "text": [
      "776\n"
     ]
    },
    {
     "data": {
      "text/plain": [
       "list"
      ]
     },
     "execution_count": 2,
     "metadata": {},
     "output_type": "execute_result"
    }
   ],
   "source": [
    "descriptionFile = './description.txt'\n",
    "with open(descriptionFile) as f:\n",
    "    tk_description = f.read().splitlines() # read all the descriptions into a list\n",
    "    \n",
    "print(len(tk_description))\n",
    "type(tk_description)"
   ]
  },
  {
   "cell_type": "markdown",
   "metadata": {
    "pycharm": {
     "name": "#%% md\n"
    }
   },
   "source": [
    "#### Converting each description text string into list of tokens"
   ]
  },
  {
   "cell_type": "code",
   "execution_count": 3,
   "metadata": {
    "collapsed": false,
    "jupyter": {
     "outputs_hidden": false
    },
    "pycharm": {
     "name": "#%%\n"
    }
   },
   "outputs": [
    {
     "name": "stdout",
     "output_type": "stream",
     "text": [
      "Vocabulary size:  5218\n",
      "Total number of tokens:  102975\n",
      "Lexical diversity:  0.05067249332362224\n",
      "Total number of description: 776\n",
      "Average description length: 132.69974226804123\n",
      "Maximum description length: 471\n",
      "Minimum description length: 12\n",
      "Standard deviation of description length: 70.3782402519735\n"
     ]
    }
   ],
   "source": [
    "tk_description = [description.split(\" \") for description in tk_description] # note that we have to revert the join string into\n",
    "\n",
    "# Explore the current statistics\n",
    "stats_print(tk_description)"
   ]
  },
  {
   "cell_type": "markdown",
   "metadata": {
    "pycharm": {
     "name": "#%% md\n"
    }
   },
   "source": [
    "#### Reading the corresponding category labels"
   ]
  },
  {
   "cell_type": "code",
   "execution_count": 4,
   "metadata": {
    "collapsed": false,
    "jupyter": {
     "outputs_hidden": false
    },
    "pycharm": {
     "name": "#%%\n"
    }
   },
   "outputs": [
    {
     "name": "stdout",
     "output_type": "stream",
     "text": [
      "776\n"
     ]
    },
    {
     "data": {
      "text/plain": [
       "list"
      ]
     },
     "execution_count": 4,
     "metadata": {},
     "output_type": "execute_result"
    }
   ],
   "source": [
    "# read the category of the job ad\n",
    "categoryFile = './category.txt'\n",
    "with open(categoryFile) as f:\n",
    "    category = f.read().splitlines() # read all the category into a list\n",
    "    \n",
    "print(len(category))\n",
    "type(category)"
   ]
  },
  {
   "cell_type": "markdown",
   "metadata": {
    "pycharm": {
     "name": "#%% md\n"
    }
   },
   "source": [
    "#### Making sure we done it right\n",
    "Take an example, e.g., the 10th element"
   ]
  },
  {
   "cell_type": "code",
   "execution_count": 5,
   "metadata": {
    "collapsed": false,
    "jupyter": {
     "outputs_hidden": false
    },
    "pycharm": {
     "name": "#%%\n"
    }
   },
   "outputs": [
    {
     "name": "stdout",
     "output_type": "stream",
     "text": [
      "The number of the category: 776\n",
      "The number of the description: 776\n",
      "The number of category of category and description are the same and corresponding to each other\n"
     ]
    }
   ],
   "source": [
    "print(f'The number of the category: {len(category)}')\n",
    "print(f'The number of the description: {len(tk_description)}')\n",
    "if len(category) == len(tk_description):\n",
    "    print(f'The number of category of category and description are the same and corresponding to each other')"
   ]
  },
  {
   "cell_type": "code",
   "execution_count": 43,
   "metadata": {
    "collapsed": false,
    "jupyter": {
     "outputs_hidden": false
    },
    "pycharm": {
     "name": "#%%\n"
    }
   },
   "outputs": [],
   "source": [
    "test_index = 20"
   ]
  },
  {
   "cell_type": "markdown",
   "metadata": {
    "pycharm": {
     "name": "#%% md\n"
    }
   },
   "source": [
    "### ----------------> OBSERVATION\n",
    "\n",
    "We can see the length of the description text and corresponding labels are equal."
   ]
  },
  {
   "cell_type": "markdown",
   "metadata": {
    "pycharm": {
     "name": "#%% md\n"
    }
   },
   "source": [
    "Convert the loaded category labels to integers:"
   ]
  },
  {
   "cell_type": "markdown",
   "metadata": {
    "pycharm": {
     "name": "#%% md\n"
    }
   },
   "source": [
    "## Constructing the Vocabulary\n",
    "\n",
    "Now, we complete all the basic pre-process step and we are ready to move to feature generation! &#129321;\n",
    "Before we start, in this task, you are required to construct the final vocabulary, e.g., `vocab`:"
   ]
  },
  {
   "cell_type": "code",
   "execution_count": 8,
   "metadata": {
    "collapsed": false,
    "jupyter": {
     "outputs_hidden": false
    },
    "pycharm": {
     "name": "#%%\n"
    }
   },
   "outputs": [
    {
     "data": {
      "text/plain": [
       "5218"
      ]
     },
     "execution_count": 8,
     "metadata": {},
     "output_type": "execute_result"
    }
   ],
   "source": [
    "# generating the vocabulary\n",
    "\n",
    "words = list(chain.from_iterable(tk_description)) # we put all the tokens in the corpus in a single list\n",
    "vocab = sorted(list(set(words))) # compute the vocabulary by converting the list of words/tokens to a set, i.e., giving a set of unique words\n",
    "\n",
    "len(vocab)"
   ]
  },
  {
   "cell_type": "markdown",
   "metadata": {
    "pycharm": {
     "name": "#%% md\n"
    }
   },
   "source": [
    "<h3 style=\"color:#ffc0cb;font-size:50px;font-family:Georgia;text-align:center;\"><strong>Task 2. Generating Feature Representations</strong></h3>\n",
    "\n",
    "So let's say we do binary feature representation but with 3 types of data, the title, the description, and title+description."
   ]
  },
  {
   "cell_type": "code",
   "execution_count": 9,
   "metadata": {
    "collapsed": false,
    "jupyter": {
     "outputs_hidden": false
    },
    "pycharm": {
     "name": "#%%\n"
    }
   },
   "outputs": [],
   "source": [
    "from collections import Counter\n",
    "\n",
    "\"\"\"\n",
    "Bag-of-words model:\n",
    "Generate the Count vector representation for each job advertisement description, and save\n",
    "them into a file (please refer to the required output). Note, the generated Count vector\n",
    "representation must be based on the generated vocabulary in Task 1 (as saved in vocab.txt).\n",
    "\"\"\"\n",
    "# bag of words model\n",
    "def bag_of_words(description, vocab):\n",
    "    # create a list of 0s with the same length as the vocab\n",
    "    bow = [0] * len(vocab)\n",
    "    # count the number of times each word appears in the description\n",
    "    word_counts = Counter(description)\n",
    "    # update the bow list with the word counts\n",
    "    for word, count in word_counts.items():\n",
    "        bow[vocab.index(word)] = count\n",
    "    return bow\n",
    "\n",
    "# Generate the Count vector representation for each job advertisement description\n",
    "bow = [bag_of_words(description, vocab) for description in tk_description]"
   ]
  },
  {
   "cell_type": "markdown",
   "metadata": {
    "pycharm": {
     "name": "#%% md\n"
    }
   },
   "source": [
    "## 2.1 Saving outputs\n",
    "Save the count vector representation as per spectification.\n",
    "- `count_vectors.txt`\n",
    "\n",
    "`count_vectors.txt` stores the sparse count vector representation of job advertisement descriptions in the following format. Each line of this file corresponds to one advertisement. It starts with a ‘#’ key followed by the webindex of the job advertisement, and a comma ‘,’. The rest of the line is the sparse representation of the corresponding description in the form of word_integer_index:word_freq separated by comma. Following is an example of the file format."
   ]
  },
  {
   "cell_type": "code",
   "execution_count": 10,
   "metadata": {
    "collapsed": false,
    "jupyter": {
     "outputs_hidden": false
    },
    "pycharm": {
     "name": "#%%\n"
    }
   },
   "outputs": [
    {
     "name": "stdout",
     "output_type": "stream",
     "text": [
      "Successfully write count vector representation of job advertisement descriptions into count_vectors.txt file\n"
     ]
    }
   ],
   "source": [
    "\n",
    "# save count vector representation of job advertisement descriptions\n",
    "with open('count_vectors.txt', 'w') as f:\n",
    "    for i, description in enumerate(tk_description):\n",
    "        f.write('#' + str(webindex[i]) + ',')\n",
    "        for word in description:\n",
    "            f.write(str(vocab.index(word)) + ':' + str(bow[i][vocab.index(word)]) + ',')\n",
    "        f.write('\\n')\n",
    "    print(\"Successfully write count vector representation of job advertisement descriptions into count_vectors.txt file\")\n"
   ]
  },
  {
   "cell_type": "markdown",
   "metadata": {
    "pycharm": {
     "name": "#%% md\n"
    }
   },
   "source": [
    "<h3 style=\"color:#ffc0cb;font-size:50px;font-family:Georgia;text-align:center;\"><strong>Task 2. Generating Feature Representations</strong></h3>\n",
    "\n",
    "So let's say we do binary feature representation but with 3 types of data, the title, the description, and title+description."
   ]
  },
  {
   "cell_type": "markdown",
   "metadata": {
    "pycharm": {
     "name": "#%% md\n"
    }
   },
   "source": [
    "## Task 5. Generating Feature Vectors\n",
    "\n",
    "In this task, we are going to generate feature vectors from tokenized review text. We are going to explore different feature vectors, including binary, count, and tf-idf vectors."
   ]
  },
  {
   "cell_type": "markdown",
   "metadata": {
    "pycharm": {
     "name": "#%% md\n"
    }
   },
   "source": [
    "### Task 5.1 Generating Binary Vectors\n",
    "In this subtask, let's start with generating the binary vector representation for each review."
   ]
  },
  {
   "cell_type": "markdown",
   "metadata": {
    "pycharm": {
     "name": "#%% md\n"
    }
   },
   "source": [
    "We need to first import the `CountVectorizer` and initialise it."
   ]
  },
  {
   "cell_type": "code",
   "execution_count": 11,
   "metadata": {
    "collapsed": false,
    "jupyter": {
     "outputs_hidden": false
    },
    "pycharm": {
     "name": "#%%\n"
    }
   },
   "outputs": [],
   "source": [
    "# binding the words together for each review\n",
    "joined_description = [' '.join(review) for review in tk_description]"
   ]
  },
  {
   "cell_type": "code",
   "execution_count": 12,
   "metadata": {
    "collapsed": false,
    "jupyter": {
     "outputs_hidden": false
    },
    "pycharm": {
     "name": "#%%\n"
    }
   },
   "outputs": [],
   "source": [
    "from sklearn.feature_extraction.text import CountVectorizer\n",
    "bVectorizer = CountVectorizer(analyzer = \"word\",binary = True,vocabulary = vocab) # initialise the CountVectorizer"
   ]
  },
  {
   "cell_type": "code",
   "execution_count": 13,
   "metadata": {
    "collapsed": false,
    "jupyter": {
     "outputs_hidden": false
    },
    "pycharm": {
     "name": "#%%\n"
    }
   },
   "outputs": [
    {
     "data": {
      "text/plain": [
       "(776, 5218)"
      ]
     },
     "execution_count": 13,
     "metadata": {},
     "output_type": "execute_result"
    }
   ],
   "source": [
    "binary_features = bVectorizer.fit_transform(joined_description)\n",
    "binary_features.shape"
   ]
  },
  {
   "cell_type": "markdown",
   "metadata": {
    "pycharm": {
     "name": "#%% md\n"
    }
   },
   "source": [
    "### Task 5.2 Generating Count Vectors\n",
    "\n",
    "In this subtasks, you are required to generate the count vector features of review texts."
   ]
  },
  {
   "cell_type": "code",
   "execution_count": 14,
   "metadata": {
    "collapsed": false,
    "jupyter": {
     "outputs_hidden": false
    },
    "pycharm": {
     "name": "#%%\n"
    }
   },
   "outputs": [
    {
     "data": {
      "text/plain": [
       "(776, 5218)"
      ]
     },
     "execution_count": 14,
     "metadata": {},
     "output_type": "execute_result"
    }
   ],
   "source": [
    "cVectorizer = CountVectorizer(analyzer = \"word\",vocabulary = vocab) # initialised the CountVectorizer\n",
    "count_features = cVectorizer.fit_transform(joined_description)\n",
    "count_features.shape"
   ]
  },
  {
   "cell_type": "markdown",
   "metadata": {
    "pycharm": {
     "name": "#%% md\n"
    }
   },
   "source": [
    "### Task 5.3 Generating TF-IDF Vectors\n",
    "\n",
    "![](media/images/td-idf-graphic.png)\n",
    "Source: http://filotechnologia.blogspot.com/2014/01/a-simple-java-class-for-tfidf-scoring.html\n",
    "\n",
    "In this subtasks, you are required to generate the count vector features of review texts."
   ]
  },
  {
   "cell_type": "code",
   "execution_count": 15,
   "metadata": {
    "collapsed": false,
    "jupyter": {
     "outputs_hidden": false
    },
    "pycharm": {
     "name": "#%%\n"
    }
   },
   "outputs": [
    {
     "data": {
      "text/plain": [
       "(776, 5218)"
      ]
     },
     "execution_count": 15,
     "metadata": {},
     "output_type": "execute_result"
    }
   ],
   "source": [
    "from sklearn.feature_extraction.text import TfidfVectorizer\n",
    "tVectorizer = TfidfVectorizer(analyzer = \"word\",vocabulary = vocab) # initialised the TfidfVectorizer\n",
    "tfidf_features = tVectorizer.fit_transform(joined_description) # generate the tfidf vector representation for all articles\n",
    "tfidf_features.shape"
   ]
  },
  {
   "cell_type": "code",
   "execution_count": 16,
   "metadata": {
    "collapsed": false,
    "jupyter": {
     "outputs_hidden": false
    },
    "pycharm": {
     "name": "#%%\n"
    }
   },
   "outputs": [
    {
     "data": {
      "text/plain": [
       "<776x5218 sparse matrix of type '<class 'numpy.float64'>'\n",
       "\twith 75446 stored elements in Compressed Sparse Row format>"
      ]
     },
     "execution_count": 16,
     "metadata": {},
     "output_type": "execute_result"
    }
   ],
   "source": [
    "tfidf_features"
   ]
  },
  {
   "cell_type": "code",
   "execution_count": 17,
   "metadata": {
    "collapsed": false,
    "jupyter": {
     "outputs_hidden": false
    },
    "pycharm": {
     "name": "#%%\n"
    }
   },
   "outputs": [
    {
     "data": {
      "text/plain": [
       "<776x5218 sparse matrix of type '<class 'numpy.float64'>'\n",
       "\twith 75446 stored elements in Compressed Sparse Row format>"
      ]
     },
     "execution_count": 17,
     "metadata": {},
     "output_type": "execute_result"
    }
   ],
   "source": [
    "tfidf_features"
   ]
  },
  {
   "cell_type": "markdown",
   "metadata": {},
   "source": [
    "## 4. Generating TF-IDF weighted document vectors\n",
    "\n",
    "Ok, I hope you have lots of fun building document embeddings based on varoius word embedding models. \n",
    "Previously, when we generate the document embeddings, we just sum up the embeddings vector of each tokenized word in the article, a bit simplicity 🤔\n",
    "\n",
    "In this section, let's make it a bit more challenging, we are going to build the tf-idf document embeddings. \n",
    "What does that mean? 🤨\n",
    "Hmm~~ it's not magic, we just do a weigthed sum of the word embedding vectors, however, the weight here, refers to the tf-idf weight of the word. \n",
    "\n",
    "If you already forgot about what is `tf-idf`, please refer to Activity 3 Pre-processing Text and Generating Features. \n",
    "Otherwise, move on!\n",
    "So we've generated the tf-idf vector representation of documents in Activity 3 and saved in a txt file called `bbcNews_tVector.txt`. The format of this file is:\n",
    "- each line represents an article;\n",
    "- each line is of the format 'w_index:weight w_index:weight ......' \n",
    "\n",
    "Oh, but we don't have that word index `w_index` here in this activity, what should we do? 🤔\n",
    "ah ha, we also saved the vocabulary in a file `bbcNews_voc`, in which each line is a word, and of the format `index,word`. \n",
    "Theresore, based on these two files, we can create a word:weight mapping for each tokenized word in a document!\n",
    "\n",
    "Ok, in the following couple block of codes, this is exactly what we are trying to do, step by step. \n",
    "- the `gen_vocIndex` function reads the the vocabulary file, and create an w_index:word dictionary"
   ]
  },
  {
   "cell_type": "code",
   "execution_count": 51,
   "metadata": {},
   "outputs": [
    {
     "data": {
      "text/plain": [
       "{'aap': 0,\n",
       " 'aaron': 1,\n",
       " 'aat': 2,\n",
       " 'abb': 3,\n",
       " 'abenefit': 4,\n",
       " 'aberdeen': 5,\n",
       " 'abi': 6,\n",
       " 'abilities': 7,\n",
       " 'ability': 8,\n",
       " 'abreast': 9,\n",
       " 'abroad': 10,\n",
       " 'absence': 11,\n",
       " 'absolute': 12,\n",
       " 'ac': 13,\n",
       " 'aca': 14,\n",
       " 'academic': 15,\n",
       " 'academy': 16,\n",
       " 'acca': 17,\n",
       " 'accept': 18,\n",
       " 'acceptable': 19,\n",
       " 'acceptance': 20,\n",
       " 'accepted': 21,\n",
       " 'access': 22,\n",
       " 'accessible': 23,\n",
       " 'accident': 24,\n",
       " 'accommodates': 25,\n",
       " 'accommodation': 26,\n",
       " 'accomplished': 27,\n",
       " 'accordance': 28,\n",
       " 'account': 29,\n",
       " 'accountabilities': 30,\n",
       " 'accountability': 31,\n",
       " 'accountable': 32,\n",
       " 'accountancy': 33,\n",
       " 'accountant': 34,\n",
       " 'accountants': 35,\n",
       " 'accounting': 36,\n",
       " 'accounts': 37,\n",
       " 'accreditation': 38,\n",
       " 'accredited': 39,\n",
       " 'accruals': 40,\n",
       " 'accuracy': 41,\n",
       " 'accurate': 42,\n",
       " 'accurately': 43,\n",
       " 'achievable': 44,\n",
       " 'achieve': 45,\n",
       " 'achieved': 46,\n",
       " 'achievement': 47,\n",
       " 'achievements': 48,\n",
       " 'achiever': 49,\n",
       " 'achieving': 50,\n",
       " 'acii': 51,\n",
       " 'acquired': 52,\n",
       " 'acquisition': 53,\n",
       " 'acquisitions': 54,\n",
       " 'act': 55,\n",
       " 'acting': 56,\n",
       " 'action': 57,\n",
       " 'actions': 58,\n",
       " 'actionscript': 59,\n",
       " 'active': 60,\n",
       " 'actively': 61,\n",
       " 'activites': 62,\n",
       " 'activities': 63,\n",
       " 'activity': 64,\n",
       " 'acts': 65,\n",
       " 'actual': 66,\n",
       " 'actuarial': 67,\n",
       " 'acumen': 68,\n",
       " 'acute': 69,\n",
       " 'ad': 70,\n",
       " 'adam': 71,\n",
       " 'adapt': 72,\n",
       " 'adaptability': 73,\n",
       " 'add': 74,\n",
       " 'added': 75,\n",
       " 'addiction': 76,\n",
       " 'adding': 77,\n",
       " 'addition': 78,\n",
       " 'additional': 79,\n",
       " 'additionally': 80,\n",
       " 'additions': 81,\n",
       " 'address': 82,\n",
       " 'addresses': 83,\n",
       " 'addressing': 84,\n",
       " 'adecco': 85,\n",
       " 'adept': 86,\n",
       " 'adequacy': 87,\n",
       " 'adequate': 88,\n",
       " 'adequately': 89,\n",
       " 'adhere': 90,\n",
       " 'adhered': 91,\n",
       " 'adherence': 92,\n",
       " 'adhering': 93,\n",
       " 'adhoc': 94,\n",
       " 'adjust': 95,\n",
       " 'adjuster': 96,\n",
       " 'adjusting': 97,\n",
       " 'adjustments': 98,\n",
       " 'admin': 99,\n",
       " 'administer': 100,\n",
       " 'administered': 101,\n",
       " 'administering': 102,\n",
       " 'administration': 103,\n",
       " 'administrative': 104,\n",
       " 'administrator': 105,\n",
       " 'administrators': 106,\n",
       " 'admission': 107,\n",
       " 'admissions': 108,\n",
       " 'adobe': 109,\n",
       " 'adolescents': 110,\n",
       " 'adopt': 111,\n",
       " 'adopted': 112,\n",
       " 'adopting': 113,\n",
       " 'adrian': 114,\n",
       " 'ads': 115,\n",
       " 'adstream': 116,\n",
       " 'adult': 117,\n",
       " 'adults': 118,\n",
       " 'advance': 119,\n",
       " 'advanced': 120,\n",
       " 'advancement': 121,\n",
       " 'advances': 122,\n",
       " 'advantage': 123,\n",
       " 'advantageous': 124,\n",
       " 'advert': 125,\n",
       " 'advertise': 126,\n",
       " 'advertised': 127,\n",
       " 'advertisement': 128,\n",
       " 'advertising': 129,\n",
       " 'advertsing': 130,\n",
       " 'advice': 131,\n",
       " 'advise': 132,\n",
       " 'advised': 133,\n",
       " 'adviser': 134,\n",
       " 'advisers': 135,\n",
       " 'advising': 136,\n",
       " 'advisor': 137,\n",
       " 'advisors': 138,\n",
       " 'advisory': 139,\n",
       " 'aeronautical': 140,\n",
       " 'aerospace': 141,\n",
       " 'affairs': 142,\n",
       " 'affect': 143,\n",
       " 'affected': 144,\n",
       " 'affecting': 145,\n",
       " 'affinity': 146,\n",
       " 'affordable': 147,\n",
       " 'africa': 148,\n",
       " 'aftermarket': 149,\n",
       " 'afternoon': 150,\n",
       " 'afternoons': 151,\n",
       " 'age': 152,\n",
       " 'aged': 153,\n",
       " 'agencies': 154,\n",
       " 'agency': 155,\n",
       " 'agent': 156,\n",
       " 'agents': 157,\n",
       " 'ages': 158,\n",
       " 'aggressive': 159,\n",
       " 'agile': 160,\n",
       " 'ago': 161,\n",
       " 'agree': 162,\n",
       " 'agreed': 163,\n",
       " 'agreement': 164,\n",
       " 'agreements': 165,\n",
       " 'agy': 166,\n",
       " 'ahead': 167,\n",
       " 'ahu': 168,\n",
       " 'aid': 169,\n",
       " 'aided': 170,\n",
       " 'aids': 171,\n",
       " 'aim': 172,\n",
       " 'aimed': 173,\n",
       " 'aims': 174,\n",
       " 'air': 175,\n",
       " 'aircraft': 176,\n",
       " 'airdrie': 177,\n",
       " 'alarm': 178,\n",
       " 'alarms': 179,\n",
       " 'albans': 180,\n",
       " 'alcohol': 181,\n",
       " 'aldredirweb': 182,\n",
       " 'alecto': 183,\n",
       " 'alerting': 184,\n",
       " 'alex': 185,\n",
       " 'algorithm': 186,\n",
       " 'algorithms': 187,\n",
       " 'aligned': 188,\n",
       " 'alignment': 189,\n",
       " 'alike': 190,\n",
       " 'allied': 191,\n",
       " 'allocated': 192,\n",
       " 'allocation': 193,\n",
       " 'allowance': 194,\n",
       " 'allowances': 195,\n",
       " 'allowing': 196,\n",
       " 'alm': 197,\n",
       " 'alongside': 198,\n",
       " 'alternate': 199,\n",
       " 'alternative': 200,\n",
       " 'alternatively': 201,\n",
       " 'altrincham': 202,\n",
       " 'aluminium': 203,\n",
       " 'amazing': 204,\n",
       " 'ambassador': 205,\n",
       " 'ambition': 206,\n",
       " 'ambitions': 207,\n",
       " 'ambitious': 208,\n",
       " 'ambridge': 209,\n",
       " 'amenities': 210,\n",
       " 'america': 211,\n",
       " 'american': 212,\n",
       " 'amigo': 213,\n",
       " 'aml': 214,\n",
       " 'amount': 215,\n",
       " 'amounts': 216,\n",
       " 'amp': 217,\n",
       " 'amrywiol': 218,\n",
       " 'anaesthetics': 219,\n",
       " 'anaesthetist': 220,\n",
       " 'analog': 221,\n",
       " 'analogue': 222,\n",
       " 'analyse': 223,\n",
       " 'analysers': 224,\n",
       " 'analyses': 225,\n",
       " 'analysing': 226,\n",
       " 'analysis': 227,\n",
       " 'analyst': 228,\n",
       " 'analystbelfast': 229,\n",
       " 'analysts': 230,\n",
       " 'analytical': 231,\n",
       " 'analytics': 232,\n",
       " 'ancillary': 233,\n",
       " 'andoffers': 234,\n",
       " 'andrew': 235,\n",
       " 'android': 236,\n",
       " 'androidoptometryapp': 237,\n",
       " 'andy': 238,\n",
       " 'angiography': 239,\n",
       " 'anglia': 240,\n",
       " 'annual': 241,\n",
       " 'annum': 242,\n",
       " 'anomalies': 243,\n",
       " 'answer': 244,\n",
       " 'answered': 245,\n",
       " 'answering': 246,\n",
       " 'anthony': 247,\n",
       " 'anticipate': 248,\n",
       " 'anticipated': 249,\n",
       " 'antony': 250,\n",
       " 'apartments': 251,\n",
       " 'api': 252,\n",
       " 'apmp': 253,\n",
       " 'appearance': 254,\n",
       " 'appetite': 255,\n",
       " 'appleoptometry': 256,\n",
       " 'applicable': 257,\n",
       " 'applicant': 258,\n",
       " 'applicants': 259,\n",
       " 'application': 260,\n",
       " 'applications': 261,\n",
       " 'applied': 262,\n",
       " 'applies': 263,\n",
       " 'apply': 264,\n",
       " 'applying': 265,\n",
       " 'appoint': 266,\n",
       " 'appointed': 267,\n",
       " 'appointment': 268,\n",
       " 'appointments': 269,\n",
       " 'appraisal': 270,\n",
       " 'appraisals': 271,\n",
       " 'appraising': 272,\n",
       " 'appreciation': 273,\n",
       " 'apprentice': 274,\n",
       " 'apprenticeship': 275,\n",
       " 'approach': 276,\n",
       " 'approachable': 277,\n",
       " 'approaches': 278,\n",
       " 'appropriately': 279,\n",
       " 'approval': 280,\n",
       " 'approved': 281,\n",
       " 'approx': 282,\n",
       " 'approximately': 283,\n",
       " 'aptitude': 284,\n",
       " 'aptrack': 285,\n",
       " 'ar': 286,\n",
       " 'architect': 287,\n",
       " 'architects': 288,\n",
       " 'architectural': 289,\n",
       " 'architecture': 290,\n",
       " 'architectures': 291,\n",
       " 'archiving': 292,\n",
       " 'area': 293,\n",
       " 'areas': 294,\n",
       " 'arena': 295,\n",
       " 'arise': 296,\n",
       " 'arisen': 297,\n",
       " 'arm': 298,\n",
       " 'armed': 299,\n",
       " 'arrange': 300,\n",
       " 'arranged': 301,\n",
       " 'arrangement': 302,\n",
       " 'arrangements': 303,\n",
       " 'arranging': 304,\n",
       " 'array': 305,\n",
       " 'arrow': 306,\n",
       " 'art': 307,\n",
       " 'articulate': 308,\n",
       " 'articulating': 309,\n",
       " 'artists': 310,\n",
       " 'asap': 311,\n",
       " 'asbestos': 312,\n",
       " 'ascertain': 313,\n",
       " 'ascot': 314,\n",
       " 'asda': 315,\n",
       " 'ashby': 316,\n",
       " 'ashford': 317,\n",
       " 'ashley': 318,\n",
       " 'asia': 319,\n",
       " 'asic': 320,\n",
       " 'asked': 321,\n",
       " 'asp': 322,\n",
       " 'aspect': 323,\n",
       " 'aspects': 324,\n",
       " 'aspirations': 325,\n",
       " 'aspire': 326,\n",
       " 'aspireinc': 327,\n",
       " 'assembler': 328,\n",
       " 'assemblies': 329,\n",
       " 'assembly': 330,\n",
       " 'assertive': 331,\n",
       " 'assess': 332,\n",
       " 'assessed': 333,\n",
       " 'assessing': 334,\n",
       " 'assessment': 335,\n",
       " 'assessments': 336,\n",
       " 'assessor': 337,\n",
       " 'assessors': 338,\n",
       " 'asset': 339,\n",
       " 'assets': 340,\n",
       " 'assigned': 341,\n",
       " 'assignment': 342,\n",
       " 'assignments': 343,\n",
       " 'assimilate': 344,\n",
       " 'assist': 345,\n",
       " 'assistance': 346,\n",
       " 'assistant': 347,\n",
       " 'assistants': 348,\n",
       " 'assisted': 349,\n",
       " 'assisting': 350,\n",
       " 'assists': 351,\n",
       " 'associate': 352,\n",
       " 'associates': 353,\n",
       " 'association': 354,\n",
       " 'assume': 355,\n",
       " 'assuming': 356,\n",
       " 'assumptions': 357,\n",
       " 'assurance': 358,\n",
       " 'assured': 359,\n",
       " 'astute': 360,\n",
       " 'ate': 361,\n",
       " 'atmosphere': 362,\n",
       " 'att': 363,\n",
       " 'attached': 364,\n",
       " 'attend': 365,\n",
       " 'attendance': 366,\n",
       " 'attending': 367,\n",
       " 'attention': 368,\n",
       " 'attitude': 369,\n",
       " 'attitudes': 370,\n",
       " 'attract': 371,\n",
       " 'attracting': 372,\n",
       " 'attractive': 373,\n",
       " 'attracts': 374,\n",
       " 'attributes': 375,\n",
       " 'audi': 376,\n",
       " 'audience': 377,\n",
       " 'audiences': 378,\n",
       " 'audio': 379,\n",
       " 'audit': 380,\n",
       " 'auditing': 381,\n",
       " 'auditor': 382,\n",
       " 'auditors': 383,\n",
       " 'audits': 384,\n",
       " 'authorisation': 385,\n",
       " 'authorised': 386,\n",
       " 'authorities': 387,\n",
       " 'authority': 388,\n",
       " 'authorized': 389,\n",
       " 'autism': 390,\n",
       " 'auto': 391,\n",
       " 'autocad': 392,\n",
       " 'autodesk': 393,\n",
       " 'automated': 394,\n",
       " 'automatic': 395,\n",
       " 'automatically': 396,\n",
       " 'automation': 397,\n",
       " 'automotive': 398,\n",
       " 'autonomous': 399,\n",
       " 'autonomously': 400,\n",
       " 'autonomy': 401,\n",
       " 'auxiliaries': 402,\n",
       " 'auxiliary': 403,\n",
       " 'av': 404,\n",
       " 'availability': 405,\n",
       " 'avenues': 406,\n",
       " 'average': 407,\n",
       " 'avon': 408,\n",
       " 'avse': 409,\n",
       " 'award': 410,\n",
       " 'awarded': 411,\n",
       " 'awards': 412,\n",
       " 'awardwinning': 413,\n",
       " 'aware': 414,\n",
       " 'awareness': 415,\n",
       " 'ax': 416,\n",
       " 'axapta': 417,\n",
       " 'axis': 418,\n",
       " 'aylesbury': 419,\n",
       " 'ba': 420,\n",
       " 'bachelor': 421,\n",
       " \"bachelor's\": 422,\n",
       " 'back': 423,\n",
       " 'backed': 424,\n",
       " 'backend': 425,\n",
       " 'background': 426,\n",
       " 'backgrounds': 427,\n",
       " 'backing': 428,\n",
       " 'backtesting': 429,\n",
       " 'backup': 430,\n",
       " 'bacs': 431,\n",
       " 'badenoch': 432,\n",
       " 'bailey': 433,\n",
       " 'baking': 434,\n",
       " 'balance': 435,\n",
       " 'balances': 436,\n",
       " 'band': 437,\n",
       " 'bank': 438,\n",
       " 'banking': 439,\n",
       " 'banks': 440,\n",
       " 'barchester': 441,\n",
       " \"barchester's\": 442,\n",
       " 'barns': 443,\n",
       " 'barnsley': 444,\n",
       " 'barry': 445,\n",
       " 'base': 446,\n",
       " 'baseband': 447,\n",
       " 'based': 448,\n",
       " 'basel': 449,\n",
       " 'bases': 450,\n",
       " 'basic': 451,\n",
       " 'basingstoke': 452,\n",
       " 'basis': 453,\n",
       " 'batch': 454,\n",
       " 'bath': 455,\n",
       " 'bathing': 456,\n",
       " 'bathroom': 457,\n",
       " 'bathrooms': 458,\n",
       " 'bdm': 459,\n",
       " 'beacon': 460,\n",
       " 'bearings': 461,\n",
       " 'beautiful': 462,\n",
       " 'becky': 463,\n",
       " 'bed': 464,\n",
       " 'bedded': 465,\n",
       " 'bedford': 466,\n",
       " 'bedfordshire': 467,\n",
       " 'beds': 468,\n",
       " 'began': 469,\n",
       " 'begin': 470,\n",
       " 'behalf': 471,\n",
       " 'behaviour': 472,\n",
       " 'behavioural': 473,\n",
       " 'behaviours': 474,\n",
       " 'belfast': 475,\n",
       " 'belief': 476,\n",
       " 'believes': 477,\n",
       " 'bell': 478,\n",
       " 'belt': 479,\n",
       " 'ben': 480,\n",
       " 'bench': 481,\n",
       " 'beneficial': 482,\n",
       " 'beneficiaries': 483,\n",
       " 'benefit': 484,\n",
       " 'benefits': 485,\n",
       " 'benelux': 486,\n",
       " 'beng': 487,\n",
       " 'benn': 488,\n",
       " 'bens': 489,\n",
       " 'berkshire': 490,\n",
       " 'bespoke': 491,\n",
       " 'beverage': 492,\n",
       " 'bexhill': 493,\n",
       " 'bi': 494,\n",
       " 'bias': 495,\n",
       " 'biased': 496,\n",
       " 'bid': 497,\n",
       " 'bids': 498,\n",
       " 'big': 499,\n",
       " 'biggest': 500,\n",
       " 'bikes': 501,\n",
       " 'billing': 502,\n",
       " 'billinghay': 503,\n",
       " 'billion': 504,\n",
       " 'bills': 505,\n",
       " 'biology': 506,\n",
       " 'birmingham': 507,\n",
       " 'birthdays': 508,\n",
       " 'bit': 509,\n",
       " 'black': 510,\n",
       " 'blackburn': 511,\n",
       " 'blake': 512,\n",
       " 'blind': 513,\n",
       " 'blocked': 514,\n",
       " 'blood': 515,\n",
       " 'bls': 516,\n",
       " 'blue': 517,\n",
       " 'bluebird': 518,\n",
       " 'bluechip': 519,\n",
       " 'bluestones': 520,\n",
       " 'bms': 521,\n",
       " 'bmsbmsit': 522,\n",
       " 'bmsgraduates': 523,\n",
       " 'bmsit': 524,\n",
       " 'bmsuk': 525,\n",
       " 'bn': 526,\n",
       " 'board': 527,\n",
       " 'boast': 528,\n",
       " 'boasts': 529,\n",
       " 'bodies': 530,\n",
       " 'body': 531,\n",
       " 'boiler': 532,\n",
       " 'boilers': 533,\n",
       " 'bolting': 534,\n",
       " 'bonus': 535,\n",
       " 'bonuses': 536,\n",
       " 'book': 537,\n",
       " 'booked': 538,\n",
       " 'booking': 539,\n",
       " 'bookings': 540,\n",
       " 'bookkeeper': 541,\n",
       " 'bookkeeping': 542,\n",
       " 'books': 543,\n",
       " 'boost': 544,\n",
       " 'border': 545,\n",
       " 'boring': 546,\n",
       " 'boss': 547,\n",
       " 'boundaries': 548,\n",
       " 'bournemouth': 549,\n",
       " 'boutique': 550,\n",
       " 'box': 551,\n",
       " 'boxes': 552,\n",
       " 'brace': 553,\n",
       " 'bracknell': 554,\n",
       " 'bradford': 555,\n",
       " 'brain': 556,\n",
       " 'branch': 557,\n",
       " 'branches': 558,\n",
       " 'brand': 559,\n",
       " 'branded': 560,\n",
       " 'brands': 561,\n",
       " 'brbrjob': 562,\n",
       " 'break': 563,\n",
       " 'breakdown': 564,\n",
       " 'breakdowns': 565,\n",
       " 'breaking': 566,\n",
       " 'breheny': 567,\n",
       " 'brian': 568,\n",
       " 'briant': 569,\n",
       " 'bridge': 570,\n",
       " 'briefing': 571,\n",
       " 'briefings': 572,\n",
       " 'briefs': 573,\n",
       " 'bright': 574,\n",
       " 'brighton': 575,\n",
       " 'brilliant': 576,\n",
       " 'bring': 577,\n",
       " 'bringing': 578,\n",
       " 'brings': 579,\n",
       " 'bristol': 580,\n",
       " 'britain': 581,\n",
       " \"britain's\": 582,\n",
       " 'british': 583,\n",
       " 'brixton': 584,\n",
       " 'broad': 585,\n",
       " 'broaden': 586,\n",
       " 'broken': 587,\n",
       " 'broker': 588,\n",
       " 'brokerage': 589,\n",
       " 'brokers': 590,\n",
       " 'broking': 591,\n",
       " 'bromley': 592,\n",
       " 'broughton': 593,\n",
       " 'brown': 594,\n",
       " 'brsalary': 595,\n",
       " 'bs': 596,\n",
       " 'bsc': 597,\n",
       " 'bubble': 598,\n",
       " 'buckinghamshire': 599,\n",
       " 'buckle': 600,\n",
       " 'budget': 601,\n",
       " 'budgetary': 602,\n",
       " 'budgeted': 603,\n",
       " 'budgeting': 604,\n",
       " 'budgets': 605,\n",
       " 'bug': 606,\n",
       " 'build': 607,\n",
       " 'building': 608,\n",
       " 'buildings': 609,\n",
       " 'builds': 610,\n",
       " 'built': 611,\n",
       " 'bulk': 612,\n",
       " 'bull': 613,\n",
       " 'bullability': 614,\n",
       " 'bupa': 615,\n",
       " 'bureau': 616,\n",
       " 'bureaux': 617,\n",
       " 'burgess': 618,\n",
       " 'burscough': 619,\n",
       " 'bury': 620,\n",
       " 'bus': 621,\n",
       " 'business': 622,\n",
       " 'businesses': 623,\n",
       " 'busy': 624,\n",
       " 'butler': 625,\n",
       " 'button': 626,\n",
       " 'buy': 627,\n",
       " 'buyer': 628,\n",
       " 'buyers': 629,\n",
       " 'buying': 630,\n",
       " 'buyside': 631,\n",
       " 'buytolet': 632,\n",
       " 'bydwragedd': 633,\n",
       " 'bydwreigiaeth': 634,\n",
       " 'ca': 635,\n",
       " 'cable': 636,\n",
       " 'cabling': 637,\n",
       " 'cad': 638,\n",
       " 'cadstar': 639,\n",
       " 'cae': 640,\n",
       " 'calco': 641,\n",
       " 'calculation': 642,\n",
       " 'calculations': 643,\n",
       " 'calculus': 644,\n",
       " 'calibrating': 645,\n",
       " 'calibration': 646,\n",
       " 'calibre': 647,\n",
       " 'california': 648,\n",
       " 'call': 649,\n",
       " 'called': 650,\n",
       " 'caller': 651,\n",
       " 'calling': 652,\n",
       " 'calls': 653,\n",
       " 'calm': 654,\n",
       " 'cam': 655,\n",
       " 'cambridge': 656,\n",
       " 'cambridgeshire': 657,\n",
       " 'cameras': 658,\n",
       " 'camhs': 659,\n",
       " 'campaign': 660,\n",
       " 'campaigns': 661,\n",
       " 'canada': 662,\n",
       " 'cancer': 663,\n",
       " 'candidate': 664,\n",
       " 'candidates': 665,\n",
       " 'cannock': 666,\n",
       " 'canteen': 667,\n",
       " 'canvassing': 668,\n",
       " 'capabilities': 669,\n",
       " 'capability': 670,\n",
       " 'capable': 671,\n",
       " 'capacity': 672,\n",
       " 'capex': 673,\n",
       " 'capita': 674,\n",
       " 'capital': 675,\n",
       " 'capture': 676,\n",
       " 'car': 677,\n",
       " 'carbon': 678,\n",
       " 'carcraft': 679,\n",
       " 'card': 680,\n",
       " 'cardiac': 681,\n",
       " 'cardiff': 682,\n",
       " 'cardiology': 683,\n",
       " 'cards': 684,\n",
       " 'care': 685,\n",
       " 'cared': 686,\n",
       " 'career': 687,\n",
       " 'careers': 688,\n",
       " 'carefully': 689,\n",
       " 'carer': 690,\n",
       " 'carers': 691,\n",
       " 'cares': 692,\n",
       " 'caribbean': 693,\n",
       " 'carillion': 694,\n",
       " 'carillon': 695,\n",
       " 'caring': 696,\n",
       " 'carl': 697,\n",
       " 'caroline': 698,\n",
       " 'carpet': 699,\n",
       " 'carpets': 700,\n",
       " 'carried': 701,\n",
       " 'carrier': 702,\n",
       " 'carriers': 703,\n",
       " 'carries': 704,\n",
       " 'carry': 705,\n",
       " 'carrying': 706,\n",
       " 'cars': 707,\n",
       " 'cart': 708,\n",
       " 'case': 709,\n",
       " 'caseload': 710,\n",
       " 'cases': 711,\n",
       " 'casework': 712,\n",
       " 'cash': 713,\n",
       " 'cashflow': 714,\n",
       " 'cashier': 715,\n",
       " 'cashiering': 716,\n",
       " 'castings': 717,\n",
       " 'casual': 718,\n",
       " 'casualty': 719,\n",
       " 'catalyst': 720,\n",
       " 'categories': 721,\n",
       " 'catering': 722,\n",
       " 'caterpillar': 723,\n",
       " 'caters': 724,\n",
       " 'catia': 725,\n",
       " 'ccab': 726,\n",
       " 'ccn': 727,\n",
       " 'cct': 728,\n",
       " 'cctv': 729,\n",
       " 'cduttoncompassltd': 730,\n",
       " 'celebrating': 731,\n",
       " 'celesio': 732,\n",
       " 'cell': 733,\n",
       " 'cells': 734,\n",
       " 'cellular': 735,\n",
       " 'cemap': 736,\n",
       " 'ceng': 737,\n",
       " 'central': 738,\n",
       " 'centrally': 739,\n",
       " 'centre': 740,\n",
       " \"centre's\": 741,\n",
       " 'centred': 742,\n",
       " 'centres': 743,\n",
       " 'century': 744,\n",
       " 'ceo': 745,\n",
       " 'cerebral': 746,\n",
       " 'certificate': 747,\n",
       " 'certificates': 748,\n",
       " 'certification': 749,\n",
       " 'certifications': 750,\n",
       " 'certified': 751,\n",
       " 'certus': 752,\n",
       " 'cfo': 753,\n",
       " 'chain': 754,\n",
       " 'chains': 755,\n",
       " 'chairing': 756,\n",
       " 'challenge': 757,\n",
       " 'challenges': 758,\n",
       " 'challenging': 759,\n",
       " 'champion': 760,\n",
       " 'chance': 761,\n",
       " 'change': 762,\n",
       " 'changed': 763,\n",
       " 'changing': 764,\n",
       " 'channel': 765,\n",
       " 'channels': 766,\n",
       " 'character': 767,\n",
       " 'characteristics': 768,\n",
       " 'charge': 769,\n",
       " 'charged': 770,\n",
       " 'charismatic': 771,\n",
       " 'charitable': 772,\n",
       " 'charities': 773,\n",
       " 'charity': 774,\n",
       " 'chartered': 775,\n",
       " 'charterhouse': 776,\n",
       " 'chartership': 777,\n",
       " 'chase': 778,\n",
       " 'chasemedical': 779,\n",
       " 'chat': 780,\n",
       " 'check': 781,\n",
       " 'checkable': 782,\n",
       " 'checking': 783,\n",
       " 'checks': 784,\n",
       " 'chelmsford': 785,\n",
       " 'cheltenham': 786,\n",
       " 'chemical': 787,\n",
       " 'cheques': 788,\n",
       " 'cheshire': 789,\n",
       " 'chester': 790,\n",
       " 'chesterfield': 791,\n",
       " 'chi': 792,\n",
       " 'chichester': 793,\n",
       " 'chief': 794,\n",
       " 'child': 795,\n",
       " \"child's\": 796,\n",
       " 'childcare': 797,\n",
       " 'children': 798,\n",
       " \"children's\": 799,\n",
       " 'chip': 800,\n",
       " 'choice': 801,\n",
       " 'choices': 802,\n",
       " 'choose': 803,\n",
       " 'chosen': 804,\n",
       " 'chris': 805,\n",
       " 'christmas': 806,\n",
       " 'church': 807,\n",
       " 'chwefror': 808,\n",
       " 'cima': 809,\n",
       " 'cinema': 810,\n",
       " 'circa': 811,\n",
       " 'circuit': 812,\n",
       " 'circuitry': 813,\n",
       " 'circuits': 814,\n",
       " 'circumstances': 815,\n",
       " 'cis': 816,\n",
       " 'cisco': 817,\n",
       " 'citizen': 818,\n",
       " 'citizens': 819,\n",
       " 'city': 820,\n",
       " 'civil': 821,\n",
       " 'civils': 822,\n",
       " 'claims': 823,\n",
       " 'clarity': 824,\n",
       " 'clark': 825,\n",
       " 'class': 826,\n",
       " 'classes': 827,\n",
       " 'classification': 828,\n",
       " 'clean': 829,\n",
       " 'cleaning': 830,\n",
       " 'cleanliness': 831,\n",
       " 'clear': 832,\n",
       " 'clearance': 833,\n",
       " 'cleared': 834,\n",
       " 'clerical': 835,\n",
       " 'clerk': 836,\n",
       " 'click': 837,\n",
       " 'clicking': 838,\n",
       " 'client': 839,\n",
       " \"client's\": 840,\n",
       " 'clientfacing': 841,\n",
       " 'clients': 842,\n",
       " 'climate': 843,\n",
       " 'climb': 844,\n",
       " 'climbing': 845,\n",
       " 'clinic': 846,\n",
       " 'clinical': 847,\n",
       " 'clinically': 848,\n",
       " 'clinicians': 849,\n",
       " 'clinics': 850,\n",
       " 'close': 851,\n",
       " 'closed': 852,\n",
       " 'closely': 853,\n",
       " 'closer': 854,\n",
       " 'closes': 855,\n",
       " 'closing': 856,\n",
       " 'clothing': 857,\n",
       " 'cloud': 858,\n",
       " 'club': 859,\n",
       " 'clustering': 860,\n",
       " 'cmc': 861,\n",
       " 'cmm': 862,\n",
       " \"cmm's\": 863,\n",
       " 'cms': 864,\n",
       " 'cnc': 865,\n",
       " 'coach': 866,\n",
       " 'coaching': 867,\n",
       " 'code': 868,\n",
       " 'coded': 869,\n",
       " 'codes': 870,\n",
       " 'coding': 871,\n",
       " 'coen': 872,\n",
       " 'colchester': 873,\n",
       " 'cold': 874,\n",
       " 'coldcalling': 875,\n",
       " 'collaborating': 876,\n",
       " 'collaboration': 877,\n",
       " 'colleague': 878,\n",
       " 'colleagues': 879,\n",
       " 'collect': 880,\n",
       " 'collected': 881,\n",
       " 'collection': 882,\n",
       " 'collections': 883,\n",
       " 'college': 884,\n",
       " 'colour': 885,\n",
       " 'combat': 886,\n",
       " 'combination': 887,\n",
       " 'combine': 888,\n",
       " 'combined': 889,\n",
       " 'comfort': 890,\n",
       " 'comfortable': 891,\n",
       " 'comforting': 892,\n",
       " 'coming': 893,\n",
       " 'comm': 894,\n",
       " 'command': 895,\n",
       " 'commence': 896,\n",
       " 'commensurate': 897,\n",
       " 'commentary': 898,\n",
       " 'commercial': 899,\n",
       " 'commercially': 900,\n",
       " 'commission': 901,\n",
       " 'commissioning': 902,\n",
       " 'commissions': 903,\n",
       " 'commit': 904,\n",
       " 'commited': 905,\n",
       " 'commitment': 906,\n",
       " 'commitments': 907,\n",
       " 'committed': 908,\n",
       " 'committee': 909,\n",
       " 'commodities': 910,\n",
       " 'commodity': 911,\n",
       " 'common': 912,\n",
       " 'comms': 913,\n",
       " 'communal': 914,\n",
       " 'communicate': 915,\n",
       " 'communicated': 916,\n",
       " 'communicating': 917,\n",
       " 'communication': 918,\n",
       " 'communications': 919,\n",
       " 'communicator': 920,\n",
       " 'community': 921,\n",
       " 'commutable': 922,\n",
       " 'commute': 923,\n",
       " 'companies': 924,\n",
       " 'companionship': 925,\n",
       " 'company': 926,\n",
       " \"company's\": 927,\n",
       " 'comparable': 928,\n",
       " 'compass': 929,\n",
       " 'compassionate': 930,\n",
       " 'compatibility': 931,\n",
       " 'compelling': 932,\n",
       " 'compensation': 933,\n",
       " 'competence': 934,\n",
       " 'competencies': 935,\n",
       " 'competency': 936,\n",
       " 'competent': 937,\n",
       " 'competently': 938,\n",
       " 'competition': 939,\n",
       " 'competitive': 940,\n",
       " 'competitor': 941,\n",
       " 'competitors': 942,\n",
       " 'compile': 943,\n",
       " 'compiling': 944,\n",
       " 'complaint': 945,\n",
       " 'complaints': 946,\n",
       " 'complement': 947,\n",
       " 'complete': 948,\n",
       " 'completed': 949,\n",
       " 'completely': 950,\n",
       " 'completeness': 951,\n",
       " 'completing': 952,\n",
       " 'completion': 953,\n",
       " 'complex': 954,\n",
       " 'complexity': 955,\n",
       " 'compliance': 956,\n",
       " 'compliant': 957,\n",
       " 'complied': 958,\n",
       " 'complies': 959,\n",
       " 'comply': 960,\n",
       " 'complying': 961,\n",
       " 'component': 962,\n",
       " 'components': 963,\n",
       " 'composite': 964,\n",
       " 'comprehension': 965,\n",
       " 'comprehensive': 966,\n",
       " 'compressed': 967,\n",
       " 'compressors': 968,\n",
       " 'computational': 969,\n",
       " 'computations': 970,\n",
       " 'computer': 971,\n",
       " 'computerised': 972,\n",
       " 'concentrate': 973,\n",
       " 'concentration': 974,\n",
       " 'concept': 975,\n",
       " 'concepts': 976,\n",
       " 'conceptual': 977,\n",
       " 'concern': 978,\n",
       " 'concerned': 979,\n",
       " 'concerns': 980,\n",
       " 'concise': 981,\n",
       " 'conclusion': 982,\n",
       " 'condition': 983,\n",
       " 'conditioning': 984,\n",
       " 'conditions': 985,\n",
       " 'conduct': 986,\n",
       " 'conducted': 987,\n",
       " 'conducting': 988,\n",
       " 'conduit': 989,\n",
       " 'confederation': 990,\n",
       " 'conference': 991,\n",
       " 'conferences': 992,\n",
       " 'confidence': 993,\n",
       " 'confident': 994,\n",
       " 'confidential': 995,\n",
       " 'confidentiality': 996,\n",
       " 'confidently': 997,\n",
       " 'configuration': 998,\n",
       " 'confirm': 999,\n",
       " ...}"
      ]
     },
     "execution_count": 51,
     "metadata": {},
     "output_type": "execute_result"
    }
   ],
   "source": [
    "def read_vocab(vocab_file):\n",
    "    vocab = {}\n",
    "    with open(vocab_file) as f:\n",
    "        for line in f:\n",
    "            (word, index) = line.split(':')\n",
    "            vocab[word.strip()] = int(index)\n",
    "    return vocab\n",
    "\n",
    "# Generates the w_index:word dictionary\n",
    "voc_fname = 'vocab.txt'\n",
    "voc_dict = read_vocab(voc_fname)\n",
    "voc_dict"
   ]
  },
  {
   "cell_type": "markdown",
   "metadata": {},
   "source": [
    "### --------> OBSERVATION\n",
    "\n",
    "- the `doc_wordweights` function takes the tfidf document vector file, as well as the `word_string:word_integer_index` dictionary, creates the mapping between word_integer_index and the actual word, and creates a dictionary of word:weight or each unique word appear in the document."
   ]
  },
  {
   "cell_type": "code",
   "execution_count": 53,
   "metadata": {},
   "outputs": [
    {
     "ename": "FileNotFoundError",
     "evalue": "[Errno 2] No such file or directory: 'bbcNews_tVector.txt'",
     "output_type": "error",
     "traceback": [
      "\u001b[0;31m---------------------------------------------------------------------------\u001b[0m",
      "\u001b[0;31mFileNotFoundError\u001b[0m                         Traceback (most recent call last)",
      "Input \u001b[0;32mIn [53]\u001b[0m, in \u001b[0;36m<cell line: 15>\u001b[0;34m()\u001b[0m\n\u001b[1;32m     12\u001b[0m     \u001b[38;5;28;01mreturn\u001b[39;00m tfidf_weights\n\u001b[1;32m     14\u001b[0m fName_tVectors \u001b[38;5;241m=\u001b[39m \u001b[38;5;124m'\u001b[39m\u001b[38;5;124mbbcNews_tVector.txt\u001b[39m\u001b[38;5;124m'\u001b[39m\n\u001b[0;32m---> 15\u001b[0m tfidf_weights \u001b[38;5;241m=\u001b[39m \u001b[43mdoc_wordweights\u001b[49m\u001b[43m(\u001b[49m\u001b[43mfName_tVectors\u001b[49m\u001b[43m,\u001b[49m\u001b[43m \u001b[49m\u001b[43mvoc_dict\u001b[49m\u001b[43m)\u001b[49m\n",
      "Input \u001b[0;32mIn [53]\u001b[0m, in \u001b[0;36mdoc_wordweights\u001b[0;34m(fName_tVectors, voc_dict)\u001b[0m\n\u001b[1;32m      1\u001b[0m \u001b[38;5;28;01mdef\u001b[39;00m \u001b[38;5;21mdoc_wordweights\u001b[39m(fName_tVectors, voc_dict):\n\u001b[1;32m      2\u001b[0m     tfidf_weights \u001b[38;5;241m=\u001b[39m [] \u001b[38;5;66;03m# a list to store the  word:weight dictionaries of documents\u001b[39;00m\n\u001b[0;32m----> 4\u001b[0m     \u001b[38;5;28;01mwith\u001b[39;00m \u001b[38;5;28;43mopen\u001b[39;49m\u001b[43m(\u001b[49m\u001b[43mfName_tVectors\u001b[49m\u001b[43m)\u001b[49m \u001b[38;5;28;01mas\u001b[39;00m tVecf: \n\u001b[1;32m      5\u001b[0m         tVectors \u001b[38;5;241m=\u001b[39m tVecf\u001b[38;5;241m.\u001b[39mread()\u001b[38;5;241m.\u001b[39msplitlines() \u001b[38;5;66;03m# each line is a tfidf vector representation of a document in string format 'word_index:weight word_index:weight .......'\u001b[39;00m\n\u001b[1;32m      6\u001b[0m     \u001b[38;5;28;01mfor\u001b[39;00m tv \u001b[38;5;129;01min\u001b[39;00m tVectors: \u001b[38;5;66;03m# for each tfidf document vector\u001b[39;00m\n",
      "\u001b[0;31mFileNotFoundError\u001b[0m: [Errno 2] No such file or directory: 'bbcNews_tVector.txt'"
     ]
    }
   ],
   "source": [
    "def doc_wordweights(fName_tVectors, voc_dict):\n",
    "    tfidf_weights = [] # a list to store the  word:weight dictionaries of documents\n",
    "    \n",
    "    with open(fName_tVectors) as tVecf: \n",
    "        tVectors = tVecf.read().splitlines() # each line is a tfidf vector representation of a document in string format 'word_index:weight word_index:weight .......'\n",
    "    for tv in tVectors: # for each tfidf document vector\n",
    "        tv = tv.strip()\n",
    "        weights = tv.split(' ') # list of 'word_index:weight' entries\n",
    "        weights = [w.split(':') for w in weights] # change the format of weight to a list of '[word_index,weight]' entries\n",
    "        wordweight_dict = {voc_dict[int(w[0])]:w[1] for w in weights} # construct the weight dictionary, where each entry is 'word:weight'\n",
    "        tfidf_weights.append(wordweight_dict) \n",
    "    return tfidf_weights\n",
    "\n",
    "fName_tVectors = 'bbcNews_tVector.txt'\n",
    "tfidf_weights = doc_wordweights(fName_tVectors, voc_dict)"
   ]
  },
  {
   "cell_type": "code",
   "execution_count": 18,
   "metadata": {},
   "outputs": [],
   "source": [
    "# Weighted sum, ou can do a weighted sum of word embeddings as representation instead of just sum.\n",
    "def create_weighted_embedding_models(X):\n",
    "    global weighted_features\n",
    "    weighted_features = []\n",
    "    for i in range(len(X)):\n",
    "        weighted_features.append(np.average(embedding_matrix[X[i]], axis=0, weights=weights[i]))\n",
    "\n",
    "\n",
    "# create logistic regression with unweighted embedding representation\n",
    "def create_unweighted_embedding_models(X):\n",
    "    global unweighted_features\n",
    "    unweighted_features = []\n",
    "    for i in range(len(X)):\n",
    "        unweighted_features.append(np.sum(embedding_matrix[X[i]], axis=0))"
   ]
  },
  {
   "cell_type": "code",
   "execution_count": 19,
   "metadata": {},
   "outputs": [],
   "source": [
    "# extended version of the `gen_docVecs` function\n",
    "def gen_docVecs(wv,tk_txts,tfidf = []): # generate vector representation for documents\n",
    "    docs_vectors = pd.DataFrame() # creating empty final dataframe\n",
    "    #stopwords = nltk.corpus.stopwords.words('english') # removing stop words\n",
    "\n",
    "    for i in range(0,len(tk_txts)):\n",
    "        tokens = list(set(tk_txts[i])) # get the list of distinct words of the document\n",
    "\n",
    "        temp = pd.DataFrame()  # creating a temporary dataframe(store value for 1st doc & for 2nd doc remove the details of 1st & proced through 2nd and so on..)\n",
    "        for w_ind in range(0, len(tokens)): # looping through each word of a single document and spliting through space\n",
    "            try:\n",
    "                word = tokens[w_ind]\n",
    "                word_vec = wv[word] # if word is present in embeddings(goole provides weights associate with words(300)) then proceed\n",
    "                \n",
    "                if tfidf != []:\n",
    "                    word_weight = float(tfidf[i][word])\n",
    "                else:\n",
    "                    word_weight = 1\n",
    "                temp = temp.concat(pd.Series(word_vec*word_weight), ignore_index = True) # if word is present then append it to temporary dataframe\n",
    "            except:\n",
    "                pass\n",
    "        doc_vector = temp.sum() # take the sum of each column(w0, w1, w2,........w300)\n",
    "        docs_vectors = docs_vectors.concat(doc_vector, ignore_index = True) # append each document value to the final dataframe\n",
    "    return docs_vectors"
   ]
  },
  {
   "cell_type": "code",
   "execution_count": 20,
   "metadata": {
    "collapsed": false,
    "jupyter": {
     "outputs_hidden": false
    },
    "pycharm": {
     "name": "#%%\n"
    }
   },
   "outputs": [
    {
     "name": "stdout",
     "output_type": "stream",
     "text": [
      "Successfully write count vector representation of job advertisement descriptions into count_vectors.txt file\n"
     ]
    }
   ],
   "source": [
    "# save count vector representation of job advertisement descriptions\n",
    "with open('count_vectors.txt', 'w') as f:\n",
    "    for i, description in enumerate(tk_description):\n",
    "        f.write('#' + str(webindex[i]) + ',')\n",
    "        for word in description:\n",
    "            f.write(str(vocab.index(word)) + ':' + str(bow[i][vocab.index(word)]) + ',')\n",
    "        f.write('\\n')\n",
    "    print(\"Successfully write count vector representation of job advertisement descriptions into count_vectors.txt file\")"
   ]
  },
  {
   "cell_type": "markdown",
   "metadata": {
    "pycharm": {
     "name": "#%% md\n"
    }
   },
   "source": [
    "## Task 6. Training Logistic Regression Models for label Classification\n",
    "\n",
    "In this final task, you are required to bulid logistic regression models based on different feature vectors (binary, count and tfidf vectors), explore the cases where the model produced false predictions, and evaluate the performance of the model using a 5-fold cross-validation."
   ]
  },
  {
   "cell_type": "markdown",
   "metadata": {
    "pycharm": {
     "name": "#%% md\n"
    }
   },
   "source": [
    "In the following, we first uses count vector features as an example to bulid a logistic regression model and  explore the preformance of the model:"
   ]
  },
  {
   "cell_type": "code",
   "execution_count": 21,
   "metadata": {
    "collapsed": false,
    "jupyter": {
     "outputs_hidden": false
    },
    "pycharm": {
     "name": "#%%\n"
    }
   },
   "outputs": [
    {
     "data": {
      "text/plain": [
       "0.8589743589743589"
      ]
     },
     "execution_count": 21,
     "metadata": {},
     "output_type": "execute_result"
    }
   ],
   "source": [
    "from sklearn.model_selection import train_test_split\n",
    "from sklearn.linear_model import LogisticRegression\n",
    "\n",
    "seed = 3879312\n",
    "X_train, X_test, y_train, y_test,train_indices,test_indices = train_test_split(count_features, category, list(range(0,len(category))),test_size=0.2, random_state=seed)\n",
    "\n",
    "max_iter = 1000 # this is a relative harder problem and we have to increase the maximum iteration parameter of the logistic regression model.\n",
    "\n",
    "model = LogisticRegression(random_state=seed,max_iter=max_iter, multi_class='multinomial') # initial a logistic regression model\n",
    "model.fit(X_train, y_train) # fit the model\n",
    "model.score(X_test, y_test) # calculated the accuracy score on the test data"
   ]
  },
  {
   "cell_type": "markdown",
   "metadata": {
    "pycharm": {
     "name": "#%% md\n"
    }
   },
   "source": [
    "Looking at the confusion matrix"
   ]
  },
  {
   "cell_type": "code",
   "execution_count": 22,
   "metadata": {
    "collapsed": false,
    "jupyter": {
     "outputs_hidden": false
    },
    "pycharm": {
     "name": "#%%\n"
    }
   },
   "outputs": [],
   "source": [
    "from sklearn.metrics import confusion_matrix\n",
    "y_pred = model.predict(X_test)\n",
    "conf_mat = confusion_matrix(y_test, y_pred)"
   ]
  },
  {
   "cell_type": "code",
   "execution_count": 23,
   "metadata": {
    "collapsed": false,
    "jupyter": {
     "outputs_hidden": false
    },
    "pycharm": {
     "name": "#%%\n"
    }
   },
   "outputs": [
    {
     "data": {
      "text/plain": [
       "Text(0.5, 14.09375, 'Predicted')"
      ]
     },
     "execution_count": 23,
     "metadata": {},
     "output_type": "execute_result"
    },
    {
     "data": {
      "image/png": "[encoded data removed]",
      "text/plain": [
       "<Figure size 432x288 with 2 Axes>"
      ]
     },
     "metadata": {
      "needs_background": "light"
     },
     "output_type": "display_data"
    }
   ],
   "source": [
    "categories = ['Accounting_Finance', 'Engineering', 'Healthcare_Nursing', 'Sales'] # this gives sorted set of unique label names\n",
    "\n",
    "sns.heatmap(conf_mat, annot=True, fmt='d',\n",
    "            xticklabels=categories, yticklabels=categories, cmap=\"PiYG\") # creates a heatmap from the confusion matrix\n",
    "plt.ylabel('Actual')\n",
    "plt.xlabel('Predicted')"
   ]
  },
  {
   "cell_type": "markdown",
   "metadata": {
    "pycharm": {
     "name": "#%% md\n"
    }
   },
   "source": [
    "Let's explore some mis-classified examples."
   ]
  },
  {
   "cell_type": "code",
   "execution_count": 24,
   "metadata": {
    "collapsed": false,
    "jupyter": {
     "outputs_hidden": false
    },
    "pycharm": {
     "name": "#%%\n"
    }
   },
   "outputs": [
    {
     "name": "stdout",
     "output_type": "stream",
     "text": [
      "'Engineering' predicted as 'Accounting_Finance' : 2 examples.\n",
      "====================================================\n",
      "------------------------------------------------\n",
      "production coordinator sandbach salary pound ndash client rsquo experts supplying tailored refrigeration control solutions niche markets supermarkets industrial refrigeration plants client established company years contracting past years set expand nbsp nbsp due restructuring client production coordinator join small friendly team based sandbach nbsp nbsp nbsp nbsp nbsp nbsp nbsp nbsp nbsp nbsp nbsp production coordinator ndash role requirements successful candidate manage administrative tasks relating production activities meet company targets order input company crm system nbsp include regular telesales contact build strong working relationships clients suppliers raising purchase orders suppliers prioritising work load answering client queries email telephone internal external research information awareness stock control procedures assist stock audits perform clerical duties needed filing ability questions ascertain potential customer's experience maintaining customer relationship management software excel spread sheets general reporting preparation customer orders arrange national international courier shipments manage escalate delivery issues returns nbsp nbsp nbsp nbsp nbsp nbsp nbsp nbsp nbsp nbsp nbsp nbsp nbsp nbsp nbsp nbsp nbsp nbsp nbsp nbsp nbsp nbsp nbsp nbsp nbsp nbsp nbsp nbsp nbsp nbsp nbsp nbsp nbsp nbsp nbsp nbsp nbsp nbsp nbsp nbsp nbsp nbsp nbsp nbsp nbsp ensure internal files records updated production coordinator ndash candidate ideal candidate demonstrate ability maintain confidentiality times ability questions ascertain potential customer's experience maintaining customer relationship management crm stock control software demonstrate technical knowledge electronic components basic understanding knowledge outlook windows office excellent verbal communication listening skills ability express nbsp nbsp nbsp nbsp nbsp nbsp nbsp nbsp nbsp nbsp nbsp demonstrate positive attitude enthusiasm approach achievement ability team player car owner full clean driving license occasional local travel requirements apply send detailed cv blocked email nbsp\n",
      "-----------------------------------------------\n",
      "\n",
      "------------------------------------------------\n",
      "prs established hvac total facility management building services industry past years specialising recruitment engineering commercial staff sector commercial administrators desk operators assistant facility coordinators managers pa finance assistants fm building services markets client base long standing client customer relations impressive portfolio clients ranging small niche market organisation multi nationals blue chip house hold organisations roles specialist constantly requirements administrators desk operators concept knowledge past experience working desk management package security clearance sought client base interested talking bright keen positive administrative personnel excellent presentation communication computer skills train work friendly enjoyable market interested send current date cv call discuss opportunities assist securing challenging role clients temporary permanent vacancies\n",
      "-----------------------------------------------\n",
      "\n",
      "\n",
      "'Accounting_Finance' predicted as 'Engineering' : 3 examples.\n",
      "====================================================\n",
      "------------------------------------------------\n",
      "customer project manager smart card nfc mpayments major global vendor consultancy permanent london package leading providers sim cards worldwide client played pioneering role shaping global standards mobile communications today offers complete range solutions mobile applications support sim standards mobile devices mobile operator networks exciting time project manager work highprofile endtoend operator projects uk globally key technical point contact customer global account managers technical teams internal departments focus area gsm nfc implementation projects technologies mobile environment ll manage profiles customer requirements development testing client implementation delivery helping ensure smooth timely projects speak good technical project management client facing background mobile payment nfc smart card banking environment understanding payment specifications smart cards nfc technologies mobile payments technologies project management methodology experience desirable ability plan deliver presentations audiences including telecom operator partners call rob information forward cv today review touch professional field exploring opportunities smart card nfc space key words nfc mobile payment account manager project manager programme manager mpayments sim smart card vacancy advertised expand executive search search select firm registered england services candidates clients\n",
      "-----------------------------------------------\n",
      "\n",
      "------------------------------------------------\n",
      "client large established shared service centre south manchester works regularly offices europe including scandinavian countries current urgent requirement immediately candidate english scandinavian language join busy purchase pay division service desk client candidates accounting experience provided demonstrate excellent customer service skills exposure sap ability work system extremely advantageous fixed term contract months easily accessible public transport great offices regret shortlisted applicants contacted\n",
      "-----------------------------------------------\n",
      "\n",
      "\n"
     ]
    }
   ],
   "source": [
    "import random\n",
    "\n",
    "y_pred_prob = model.predict_proba(X_test) # instead of getting the direct prediction, i.e., a label, we can also get the probability distributions of labels\n",
    "\n",
    "for p_ind in range(0, 2):\n",
    "    for a_ind in range(0, 2):\n",
    "        if p_ind !=  a_ind: # when it mis-classifies\n",
    "            print(\"'{}' predicted as '{}' : {} examples.\".format(categories[a_ind], categories[p_ind],\\\n",
    "                                                                 conf_mat[a_ind, p_ind]))\n",
    "            print(\"====================================================\")\n",
    "\n",
    "            # retrieve the indices for the mis-classification\n",
    "            mis_inds = [test_indices[i] for i in range(0,len(y_test)) if \\\n",
    "                        y_pred[i] == p_ind and y_test[i] == a_ind]\n",
    "            #print out the article ID and the tokenised text content of the mis-classified examples\n",
    "            for ind in random.sample(mis_inds,2): # explore 2 examples\n",
    "                print(\"------------------------------------------------\")\n",
    "                print(joined_description[ind])\n",
    "                print(\"-----------------------------------------------\\n\")\n",
    "            print()"
   ]
  },
  {
   "cell_type": "markdown",
   "metadata": {
    "pycharm": {
     "name": "#%% md\n"
    }
   },
   "source": [
    "### 5-Fold Cross Validation"
   ]
  },
  {
   "cell_type": "code",
   "execution_count": 25,
   "metadata": {
    "collapsed": false,
    "jupyter": {
     "outputs_hidden": false
    },
    "pycharm": {
     "name": "#%%\n"
    }
   },
   "outputs": [
    {
     "name": "stdout",
     "output_type": "stream",
     "text": [
      "KFold(n_splits=5, random_state=3879312, shuffle=True)\n"
     ]
    }
   ],
   "source": [
    "from sklearn.model_selection import KFold\n",
    "num_folds = 5\n",
    "kf = KFold(n_splits= num_folds, random_state=seed, shuffle = True) # initialise a 5 fold validation\n",
    "print(kf)"
   ]
  },
  {
   "cell_type": "code",
   "execution_count": 26,
   "metadata": {
    "collapsed": false,
    "jupyter": {
     "outputs_hidden": false
    },
    "pycharm": {
     "name": "#%%\n"
    }
   },
   "outputs": [],
   "source": [
    "def evaluate(X_train,X_test,y_train, y_test,seed):\n",
    "    model = LogisticRegression(random_state=seed,max_iter = 1000)\n",
    "    model.fit(X_train, y_train)\n",
    "    return model.score(X_test, y_test)"
   ]
  },
  {
   "cell_type": "code",
   "execution_count": 27,
   "metadata": {
    "collapsed": false,
    "jupyter": {
     "outputs_hidden": false
    },
    "pycharm": {
     "name": "#%%\n"
    }
   },
   "outputs": [],
   "source": [
    "import pandas as pd\n",
    "from sklearn.linear_model import LogisticRegression\n",
    "\n",
    "num_models = 3\n",
    "cv_df = pd.DataFrame(columns = ['binary','count','tfidf'],index=range(num_folds)) # creates a dataframe to store the accuracy scores in all the folds\n",
    "\n",
    "fold = 0\n",
    "for train_index, test_index in kf.split(list(range(0,len(category)))):\n",
    "    y_train = [str(category[i]) for i in train_index]\n",
    "    y_test = [str(category[i]) for i in test_index]\n",
    "\n",
    "    X_train_binary, X_test_binary = binary_features[train_index], binary_features[test_index]\n",
    "    cv_df.loc[fold,'binary'] = evaluate(binary_features[train_index],binary_features[test_index],y_train,y_test,seed)\n",
    "\n",
    "    X_train_count, X_test_count = count_features[train_index], count_features[test_index]\n",
    "    cv_df.loc[fold,'count'] = evaluate(count_features[train_index],count_features[test_index],y_train,y_test,seed)\n",
    "\n",
    "    X_train_tfidf, X_test_tfidf = tfidf_features[train_index], tfidf_features[test_index]\n",
    "    cv_df.loc[fold,'tfidf'] = evaluate(tfidf_features[train_index],tfidf_features[test_index],y_train,y_test,seed)\n",
    "\n",
    "    fold +=1"
   ]
  },
  {
   "cell_type": "markdown",
   "metadata": {
    "pycharm": {
     "name": "#%% md\n"
    }
   },
   "source": [
    "Printing the result of each fold for each vector representation:"
   ]
  },
  {
   "cell_type": "code",
   "execution_count": 28,
   "metadata": {
    "collapsed": false,
    "jupyter": {
     "outputs_hidden": false
    },
    "pycharm": {
     "name": "#%%\n"
    }
   },
   "outputs": [
    {
     "data": {
      "text/html": [
       "<div>\n",
       "<style scoped>\n",
       "    .dataframe tbody tr th:only-of-type {\n",
       "        vertical-align: middle;\n",
       "    }\n",
       "\n",
       "    .dataframe tbody tr th {\n",
       "        vertical-align: top;\n",
       "    }\n",
       "\n",
       "    .dataframe thead th {\n",
       "        text-align: right;\n",
       "    }\n",
       "</style>\n",
       "<table border=\"1\" class=\"dataframe\">\n",
       "  <thead>\n",
       "    <tr style=\"text-align: right;\">\n",
       "      <th></th>\n",
       "      <th>binary</th>\n",
       "      <th>count</th>\n",
       "      <th>tfidf</th>\n",
       "    </tr>\n",
       "  </thead>\n",
       "  <tbody>\n",
       "    <tr>\n",
       "      <th>0</th>\n",
       "      <td>0.833333</td>\n",
       "      <td>0.858974</td>\n",
       "      <td>0.858974</td>\n",
       "    </tr>\n",
       "    <tr>\n",
       "      <th>1</th>\n",
       "      <td>0.896774</td>\n",
       "      <td>0.890323</td>\n",
       "      <td>0.903226</td>\n",
       "    </tr>\n",
       "    <tr>\n",
       "      <th>2</th>\n",
       "      <td>0.890323</td>\n",
       "      <td>0.890323</td>\n",
       "      <td>0.890323</td>\n",
       "    </tr>\n",
       "    <tr>\n",
       "      <th>3</th>\n",
       "      <td>0.890323</td>\n",
       "      <td>0.896774</td>\n",
       "      <td>0.916129</td>\n",
       "    </tr>\n",
       "    <tr>\n",
       "      <th>4</th>\n",
       "      <td>0.870968</td>\n",
       "      <td>0.883871</td>\n",
       "      <td>0.929032</td>\n",
       "    </tr>\n",
       "  </tbody>\n",
       "</table>\n",
       "</div>"
      ],
      "text/plain": [
       "     binary     count     tfidf\n",
       "0  0.833333  0.858974  0.858974\n",
       "1  0.896774  0.890323  0.903226\n",
       "2  0.890323  0.890323  0.890323\n",
       "3  0.890323  0.896774  0.916129\n",
       "4  0.870968  0.883871  0.929032"
      ]
     },
     "execution_count": 28,
     "metadata": {},
     "output_type": "execute_result"
    }
   ],
   "source": [
    "cv_df"
   ]
  },
  {
   "cell_type": "code",
   "execution_count": 29,
   "metadata": {
    "collapsed": false,
    "jupyter": {
     "outputs_hidden": false
    },
    "pycharm": {
     "name": "#%%\n"
    }
   },
   "outputs": [
    {
     "data": {
      "text/plain": [
       "binary    0.876344\n",
       "count     0.884053\n",
       "tfidf     0.899537\n",
       "dtype: float64"
      ]
     },
     "execution_count": 29,
     "metadata": {},
     "output_type": "execute_result"
    }
   ],
   "source": [
    "cv_df.mean()"
   ]
  },
  {
   "cell_type": "markdown",
   "metadata": {
    "pycharm": {
     "name": "#%% md\n"
    }
   },
   "source": [
    "<h3 style=\"color:#ffc0cb;font-size:50px;font-family:Georgia;text-align:center;\"><strong>Task 3. Job Advertisement Classification</strong></h3>"
   ]
  },
  {
   "cell_type": "code",
   "execution_count": 30,
   "metadata": {},
   "outputs": [],
   "source": [
    "def gen_docVecs(wv,tk_txts): # generate vector representation for documents\n",
    "    docs_vectors = pd.DataFrame() # creating empty final dataframe\n",
    "    #stopwords = nltk.corpus.stopwords.words('english') # if we haven't pre-processed the articles, it's a good idea to remove stop words\n",
    "\n",
    "    for i in range(0,len(tk_txts)):\n",
    "        tokens = tk_txts[i]\n",
    "        temp = pd.DataFrame()  # creating a temporary dataframe(store value for 1st doc & for 2nd doc remove the details of 1st & proced through 2nd and so on..)\n",
    "        for w_ind in range(0, len(tokens)): # looping through each word of a single document and spliting through space\n",
    "            try:\n",
    "                word = tokens[w_ind]\n",
    "                word_vec = wv[word] # if word is present in embeddings(goole provides weights associate with words(300)) then proceed\n",
    "                temp = pd.concat([temp, pd.Series(word_vec)], ignore_index = True)\n",
    "            except:\n",
    "                pass\n",
    "        doc_vector = temp.sum() # take the sum of each column\n",
    "        docs_vectors = pd.concat([docs_vectors, doc_vector], ignore_index = True)\n",
    "    return docs_vectors"
   ]
  },
  {
   "cell_type": "markdown",
   "metadata": {
    "pycharm": {
     "name": "#%% md\n"
    }
   },
   "source": [
    "...... Sections and code blocks on buidling classification models based on different document feature represetations. \n",
    "Detailed comparsions and evaluations on different models to answer each question as per specification. \n",
    "\n",
    "<span style=\"color: red\"> You might have complex notebook structure in this section, please feel free to create your own notebook structure. </span>"
   ]
  },
  {
   "cell_type": "markdown",
   "metadata": {},
   "source": [
    "## 3. FastText model trained on BBC News data \n",
    "\n",
    "trained our `Word2Vec` and `FastText` models using our BBC News dataset\n",
    "\n",
    "## 3. FastText\n",
    "\n",
    "As mentioned before, `word2vec` model does not accommodate words that do not appear in the training corpus. \n",
    "\n",
    "Here, we’ll learn to work with the fastText library for training word-embedding models, and performing similarity operations & vector lookups analogous to Word2Vec. \n",
    "\n",
    "In the following block of code, we import the `FastText` model form Gensim library, then:\n",
    "1. We set the path to the corpus file. Similar as above, we use the Bbc News article as the training corpus;\n",
    "2. Initialise the `FastText` model, similar as before, we use 100 dimention vectors;\n",
    "3. Then we build the vocabulary from the copurs;\n",
    "4. Finally, we train the fasttext model based on the corpus.\n",
    "\n",
    "Finally, we experiment the FastText embeddings. \n",
    "Similar, we:\n",
    "* load the FastText model saved in our prevoius activity;\n",
    "* generate document embeddings based on the load FastText word embeddings;\n",
    "* explore the reprensentiveness of the features through tSNE;\n",
    "* bulid the logistic regression model based on the generated document embeddings for news classfication.\n",
    "\n",
    "T. Mikolov, E. Grave, P. Bojanowski, C. Puhrsch, A. Joulin. Advances in Pre-Training Distributed Word Representations\n",
    "\n",
    "\n",
    "There are multiple pre-trained models in Gensim, see Section **Pretrained models** in https://radimrehurek.com/gensim/models/word2vec.html."
   ]
  },
  {
   "cell_type": "code",
   "execution_count": 31,
   "metadata": {},
   "outputs": [],
   "source": [
    "# from gensim.models.fasttext import FastText\n",
    "\n",
    "# # 1. Set the corpus file names/path\n",
    "# corpus_file = './bbcNews.txt'\n",
    "\n",
    "# # 2. Initialise the Fast Text model\n",
    "# bbcFT = FastText(vector_size=100) \n",
    "\n",
    "# # 3. build the vocabulary\n",
    "# bbcFT.build_vocab(corpus_file=corpus_file)\n",
    "\n",
    "# # 4. train the model\n",
    "# bbcFT.train(\n",
    "#     corpus_file=corpus_file, epochs=bbcFT.epochs,\n",
    "#     total_examples=bbcFT.corpus_count, total_words=bbcFT.corpus_total_words,\n",
    "# )\n",
    "\n",
    "# print(bbcFT)"
   ]
  },
  {
   "cell_type": "code",
   "execution_count": 32,
   "metadata": {},
   "outputs": [],
   "source": [
    "# # We can retrieve the KeyedVectors from the model as follows,\n",
    "\n",
    "# bbcFT_wv = bbcFT.wv\n",
    "# print(bbcFT_wv)"
   ]
  },
  {
   "cell_type": "code",
   "execution_count": 33,
   "metadata": {},
   "outputs": [],
   "source": [
    "# # Save the model\n",
    "# bbcFT.save(\"bbcFT.model\")"
   ]
  },
  {
   "cell_type": "code",
   "execution_count": 34,
   "metadata": {},
   "outputs": [
    {
     "name": "stdout",
     "output_type": "stream",
     "text": [
      "FastText(vocab=10485, vector_size=100, alpha=0.025)\n"
     ]
    }
   ],
   "source": [
    "# loading the trained Fasttext model based on bbc News data\n",
    "from gensim.models.fasttext import FastText\n",
    "bbcFT = FastText.load(\"bbcFT.model\")\n",
    "print(bbcFT)\n",
    "bbcFT_wv= bbcFT.wv"
   ]
  },
  {
   "cell_type": "code",
   "execution_count": 35,
   "metadata": {},
   "outputs": [
    {
     "data": {
      "text/plain": [
       "Index(['Title', 'Webindex', 'Company', 'Description', 'Tokenized Description',\n",
       "       'Category'],\n",
       "      dtype='object')"
      ]
     },
     "execution_count": 35,
     "metadata": {},
     "output_type": "execute_result"
    }
   ],
   "source": [
    "job_ad.columns"
   ]
  },
  {
   "cell_type": "code",
   "execution_count": 36,
   "metadata": {},
   "outputs": [
    {
     "data": {
      "text/plain": [
       "0"
      ]
     },
     "execution_count": 36,
     "metadata": {},
     "output_type": "execute_result"
    }
   ],
   "source": [
    "# NOTE this can take some time to finish running\n",
    "# generate document embeddings\n",
    "bbcFT_dvs = gen_docVecs(bbcFT_wv,job_ad['Tokenized Description'])\n",
    "bbcFT_dvs.isna().any().sum()"
   ]
  },
  {
   "cell_type": "code",
   "execution_count": 37,
   "metadata": {},
   "outputs": [
    {
     "data": {
      "text/html": [
       "<div>\n",
       "<style scoped>\n",
       "    .dataframe tbody tr th:only-of-type {\n",
       "        vertical-align: middle;\n",
       "    }\n",
       "\n",
       "    .dataframe tbody tr th {\n",
       "        vertical-align: top;\n",
       "    }\n",
       "\n",
       "    .dataframe thead th {\n",
       "        text-align: right;\n",
       "    }\n",
       "</style>\n",
       "<table border=\"1\" class=\"dataframe\">\n",
       "  <thead>\n",
       "    <tr style=\"text-align: right;\">\n",
       "      <th></th>\n",
       "      <th>0</th>\n",
       "    </tr>\n",
       "  </thead>\n",
       "  <tbody>\n",
       "    <tr>\n",
       "      <th>0</th>\n",
       "      <td>-364.202789</td>\n",
       "    </tr>\n",
       "    <tr>\n",
       "      <th>1</th>\n",
       "      <td>-315.708313</td>\n",
       "    </tr>\n",
       "    <tr>\n",
       "      <th>2</th>\n",
       "      <td>-659.416565</td>\n",
       "    </tr>\n",
       "    <tr>\n",
       "      <th>3</th>\n",
       "      <td>-273.903931</td>\n",
       "    </tr>\n",
       "    <tr>\n",
       "      <th>4</th>\n",
       "      <td>-745.514404</td>\n",
       "    </tr>\n",
       "    <tr>\n",
       "      <th>...</th>\n",
       "      <td>...</td>\n",
       "    </tr>\n",
       "    <tr>\n",
       "      <th>771</th>\n",
       "      <td>-389.416229</td>\n",
       "    </tr>\n",
       "    <tr>\n",
       "      <th>772</th>\n",
       "      <td>-1478.176758</td>\n",
       "    </tr>\n",
       "    <tr>\n",
       "      <th>773</th>\n",
       "      <td>-2095.067627</td>\n",
       "    </tr>\n",
       "    <tr>\n",
       "      <th>774</th>\n",
       "      <td>-724.506653</td>\n",
       "    </tr>\n",
       "    <tr>\n",
       "      <th>775</th>\n",
       "      <td>-686.066956</td>\n",
       "    </tr>\n",
       "  </tbody>\n",
       "</table>\n",
       "<p>776 rows × 1 columns</p>\n",
       "</div>"
      ],
      "text/plain": [
       "               0\n",
       "0    -364.202789\n",
       "1    -315.708313\n",
       "2    -659.416565\n",
       "3    -273.903931\n",
       "4    -745.514404\n",
       "..           ...\n",
       "771  -389.416229\n",
       "772 -1478.176758\n",
       "773 -2095.067627\n",
       "774  -724.506653\n",
       "775  -686.066956\n",
       "\n",
       "[776 rows x 1 columns]"
      ]
     },
     "execution_count": 37,
     "metadata": {},
     "output_type": "execute_result"
    }
   ],
   "source": [
    "bbcFT_dvs"
   ]
  },
  {
   "cell_type": "markdown",
   "metadata": {
    "tags": []
   },
   "source": [
    "### ----------> OBSERVATION\n",
    "\n",
    "0 null record"
   ]
  },
  {
   "cell_type": "markdown",
   "metadata": {},
   "source": [
    "### 1.1 Understand your task by tSNE\n",
    "\n",
    "Alright! so we have the document embedding vector representation for each article now, we can proceed to the task of document classification. \n",
    "Before, we move on, a good habbit is to explore and understand how difficult the task is, whether there are too much noise in the data, making it impossible to clearly separate each category. \n",
    "\n",
    "One way to confirm that the feature space we are using is representative enough for our task (classifying articles into separate labels) to be solvable is to use dimensionality-reduction techniques: These methods project a high-dimensional vector into a lower number of dimensions, with different guarantees on this projection according to the method used. \n",
    "In this activity, we will use [t-SNE](https://en.wikipedia.org/wiki/T-distributed_stochastic_neighbor_embedding), a popular dimensionality reduction technique used in many fields, including NLP.\n",
    "\n",
    "Since we will do the same thing again and again when we try other embeddings, we will construct a function to do this again.\n",
    "The following function `plotTSNE` takes the following arugments:\n",
    "* labels, the lable/category of each article\n",
    "* features, a numpy array of document embeddings, each for an article.\n",
    "\n",
    "and projects the feature/document embedding vectors in a 2 dimension space and plot them out. \n",
    "It does the following:\n",
    "1. get the set of classes, called `categories` (5 categories)\n",
    "2. sample 30% of the data/document embeddings randomly, and record the indices selected\n",
    "3. project the selected document embeddings in 2 dimensional space using tSNE, each document embedding now corresponds to a 2 dimensional vector in `projected_features`\n",
    "4. plot them out as scatter plot and highlight different categories in different color"
   ]
  },
  {
   "cell_type": "code",
   "execution_count": 38,
   "metadata": {},
   "outputs": [
    {
     "name": "stderr",
     "output_type": "stream",
     "text": [
      "/Users/s3879312/opt/anaconda3/lib/python3.9/site-packages/sklearn/manifold/_t_sne.py:780: FutureWarning: The default initialization in TSNE will change from 'random' to 'pca' in 1.2.\n",
      "  warnings.warn(\n",
      "/Users/s3879312/opt/anaconda3/lib/python3.9/site-packages/sklearn/manifold/_t_sne.py:790: FutureWarning: The default learning rate in TSNE will change from 200.0 to 'auto' in 1.2.\n",
      "  warnings.warn(\n"
     ]
    },
    {
     "data": {
      "image/png": "[encoded data removed]",
      "text/plain": [
       "<Figure size 432x288 with 1 Axes>"
      ]
     },
     "metadata": {
      "needs_background": "light"
     },
     "output_type": "display_data"
    }
   ],
   "source": [
    "from sklearn.manifold import TSNE\n",
    "import matplotlib.pyplot as plt\n",
    "import numpy as np\n",
    "def plotTSNE(labels,features): # features as a numpy array, each element of the array is the document embedding of an article\n",
    "    categories = sorted(labels.unique())\n",
    "    # Sampling a subset of our dataset because t-SNE is computationally expensive\n",
    "    SAMPLE_SIZE = int(len(features) * 0.3)\n",
    "    np.random.seed(0)\n",
    "    indices = np.random.choice(range(len(features)), size=SAMPLE_SIZE, replace=False)\n",
    "    projected_features = TSNE(n_components=2, random_state=0).fit_transform(features[indices])\n",
    "    colors = ['pink', 'green', 'midnightblue', 'orange', 'darkgrey']\n",
    "    for i in range(0,len(categories)):\n",
    "        points = projected_features[(labels[indices] == categories[i])]\n",
    "        plt.scatter(points[:, 0], points[:, 1], s=30, c=colors[i], label=categories[i])\n",
    "    plt.title(\"Feature vector for each article, projected on 2 dimensions.\",\n",
    "              fontdict=dict(fontsize=15))\n",
    "    plt.legend()\n",
    "    plt.show()\n",
    "    \n",
    "# explore feature space\n",
    "features = bbcFT_dvs.to_numpy() # convert the document vector dataframe to a numpy array\n",
    "plotTSNE(job_ad['Category'],features) # plot the tSNE to have a look"
   ]
  },
  {
   "cell_type": "code",
   "execution_count": 42,
   "metadata": {},
   "outputs": [
    {
     "data": {
      "text/plain": [
       "0.31906614785992216"
      ]
     },
     "execution_count": 42,
     "metadata": {},
     "output_type": "execute_result"
    }
   ],
   "source": [
    "# build the classfication model and report results\n",
    "X_train, X_test, y_train, y_test,train_indices,test_indices = train_test_split(bbcFT_dvs, job_ad['Category'], list(range(0,len(job_ad))),test_size=0.33, random_state=seed)\n",
    "\n",
    "model = LogisticRegression(max_iter = 1000,random_state=seed)\n",
    "model.fit(X_train, y_train)\n",
    "model.score(X_test, y_test)"
   ]
  },
  {
   "cell_type": "code",
   "execution_count": 40,
   "metadata": {
    "collapsed": false,
    "jupyter": {
     "outputs_hidden": false
    },
    "pycharm": {
     "name": "#%%\n"
    }
   },
   "outputs": [
    {
     "name": "stderr",
     "output_type": "stream",
     "text": [
      "[NbConvertApp] Converting notebook task1.ipynb to python\n",
      "[NbConvertApp] Writing 29456 bytes to task1.py\n",
      "[NbConvertApp] Converting notebook task2_3.ipynb to python\n",
      "[NbConvertApp] Writing 24616 bytes to task2_3.py\n",
      "[NbConvertApp] Converting notebook model.ipynb to python\n",
      "[NbConvertApp] Writing 32834 bytes to model.py\n"
     ]
    }
   ],
   "source": [
    "import os\n",
    "\n",
    "# The .py format of the jupyter notebook\n",
    "for fname in os.listdir():\n",
    "    if fname.endswith('ipynb'):\n",
    "        os.system(f'jupyter nbconvert {fname} --to python')"
   ]
  },
  {
   "cell_type": "markdown",
   "metadata": {
    "pycharm": {
     "name": "#%% md\n"
    }
   },
   "source": [
    "<h3 style=\"color:#ffc0cb;font-size:50px;font-family:Georgia;text-align:center;\"><strong>Summary</strong></h3>\n",
    "Give a short summary and anything you would like to talk about the assessment tasks here."
   ]
  },
  {
   "cell_type": "markdown",
   "metadata": {
    "pycharm": {
     "name": "#%% md\n"
    }
   },
   "source": [
    "## Couple of notes for all code blocks in this notebook\n",
    "- please provide proper comment on your code\n",
    "- Please re-start and run all cells to make sure codes are runable and include your output in the submission.   \n",
    "<span style=\"color: red\"> This markdown block can be removed once the task is completed. </span>"
   ]
  },
  {
   "cell_type": "markdown",
   "metadata": {
    "jupyter": {
     "outputs_hidden": false
    },
    "pycharm": {
     "name": "#%%\n"
    }
   },
   "source": [
    "# Reference\n",
    "\n",
    "+ https://machinelearningmastery.com/multinomial-logistic-regression-with-python/\n",
    "+ https://towardsdatascience.com/introduction-to-natural-language-processing-for-text-df845750fb63"
   ]
  },
  {
   "cell_type": "code",
   "execution_count": null,
   "metadata": {},
   "outputs": [],
   "source": []
  }
 ],
 "metadata": {
  "kernelspec": {
   "display_name": "Python 3 (ipykernel)",
   "language": "python",
   "name": "python3"
  },
  "language_info": {
   "codemirror_mode": {
    "name": "ipython",
    "version": 3
   },
   "file_extension": ".py",
   "mimetype": "text/x-python",
   "name": "python",
   "nbconvert_exporter": "python",
   "pygments_lexer": "ipython3",
   "version": "3.9.12"
  },
  "vscode": {
   "interpreter": {
    "hash": "31f2aee4e71d21fbe5cf8b01ff0e069b9275f58929596ceb00d14d90e3e16cd6"
   }
  }
 },
 "nbformat": 4,
 "nbformat_minor": 4
}
