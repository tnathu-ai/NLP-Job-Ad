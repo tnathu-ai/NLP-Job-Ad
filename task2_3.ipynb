{
 "cells": [
  {
   "cell_type": "markdown",
   "metadata": {
    "pycharm": {
     "name": "#%% md\n"
    }
   },
   "source": [
    "# Assignment 2: Milestone I Natural Language Processing\n",
    "\n",
    "<h3 style=\"color:#ffc0cb;font-size:40px;font-family:Georgia;text-align:center;\"><strong>Task 2&3.<br>Feature Representation & Classification</strong></h3>\n",
    "\n",
    "#### Student Name: Tran Ngoc Anh Thu\n",
    "#### Student ID: s3879312\n",
    "\n",
    "Date: \"October 2, 2022\"\n",
    "\n",
    "Version: 1.0\n",
    "\n",
    "Environment: Python 3 and Jupyter notebook\n",
    "\n",
    "Libraries used (please go to `requirements.txt` file for further details)\n",
    "* sklearn\n",
    "* collections\n",
    "* re\n",
    "* numpy\n",
    "* nltk\n",
    "* itertools\n",
    "* pandas\n",
    "* os\n",
    "* pylab\n",
    "* collections\n",
    "\n",
    "## Introduction\n",
    "\n",
    "Machine and Algorithm can not understand lossing categorical data. Therefore, we should encode those text into numerical values using feature representation\n",
    "We have pre-processed data in Task1. Once the text data is cleaned and tokenized it is ready for NLP analysis. Vectorization of the tokens allows us to mathematically represent text as vectors. There are numerous ways to create these vectors.\n",
    "\n",
    "\n",
    "+ compare between ML models with different feature representation (count vector, weigthed and unweighted embedding models)\n",
    "\n",
    "+ single model (e.g., logistic regression with count vector representation), and compare the performance with different amount of info. \n",
    "\n",
    "+ Unweighted, you just sum the word embeddings of an job ad as the representation of an job ad. \n",
    "\n",
    "+ Weighted sum, ou can do a weighted sum of word embeddings as representation instead of just sum.\n",
    "\n",
    "\n",
    "### Multi-class classification \n",
    "+ Model: we will use Linear Model (Logistic Regression) combine with different attributes and feature representations. \n",
    "+ Model evaluation:K-fold cross-validation (5 folds here) to avoid overfitting the data\n",
    "+ Metric: we will chose Accuracy to compare our models\n",
    "> * `accuracy = correct_predictions / total_predictions`\n",
    "\n",
    "## Steps\n",
    "+ 2.1. Examining and loading data\n",
    "\n",
    "+ 1.2. Basic Text Pre-processing\n",
    "    * 1.2.1. Extract information from each job advertisement. Perform the following pre-processing steps to the description of each job advertisement;\n",
    "    * 1.2.2. Tokenize each job advertisement description. The word tokenization must use the following regular expression:\n",
    "    ```python\n",
    "    pattern = r\"[a-zA-Z]+(?:[-'][a-zA-Z]+)?\" \n",
    "    ```\n",
    "    * 1.2.3. All the words must be converted into the lower case;\n",
    "    * 1.2.4. Remove words with length less than 2.\n",
    "    * 1.2.5. Remove stopwords using the provided stop words list (i.e, stopwords_en.txt). It is located inside the same downloaded folder.\n",
    "    * 1.2.6. Remove the word that appears only once in the document collection, based on term frequency.\n",
    "    * 1.2.7. Remove the top 50 most frequent words based on document frequency.\n",
    "    * 1.2.8. Save all job advertisement text and information in txt file(s) \n",
    "    * 1.2.9. Build a vocabulary of the cleaned job advertisement descriptions, save it in a txt file (please refer to the required output)\n",
    "    \n",
    "+ 1.3. Summary\n",
    "> * Discussion\n",
    "      \n",
    "+ 1.4. References\n",
    "\n",
    "\n",
    "## Dataset\n",
    "+ A small collection of job advertisement documents (around 776 jobs) inside the `data` folder.\n",
    "+ Inside the data folder, there are four different sub-folders: Accounting_Finance, Engineering, Healthcare_Nursing, and Sales, representing a job category.\n",
    "+ The job advertisement text documents of a particular category are in the corresponding sub-folder.\n",
    "+ Each job advertisement document is a txt file named `Job_<ID>.txt`. It contains the title, the webindex (some will also have information on the company name, some might not), and the full description of the job advertisement.\n",
    "\n"
   ]
  },
  {
   "cell_type": "markdown",
   "metadata": {
    "pycharm": {
     "name": "#%% md\n"
    }
   },
   "source": [
    "## Importing libraries & packages\n",
    "\n",
    "Install packages to the local environment for the whole project with `pip install -r requirements.txt`"
   ]
  },
  {
   "cell_type": "code",
   "execution_count": 79,
   "outputs": [
    {
     "name": "stdout",
     "output_type": "stream",
     "text": [
      "Requirement already satisfied: gensim in /Users/tnathu-ai/.conda/envs/Advanced_Programming_for_Data_Science/lib/python3.10/site-packages (4.2.0)\r\n",
      "Requirement already satisfied: scipy>=0.18.1 in /Users/tnathu-ai/.conda/envs/Advanced_Programming_for_Data_Science/lib/python3.10/site-packages (from gensim) (1.9.0)\r\n",
      "Requirement already satisfied: numpy>=1.17.0 in /Users/tnathu-ai/.conda/envs/Advanced_Programming_for_Data_Science/lib/python3.10/site-packages (from gensim) (1.23.1)\r\n",
      "Requirement already satisfied: smart-open>=1.8.1 in /Users/tnathu-ai/.conda/envs/Advanced_Programming_for_Data_Science/lib/python3.10/site-packages (from gensim) (6.2.0)\r\n"
     ]
    }
   ],
   "source": [
    "!pip install gensim\n",
    "from sklearn.feature_extraction.text import CountVectorizer\n",
    "from sklearn.feature_extraction.text import TfidfVectorizer\n",
    "from sklearn.model_selection import train_test_split\n",
    "from sklearn.linear_model import LogisticRegression\n",
    "from gensim.models import Word2Vec\n",
    "\n",
    "# import code as a function\n",
    "from src.utils import *\n",
    "\n",
    "import pandas as pd\n",
    "import numpy as np\n",
    "import matplotlib.pyplot as plt\n",
    "import seaborn as sns\n",
    "\n",
    "# ignore warning\n",
    "import warnings\n",
    "warnings.filterwarnings('ignore')\n",
    "\n",
    "%matplotlib inline\n",
    "# set desired matplotlib gloabal figure size\n",
    "plt.rcParams[\"figure.figsize\"] = (20,10)"
   ],
   "metadata": {
    "collapsed": false,
    "pycharm": {
     "name": "#%%\n"
    }
   }
  },
  {
   "cell_type": "code",
   "execution_count": 39,
   "outputs": [
    {
     "name": "stdout",
     "output_type": "stream",
     "text": [
      "Numpy version:  1.23.1\n",
      "Pandas version:  1.4.3\n",
      "Python 3.10.4\r\n"
     ]
    }
   ],
   "source": [
    "# check the version of the main packages\n",
    "print(\"Numpy version: \", np.__version__)\n",
    "print(\"Pandas version: \",pd.__version__)\n",
    "! python --version"
   ],
   "metadata": {
    "collapsed": false,
    "pycharm": {
     "name": "#%%\n"
    }
   }
  },
  {
   "cell_type": "markdown",
   "source": [
    "<h3 style=\"color:#ffc0cb;font-size:50px;font-family:Georgia;text-align:center;\"><strong>Task 2 Feature Representation<br></strong></h3>\n",
    "\n",
    "# 2.1 Examining and loading data\n",
    "\n",
    "After doing any pre-processing in task1, we have several `.txt` files and a `.csv` file to further analysis\n",
    "\n",
    "The loaded `job_ad.csb` is then a dictionary, with the following attributes:\n",
    "\n",
    "| **ATTRIBUTES**        | **DESCRIPTION**                                        |\n",
    "|-----------------------|--------------------------------------------------------|\n",
    "| Webindex              | the 8 digit Id of the job advertisement on the website |\n",
    "| Title                 | the Title of the advertised job position               |\n",
    "| Tokenized Title       | the tokenized Title of the advertised job position     |\n",
    "| Company               | the Company of the advertised job position             |\n",
    "| Tokenized Company     | the tokenized Company of the advertised job position   |\n",
    "| Description           | the description of each job advertisement              |\n",
    "| Tokenized Description | the tokenized description of each job advertisement    |\n",
    "| Category              | the category of the advertised job position            |"
   ],
   "metadata": {
    "collapsed": false,
    "pycharm": {
     "name": "#%% md\n"
    }
   }
  },
  {
   "cell_type": "code",
   "execution_count": 41,
   "metadata": {
    "collapsed": false,
    "jupyter": {
     "outputs_hidden": false
    },
    "pycharm": {
     "name": "#%%\n"
    }
   },
   "outputs": [
    {
     "data": {
      "text/plain": "   Webindex                                     Title  \\\n0  68997528  Finance / Accounts Asst Bromley to ****k   \n1  68063513               Fund Accountant  Hedge Fund   \n2  68700336                       Deputy Home Manager   \n\n                                     Tokenized Title  \\\n0  ['finance', 'accounts', 'asst', 'bromley', 'to...   \n1            ['fund', 'accountant', 'hedge', 'fund']   \n2                      ['deputy', 'home', 'manager']   \n\n                      Company                     Tokenized Company  \\\n0  First Recruitment Services  ['first', 'recruitment', 'services']   \n1           Austin Andrew Ltd           ['austin', 'andrew', 'ltd']   \n2                     Caritas                           ['caritas']   \n\n                                         Description  \\\n0  Accountant (partqualified) to **** p.a. South ...   \n1  One of the leading Hedge Funds in London is cu...   \n2  An exciting opportunity has arisen to join an ...   \n\n                               Tokenized Description            Category  \n0  ['accountant', 'partqualified', 'south', 'east...  Accounting_Finance  \n1  ['leading', 'hedge', 'funds', 'london', 'recru...  Accounting_Finance  \n2  ['exciting', 'opportunity', 'arisen', 'join', ...  Healthcare_Nursing  ",
      "text/html": "<div>\n<style scoped>\n    .dataframe tbody tr th:only-of-type {\n        vertical-align: middle;\n    }\n\n    .dataframe tbody tr th {\n        vertical-align: top;\n    }\n\n    .dataframe thead th {\n        text-align: right;\n    }\n</style>\n<table border=\"1\" class=\"dataframe\">\n  <thead>\n    <tr style=\"text-align: right;\">\n      <th></th>\n      <th>Webindex</th>\n      <th>Title</th>\n      <th>Tokenized Title</th>\n      <th>Company</th>\n      <th>Tokenized Company</th>\n      <th>Description</th>\n      <th>Tokenized Description</th>\n      <th>Category</th>\n    </tr>\n  </thead>\n  <tbody>\n    <tr>\n      <th>0</th>\n      <td>68997528</td>\n      <td>Finance / Accounts Asst Bromley to ****k</td>\n      <td>['finance', 'accounts', 'asst', 'bromley', 'to...</td>\n      <td>First Recruitment Services</td>\n      <td>['first', 'recruitment', 'services']</td>\n      <td>Accountant (partqualified) to **** p.a. South ...</td>\n      <td>['accountant', 'partqualified', 'south', 'east...</td>\n      <td>Accounting_Finance</td>\n    </tr>\n    <tr>\n      <th>1</th>\n      <td>68063513</td>\n      <td>Fund Accountant  Hedge Fund</td>\n      <td>['fund', 'accountant', 'hedge', 'fund']</td>\n      <td>Austin Andrew Ltd</td>\n      <td>['austin', 'andrew', 'ltd']</td>\n      <td>One of the leading Hedge Funds in London is cu...</td>\n      <td>['leading', 'hedge', 'funds', 'london', 'recru...</td>\n      <td>Accounting_Finance</td>\n    </tr>\n    <tr>\n      <th>2</th>\n      <td>68700336</td>\n      <td>Deputy Home Manager</td>\n      <td>['deputy', 'home', 'manager']</td>\n      <td>Caritas</td>\n      <td>['caritas']</td>\n      <td>An exciting opportunity has arisen to join an ...</td>\n      <td>['exciting', 'opportunity', 'arisen', 'join', ...</td>\n      <td>Healthcare_Nursing</td>\n    </tr>\n  </tbody>\n</table>\n</div>"
     },
     "execution_count": 41,
     "metadata": {},
     "output_type": "execute_result"
    }
   ],
   "source": [
    "# Read job_ad.csv\n",
    "job_ad = pd.read_csv('job_ad.csv')\n",
    "\n",
    "# assign webindex\n",
    "webindex = job_ad['Webindex']\n",
    "\n",
    "# print first 3 rows\n",
    "job_ad.head(3)"
   ]
  },
  {
   "cell_type": "code",
   "execution_count": 42,
   "metadata": {
    "collapsed": false,
    "jupyter": {
     "outputs_hidden": false
    },
    "pycharm": {
     "name": "#%%\n"
    }
   },
   "outputs": [
    {
     "name": "stdout",
     "output_type": "stream",
     "text": [
      "776\n"
     ]
    },
    {
     "data": {
      "text/plain": "list"
     },
     "execution_count": 42,
     "metadata": {},
     "output_type": "execute_result"
    }
   ],
   "source": [
    "# read tokenized description from txt file\n",
    "descriptionFile = './description.txt'\n",
    "with open(descriptionFile) as f:\n",
    "    tk_description = f.read().splitlines() # read all the descriptions into a list\n",
    "    \n",
    "print(len(tk_description))\n",
    "type(tk_description)"
   ]
  },
  {
   "cell_type": "markdown",
   "metadata": {
    "pycharm": {
     "name": "#%% md\n"
    }
   },
   "source": [
    "#### Converting each description text string into list of tokens"
   ]
  },
  {
   "cell_type": "code",
   "execution_count": 43,
   "metadata": {
    "collapsed": false,
    "jupyter": {
     "outputs_hidden": false
    },
    "pycharm": {
     "name": "#%%\n"
    }
   },
   "outputs": [
    {
     "name": "stdout",
     "output_type": "stream",
     "text": [
      "Vocabulary size:  5218\n",
      "Total number of tokens:  102975\n",
      "Lexical diversity:  0.05067249332362224\n",
      "Total number of description: 776\n",
      "Average description length: 132.69974226804123\n",
      "Maximum description length: 471\n",
      "Minimum description length: 12\n",
      "Standard deviation of description length: 70.3782402519735\n"
     ]
    }
   ],
   "source": [
    "tk_description = [description.split(\" \") for description in tk_description] # note that we have to revert the join string into\n",
    "\n",
    "# Explore the current statistics\n",
    "stats_print(tk_description)"
   ]
  },
  {
   "cell_type": "markdown",
   "metadata": {
    "pycharm": {
     "name": "#%% md\n"
    }
   },
   "source": [
    "#### Reading the corresponding category labels"
   ]
  },
  {
   "cell_type": "code",
   "execution_count": 44,
   "metadata": {
    "collapsed": false,
    "jupyter": {
     "outputs_hidden": false
    },
    "pycharm": {
     "name": "#%%\n"
    }
   },
   "outputs": [
    {
     "name": "stdout",
     "output_type": "stream",
     "text": [
      "776\n"
     ]
    },
    {
     "data": {
      "text/plain": "list"
     },
     "execution_count": 44,
     "metadata": {},
     "output_type": "execute_result"
    }
   ],
   "source": [
    "# read the category of the job ad\n",
    "categoryFile = './category.txt'\n",
    "with open(categoryFile) as f:\n",
    "    category = f.read().splitlines() # read all the category into a list\n",
    "    \n",
    "print(len(category))\n",
    "type(category)"
   ]
  },
  {
   "cell_type": "markdown",
   "metadata": {
    "pycharm": {
     "name": "#%% md\n"
    }
   },
   "source": [
    "#### The distribution of the labels, how many description in a category"
   ]
  },
  {
   "cell_type": "code",
   "execution_count": 45,
   "metadata": {
    "pycharm": {
     "name": "#%%\n"
    }
   },
   "outputs": [
    {
     "name": "stdout",
     "output_type": "stream",
     "text": [
      "                    Webindex\n",
      "Category                    \n",
      "Accounting_Finance       191\n",
      "Engineering              231\n",
      "Healthcare_Nursing       198\n",
      "Sales                    156\n"
     ]
    },
    {
     "data": {
      "text/plain": "<AxesSubplot:xlabel='Category'>"
     },
     "execution_count": 45,
     "metadata": {},
     "output_type": "execute_result"
    },
    {
     "data": {
      "text/plain": "<Figure size 1440x720 with 1 Axes>",
      "image/png": "[encoded data removed]"
     },
     "metadata": {
      "needs_background": "light"
     },
     "output_type": "display_data"
    }
   ],
   "source": [
    "# number of description distribution across 4 categories\n",
    "job_ad_subset = job_ad[['Webindex','Category']]\n",
    "stats = job_ad_subset.groupby('Category').count()\n",
    "print(stats)\n",
    "stats.plot.bar(ylim=0, color='pink')"
   ]
  },
  {
   "cell_type": "markdown",
   "metadata": {
    "pycharm": {
     "name": "#%% md\n"
    }
   },
   "source": [
    "### ---------> OBSERVATION: \n",
    "\n",
    "The dataset contains relatively balanced labels because the distribution between job description across 4 categories is approximately equal."
   ]
  },
  {
   "cell_type": "markdown",
   "metadata": {
    "pycharm": {
     "name": "#%% md\n"
    }
   },
   "source": [
    "#### Constructing the Vocabulary\n",
    "\n",
    "We construct `vocab` sorted unique vocabulary below by converting the list of tokens to a **set**"
   ]
  },
  {
   "cell_type": "code",
   "execution_count": 47,
   "metadata": {
    "collapsed": false,
    "jupyter": {
     "outputs_hidden": false
    },
    "pycharm": {
     "name": "#%%\n"
    }
   },
   "outputs": [
    {
     "data": {
      "text/plain": "5218"
     },
     "execution_count": 47,
     "metadata": {},
     "output_type": "execute_result"
    }
   ],
   "source": [
    "# generating the vocabulary\n",
    "\n",
    "# we put all the tokens in the corpus in a single list\n",
    "words = list(chain.from_iterable(tk_description))\n",
    "# set of unique words\n",
    "vocab = sorted(list(set(words)))\n",
    "# total number of the vocabulary\n",
    "len(vocab)"
   ]
  },
  {
   "cell_type": "code",
   "execution_count": 48,
   "outputs": [
    {
     "name": "stdout",
     "output_type": "stream",
     "text": [
      "The number of the category: 776\n",
      "The number of the description: 776\n",
      "The number of the unique tokens: 5218\n"
     ]
    }
   ],
   "source": [
    "print(f'The number of the category: {len(category)}')\n",
    "print(f'The number of the description: {len(tk_description)}')\n",
    "print(f'The number of the unique tokens: {len(vocab)}')"
   ],
   "metadata": {
    "collapsed": false,
    "pycharm": {
     "name": "#%%\n"
    }
   }
  },
  {
   "cell_type": "markdown",
   "source": [
    "### ----------> OBSERVATION:\n",
    "\n",
    "We checked and know that we have adequate number of category and description"
   ],
   "metadata": {
    "collapsed": false,
    "pycharm": {
     "name": "#%% md\n"
    }
   }
  },
  {
   "cell_type": "markdown",
   "metadata": {
    "pycharm": {
     "name": "#%% md\n"
    }
   },
   "source": [
    "## Building Vector Representation\n",
    "\n",
    "After text pre-processing has been completed, each individual document needs to be transformed into \n",
    "some kind of numeric representation that can be input into most NLP and text mining algorithms.\n",
    "For example, classification algorithms, such as Support Vector Machine, can only take data in a \n",
    "structured and numerical form. They do not accept free language text.\n",
    "A popular structured representation of text is the vector-space model, which represents each text/article\n",
    "as a vector where the elements of the vector indicate the occurence of words within the text.\n",
    "\n",
    "The vector-space model makes an implicit assumption that \n",
    "the order of words in a text document are not as\n",
    "important as words themselves, and thus disregarded.\n",
    "This assumpiton is called [**Bag-of-words**](https://en.wikipedia.org/wiki/Bag-of-words_model).\n",
    "\n",
    "Given a set of documents and a pre-defined list of words appearing \n",
    "in those documents (i.e. a vocabulary), we can compute a vector representation for each document.\n",
    "This vector representation can take one of the following three forms:\n",
    "* a binary representation, each entry is either `word:0` (the word does not appear in the document; or `word:1` (the word appears in the document). We call this **binary vector representation**. \n",
    "* an integer count, each entry is `word:count`, telling how many times a word appear in a document. We call this **count vector representation**. \n",
    "* and a float-valued weighted vector, each entry is `word:weight`, telling a **weighted representative importance** of a word to a document. One of the most common weighted vectors used in natural language processing is called the *tfidf* vector. \n",
    "\n",
    "Given the cleaned up Job Advertisement, how can we generate those vectors for each document? \n",
    "\n",
    "Unfortunately, NLTK does not implement methods that directly produce those vectors.\n",
    "Therefore, we will either write our own code to compute them or appeal to other data analysis libraries.\n",
    "\n",
    "Here we are going to use [scikit-learn](http://scikit-learn.org/stable/index.html), an open source machine \n",
    "learning library for Python.\n",
    "If you use Anaconda, you should already have scikit-learn installed, otherwise you will need to \n",
    "[install it](http://scikit-learn.org/stable/install.html) by following the instruction on its official website.\n",
    "\n",
    "Although scikit-learn features various classification, regression and clustering algorithms\n",
    "we are particularly interested in its feature extraction module, [sklearn.feature_extraction](http://scikit-learn.org/stable/modules/classes.html#module-sklearn.feature_extraction).\n",
    "This module is often used to \"extract features in a format supported by machine learning algorithms from datasets consisting of formats such as text and image.\" Please refer to its documentation on text feature extraction,\n",
    "Section 6.2.3 of [Feature Extraction](http://scikit-learn.org/stable/modules/feature_extraction.html#text-feature-extraction). \n",
    "\n",
    "In the following, we will demonstrate the usage of the following two classes:\n",
    "* [CountVectorizer](http://scikit-learn.org/stable/modules/generated/sklearn.feature_extraction.text.CountVectorizer.html#sklearn.feature_extraction.text.CountVectorizer): It converts a collection of text documents to a matrix of token counts. \n",
    "* [TfidfVectorizer](http://scikit-learn.org/stable/modules/generated/sklearn.feature_extraction.text.TfidfVectorizer.html#sklearn.feature_extraction.text.TfidfVectorizer):\n",
    "It converts a collection of raw documents to a matrix of TF-IDF features.\n",
    "\n",
    "\n",
    "### 5.3 Generating TF-IDF Vectors\n",
    "\n",
    "Finally, we will generate the TF-IDF Vector to represent each of the document.\n",
    "\n",
    "Similar to the use of `CountVector`, we first initialise a `TfidfVectorizer` object by only specifying the value of \"analyzer\" and the vocabulary, and then covert the Job Advertisement into a list of strings, each of which corresponds\n",
    "to a BBC News article."
   ]
  },
  {
   "cell_type": "markdown",
   "metadata": {
    "pycharm": {
     "name": "#%% md\n"
    }
   },
   "source": [
    "### 7.4 Saving the Webindex\n",
    "\n",
    "Oh sorry, one last thing..... we should also save the Webindex accordingly, so that we can easily retrieve the labels of the article in downstream analysis. \n",
    "\n",
    "A very important note that the Webindex is different from the article index here. \n",
    "The Webindex is given from the original dataset, as an identifier of an article. \n",
    "The article index we were talking about in a couple of places in this Jupyter Notebook is related to how we read and preprocess the data. \n",
    "Remember, at the beginning, we have read all the articles into a list `article_txts`, so the index here refers to the index of the article in the list  `article_txts`. \n",
    "\n",
    "Indeed, in this example, since the Webindex are integers, we should have make this more consistent (just in case...). \n",
    "This could be simply done by setting an order when we read the articles. \n",
    "The following code that we use before to loop through each of the article .txt file\n",
    "```python\n",
    "for filename in os.listdir(dir_path):\n",
    "``` \n",
    "can be changed to: \n",
    "```python\n",
    "for filename in sorted(os.listdir(dir_path)):\n",
    "``` \n",
    "\n",
    "as such, we visit the article txt files in a sorted order according to their filename. &#128578; We will leave this for you to try and experience the difference. \n",
    "\n",
    "Though, in many other context, we might not have that much luck with the file naming :) Therefore, we should always learn to save the indexing we used."
   ]
  },
  {
   "cell_type": "code",
   "execution_count": 21,
   "metadata": {
    "pycharm": {
     "name": "#%%\n"
    }
   },
   "outputs": [],
   "source": [
    "out_file = open(\"./webindex.txt\", 'w') # creates a txt file named 'webindex.txt' to save the id vector of each job ad\n",
    "for a_ind in range(0, len(tk_description)):\n",
    "    out_file.write(\"{}\\n\".format(webindex[a_ind])) # write the Webindex of each article\n",
    "out_file.close() # close the file"
   ]
  },
  {
   "cell_type": "markdown",
   "metadata": {
    "pycharm": {
     "name": "#%% md\n"
    }
   },
   "source": [
    "<h3 style=\"color:#ffc0cb;font-size:50px;font-family:Georgia;text-align:center;\"><strong>Task 2. Generating Feature Representations</strong></h3>\n",
    "\n",
    "from collections import Counter\n",
    "\n",
    "\"\"\"\n",
    "Bag-of-words model:\n",
    "Generate the Count vector representation for each job advertisement description, and save\n",
    "them into a file (please refer to the required output). Note, the generated Count vector\n",
    "representation must be based on the generated vocabulary in Task 1 (as saved in vocab.txt).\n",
    "\"\"\"\n",
    "# bag of words model\n",
    "def bag_of_words(description, vocab):\n",
    "    # create a list of 0s with the same length as the vocab\n",
    "    bow = [0] * len(vocab)\n",
    "    # count the number of times each word appears in the description\n",
    "    word_counts = Counter(description)\n",
    "    # update the bow list with the word counts\n",
    "    for word, count in word_counts.items():\n",
    "        bow[vocab.index(word)] = count\n",
    "    return bow\n",
    "\n",
    "# Generate the Count vector representation for each job advertisement description\n",
    "bow = [bag_of_words(description, vocab) for description in tk_description]\n",
    "\n",
    "So let's say we do binary feature representation but with 3 types of data, the title, the description, and title+description."
   ]
  },
  {
   "cell_type": "markdown",
   "metadata": {
    "pycharm": {
     "name": "#%% md\n"
    }
   },
   "source": [
    "# Generating Feature Vectors - Binary, Count, TF-IDF\n",
    "\n",
    "In this task, we are going to generate feature vectors from tokenized review text. We are going to explore different feature vectors, including binary, count, and tf-idf vectors.\n",
    "\n",
    "Binary, Count, TF-IDF"
   ]
  },
  {
   "cell_type": "markdown",
   "metadata": {
    "pycharm": {
     "name": "#%% md\n"
    }
   },
   "source": [
    "### Generating Binary Vectors\n",
    "In this subtask, let's start with generating the binary vector representation for each review.\n",
    "We need to first import the `CountVectorizer` and initialise it."
   ]
  },
  {
   "cell_type": "code",
   "execution_count": 51,
   "metadata": {
    "collapsed": false,
    "jupyter": {
     "outputs_hidden": false
    },
    "pycharm": {
     "name": "#%%\n"
    }
   },
   "outputs": [],
   "source": [
    "# binding the words together for each review\n",
    "joined_description = [' '.join(review) for review in tk_description]"
   ]
  },
  {
   "cell_type": "code",
   "execution_count": 52,
   "metadata": {
    "collapsed": false,
    "jupyter": {
     "outputs_hidden": false
    },
    "pycharm": {
     "name": "#%%\n"
    }
   },
   "outputs": [
    {
     "data": {
      "text/plain": "(776, 5218)"
     },
     "execution_count": 52,
     "metadata": {},
     "output_type": "execute_result"
    }
   ],
   "source": [
    "bVectorizer = CountVectorizer(analyzer = \"word\",binary = True,vocabulary = vocab) # initialise the CountVectorizer\n",
    "binary_features = bVectorizer.fit_transform(joined_description)\n",
    "binary_features.shape"
   ]
  },
  {
   "cell_type": "code",
   "execution_count": 53,
   "metadata": {
    "pycharm": {
     "name": "#%%\n"
    }
   },
   "outputs": [
    {
     "name": "stdout",
     "output_type": "stream",
     "text": [
      "Successfully saved saved_txt_files/BinaryVectors/jobAd_bVector.txt into the directory\n"
     ]
    }
   ],
   "source": [
    "# save the binary vector into txt file\n",
    "bVector_file = \"saved_txt_files/BinaryVectors/jobAd_bVector.txt\" # file name of the binary vector\n",
    "write_vectorFile(binary_features,bVector_file) # write the binary vector to file\n",
    "print(f'Successfully saved {bVector_file} into the directory')"
   ]
  },
  {
   "cell_type": "markdown",
   "metadata": {
    "pycharm": {
     "name": "#%% md\n"
    }
   },
   "source": [
    "### Generating Count Vectors\n",
    "\n",
    "Each word coresponding to a feature"
   ]
  },
  {
   "cell_type": "code",
   "execution_count": 54,
   "metadata": {
    "collapsed": false,
    "jupyter": {
     "outputs_hidden": false
    },
    "pycharm": {
     "name": "#%%\n"
    }
   },
   "outputs": [
    {
     "data": {
      "text/plain": "(776, 5218)"
     },
     "execution_count": 54,
     "metadata": {},
     "output_type": "execute_result"
    }
   ],
   "source": [
    "cVectorizer = CountVectorizer(analyzer = \"word\",vocabulary = vocab) # initialised the CountVectorizer\n",
    "count_features = cVectorizer.fit_transform(joined_description)\n",
    "count_features.shape"
   ]
  },
  {
   "cell_type": "code",
   "execution_count": 55,
   "metadata": {
    "pycharm": {
     "name": "#%%\n"
    }
   },
   "outputs": [
    {
     "data": {
      "text/plain": "     aap  aaron  aat  abb  abenefit  aberdeen  abi  abilities  ability  \\\n483    0      0    0    0         0         0    0          0        1   \n440    0      0    0    0         0         0    0          0        0   \n125    0      0    0    0         0         0    0          0        0   \n\n     abreast  ...  years  yeovil  yn  york  yorkshire  youmust  young  \\\n483        0  ...      0       0   0     0          0        0      0   \n440        0  ...      0       0   0     0          0        0      0   \n125        0  ...      0       0   0     0          0        0      0   \n\n     younger  yrs  zest  \n483        0    0     0  \n440        0    0     0  \n125        0    0     0  \n\n[3 rows x 5218 columns]",
      "text/html": "<div>\n<style scoped>\n    .dataframe tbody tr th:only-of-type {\n        vertical-align: middle;\n    }\n\n    .dataframe tbody tr th {\n        vertical-align: top;\n    }\n\n    .dataframe thead th {\n        text-align: right;\n    }\n</style>\n<table border=\"1\" class=\"dataframe\">\n  <thead>\n    <tr style=\"text-align: right;\">\n      <th></th>\n      <th>aap</th>\n      <th>aaron</th>\n      <th>aat</th>\n      <th>abb</th>\n      <th>abenefit</th>\n      <th>aberdeen</th>\n      <th>abi</th>\n      <th>abilities</th>\n      <th>ability</th>\n      <th>abreast</th>\n      <th>...</th>\n      <th>years</th>\n      <th>yeovil</th>\n      <th>yn</th>\n      <th>york</th>\n      <th>yorkshire</th>\n      <th>youmust</th>\n      <th>young</th>\n      <th>younger</th>\n      <th>yrs</th>\n      <th>zest</th>\n    </tr>\n  </thead>\n  <tbody>\n    <tr>\n      <th>483</th>\n      <td>0</td>\n      <td>0</td>\n      <td>0</td>\n      <td>0</td>\n      <td>0</td>\n      <td>0</td>\n      <td>0</td>\n      <td>0</td>\n      <td>1</td>\n      <td>0</td>\n      <td>...</td>\n      <td>0</td>\n      <td>0</td>\n      <td>0</td>\n      <td>0</td>\n      <td>0</td>\n      <td>0</td>\n      <td>0</td>\n      <td>0</td>\n      <td>0</td>\n      <td>0</td>\n    </tr>\n    <tr>\n      <th>440</th>\n      <td>0</td>\n      <td>0</td>\n      <td>0</td>\n      <td>0</td>\n      <td>0</td>\n      <td>0</td>\n      <td>0</td>\n      <td>0</td>\n      <td>0</td>\n      <td>0</td>\n      <td>...</td>\n      <td>0</td>\n      <td>0</td>\n      <td>0</td>\n      <td>0</td>\n      <td>0</td>\n      <td>0</td>\n      <td>0</td>\n      <td>0</td>\n      <td>0</td>\n      <td>0</td>\n    </tr>\n    <tr>\n      <th>125</th>\n      <td>0</td>\n      <td>0</td>\n      <td>0</td>\n      <td>0</td>\n      <td>0</td>\n      <td>0</td>\n      <td>0</td>\n      <td>0</td>\n      <td>0</td>\n      <td>0</td>\n      <td>...</td>\n      <td>0</td>\n      <td>0</td>\n      <td>0</td>\n      <td>0</td>\n      <td>0</td>\n      <td>0</td>\n      <td>0</td>\n      <td>0</td>\n      <td>0</td>\n      <td>0</td>\n    </tr>\n  </tbody>\n</table>\n<p>3 rows × 5218 columns</p>\n</div>"
     },
     "execution_count": 55,
     "metadata": {},
     "output_type": "execute_result"
    }
   ],
   "source": [
    "count_array = count_features.toarray()\n",
    "\n",
    "# get_feature_names_out return the vocabulary of unique words\n",
    "df = pd.DataFrame(data=count_array,columns = cVectorizer.get_feature_names_out())\n",
    "# print out samples\n",
    "df.sample(3)"
   ]
  },
  {
   "cell_type": "code",
   "execution_count": 56,
   "metadata": {
    "pycharm": {
     "name": "#%%\n"
    }
   },
   "outputs": [
    {
     "name": "stdout",
     "output_type": "stream",
     "text": [
      "Successfully saved saved_txt_files/CountVectors/jobAd_cVector.txt into the directory\n"
     ]
    }
   ],
   "source": [
    "# save count vector into txt file\n",
    "cVector_file = \"saved_txt_files/CountVectors/jobAd_cVector.txt\" # file name of the count vector\n",
    "write_vectorFile(count_features,cVector_file) # write the count vector to file\n",
    "print(f'Successfully saved {cVector_file} into the directory')"
   ]
  },
  {
   "cell_type": "code",
   "execution_count": null,
   "outputs": [],
   "source": [
    "# save count vector representation of job advertisement descriptions\n",
    "with open('count_vectors.txt', 'w') as f:\n",
    "    for i, description in enumerate(tk_description):\n",
    "        f.write('#' + str(webindex[i]) + ',')\n",
    "        for word in description:\n",
    "            f.write(str(vocab.index(word)) + ':' + str(bow[i][vocab.index(word)]) + ',')\n",
    "        f.write('\\n')\n",
    "    print(\n",
    "        \"Successfully write count vector representation of job advertisement descriptions into count_vectors.txt file\")"
   ],
   "metadata": {
    "collapsed": false,
    "pycharm": {
     "name": "#%%\n"
    }
   }
  },
  {
   "cell_type": "code",
   "execution_count": 96,
   "outputs": [
    {
     "name": "stdout",
     "output_type": "stream",
     "text": [
      "Count vector representation saved to count_vectors.txt\n"
     ]
    }
   ],
   "source": [
    "count_features = cVectorizer.fit_transform(joined_description).toarray()\n",
    "\n",
    "def save_count_vector(count_features, webindex, filename):\n",
    "    with open(filename, 'w') as f:\n",
    "        for i in range(len(count_features)):\n",
    "            f.write('#' + str(webindex[i]) + ',')\n",
    "            for j in range(len(count_features[i])):\n",
    "                if count_features[i][j] != 0:\n",
    "                    f.write(str(j) + ':' + str(count_features[i][j]) + ',')\n",
    "            f.write('\\n')\n",
    "    f.close()\n",
    "    print('Count vector representation saved to ' + filename)\n",
    "\n",
    "\n",
    "save_count_vector(count_features, webindex, 'count_vectors.txt')"
   ],
   "metadata": {
    "collapsed": false,
    "pycharm": {
     "name": "#%%\n"
    }
   }
  },
  {
   "cell_type": "markdown",
   "metadata": {
    "pycharm": {
     "name": "#%% md\n"
    }
   },
   "source": [
    "### Task 5.3 Generating TF-IDF Vectors\n",
    "\n",
    "\n",
    "In this subtasks, you are required to generate the count vector features of review texts.\n",
    "\n",
    "\n",
    "\n",
    "TF-IDF also gives larger values for less frequent words and is high when both IDF and TF values are high i.e the word is rare in all the documents combined but frequent in a single document."
   ]
  },
  {
   "cell_type": "code",
   "execution_count": 57,
   "metadata": {
    "collapsed": false,
    "jupyter": {
     "outputs_hidden": false
    },
    "pycharm": {
     "name": "#%%\n"
    }
   },
   "outputs": [
    {
     "data": {
      "text/plain": "(776, 5218)"
     },
     "execution_count": 57,
     "metadata": {},
     "output_type": "execute_result"
    }
   ],
   "source": [
    "tVectorizer = TfidfVectorizer(analyzer = \"word\",vocabulary = vocab) # initialised the TfidfVectorizer\n",
    "tfidf_features = tVectorizer.fit_transform(joined_description) # generate the tfidf vector representation for all articles\n",
    "tfidf_features.shape"
   ]
  },
  {
   "cell_type": "code",
   "execution_count": 58,
   "metadata": {
    "pycharm": {
     "name": "#%%\n"
    }
   },
   "outputs": [
    {
     "name": "stdout",
     "output_type": "stream",
     "text": [
      "Successfully saved saved_txt_files/TfidfVectors/jobAd_tVector.txt into the directory\n"
     ]
    }
   ],
   "source": [
    "tVector_file = \"saved_txt_files/TfidfVectors/jobAd_tVector.txt\" # file name of the tfidf vector\n",
    "\n",
    "write_vectorFile(tfidf_features,tVector_file) # write the tfidf vector to file\n",
    "print(f'Successfully saved {tVector_file} into the directory')"
   ]
  },
  {
   "cell_type": "markdown",
   "metadata": {
    "pycharm": {
     "name": "#%% md\n"
    }
   },
   "source": [
    "## Task 6. Training Logistic Regression Models for label Classification\n",
    "\n",
    "In this final task, you are required to bulid logistic regression models based on different feature vectors (binary, count and tfidf vectors), explore the cases where the model produced false predictions, and evaluate the performance of the model using a 5-fold cross-validation."
   ]
  },
  {
   "cell_type": "markdown",
   "metadata": {
    "pycharm": {
     "name": "#%% md\n"
    }
   },
   "source": [
    "In the following, we first uses count vector features as an example to bulid a logistic regression model and  explore the preformance of the model:"
   ]
  },
  {
   "cell_type": "code",
   "execution_count": 59,
   "metadata": {
    "collapsed": false,
    "jupyter": {
     "outputs_hidden": false
    },
    "pycharm": {
     "name": "#%%\n"
    }
   },
   "outputs": [
    {
     "data": {
      "text/plain": "0.8589743589743589"
     },
     "execution_count": 59,
     "metadata": {},
     "output_type": "execute_result"
    }
   ],
   "source": [
    "# set seed number to ensure the output is reproducible\n",
    "seed = 3879312\n",
    "\n",
    "X_train, X_test, y_train, y_test,train_indices,test_indices = train_test_split(count_features, category, list(range(0,len(category))),test_size=0.2, random_state=seed)\n",
    "\n",
    "max_iter = 1000 # this is a relative harder problem and we have to increase the maximum iteration parameter of the logistic regression model.\n",
    "\n",
    "model = LogisticRegression(random_state=seed,max_iter=max_iter, multi_class='multinomial') # initial a logistic regression model\n",
    "model.fit(X_train, y_train) # fit the model\n",
    "model.score(X_test, y_test) # calculated the accuracy score on the test data"
   ]
  },
  {
   "cell_type": "markdown",
   "metadata": {
    "pycharm": {
     "name": "#%% md\n"
    }
   },
   "source": [
    "Looking at the confusion matrix"
   ]
  },
  {
   "cell_type": "code",
   "execution_count": 60,
   "metadata": {
    "collapsed": false,
    "jupyter": {
     "outputs_hidden": false
    },
    "pycharm": {
     "name": "#%%\n"
    }
   },
   "outputs": [],
   "source": [
    "from sklearn.metrics import confusion_matrix\n",
    "y_pred = model.predict(X_test)\n",
    "conf_mat = confusion_matrix(y_test, y_pred)"
   ]
  },
  {
   "cell_type": "code",
   "execution_count": 61,
   "metadata": {
    "collapsed": false,
    "jupyter": {
     "outputs_hidden": false
    },
    "pycharm": {
     "name": "#%%\n"
    }
   },
   "outputs": [
    {
     "data": {
      "text/plain": "Text(0.5, 70.0, 'Predicted')"
     },
     "execution_count": 61,
     "metadata": {},
     "output_type": "execute_result"
    },
    {
     "data": {
      "text/plain": "<Figure size 1440x720 with 2 Axes>",
      "image/png": "[encoded data removed]"
     },
     "metadata": {
      "needs_background": "light"
     },
     "output_type": "display_data"
    }
   ],
   "source": [
    "categories = ['Accounting_Finance', 'Engineering', 'Healthcare_Nursing', 'Sales'] # this gives sorted set of unique label names\n",
    "\n",
    "sns.heatmap(conf_mat, annot=True, fmt='d',\n",
    "            xticklabels=categories, yticklabels=categories, cmap=\"PiYG\") # creates a heatmap from the confusion matrix\n",
    "plt.ylabel('Actual')\n",
    "plt.xlabel('Predicted')"
   ]
  },
  {
   "cell_type": "markdown",
   "metadata": {
    "pycharm": {
     "name": "#%% md\n"
    }
   },
   "source": [
    "### 5-Fold Cross Validation"
   ]
  },
  {
   "cell_type": "code",
   "execution_count": 63,
   "metadata": {
    "collapsed": false,
    "jupyter": {
     "outputs_hidden": false
    },
    "pycharm": {
     "name": "#%%\n"
    }
   },
   "outputs": [
    {
     "name": "stdout",
     "output_type": "stream",
     "text": [
      "KFold(n_splits=5, random_state=3879312, shuffle=True)\n"
     ]
    }
   ],
   "source": [
    "from sklearn.model_selection import KFold\n",
    "num_folds = 5\n",
    "kf = KFold(n_splits= num_folds, random_state=seed, shuffle = True) # initialise a 5 fold validation\n",
    "print(kf)"
   ]
  },
  {
   "cell_type": "code",
   "execution_count": 64,
   "metadata": {
    "collapsed": false,
    "jupyter": {
     "outputs_hidden": false
    },
    "pycharm": {
     "name": "#%%\n"
    }
   },
   "outputs": [],
   "source": [
    "def evaluate(X_train,X_test,y_train, y_test,seed):\n",
    "    model = LogisticRegression(random_state=seed,max_iter = 1000)\n",
    "    model.fit(X_train, y_train)\n",
    "    return model.score(X_test, y_test)"
   ]
  },
  {
   "cell_type": "code",
   "execution_count": 65,
   "metadata": {
    "collapsed": false,
    "jupyter": {
     "outputs_hidden": false
    },
    "pycharm": {
     "name": "#%%\n"
    }
   },
   "outputs": [],
   "source": [
    "import pandas as pd\n",
    "from sklearn.linear_model import LogisticRegression\n",
    "\n",
    "num_models = 3\n",
    "cv_df = pd.DataFrame(columns = ['binary','count','tfidf'],index=range(num_folds)) # creates a dataframe to store the accuracy scores in all the folds\n",
    "\n",
    "fold = 0\n",
    "for train_index, test_index in kf.split(list(range(0,len(category)))):\n",
    "    y_train = [str(category[i]) for i in train_index]\n",
    "    y_test = [str(category[i]) for i in test_index]\n",
    "\n",
    "    X_train_binary, X_test_binary = binary_features[train_index], binary_features[test_index]\n",
    "    cv_df.loc[fold,'binary'] = evaluate(binary_features[train_index],binary_features[test_index],y_train,y_test,seed)\n",
    "\n",
    "    X_train_count, X_test_count = count_features[train_index], count_features[test_index]\n",
    "    cv_df.loc[fold,'count'] = evaluate(count_features[train_index],count_features[test_index],y_train,y_test,seed)\n",
    "\n",
    "    X_train_tfidf, X_test_tfidf = tfidf_features[train_index], tfidf_features[test_index]\n",
    "    cv_df.loc[fold,'tfidf'] = evaluate(tfidf_features[train_index],tfidf_features[test_index],y_train,y_test,seed)\n",
    "\n",
    "    fold +=1"
   ]
  },
  {
   "cell_type": "markdown",
   "metadata": {
    "pycharm": {
     "name": "#%% md\n"
    }
   },
   "source": [
    "Printing the result of each fold for each vector representation:"
   ]
  },
  {
   "cell_type": "code",
   "execution_count": 66,
   "metadata": {
    "collapsed": false,
    "jupyter": {
     "outputs_hidden": false
    },
    "pycharm": {
     "name": "#%%\n"
    }
   },
   "outputs": [
    {
     "data": {
      "text/plain": "     binary     count     tfidf\n0  0.833333  0.858974  0.858974\n1  0.896774  0.890323  0.903226\n2  0.890323  0.890323  0.890323\n3  0.890323  0.896774  0.916129\n4  0.870968  0.883871  0.929032",
      "text/html": "<div>\n<style scoped>\n    .dataframe tbody tr th:only-of-type {\n        vertical-align: middle;\n    }\n\n    .dataframe tbody tr th {\n        vertical-align: top;\n    }\n\n    .dataframe thead th {\n        text-align: right;\n    }\n</style>\n<table border=\"1\" class=\"dataframe\">\n  <thead>\n    <tr style=\"text-align: right;\">\n      <th></th>\n      <th>binary</th>\n      <th>count</th>\n      <th>tfidf</th>\n    </tr>\n  </thead>\n  <tbody>\n    <tr>\n      <th>0</th>\n      <td>0.833333</td>\n      <td>0.858974</td>\n      <td>0.858974</td>\n    </tr>\n    <tr>\n      <th>1</th>\n      <td>0.896774</td>\n      <td>0.890323</td>\n      <td>0.903226</td>\n    </tr>\n    <tr>\n      <th>2</th>\n      <td>0.890323</td>\n      <td>0.890323</td>\n      <td>0.890323</td>\n    </tr>\n    <tr>\n      <th>3</th>\n      <td>0.890323</td>\n      <td>0.896774</td>\n      <td>0.916129</td>\n    </tr>\n    <tr>\n      <th>4</th>\n      <td>0.870968</td>\n      <td>0.883871</td>\n      <td>0.929032</td>\n    </tr>\n  </tbody>\n</table>\n</div>"
     },
     "execution_count": 66,
     "metadata": {},
     "output_type": "execute_result"
    }
   ],
   "source": [
    "cv_df"
   ]
  },
  {
   "cell_type": "code",
   "execution_count": 67,
   "metadata": {
    "collapsed": false,
    "jupyter": {
     "outputs_hidden": false
    },
    "pycharm": {
     "name": "#%%\n"
    }
   },
   "outputs": [
    {
     "data": {
      "text/plain": "binary    0.876344\ncount     0.884053\ntfidf     0.899537\ndtype: float64"
     },
     "execution_count": 67,
     "metadata": {},
     "output_type": "execute_result"
    }
   ],
   "source": [
    "cv_df.mean()"
   ]
  },
  {
   "cell_type": "markdown",
   "source": [
    "### ------------> OBSERVATION:\n",
    "\n",
    "We can see 3 features representation works on the model give a good Accuracy score (all are above 80%)\n",
    "\n",
    "\n",
    "<br>\n",
    "<hr>\n"
   ],
   "metadata": {
    "collapsed": false,
    "pycharm": {
     "name": "#%% md\n"
    }
   }
  },
  {
   "cell_type": "markdown",
   "metadata": {
    "pycharm": {
     "name": "#%% md\n"
    }
   },
   "source": [
    "<h3 style=\"color:#ffc0cb;font-size:40px;font-family:Georgia;text-align:center;\"><strong>Task 3. Classification with Word Embedding Models</strong></h3>\n",
    "\n",
    "In the previous activity, we ahve explore a few language models and word embedings, including:\n",
    "\n",
    "Pre-trained embedding:\n",
    "- `bbcFT_wv`: FastText embeddings pre-trained from Genism\n",
    "\n",
    "\n",
    "In this activity, we are going to use them for document classification.\n",
    "Before we use, we will need to load them in this activity notebook one by one, and for each, we will need to construct the document representation, i.e., document embeddings based on the word embeddings.\n",
    "\n"
   ]
  },
  {
   "cell_type": "markdown",
   "source": [
    "# Document Classification with Word Embeddings\n",
    "\n",
    "In this previous activity, we have enough fun playinng around the word embeddings.\n",
    "Now, we get to the stage that we will make real use of them, i.e., we are going to build on these embeddings machine learing models for document classification. 😊\n",
    "\n",
    "\n",
    "## The Dataset\n",
    "Same as in the previous activity, the document collection that we are going to use is the BBC News Dataset. For the origin of the dataset, please refer to [here](http://mlg.ucd.ie/datasets/bbc.html)\n",
    "To be brief, the dataset consists of 2225 documents from the BBC news website corresponding to stories in five topical areas, i.e., class Labels (business, entertainment, politics, sport, tech).\n",
    "\n",
    "In this activity, instead of using the raw dataset, we will utilised the pre-processed clean dataset we saved in our previous Activity 3 Generating Feature Vectors.\n",
    "Recall that at the end of Activity 3, we saved the pre-processed articles in a txt file named `bbcNews.txt`, where, each row is a document, with tokens seperated by whitespace.\n",
    "\n",
    "Before continue, please make sure you have the following files in the same folder as this jupyter notebook:\n",
    "* `bbcNews.txt`: contains the pre-process BBC news articles\n",
    "* `labels.csv`: contains the label/class of each article."
   ],
   "metadata": {
    "collapsed": false,
    "pycharm": {
     "name": "#%% md\n"
    }
   }
  },
  {
   "cell_type": "code",
   "execution_count": 69,
   "outputs": [],
   "source": [
    "# logging for event tracking\n",
    "import logging\n",
    "logging.basicConfig(format='%(asctime)s : %(levelname)s : %(message)s', level=logging.INFO)"
   ],
   "metadata": {
    "collapsed": false,
    "pycharm": {
     "name": "#%%\n"
    }
   }
  },
  {
   "cell_type": "markdown",
   "source": [
    "Let's read in the labels and article data, and construct a single dataframe to store them correspondingly.\n",
    "Note that the order of the articles are the same as the labels data, as they are all in sorted order of document names."
   ],
   "metadata": {
    "collapsed": false,
    "pycharm": {
     "name": "#%% md\n"
    }
   }
  },
  {
   "cell_type": "markdown",
   "source": [
    "### 1.1 Understand your task by tSNE\n",
    "\n",
    "Alright! so we have the document embedding vector representation for each article now, we can proceed to the task of document classification.\n",
    "Before, we move on, a good habbit is to explore and understand how difficult the task is, whether there are too much noise in the data, making it impossible to clearly separate each category.\n",
    "\n",
    "One way to confirm that the feature space we are using is representative enough for our task (classifying articles into separate labels) to be solvable is to use dimensionality-reduction techniques: These methods project a high-dimensional vector into a lower number of dimensions, with different guarantees on this projection according to the method used.\n",
    "In this activity, we will use [t-SNE](https://en.wikipedia.org/wiki/T-distributed_stochastic_neighbor_embedding), a popular dimensionality reduction technique used in many fields, including NLP.\n",
    "\n",
    "Since we will do the same thing again and again when we try other embeddings, we will construct a function to do this again.\n",
    "The following function `plotTSNE` takes the following arugments:\n",
    "* labels, the lable/category of each article\n",
    "* features, a numpy array of document embeddings, each for an article.\n",
    "\n",
    "and projects the feature/document embedding vectors in a 2 dimension space and plot them out.\n",
    "It does the following:\n",
    "1. get the set of classes, called `categories` (5 categories)\n",
    "2. sample 30% of the data/document embeddings randomly, and record the indices selected\n",
    "3. project the selected document embeddings in 2 dimensional space using tSNE, each document embedding now corresponds to a 2 dimensional vector in `projected_features`\n",
    "4. plot them out as scatter plot and highlight different categories in different color"
   ],
   "metadata": {
    "collapsed": false,
    "pycharm": {
     "name": "#%% md\n"
    }
   }
  },
  {
   "cell_type": "code",
   "execution_count": 8,
   "outputs": [],
   "source": [
    "# from sklearn.manifold import TSNE\n",
    "# import matplotlib.pyplot as plt\n",
    "# import numpy as np\n",
    "# def plotTSNE(labels,features): # features as a numpy array, each element of the array is the document embedding of an article\n",
    "#     categories = sorted(labels.unique())\n",
    "#     # Sampling a subset of our dataset because t-SNE is computationally expensive\n",
    "#     SAMPLE_SIZE = int(len(features) * 0.3)\n",
    "#     np.random.seed(0)\n",
    "#     indices = np.random.choice(range(len(features)), size=SAMPLE_SIZE, replace=False)\n",
    "#     projected_features = TSNE(n_components=2, random_state=0).fit_transform(features[indices])\n",
    "#     colors = ['pink', 'green', 'midnightblue', 'orange', 'darkgrey']\n",
    "#     for i in range(0,len(categories)):\n",
    "#         points = projected_features[(labels[indices] == categories[i])]\n",
    "#         plt.scatter(points[:, 0], points[:, 1], s=30, c=colors[i], label=categories[i])\n",
    "#     plt.title(\"Feature vector for each article, projected on 2 dimensions.\",\n",
    "#               fontdict=dict(fontsize=15))\n",
    "#     plt.legend()\n",
    "#     plt.show()"
   ],
   "metadata": {
    "collapsed": false,
    "pycharm": {
     "name": "#%%\n"
    }
   }
  },
  {
   "cell_type": "markdown",
   "source": [
    "Oh! Not bad, there are a bit of noises, but overall, seems an easy one, the different categories are quite nicely seperated! Well~ if you remember this dataset prevoiusly, you would have a rough idea anyway, with the binary/count/tfijob_ad vector representation, we have accuracy above 95% 😊\n",
    "Ok, now, let's move on to the serious task: Document Classfication"
   ],
   "metadata": {
    "collapsed": false,
    "pycharm": {
     "name": "#%% md\n"
    }
   }
  },
  {
   "cell_type": "markdown",
   "source": [
    "## 3. FastText model trained on BBC News data\n",
    "\n",
    "Finally, we experiment the FastText embeddings.\n",
    "Similar, we:\n",
    "* load the FastText model saved in our prevoius activity;\n",
    "* generate document embeddings based on the load FastText word embeddings;\n",
    "* explore the reprensentiveness of the features through tSNE;\n",
    "* bulid the logistic regression model based on the generated document embeddings for news classfication."
   ],
   "metadata": {
    "collapsed": false,
    "pycharm": {
     "name": "#%% md\n"
    }
   }
  },
  {
   "cell_type": "code",
   "execution_count": 9,
   "outputs": [],
   "source": [
    "# # loading the trained Fasttext model based on bbc News data\n",
    "# from gensim.models.fasttext import FastText\n",
    "\n",
    "# # Defining values for parameters\n",
    "# embedding_size = 200\n",
    "# window_size = 5\n",
    "# min_word = 5\n",
    "# down_sampling = 1e-2\n",
    "\n",
    "# %time\n",
    "# bbcFT = FastText(tk_description,\n",
    "#                       vector_size=embedding_size,\n",
    "#                       window=window_size,\n",
    "#                       min_count=min_word,\n",
    "#                       sample=down_sampling,\n",
    "#                       workers = 5,\n",
    "#                       sg=1,\n",
    "#                       epochs=100)\n",
    "\n",
    "# print(bbcFT)"
   ],
   "metadata": {
    "collapsed": false,
    "pycharm": {
     "name": "#%%\n"
    }
   }
  },
  {
   "cell_type": "code",
   "execution_count": 72,
   "outputs": [
    {
     "name": "stderr",
     "output_type": "stream",
     "text": [
      "2022-10-02 21:48:37,191 : INFO : loading Word2Vec object from models/FastText/fast_Text_model\n",
      "2022-10-02 21:48:37,200 : INFO : loading wv recursively from models/FastText/fast_Text_model.wv.* with mmap=None\n",
      "2022-10-02 21:48:37,201 : INFO : loading vectors_ngrams from models/FastText/fast_Text_model.wv.vectors_ngrams.npy with mmap=None\n",
      "2022-10-02 21:48:38,795 : INFO : setting ignored attribute vectors to None\n",
      "2022-10-02 21:48:38,802 : INFO : setting ignored attribute buckets_word to None\n",
      "2022-10-02 21:48:39,127 : INFO : setting ignored attribute cum_table to None\n",
      "2022-10-02 21:48:39,168 : INFO : FastText lifecycle event {'fname': 'models/FastText/fast_Text_model', 'datetime': '2022-10-02T21:48:39.168182', 'gensim': '4.2.0', 'python': '3.10.4 (main, Mar 31 2022, 03:38:35) [Clang 12.0.0 ]', 'platform': 'macOS-10.16-x86_64-i386-64bit', 'event': 'loaded'}\n"
     ]
    }
   ],
   "source": [
    "# save model\n",
    "fast_text_model_file = 'fast_text_model'\n",
    "\n",
    "# # Save fastText gensim model\n",
    "# bbcFT.save(\"models/FastText/fast_Text_model\")\n",
    "# print(f'Successfully loaded {fast_text_model_file}')\n",
    "\n",
    "# Load saved gensim fastText model\n",
    "bbcFT = Word2Vec.load(\"models/FastText/fast_Text_model\")"
   ],
   "metadata": {
    "collapsed": false,
    "pycharm": {
     "name": "#%%\n"
    }
   }
  },
  {
   "cell_type": "code",
   "execution_count": 81,
   "outputs": [
    {
     "data": {
      "text/plain": "0"
     },
     "execution_count": 81,
     "metadata": {},
     "output_type": "execute_result"
    }
   ],
   "source": [
    "# NOTE this can take some time to finish running\n",
    "# generate document embeddings\n",
    "bbcFT_wv = bbcFT.wv\n",
    "bbcFT_dvs = gen_docVecs(bbcFT_wv,job_ad['Tokenized Description'])\n",
    "bbcFT_dvs.isna().any().sum()"
   ],
   "metadata": {
    "collapsed": false,
    "pycharm": {
     "name": "#%%\n"
    }
   }
  },
  {
   "cell_type": "code",
   "execution_count": 82,
   "outputs": [
    {
     "data": {
      "text/plain": "<Figure size 1440x720 with 1 Axes>",
      "image/png": "[encoded data removed]"
     },
     "metadata": {
      "needs_background": "light"
     },
     "output_type": "display_data"
    }
   ],
   "source": [
    "# explore feature space\n",
    "features = bbcFT_dvs.to_numpy()\n",
    "plotTSNE(job_ad['Category'],features)"
   ],
   "metadata": {
    "collapsed": false,
    "pycharm": {
     "name": "#%%\n"
    }
   }
  },
  {
   "cell_type": "markdown",
   "source": [
    "### --------> OBSERVATION:\n",
    "\n",
    "The unweighted embeding model seems does not do a good job of classifying features into their appropriate categories"
   ],
   "metadata": {
    "collapsed": false,
    "pycharm": {
     "name": "#%% md\n"
    }
   }
  },
  {
   "cell_type": "code",
   "execution_count": 83,
   "outputs": [
    {
     "data": {
      "text/plain": "0.35019455252918286"
     },
     "execution_count": 83,
     "metadata": {},
     "output_type": "execute_result"
    }
   ],
   "source": [
    "# build the classification model and report results\n",
    "seed = 3879312\n",
    "X_train, X_test, y_train, y_test,train_indices,test_indices = train_test_split(bbcFT_dvs, job_ad['Category'], list(range(0,len(job_ad))),test_size=0.33, random_state=seed)\n",
    "\n",
    "model = LogisticRegression(max_iter = 1000,random_state=seed)\n",
    "model.fit(X_train, y_train)\n",
    "model.score(X_test, y_test)"
   ],
   "metadata": {
    "collapsed": false,
    "pycharm": {
     "name": "#%%\n"
    }
   }
  },
  {
   "cell_type": "markdown",
   "source": [
    "## 4. Generating TF-IDF weighted document vectors\n",
    "\n",
    "Ok, I hope you have lots of fun building document embeddings based on varoius word embedding models.\n",
    "Previously, when we generate the document embeddings, we just sum up the embeddings vector of each tokenized word in the article, a bit simplicity 🤔\n",
    "\n",
    "In this section, let's make it a bit more challenging, we are going to build the tf-idfdocument embeddings.\n",
    "What does that mean? 🤨\n",
    "Hmm~~ it's not magic, we just do a weigthed sum of the word embedding vectors, however, the weight here, refers to the tf-idfweight of the word.\n",
    "\n",
    "If you already forgot about what is `tf-ijob_ad`, please refer to Activity 3 Pre-processing Text and Generating Features.\n",
    "Otherwise, move on!\n",
    "So we've generated the tf-idfvector representation of documents in Activity 3 and saved in a txt file called `bbcNews_tVector.txt`. The format of this file is:\n",
    "- each line represents an article;\n",
    "- each line is of the format 'w_index:weight w_index:weight ......'\n",
    "\n",
    "Oh, but we don't have that word index `w_index` here in this activity, what should we do? 🤔\n",
    "ah ha, we also saved the vocabulary in a file `vocab`, in which each line is a word, and of the format `index,word`.\n",
    "Theresore, based on these two files, we can create a word:weight mapping for each tokenized word in a document!\n",
    "\n",
    "Ok, in the following couple block of codes, this is exactly what we are trying to do, step by step.\n",
    "- the `gen_vocIndex` function reads the the vocabulary file, and create an w_index:word dictionary"
   ],
   "metadata": {
    "collapsed": false,
    "pycharm": {
     "name": "#%% md\n"
    }
   }
  },
  {
   "cell_type": "code",
   "execution_count": 84,
   "outputs": [
    {
     "data": {
      "text/plain": "{0: 'aap',\n 1: 'aaron',\n 2: 'aat',\n 3: 'abb',\n 4: 'abenefit',\n 5: 'aberdeen',\n 6: 'abi',\n 7: 'abilities',\n 8: 'ability',\n 9: 'abreast',\n 10: 'abroad',\n 11: 'absence',\n 12: 'absolute',\n 13: 'ac',\n 14: 'aca',\n 15: 'academic',\n 16: 'academy',\n 17: 'acca',\n 18: 'accept',\n 19: 'acceptable',\n 20: 'acceptance',\n 21: 'accepted',\n 22: 'access',\n 23: 'accessible',\n 24: 'accident',\n 25: 'accommodates',\n 26: 'accommodation',\n 27: 'accomplished',\n 28: 'accordance',\n 29: 'account',\n 30: 'accountabilities',\n 31: 'accountability',\n 32: 'accountable',\n 33: 'accountancy',\n 34: 'accountant',\n 35: 'accountants',\n 36: 'accounting',\n 37: 'accounts',\n 38: 'accreditation',\n 39: 'accredited',\n 40: 'accruals',\n 41: 'accuracy',\n 42: 'accurate',\n 43: 'accurately',\n 44: 'achievable',\n 45: 'achieve',\n 46: 'achieved',\n 47: 'achievement',\n 48: 'achievements',\n 49: 'achiever',\n 50: 'achieving',\n 51: 'acii',\n 52: 'acquired',\n 53: 'acquisition',\n 54: 'acquisitions',\n 55: 'act',\n 56: 'acting',\n 57: 'action',\n 58: 'actions',\n 59: 'actionscript',\n 60: 'active',\n 61: 'actively',\n 62: 'activites',\n 63: 'activities',\n 64: 'activity',\n 65: 'acts',\n 66: 'actual',\n 67: 'actuarial',\n 68: 'acumen',\n 69: 'acute',\n 70: 'ad',\n 71: 'adam',\n 72: 'adapt',\n 73: 'adaptability',\n 74: 'add',\n 75: 'added',\n 76: 'addiction',\n 77: 'adding',\n 78: 'addition',\n 79: 'additional',\n 80: 'additionally',\n 81: 'additions',\n 82: 'address',\n 83: 'addresses',\n 84: 'addressing',\n 85: 'adecco',\n 86: 'adept',\n 87: 'adequacy',\n 88: 'adequate',\n 89: 'adequately',\n 90: 'adhere',\n 91: 'adhered',\n 92: 'adherence',\n 93: 'adhering',\n 94: 'adhoc',\n 95: 'adjust',\n 96: 'adjuster',\n 97: 'adjusting',\n 98: 'adjustments',\n 99: 'admin',\n 100: 'administer',\n 101: 'administered',\n 102: 'administering',\n 103: 'administration',\n 104: 'administrative',\n 105: 'administrator',\n 106: 'administrators',\n 107: 'admission',\n 108: 'admissions',\n 109: 'adobe',\n 110: 'adolescents',\n 111: 'adopt',\n 112: 'adopted',\n 113: 'adopting',\n 114: 'adrian',\n 115: 'ads',\n 116: 'adstream',\n 117: 'adult',\n 118: 'adults',\n 119: 'advance',\n 120: 'advanced',\n 121: 'advancement',\n 122: 'advances',\n 123: 'advantage',\n 124: 'advantageous',\n 125: 'advert',\n 126: 'advertise',\n 127: 'advertised',\n 128: 'advertisement',\n 129: 'advertising',\n 130: 'advertsing',\n 131: 'advice',\n 132: 'advise',\n 133: 'advised',\n 134: 'adviser',\n 135: 'advisers',\n 136: 'advising',\n 137: 'advisor',\n 138: 'advisors',\n 139: 'advisory',\n 140: 'aeronautical',\n 141: 'aerospace',\n 142: 'affairs',\n 143: 'affect',\n 144: 'affected',\n 145: 'affecting',\n 146: 'affinity',\n 147: 'affordable',\n 148: 'africa',\n 149: 'aftermarket',\n 150: 'afternoon',\n 151: 'afternoons',\n 152: 'age',\n 153: 'aged',\n 154: 'agencies',\n 155: 'agency',\n 156: 'agent',\n 157: 'agents',\n 158: 'ages',\n 159: 'aggressive',\n 160: 'agile',\n 161: 'ago',\n 162: 'agree',\n 163: 'agreed',\n 164: 'agreement',\n 165: 'agreements',\n 166: 'agy',\n 167: 'ahead',\n 168: 'ahu',\n 169: 'aid',\n 170: 'aided',\n 171: 'aids',\n 172: 'aim',\n 173: 'aimed',\n 174: 'aims',\n 175: 'air',\n 176: 'aircraft',\n 177: 'airdrie',\n 178: 'alarm',\n 179: 'alarms',\n 180: 'albans',\n 181: 'alcohol',\n 182: 'aldredirweb',\n 183: 'alecto',\n 184: 'alerting',\n 185: 'alex',\n 186: 'algorithm',\n 187: 'algorithms',\n 188: 'aligned',\n 189: 'alignment',\n 190: 'alike',\n 191: 'allied',\n 192: 'allocated',\n 193: 'allocation',\n 194: 'allowance',\n 195: 'allowances',\n 196: 'allowing',\n 197: 'alm',\n 198: 'alongside',\n 199: 'alternate',\n 200: 'alternative',\n 201: 'alternatively',\n 202: 'altrincham',\n 203: 'aluminium',\n 204: 'amazing',\n 205: 'ambassador',\n 206: 'ambition',\n 207: 'ambitions',\n 208: 'ambitious',\n 209: 'ambridge',\n 210: 'amenities',\n 211: 'america',\n 212: 'american',\n 213: 'amigo',\n 214: 'aml',\n 215: 'amount',\n 216: 'amounts',\n 217: 'amp',\n 218: 'amrywiol',\n 219: 'anaesthetics',\n 220: 'anaesthetist',\n 221: 'analog',\n 222: 'analogue',\n 223: 'analyse',\n 224: 'analysers',\n 225: 'analyses',\n 226: 'analysing',\n 227: 'analysis',\n 228: 'analyst',\n 229: 'analystbelfast',\n 230: 'analysts',\n 231: 'analytical',\n 232: 'analytics',\n 233: 'ancillary',\n 234: 'andoffers',\n 235: 'andrew',\n 236: 'android',\n 237: 'androidoptometryapp',\n 238: 'andy',\n 239: 'angiography',\n 240: 'anglia',\n 241: 'annual',\n 242: 'annum',\n 243: 'anomalies',\n 244: 'answer',\n 245: 'answered',\n 246: 'answering',\n 247: 'anthony',\n 248: 'anticipate',\n 249: 'anticipated',\n 250: 'antony',\n 251: 'apartments',\n 252: 'api',\n 253: 'apmp',\n 254: 'appearance',\n 255: 'appetite',\n 256: 'appleoptometry',\n 257: 'applicable',\n 258: 'applicant',\n 259: 'applicants',\n 260: 'application',\n 261: 'applications',\n 262: 'applied',\n 263: 'applies',\n 264: 'apply',\n 265: 'applying',\n 266: 'appoint',\n 267: 'appointed',\n 268: 'appointment',\n 269: 'appointments',\n 270: 'appraisal',\n 271: 'appraisals',\n 272: 'appraising',\n 273: 'appreciation',\n 274: 'apprentice',\n 275: 'apprenticeship',\n 276: 'approach',\n 277: 'approachable',\n 278: 'approaches',\n 279: 'appropriately',\n 280: 'approval',\n 281: 'approved',\n 282: 'approx',\n 283: 'approximately',\n 284: 'aptitude',\n 285: 'aptrack',\n 286: 'ar',\n 287: 'architect',\n 288: 'architects',\n 289: 'architectural',\n 290: 'architecture',\n 291: 'architectures',\n 292: 'archiving',\n 293: 'area',\n 294: 'areas',\n 295: 'arena',\n 296: 'arise',\n 297: 'arisen',\n 298: 'arm',\n 299: 'armed',\n 300: 'arrange',\n 301: 'arranged',\n 302: 'arrangement',\n 303: 'arrangements',\n 304: 'arranging',\n 305: 'array',\n 306: 'arrow',\n 307: 'art',\n 308: 'articulate',\n 309: 'articulating',\n 310: 'artists',\n 311: 'asap',\n 312: 'asbestos',\n 313: 'ascertain',\n 314: 'ascot',\n 315: 'asda',\n 316: 'ashby',\n 317: 'ashford',\n 318: 'ashley',\n 319: 'asia',\n 320: 'asic',\n 321: 'asked',\n 322: 'asp',\n 323: 'aspect',\n 324: 'aspects',\n 325: 'aspirations',\n 326: 'aspire',\n 327: 'aspireinc',\n 328: 'assembler',\n 329: 'assemblies',\n 330: 'assembly',\n 331: 'assertive',\n 332: 'assess',\n 333: 'assessed',\n 334: 'assessing',\n 335: 'assessment',\n 336: 'assessments',\n 337: 'assessor',\n 338: 'assessors',\n 339: 'asset',\n 340: 'assets',\n 341: 'assigned',\n 342: 'assignment',\n 343: 'assignments',\n 344: 'assimilate',\n 345: 'assist',\n 346: 'assistance',\n 347: 'assistant',\n 348: 'assistants',\n 349: 'assisted',\n 350: 'assisting',\n 351: 'assists',\n 352: 'associate',\n 353: 'associates',\n 354: 'association',\n 355: 'assume',\n 356: 'assuming',\n 357: 'assumptions',\n 358: 'assurance',\n 359: 'assured',\n 360: 'astute',\n 361: 'ate',\n 362: 'atmosphere',\n 363: 'att',\n 364: 'attached',\n 365: 'attend',\n 366: 'attendance',\n 367: 'attending',\n 368: 'attention',\n 369: 'attitude',\n 370: 'attitudes',\n 371: 'attract',\n 372: 'attracting',\n 373: 'attractive',\n 374: 'attracts',\n 375: 'attributes',\n 376: 'audi',\n 377: 'audience',\n 378: 'audiences',\n 379: 'audio',\n 380: 'audit',\n 381: 'auditing',\n 382: 'auditor',\n 383: 'auditors',\n 384: 'audits',\n 385: 'authorisation',\n 386: 'authorised',\n 387: 'authorities',\n 388: 'authority',\n 389: 'authorized',\n 390: 'autism',\n 391: 'auto',\n 392: 'autocad',\n 393: 'autodesk',\n 394: 'automated',\n 395: 'automatic',\n 396: 'automatically',\n 397: 'automation',\n 398: 'automotive',\n 399: 'autonomous',\n 400: 'autonomously',\n 401: 'autonomy',\n 402: 'auxiliaries',\n 403: 'auxiliary',\n 404: 'av',\n 405: 'availability',\n 406: 'avenues',\n 407: 'average',\n 408: 'avon',\n 409: 'avse',\n 410: 'award',\n 411: 'awarded',\n 412: 'awards',\n 413: 'awardwinning',\n 414: 'aware',\n 415: 'awareness',\n 416: 'ax',\n 417: 'axapta',\n 418: 'axis',\n 419: 'aylesbury',\n 420: 'ba',\n 421: 'bachelor',\n 422: \"bachelor's\",\n 423: 'back',\n 424: 'backed',\n 425: 'backend',\n 426: 'background',\n 427: 'backgrounds',\n 428: 'backing',\n 429: 'backtesting',\n 430: 'backup',\n 431: 'bacs',\n 432: 'badenoch',\n 433: 'bailey',\n 434: 'baking',\n 435: 'balance',\n 436: 'balances',\n 437: 'band',\n 438: 'bank',\n 439: 'banking',\n 440: 'banks',\n 441: 'barchester',\n 442: \"barchester's\",\n 443: 'barns',\n 444: 'barnsley',\n 445: 'barry',\n 446: 'base',\n 447: 'baseband',\n 448: 'based',\n 449: 'basel',\n 450: 'bases',\n 451: 'basic',\n 452: 'basingstoke',\n 453: 'basis',\n 454: 'batch',\n 455: 'bath',\n 456: 'bathing',\n 457: 'bathroom',\n 458: 'bathrooms',\n 459: 'bdm',\n 460: 'beacon',\n 461: 'bearings',\n 462: 'beautiful',\n 463: 'becky',\n 464: 'bed',\n 465: 'bedded',\n 466: 'bedford',\n 467: 'bedfordshire',\n 468: 'beds',\n 469: 'began',\n 470: 'begin',\n 471: 'behalf',\n 472: 'behaviour',\n 473: 'behavioural',\n 474: 'behaviours',\n 475: 'belfast',\n 476: 'belief',\n 477: 'believes',\n 478: 'bell',\n 479: 'belt',\n 480: 'ben',\n 481: 'bench',\n 482: 'beneficial',\n 483: 'beneficiaries',\n 484: 'benefit',\n 485: 'benefits',\n 486: 'benelux',\n 487: 'beng',\n 488: 'benn',\n 489: 'bens',\n 490: 'berkshire',\n 491: 'bespoke',\n 492: 'beverage',\n 493: 'bexhill',\n 494: 'bi',\n 495: 'bias',\n 496: 'biased',\n 497: 'bid',\n 498: 'bids',\n 499: 'big',\n 500: 'biggest',\n 501: 'bikes',\n 502: 'billing',\n 503: 'billinghay',\n 504: 'billion',\n 505: 'bills',\n 506: 'biology',\n 507: 'birmingham',\n 508: 'birthdays',\n 509: 'bit',\n 510: 'black',\n 511: 'blackburn',\n 512: 'blake',\n 513: 'blind',\n 514: 'blocked',\n 515: 'blood',\n 516: 'bls',\n 517: 'blue',\n 518: 'bluebird',\n 519: 'bluechip',\n 520: 'bluestones',\n 521: 'bms',\n 522: 'bmsbmsit',\n 523: 'bmsgraduates',\n 524: 'bmsit',\n 525: 'bmsuk',\n 526: 'bn',\n 527: 'board',\n 528: 'boast',\n 529: 'boasts',\n 530: 'bodies',\n 531: 'body',\n 532: 'boiler',\n 533: 'boilers',\n 534: 'bolting',\n 535: 'bonus',\n 536: 'bonuses',\n 537: 'book',\n 538: 'booked',\n 539: 'booking',\n 540: 'bookings',\n 541: 'bookkeeper',\n 542: 'bookkeeping',\n 543: 'books',\n 544: 'boost',\n 545: 'border',\n 546: 'boring',\n 547: 'boss',\n 548: 'boundaries',\n 549: 'bournemouth',\n 550: 'boutique',\n 551: 'box',\n 552: 'boxes',\n 553: 'brace',\n 554: 'bracknell',\n 555: 'bradford',\n 556: 'brain',\n 557: 'branch',\n 558: 'branches',\n 559: 'brand',\n 560: 'branded',\n 561: 'brands',\n 562: 'brbrjob',\n 563: 'break',\n 564: 'breakdown',\n 565: 'breakdowns',\n 566: 'breaking',\n 567: 'breheny',\n 568: 'brian',\n 569: 'briant',\n 570: 'bridge',\n 571: 'briefing',\n 572: 'briefings',\n 573: 'briefs',\n 574: 'bright',\n 575: 'brighton',\n 576: 'brilliant',\n 577: 'bring',\n 578: 'bringing',\n 579: 'brings',\n 580: 'bristol',\n 581: 'britain',\n 582: \"britain's\",\n 583: 'british',\n 584: 'brixton',\n 585: 'broad',\n 586: 'broaden',\n 587: 'broken',\n 588: 'broker',\n 589: 'brokerage',\n 590: 'brokers',\n 591: 'broking',\n 592: 'bromley',\n 593: 'broughton',\n 594: 'brown',\n 595: 'brsalary',\n 596: 'bs',\n 597: 'bsc',\n 598: 'bubble',\n 599: 'buckinghamshire',\n 600: 'buckle',\n 601: 'budget',\n 602: 'budgetary',\n 603: 'budgeted',\n 604: 'budgeting',\n 605: 'budgets',\n 606: 'bug',\n 607: 'build',\n 608: 'building',\n 609: 'buildings',\n 610: 'builds',\n 611: 'built',\n 612: 'bulk',\n 613: 'bull',\n 614: 'bullability',\n 615: 'bupa',\n 616: 'bureau',\n 617: 'bureaux',\n 618: 'burgess',\n 619: 'burscough',\n 620: 'bury',\n 621: 'bus',\n 622: 'business',\n 623: 'businesses',\n 624: 'busy',\n 625: 'butler',\n 626: 'button',\n 627: 'buy',\n 628: 'buyer',\n 629: 'buyers',\n 630: 'buying',\n 631: 'buyside',\n 632: 'buytolet',\n 633: 'bydwragedd',\n 634: 'bydwreigiaeth',\n 635: 'ca',\n 636: 'cable',\n 637: 'cabling',\n 638: 'cad',\n 639: 'cadstar',\n 640: 'cae',\n 641: 'calco',\n 642: 'calculation',\n 643: 'calculations',\n 644: 'calculus',\n 645: 'calibrating',\n 646: 'calibration',\n 647: 'calibre',\n 648: 'california',\n 649: 'call',\n 650: 'called',\n 651: 'caller',\n 652: 'calling',\n 653: 'calls',\n 654: 'calm',\n 655: 'cam',\n 656: 'cambridge',\n 657: 'cambridgeshire',\n 658: 'cameras',\n 659: 'camhs',\n 660: 'campaign',\n 661: 'campaigns',\n 662: 'canada',\n 663: 'cancer',\n 664: 'candidate',\n 665: 'candidates',\n 666: 'cannock',\n 667: 'canteen',\n 668: 'canvassing',\n 669: 'capabilities',\n 670: 'capability',\n 671: 'capable',\n 672: 'capacity',\n 673: 'capex',\n 674: 'capita',\n 675: 'capital',\n 676: 'capture',\n 677: 'car',\n 678: 'carbon',\n 679: 'carcraft',\n 680: 'card',\n 681: 'cardiac',\n 682: 'cardiff',\n 683: 'cardiology',\n 684: 'cards',\n 685: 'care',\n 686: 'cared',\n 687: 'career',\n 688: 'careers',\n 689: 'carefully',\n 690: 'carer',\n 691: 'carers',\n 692: 'cares',\n 693: 'caribbean',\n 694: 'carillion',\n 695: 'carillon',\n 696: 'caring',\n 697: 'carl',\n 698: 'caroline',\n 699: 'carpet',\n 700: 'carpets',\n 701: 'carried',\n 702: 'carrier',\n 703: 'carriers',\n 704: 'carries',\n 705: 'carry',\n 706: 'carrying',\n 707: 'cars',\n 708: 'cart',\n 709: 'case',\n 710: 'caseload',\n 711: 'cases',\n 712: 'casework',\n 713: 'cash',\n 714: 'cashflow',\n 715: 'cashier',\n 716: 'cashiering',\n 717: 'castings',\n 718: 'casual',\n 719: 'casualty',\n 720: 'catalyst',\n 721: 'categories',\n 722: 'catering',\n 723: 'caterpillar',\n 724: 'caters',\n 725: 'catia',\n 726: 'ccab',\n 727: 'ccn',\n 728: 'cct',\n 729: 'cctv',\n 730: 'cduttoncompassltd',\n 731: 'celebrating',\n 732: 'celesio',\n 733: 'cell',\n 734: 'cells',\n 735: 'cellular',\n 736: 'cemap',\n 737: 'ceng',\n 738: 'central',\n 739: 'centrally',\n 740: 'centre',\n 741: \"centre's\",\n 742: 'centred',\n 743: 'centres',\n 744: 'century',\n 745: 'ceo',\n 746: 'cerebral',\n 747: 'certificate',\n 748: 'certificates',\n 749: 'certification',\n 750: 'certifications',\n 751: 'certified',\n 752: 'certus',\n 753: 'cfo',\n 754: 'chain',\n 755: 'chains',\n 756: 'chairing',\n 757: 'challenge',\n 758: 'challenges',\n 759: 'challenging',\n 760: 'champion',\n 761: 'chance',\n 762: 'change',\n 763: 'changed',\n 764: 'changing',\n 765: 'channel',\n 766: 'channels',\n 767: 'character',\n 768: 'characteristics',\n 769: 'charge',\n 770: 'charged',\n 771: 'charismatic',\n 772: 'charitable',\n 773: 'charities',\n 774: 'charity',\n 775: 'chartered',\n 776: 'charterhouse',\n 777: 'chartership',\n 778: 'chase',\n 779: 'chasemedical',\n 780: 'chat',\n 781: 'check',\n 782: 'checkable',\n 783: 'checking',\n 784: 'checks',\n 785: 'chelmsford',\n 786: 'cheltenham',\n 787: 'chemical',\n 788: 'cheques',\n 789: 'cheshire',\n 790: 'chester',\n 791: 'chesterfield',\n 792: 'chi',\n 793: 'chichester',\n 794: 'chief',\n 795: 'child',\n 796: \"child's\",\n 797: 'childcare',\n 798: 'children',\n 799: \"children's\",\n 800: 'chip',\n 801: 'choice',\n 802: 'choices',\n 803: 'choose',\n 804: 'chosen',\n 805: 'chris',\n 806: 'christmas',\n 807: 'church',\n 808: 'chwefror',\n 809: 'cima',\n 810: 'cinema',\n 811: 'circa',\n 812: 'circuit',\n 813: 'circuitry',\n 814: 'circuits',\n 815: 'circumstances',\n 816: 'cis',\n 817: 'cisco',\n 818: 'citizen',\n 819: 'citizens',\n 820: 'city',\n 821: 'civil',\n 822: 'civils',\n 823: 'claims',\n 824: 'clarity',\n 825: 'clark',\n 826: 'class',\n 827: 'classes',\n 828: 'classification',\n 829: 'clean',\n 830: 'cleaning',\n 831: 'cleanliness',\n 832: 'clear',\n 833: 'clearance',\n 834: 'cleared',\n 835: 'clerical',\n 836: 'clerk',\n 837: 'click',\n 838: 'clicking',\n 839: 'client',\n 840: \"client's\",\n 841: 'clientfacing',\n 842: 'clients',\n 843: 'climate',\n 844: 'climb',\n 845: 'climbing',\n 846: 'clinic',\n 847: 'clinical',\n 848: 'clinically',\n 849: 'clinicians',\n 850: 'clinics',\n 851: 'close',\n 852: 'closed',\n 853: 'closely',\n 854: 'closer',\n 855: 'closes',\n 856: 'closing',\n 857: 'clothing',\n 858: 'cloud',\n 859: 'club',\n 860: 'clustering',\n 861: 'cmc',\n 862: 'cmm',\n 863: \"cmm's\",\n 864: 'cms',\n 865: 'cnc',\n 866: 'coach',\n 867: 'coaching',\n 868: 'code',\n 869: 'coded',\n 870: 'codes',\n 871: 'coding',\n 872: 'coen',\n 873: 'colchester',\n 874: 'cold',\n 875: 'coldcalling',\n 876: 'collaborating',\n 877: 'collaboration',\n 878: 'colleague',\n 879: 'colleagues',\n 880: 'collect',\n 881: 'collected',\n 882: 'collection',\n 883: 'collections',\n 884: 'college',\n 885: 'colour',\n 886: 'combat',\n 887: 'combination',\n 888: 'combine',\n 889: 'combined',\n 890: 'comfort',\n 891: 'comfortable',\n 892: 'comforting',\n 893: 'coming',\n 894: 'comm',\n 895: 'command',\n 896: 'commence',\n 897: 'commensurate',\n 898: 'commentary',\n 899: 'commercial',\n 900: 'commercially',\n 901: 'commission',\n 902: 'commissioning',\n 903: 'commissions',\n 904: 'commit',\n 905: 'commited',\n 906: 'commitment',\n 907: 'commitments',\n 908: 'committed',\n 909: 'committee',\n 910: 'commodities',\n 911: 'commodity',\n 912: 'common',\n 913: 'comms',\n 914: 'communal',\n 915: 'communicate',\n 916: 'communicated',\n 917: 'communicating',\n 918: 'communication',\n 919: 'communications',\n 920: 'communicator',\n 921: 'community',\n 922: 'commutable',\n 923: 'commute',\n 924: 'companies',\n 925: 'companionship',\n 926: 'company',\n 927: \"company's\",\n 928: 'comparable',\n 929: 'compass',\n 930: 'compassionate',\n 931: 'compatibility',\n 932: 'compelling',\n 933: 'compensation',\n 934: 'competence',\n 935: 'competencies',\n 936: 'competency',\n 937: 'competent',\n 938: 'competently',\n 939: 'competition',\n 940: 'competitive',\n 941: 'competitor',\n 942: 'competitors',\n 943: 'compile',\n 944: 'compiling',\n 945: 'complaint',\n 946: 'complaints',\n 947: 'complement',\n 948: 'complete',\n 949: 'completed',\n 950: 'completely',\n 951: 'completeness',\n 952: 'completing',\n 953: 'completion',\n 954: 'complex',\n 955: 'complexity',\n 956: 'compliance',\n 957: 'compliant',\n 958: 'complied',\n 959: 'complies',\n 960: 'comply',\n 961: 'complying',\n 962: 'component',\n 963: 'components',\n 964: 'composite',\n 965: 'comprehension',\n 966: 'comprehensive',\n 967: 'compressed',\n 968: 'compressors',\n 969: 'computational',\n 970: 'computations',\n 971: 'computer',\n 972: 'computerised',\n 973: 'concentrate',\n 974: 'concentration',\n 975: 'concept',\n 976: 'concepts',\n 977: 'conceptual',\n 978: 'concern',\n 979: 'concerned',\n 980: 'concerns',\n 981: 'concise',\n 982: 'conclusion',\n 983: 'condition',\n 984: 'conditioning',\n 985: 'conditions',\n 986: 'conduct',\n 987: 'conducted',\n 988: 'conducting',\n 989: 'conduit',\n 990: 'confederation',\n 991: 'conference',\n 992: 'conferences',\n 993: 'confidence',\n 994: 'confident',\n 995: 'confidential',\n 996: 'confidentiality',\n 997: 'confidently',\n 998: 'configuration',\n 999: 'confirm',\n ...}"
     },
     "execution_count": 84,
     "metadata": {},
     "output_type": "execute_result"
    }
   ],
   "source": [
    "def read_vocab(vocab_file):\n",
    "    vocab = {}\n",
    "    with open(vocab_file) as f:\n",
    "        for line in f:\n",
    "            (word, index) = line.split(':')\n",
    "            vocab[word.strip()] = int(index)\n",
    "    return {v: k for k, v in vocab.items()}\n",
    "\n",
    "# Generates the w_index:word dictionary\n",
    "voc_fname = 'vocab.txt'\n",
    "voc_dict = read_vocab(voc_fname)\n",
    "voc_dict"
   ],
   "metadata": {
    "collapsed": false,
    "pycharm": {
     "name": "#%%\n"
    }
   }
  },
  {
   "cell_type": "markdown",
   "source": [
    "- the `doc_wordweights` function takes the tfijob_ad document vector file, as well as the w_index:word dictionary, creates the mapping between w_index and the actual word, and creates a dictionary of word:weight or each unique word appear in the document."
   ],
   "metadata": {
    "collapsed": false,
    "pycharm": {
     "name": "#%% md\n"
    }
   }
  },
  {
   "cell_type": "code",
   "execution_count": 85,
   "outputs": [
    {
     "data": {
      "text/plain": "{'terms': '0.12814828244060425',\n 'successful': '0.05796079997740923',\n 'south': '0.2018635293730571',\n 'skills': '0.04913453192908334',\n 'service': '0.060710119751583795',\n 'sales': '0.06454174417506445',\n 'role': '0.12135675890098277',\n 'requirement': '0.12239855316060116',\n 'reconciliation': '0.13890102583022776',\n 'qualified': '0.07659552107697486',\n 'purchase': '0.13378223582062956',\n 'previous': '0.08075436746078549',\n 'possess': '0.10743973778148354',\n 'phone': '0.11676459978057582',\n 'person': '0.08859627508123877',\n 'permanent': '0.08005535336313394',\n 'payment': '0.13538699349642683',\n 'partqualified': '0.16974524253473644',\n 'part': '0.07041212519192294',\n 'offices': '0.1128037312357935',\n 'negotiating': '0.15654960114068633',\n 'modern': '0.1294543605339772',\n 'manufacturing': '0.09525384009006171',\n 'london': '0.16491288212112942',\n 'letter': '0.12570538443617763',\n 'ledger': '0.2675644716412591',\n 'ideal': '0.08620541715836426',\n 'handling': '0.23888098357149493',\n 'fully': '0.10399760207073483',\n 'experience': '0.03594845470339656',\n 'exceptional': '0.12570538443617763',\n 'email': '0.07721259242121037',\n 'east': '0.20090365588099146',\n 'duties': '0.08123023675067804',\n 'debts': '0.18408698656961853',\n 'daily': '0.10346281226402503',\n 'customer': '0.06851866969252295',\n 'credit': '0.24691627223043022',\n 'control': '0.1718407661521343',\n 'considered': '0.0933431971913132',\n 'company': '0.05095159114744263',\n 'communication': '0.0688255100795738',\n 'collection': '0.15028470849025613',\n 'client': '0.049519663015708676',\n 'cash': '0.11676459978057582',\n 'capacity': '0.13082417444577582',\n 'candidate': '0.0600253146809874',\n 'business': '0.05103332516720322',\n 'administration': '0.1014200485757651',\n 'adhoc': '0.1322642652802738',\n 'accounts': '0.2686442460795005',\n 'accountant': '0.34296510532844776'}"
     },
     "execution_count": 85,
     "metadata": {},
     "output_type": "execute_result"
    }
   ],
   "source": [
    "def doc_wordweights(fName_tVectors, voc_dict):\n",
    "    tfidf_weights = [] # a list to store the  word:weight dictionaries of documents\n",
    "\n",
    "    with open(fName_tVectors) as tVecf:\n",
    "        tVectors = tVecf.read().splitlines() # each line is a tfidf vector representation of a document in string format 'word_index:weight word_index:weight .......'\n",
    "    for tv in tVectors: # for each tfidf document vector\n",
    "        tv = tv.strip()\n",
    "        weights = tv.split(' ') # list of 'word_index:weight' entries\n",
    "        weights = [w.split(':') for w in weights] # change the format of weight to a list of '[word_index,weight]' entries\n",
    "        wordweight_dict = {voc_dict[int(w[0])]:w[1] for w in weights} # construct the weight dictionary, where each entry is 'word:weight'\n",
    "        tfidf_weights.append(wordweight_dict)\n",
    "    return tfidf_weights\n",
    "\n",
    "fName_tVectors = 'jobAd_tVector.txt'\n",
    "tfijob_ad_weights = doc_wordweights(fName_tVectors, voc_dict)\n",
    "\n",
    "# take a look at the tfijob_ad word weights dictionary of the first document\n",
    "tfijob_ad_weights[0]"
   ],
   "metadata": {
    "collapsed": false,
    "pycharm": {
     "name": "#%%\n"
    }
   }
  },
  {
   "cell_type": "markdown",
   "source": [
    "Ok, once we have the word:weight dictionary of each document, now we can construct the tf-idf weighted document embeddings.\n",
    "* the following `gen_docVecs` function is an revision/extension of the previous written function, that takes the word embeddings dictionary, the tokenized text of articles, and the tfijob_ad weights (list of word:weight dictionaries, one for each article) as arguments, and generates the document embeddings:\n",
    " 1. creates an empty dataframe `docs_vectors` to store the document embeddings of articles\n",
    "  2. it loop through every tokenized text:\n",
    "    - creates an empty dataframe `temp` to store all the word embeddings of the article\n",
    "    - for each word that exists in the word embeddings dictionary/keyedvectors,\n",
    "        - if the argument `tfijob_ad` weights are empty `[]`, it sets the weight of the word as 1\n",
    "        - otherwise, retrieve the weight of the word from the corresponding word:weight dictionary of the article from  `tfijob_ad`\n",
    "    - row bind the weighted word embedding to `temp`\n",
    "    - takes the sum of each column to create the document vector, i.e., the embedding of an article\n",
    "    - append the created document vector to the list of document vectors"
   ],
   "metadata": {
    "collapsed": false,
    "pycharm": {
     "name": "#%% md\n"
    }
   }
  },
  {
   "cell_type": "markdown",
   "source": [
    "Ok we now have everything ready to generate the weight document embeddings.\n",
    "We can do this on any of our previous explored models, including the pretrained Word2Vec GoogleNews300, Glove, our in-house trained Word2Vec and FastText.\n",
    "\n",
    "Let's generated the weighted version of the document embedding vectors first"
   ],
   "metadata": {
    "collapsed": false,
    "pycharm": {
     "name": "#%% md\n"
    }
   }
  },
  {
   "cell_type": "code",
   "execution_count": 87,
   "outputs": [],
   "source": [
    "weighted_bbcFT_company = gen_docVecs_weight(bbcFT_wv,job_ad['Tokenized Company'],tfijob_ad_weights)\n",
    "weighted_bbcFT_title = gen_docVecs_weight(bbcFT_wv,job_ad['Tokenized Title'],tfijob_ad_weights)\n",
    "weighted_bbcFT_description = gen_docVecs_weight(bbcFT_wv,job_ad['Tokenized Description'],tfijob_ad_weights)"
   ],
   "metadata": {
    "collapsed": false,
    "pycharm": {
     "name": "#%%\n"
    }
   }
  },
  {
   "cell_type": "markdown",
   "source": [
    "And we can do very much the same thing as what we do before for other models.\n",
    "Here, we will do this as loops, for each model:\n",
    "- we plot out the feature vectors  projected in a 2-dimensional space,then\n",
    "- we build the logistic regression model for document classfication and report the model performance."
   ],
   "metadata": {
    "collapsed": false,
    "pycharm": {
     "name": "#%% md\n"
    }
   }
  },
  {
   "cell_type": "code",
   "execution_count": 88,
   "outputs": [],
   "source": [
    "from sklearn.manifold import TSNE\n",
    "import matplotlib.pyplot as plt\n",
    "import numpy as np\n",
    "def plotTSNE(labels,features): # features as a numpy array, each element of the array is the document embedding of an article\n",
    "    categories = sorted(labels.unique())\n",
    "    # Sampling a subset of our dataset because t-SNE is computationally expensive\n",
    "    SAMPLE_SIZE = int(len(features) * 0.3)\n",
    "    np.random.seed(0)\n",
    "    indices = np.random.choice(range(len(features)), size=SAMPLE_SIZE, replace=False)\n",
    "    projected_features = TSNE(n_components=2, random_state=0).fit_transform(features[indices].astype(int))\n",
    "    colors = ['pink', 'green', 'midnightblue', 'orange', 'darkgrey']\n",
    "    for i in range(0,len(categories)):\n",
    "        points = projected_features[(labels[indices] == categories[i])]\n",
    "        plt.scatter(points[:, 0], points[:, 1], s=30, c=colors[i], label=categories[i])\n",
    "    plt.title(\"Feature vector for each article, projected on 2 dimensions.\",\n",
    "              fontdict=dict(fontsize=15))\n",
    "    plt.legend()\n",
    "    plt.show()"
   ],
   "metadata": {
    "collapsed": false,
    "pycharm": {
     "name": "#%%\n"
    }
   }
  },
  {
   "cell_type": "code",
   "execution_count": 89,
   "outputs": [
    {
     "name": "stdout",
     "output_type": "stream",
     "text": [
      "0\n"
     ]
    },
    {
     "ename": "ValueError",
     "evalue": "Found input variables with inconsistent numbers of samples: [0, 776, 776]",
     "output_type": "error",
     "traceback": [
      "\u001B[0;31m---------------------------------------------------------------------------\u001B[0m",
      "\u001B[0;31mValueError\u001B[0m                                Traceback (most recent call last)",
      "Input \u001B[0;32mIn [89]\u001B[0m, in \u001B[0;36m<cell line: 8>\u001B[0;34m()\u001B[0m\n\u001B[1;32m     12\u001B[0m \u001B[38;5;28mprint\u001B[39m(\u001B[38;5;28mlen\u001B[39m(features))\n\u001B[1;32m     13\u001B[0m \u001B[38;5;66;03m# print(name + \": tSNE 2 dimensional projected Feature space\")\u001B[39;00m\n\u001B[1;32m     14\u001B[0m \u001B[38;5;66;03m# plotTSNE(job_ad['Category'],features)\u001B[39;00m\n\u001B[1;32m     15\u001B[0m \n\u001B[1;32m     16\u001B[0m \u001B[38;5;66;03m# creating training and test split\u001B[39;00m\n\u001B[0;32m---> 17\u001B[0m X_train, X_test, y_train, y_test,train_indices,test_indices \u001B[38;5;241m=\u001B[39m \u001B[43mtrain_test_split\u001B[49m\u001B[43m(\u001B[49m\u001B[43mdv\u001B[49m\u001B[43m,\u001B[49m\u001B[43m \u001B[49m\u001B[43mjob_ad\u001B[49m\u001B[43m[\u001B[49m\u001B[38;5;124;43m'\u001B[39;49m\u001B[38;5;124;43mCategory\u001B[39;49m\u001B[38;5;124;43m'\u001B[39;49m\u001B[43m]\u001B[49m\u001B[43m,\u001B[49m\u001B[43m \u001B[49m\u001B[38;5;28;43mlist\u001B[39;49m\u001B[43m(\u001B[49m\u001B[38;5;28;43mrange\u001B[39;49m\u001B[43m(\u001B[49m\u001B[38;5;241;43m0\u001B[39;49m\u001B[43m,\u001B[49m\u001B[38;5;28;43mlen\u001B[39;49m\u001B[43m(\u001B[49m\u001B[43mjob_ad\u001B[49m\u001B[43m)\u001B[49m\u001B[43m)\u001B[49m\u001B[43m)\u001B[49m\u001B[43m,\u001B[49m\u001B[43mtest_size\u001B[49m\u001B[38;5;241;43m=\u001B[39;49m\u001B[38;5;241;43m0.33\u001B[39;49m\u001B[43m,\u001B[49m\u001B[43m \u001B[49m\u001B[43mrandom_state\u001B[49m\u001B[38;5;241;43m=\u001B[39;49m\u001B[43mseed\u001B[49m\u001B[43m)\u001B[49m\n\u001B[1;32m     19\u001B[0m model \u001B[38;5;241m=\u001B[39m LogisticRegression(max_iter \u001B[38;5;241m=\u001B[39m \u001B[38;5;241m2000\u001B[39m,random_state\u001B[38;5;241m=\u001B[39mseed)\n\u001B[1;32m     20\u001B[0m X_train \u001B[38;5;241m=\u001B[39m np\u001B[38;5;241m.\u001B[39marray(X_train)\u001B[38;5;241m.\u001B[39mreshape(\u001B[38;5;241m-\u001B[39m\u001B[38;5;241m1\u001B[39m, \u001B[38;5;241m1\u001B[39m)\n",
      "File \u001B[0;32m~/.conda/envs/Advanced_Programming_for_Data_Science/lib/python3.10/site-packages/sklearn/model_selection/_split.py:2417\u001B[0m, in \u001B[0;36mtrain_test_split\u001B[0;34m(test_size, train_size, random_state, shuffle, stratify, *arrays)\u001B[0m\n\u001B[1;32m   2414\u001B[0m \u001B[38;5;28;01mif\u001B[39;00m n_arrays \u001B[38;5;241m==\u001B[39m \u001B[38;5;241m0\u001B[39m:\n\u001B[1;32m   2415\u001B[0m     \u001B[38;5;28;01mraise\u001B[39;00m \u001B[38;5;167;01mValueError\u001B[39;00m(\u001B[38;5;124m\"\u001B[39m\u001B[38;5;124mAt least one array required as input\u001B[39m\u001B[38;5;124m\"\u001B[39m)\n\u001B[0;32m-> 2417\u001B[0m arrays \u001B[38;5;241m=\u001B[39m \u001B[43mindexable\u001B[49m\u001B[43m(\u001B[49m\u001B[38;5;241;43m*\u001B[39;49m\u001B[43marrays\u001B[49m\u001B[43m)\u001B[49m\n\u001B[1;32m   2419\u001B[0m n_samples \u001B[38;5;241m=\u001B[39m _num_samples(arrays[\u001B[38;5;241m0\u001B[39m])\n\u001B[1;32m   2420\u001B[0m n_train, n_test \u001B[38;5;241m=\u001B[39m _validate_shuffle_split(\n\u001B[1;32m   2421\u001B[0m     n_samples, test_size, train_size, default_test_size\u001B[38;5;241m=\u001B[39m\u001B[38;5;241m0.25\u001B[39m\n\u001B[1;32m   2422\u001B[0m )\n",
      "File \u001B[0;32m~/.conda/envs/Advanced_Programming_for_Data_Science/lib/python3.10/site-packages/sklearn/utils/validation.py:378\u001B[0m, in \u001B[0;36mindexable\u001B[0;34m(*iterables)\u001B[0m\n\u001B[1;32m    359\u001B[0m \u001B[38;5;124;03m\"\"\"Make arrays indexable for cross-validation.\u001B[39;00m\n\u001B[1;32m    360\u001B[0m \n\u001B[1;32m    361\u001B[0m \u001B[38;5;124;03mChecks consistent length, passes through None, and ensures that everything\u001B[39;00m\n\u001B[0;32m   (...)\u001B[0m\n\u001B[1;32m    374\u001B[0m \u001B[38;5;124;03m    sparse matrix, or dataframe) or `None`.\u001B[39;00m\n\u001B[1;32m    375\u001B[0m \u001B[38;5;124;03m\"\"\"\u001B[39;00m\n\u001B[1;32m    377\u001B[0m result \u001B[38;5;241m=\u001B[39m [_make_indexable(X) \u001B[38;5;28;01mfor\u001B[39;00m X \u001B[38;5;129;01min\u001B[39;00m iterables]\n\u001B[0;32m--> 378\u001B[0m \u001B[43mcheck_consistent_length\u001B[49m\u001B[43m(\u001B[49m\u001B[38;5;241;43m*\u001B[39;49m\u001B[43mresult\u001B[49m\u001B[43m)\u001B[49m\n\u001B[1;32m    379\u001B[0m \u001B[38;5;28;01mreturn\u001B[39;00m result\n",
      "File \u001B[0;32m~/.conda/envs/Advanced_Programming_for_Data_Science/lib/python3.10/site-packages/sklearn/utils/validation.py:332\u001B[0m, in \u001B[0;36mcheck_consistent_length\u001B[0;34m(*arrays)\u001B[0m\n\u001B[1;32m    330\u001B[0m uniques \u001B[38;5;241m=\u001B[39m np\u001B[38;5;241m.\u001B[39munique(lengths)\n\u001B[1;32m    331\u001B[0m \u001B[38;5;28;01mif\u001B[39;00m \u001B[38;5;28mlen\u001B[39m(uniques) \u001B[38;5;241m>\u001B[39m \u001B[38;5;241m1\u001B[39m:\n\u001B[0;32m--> 332\u001B[0m     \u001B[38;5;28;01mraise\u001B[39;00m \u001B[38;5;167;01mValueError\u001B[39;00m(\n\u001B[1;32m    333\u001B[0m         \u001B[38;5;124m\"\u001B[39m\u001B[38;5;124mFound input variables with inconsistent numbers of samples: \u001B[39m\u001B[38;5;132;01m%r\u001B[39;00m\u001B[38;5;124m\"\u001B[39m\n\u001B[1;32m    334\u001B[0m         \u001B[38;5;241m%\u001B[39m [\u001B[38;5;28mint\u001B[39m(l) \u001B[38;5;28;01mfor\u001B[39;00m l \u001B[38;5;129;01min\u001B[39;00m lengths]\n\u001B[1;32m    335\u001B[0m     )\n",
      "\u001B[0;31mValueError\u001B[0m: Found input variables with inconsistent numbers of samples: [0, 776, 776]"
     ]
    }
   ],
   "source": [
    "%matplotlib inline\n",
    "seed = 0\n",
    "from sklearn.model_selection import train_test_split\n",
    "from sklearn.linear_model import LogisticRegression\n",
    "\n",
    "models = [weighted_bbcFT_company,weighted_bbcFT_title,weighted_bbcFT_description]\n",
    "model_names = [\"Weighted Pretrained FastText with Company\", \"Weighted Pretrained FastText with Title\", \"Weighted Pretrained FastText with Description\"]\n",
    "for i in range(0,len(models)): #loop through each model\n",
    "    dv = models[i]\n",
    "    name = model_names[i]\n",
    "    features = dv.to_numpy() # convert the dataframe stored features to an numpy array\n",
    "    print(len(features))\n",
    "    # print(name + \": tSNE 2 dimensional projected Feature space\")\n",
    "    # plotTSNE(job_ad['Category'],features)\n",
    "\n",
    "    # creating training and test split\n",
    "    X_train, X_test, y_train, y_test,train_indices,test_indices = train_test_split(dv, job_ad['Category'], list(range(0,len(job_ad))),test_size=0.33, random_state=seed)\n",
    "\n",
    "    model = LogisticRegression(max_iter = 2000,random_state=seed)\n",
    "    X_train = np.array(X_train).reshape(-1, 1)\n",
    "    y_train = np.array(y_train).reshape(-1, 1)\n",
    "    y_test = np.array(y_test).reshape(-1, 1)\n",
    "    X_test = np.array(X_test).reshape(-1, 1)\n",
    "    model.fit(X_train, y_train)\n",
    "    print(\"Accuracy: \", model.score(X_test, y_test))\n",
    "    print('\\n\\n')"
   ],
   "metadata": {
    "collapsed": false,
    "pycharm": {
     "name": "#%%\n"
    }
   }
  },
  {
   "cell_type": "code",
   "execution_count": 97,
   "outputs": [
    {
     "name": "stdout",
     "output_type": "stream",
     "text": [
      "0\n"
     ]
    },
    {
     "ename": "ValueError",
     "evalue": "Found input variables with inconsistent numbers of samples: [0, 776, 776]",
     "output_type": "error",
     "traceback": [
      "\u001B[0;31m---------------------------------------------------------------------------\u001B[0m",
      "\u001B[0;31mValueError\u001B[0m                                Traceback (most recent call last)",
      "Input \u001B[0;32mIn [97]\u001B[0m, in \u001B[0;36m<cell line: 3>\u001B[0;34m()\u001B[0m\n\u001B[1;32m      7\u001B[0m \u001B[38;5;28mprint\u001B[39m(\u001B[38;5;28mlen\u001B[39m(features))\n\u001B[1;32m      8\u001B[0m \u001B[38;5;66;03m# creating training and test split\u001B[39;00m\n\u001B[0;32m----> 9\u001B[0m X_train, X_test, y_train, y_test,train_indices,test_indices \u001B[38;5;241m=\u001B[39m \u001B[43mtrain_test_split\u001B[49m\u001B[43m(\u001B[49m\u001B[43mdv\u001B[49m\u001B[43m,\u001B[49m\u001B[43m \u001B[49m\u001B[43mjob_ad\u001B[49m\u001B[43m[\u001B[49m\u001B[38;5;124;43m'\u001B[39;49m\u001B[38;5;124;43mCategory\u001B[39;49m\u001B[38;5;124;43m'\u001B[39;49m\u001B[43m]\u001B[49m\u001B[43m,\u001B[49m\u001B[43m \u001B[49m\u001B[38;5;28;43mlist\u001B[39;49m\u001B[43m(\u001B[49m\u001B[38;5;28;43mrange\u001B[39;49m\u001B[43m(\u001B[49m\u001B[38;5;241;43m0\u001B[39;49m\u001B[43m,\u001B[49m\u001B[38;5;28;43mlen\u001B[39;49m\u001B[43m(\u001B[49m\u001B[43mjob_ad\u001B[49m\u001B[43m)\u001B[49m\u001B[43m)\u001B[49m\u001B[43m)\u001B[49m\u001B[43m,\u001B[49m\u001B[43mtest_size\u001B[49m\u001B[38;5;241;43m=\u001B[39;49m\u001B[38;5;241;43m0.33\u001B[39;49m\u001B[43m,\u001B[49m\u001B[43m \u001B[49m\u001B[43mrandom_state\u001B[49m\u001B[38;5;241;43m=\u001B[39;49m\u001B[43mseed\u001B[49m\u001B[43m)\u001B[49m\n\u001B[1;32m     10\u001B[0m model \u001B[38;5;241m=\u001B[39m LogisticRegression(max_iter \u001B[38;5;241m=\u001B[39m \u001B[38;5;241m2000\u001B[39m,random_state\u001B[38;5;241m=\u001B[39mseed)\n\u001B[1;32m     11\u001B[0m model\u001B[38;5;241m.\u001B[39mfit(X_train, y_train)\n",
      "File \u001B[0;32m~/.conda/envs/Advanced_Programming_for_Data_Science/lib/python3.10/site-packages/sklearn/model_selection/_split.py:2417\u001B[0m, in \u001B[0;36mtrain_test_split\u001B[0;34m(test_size, train_size, random_state, shuffle, stratify, *arrays)\u001B[0m\n\u001B[1;32m   2414\u001B[0m \u001B[38;5;28;01mif\u001B[39;00m n_arrays \u001B[38;5;241m==\u001B[39m \u001B[38;5;241m0\u001B[39m:\n\u001B[1;32m   2415\u001B[0m     \u001B[38;5;28;01mraise\u001B[39;00m \u001B[38;5;167;01mValueError\u001B[39;00m(\u001B[38;5;124m\"\u001B[39m\u001B[38;5;124mAt least one array required as input\u001B[39m\u001B[38;5;124m\"\u001B[39m)\n\u001B[0;32m-> 2417\u001B[0m arrays \u001B[38;5;241m=\u001B[39m \u001B[43mindexable\u001B[49m\u001B[43m(\u001B[49m\u001B[38;5;241;43m*\u001B[39;49m\u001B[43marrays\u001B[49m\u001B[43m)\u001B[49m\n\u001B[1;32m   2419\u001B[0m n_samples \u001B[38;5;241m=\u001B[39m _num_samples(arrays[\u001B[38;5;241m0\u001B[39m])\n\u001B[1;32m   2420\u001B[0m n_train, n_test \u001B[38;5;241m=\u001B[39m _validate_shuffle_split(\n\u001B[1;32m   2421\u001B[0m     n_samples, test_size, train_size, default_test_size\u001B[38;5;241m=\u001B[39m\u001B[38;5;241m0.25\u001B[39m\n\u001B[1;32m   2422\u001B[0m )\n",
      "File \u001B[0;32m~/.conda/envs/Advanced_Programming_for_Data_Science/lib/python3.10/site-packages/sklearn/utils/validation.py:378\u001B[0m, in \u001B[0;36mindexable\u001B[0;34m(*iterables)\u001B[0m\n\u001B[1;32m    359\u001B[0m \u001B[38;5;124;03m\"\"\"Make arrays indexable for cross-validation.\u001B[39;00m\n\u001B[1;32m    360\u001B[0m \n\u001B[1;32m    361\u001B[0m \u001B[38;5;124;03mChecks consistent length, passes through None, and ensures that everything\u001B[39;00m\n\u001B[0;32m   (...)\u001B[0m\n\u001B[1;32m    374\u001B[0m \u001B[38;5;124;03m    sparse matrix, or dataframe) or `None`.\u001B[39;00m\n\u001B[1;32m    375\u001B[0m \u001B[38;5;124;03m\"\"\"\u001B[39;00m\n\u001B[1;32m    377\u001B[0m result \u001B[38;5;241m=\u001B[39m [_make_indexable(X) \u001B[38;5;28;01mfor\u001B[39;00m X \u001B[38;5;129;01min\u001B[39;00m iterables]\n\u001B[0;32m--> 378\u001B[0m \u001B[43mcheck_consistent_length\u001B[49m\u001B[43m(\u001B[49m\u001B[38;5;241;43m*\u001B[39;49m\u001B[43mresult\u001B[49m\u001B[43m)\u001B[49m\n\u001B[1;32m    379\u001B[0m \u001B[38;5;28;01mreturn\u001B[39;00m result\n",
      "File \u001B[0;32m~/.conda/envs/Advanced_Programming_for_Data_Science/lib/python3.10/site-packages/sklearn/utils/validation.py:332\u001B[0m, in \u001B[0;36mcheck_consistent_length\u001B[0;34m(*arrays)\u001B[0m\n\u001B[1;32m    330\u001B[0m uniques \u001B[38;5;241m=\u001B[39m np\u001B[38;5;241m.\u001B[39munique(lengths)\n\u001B[1;32m    331\u001B[0m \u001B[38;5;28;01mif\u001B[39;00m \u001B[38;5;28mlen\u001B[39m(uniques) \u001B[38;5;241m>\u001B[39m \u001B[38;5;241m1\u001B[39m:\n\u001B[0;32m--> 332\u001B[0m     \u001B[38;5;28;01mraise\u001B[39;00m \u001B[38;5;167;01mValueError\u001B[39;00m(\n\u001B[1;32m    333\u001B[0m         \u001B[38;5;124m\"\u001B[39m\u001B[38;5;124mFound input variables with inconsistent numbers of samples: \u001B[39m\u001B[38;5;132;01m%r\u001B[39;00m\u001B[38;5;124m\"\u001B[39m\n\u001B[1;32m    334\u001B[0m         \u001B[38;5;241m%\u001B[39m [\u001B[38;5;28mint\u001B[39m(l) \u001B[38;5;28;01mfor\u001B[39;00m l \u001B[38;5;129;01min\u001B[39;00m lengths]\n\u001B[1;32m    335\u001B[0m     )\n",
      "\u001B[0;31mValueError\u001B[0m: Found input variables with inconsistent numbers of samples: [0, 776, 776]"
     ]
    }
   ],
   "source": [
    "models = [weighted_bbcFT_company,weighted_bbcFT_title,weighted_bbcFT_description]\n",
    "model_names = [\"Weighted Pretrained FastText with Company\", \"Weighted Pretrained FastText with Title\", \"Weighted Pretrained FastText with Description\"]\n",
    "for i in range(0,len(models)):\n",
    "    model = models[i]\n",
    "    name = model_names[i]\n",
    "    features = dv.to_numpy() # convert the dataframe stored features to an numpy array\n",
    "    print(len(features))\n",
    "    # creating training and test split\n",
    "    X_train, X_test, y_train, y_test,train_indices,test_indices = train_test_split(dv, job_ad['Category'], list(range(0,len(job_ad))),test_size=0.33, random_state=seed)\n",
    "    model = LogisticRegression(max_iter = 2000,random_state=seed)\n",
    "    model.fit(X_train, y_train)\n",
    "    print(model_names[i] + \" Accuracy: \" + str(model.score(X_test, y_test)))"
   ],
   "metadata": {
    "collapsed": false,
    "pycharm": {
     "name": "#%%\n"
    }
   }
  },
  {
   "cell_type": "code",
   "execution_count": 100,
   "outputs": [
    {
     "name": "stdout",
     "output_type": "stream",
     "text": [
      "0\n",
      "Weighted Pretrained FastText with Description: tSNE 2 dimensional projected Feature space\n"
     ]
    },
    {
     "ename": "IndexError",
     "evalue": "arrays used as indices must be of integer (or boolean) type",
     "output_type": "error",
     "traceback": [
      "\u001B[0;31m---------------------------------------------------------------------------\u001B[0m",
      "\u001B[0;31mIndexError\u001B[0m                                Traceback (most recent call last)",
      "Input \u001B[0;32mIn [100]\u001B[0m, in \u001B[0;36m<cell line: 14>\u001B[0;34m()\u001B[0m\n\u001B[1;32m     12\u001B[0m \u001B[38;5;28mprint\u001B[39m(\u001B[38;5;28mlen\u001B[39m(features))\n\u001B[1;32m     13\u001B[0m \u001B[38;5;28mprint\u001B[39m(name \u001B[38;5;241m+\u001B[39m \u001B[38;5;124m\"\u001B[39m\u001B[38;5;124m: tSNE 2 dimensional projected Feature space\u001B[39m\u001B[38;5;124m\"\u001B[39m)\n\u001B[0;32m---> 14\u001B[0m \u001B[43mplotTSNE\u001B[49m\u001B[43m(\u001B[49m\u001B[43mjob_ad\u001B[49m\u001B[43m[\u001B[49m\u001B[38;5;124;43m'\u001B[39;49m\u001B[38;5;124;43mCategory\u001B[39;49m\u001B[38;5;124;43m'\u001B[39;49m\u001B[43m]\u001B[49m\u001B[43m,\u001B[49m\u001B[43mfeatures\u001B[49m\u001B[43m)\u001B[49m\n\u001B[1;32m     16\u001B[0m \u001B[38;5;66;03m# creating training and test split\u001B[39;00m\n\u001B[1;32m     17\u001B[0m X_train, X_test, y_train, y_test,train_indices,test_indices \u001B[38;5;241m=\u001B[39m train_test_split(dv, job_ad[\u001B[38;5;124m'\u001B[39m\u001B[38;5;124mCategory\u001B[39m\u001B[38;5;124m'\u001B[39m], \u001B[38;5;28mlist\u001B[39m(\u001B[38;5;28mrange\u001B[39m(\u001B[38;5;241m0\u001B[39m,\u001B[38;5;28mlen\u001B[39m(job_ad))),test_size\u001B[38;5;241m=\u001B[39m\u001B[38;5;241m0.33\u001B[39m, random_state\u001B[38;5;241m=\u001B[39mseed)\n",
      "Input \u001B[0;32mIn [88]\u001B[0m, in \u001B[0;36mplotTSNE\u001B[0;34m(labels, features)\u001B[0m\n\u001B[1;32m      8\u001B[0m np\u001B[38;5;241m.\u001B[39mrandom\u001B[38;5;241m.\u001B[39mseed(\u001B[38;5;241m0\u001B[39m)\n\u001B[1;32m      9\u001B[0m indices \u001B[38;5;241m=\u001B[39m np\u001B[38;5;241m.\u001B[39mrandom\u001B[38;5;241m.\u001B[39mchoice(\u001B[38;5;28mrange\u001B[39m(\u001B[38;5;28mlen\u001B[39m(features)), size\u001B[38;5;241m=\u001B[39mSAMPLE_SIZE, replace\u001B[38;5;241m=\u001B[39m\u001B[38;5;28;01mFalse\u001B[39;00m)\n\u001B[0;32m---> 10\u001B[0m projected_features \u001B[38;5;241m=\u001B[39m TSNE(n_components\u001B[38;5;241m=\u001B[39m\u001B[38;5;241m2\u001B[39m, random_state\u001B[38;5;241m=\u001B[39m\u001B[38;5;241m0\u001B[39m)\u001B[38;5;241m.\u001B[39mfit_transform(\u001B[43mfeatures\u001B[49m\u001B[43m[\u001B[49m\u001B[43mindices\u001B[49m\u001B[43m]\u001B[49m\u001B[38;5;241m.\u001B[39mastype(\u001B[38;5;28mint\u001B[39m))\n\u001B[1;32m     11\u001B[0m colors \u001B[38;5;241m=\u001B[39m [\u001B[38;5;124m'\u001B[39m\u001B[38;5;124mpink\u001B[39m\u001B[38;5;124m'\u001B[39m, \u001B[38;5;124m'\u001B[39m\u001B[38;5;124mgreen\u001B[39m\u001B[38;5;124m'\u001B[39m, \u001B[38;5;124m'\u001B[39m\u001B[38;5;124mmidnightblue\u001B[39m\u001B[38;5;124m'\u001B[39m, \u001B[38;5;124m'\u001B[39m\u001B[38;5;124morange\u001B[39m\u001B[38;5;124m'\u001B[39m, \u001B[38;5;124m'\u001B[39m\u001B[38;5;124mdarkgrey\u001B[39m\u001B[38;5;124m'\u001B[39m]\n\u001B[1;32m     12\u001B[0m \u001B[38;5;28;01mfor\u001B[39;00m i \u001B[38;5;129;01min\u001B[39;00m \u001B[38;5;28mrange\u001B[39m(\u001B[38;5;241m0\u001B[39m,\u001B[38;5;28mlen\u001B[39m(categories)):\n",
      "\u001B[0;31mIndexError\u001B[0m: arrays used as indices must be of integer (or boolean) type"
     ]
    }
   ],
   "source": [
    "%matplotlib inline\n",
    "seed = 0\n",
    "from sklearn.model_selection import train_test_split\n",
    "from sklearn.linear_model import LogisticRegression\n",
    "\n",
    "models = weighted_bbcFT_description\n",
    "model_names = \"Weighted Pretrained FastText with Description\"\n",
    "\n",
    "dv = models\n",
    "name = model_names\n",
    "features = dv.to_numpy() # convert the dataframe stored features to an numpy array\n",
    "print(len(features))\n",
    "print(name + \": tSNE 2 dimensional projected Feature space\")\n",
    "plotTSNE(job_ad['Category'],features)\n",
    "\n",
    "# creating training and test split\n",
    "X_train, X_test, y_train, y_test,train_indices,test_indices = train_test_split(dv, job_ad['Category'], list(range(0,len(job_ad))),test_size=0.33, random_state=seed)\n",
    "\n",
    "model = LogisticRegression(max_iter = 2000,random_state=seed)\n",
    "# X_train = np.array(X_train).reshape(-1, 1)\n",
    "# y_train = np.array(y_train).reshape(-1, 1)\n",
    "# y_test = np.array(y_test).reshape(-1, 1)\n",
    "# X_test = np.array(X_test).reshape(-1, 1)\n",
    "model.fit(X_train, y_train)\n",
    "print(\"Accuracy: \", model.score(X_test, y_test))\n",
    "print('\\n\\n')"
   ],
   "metadata": {
    "collapsed": false,
    "pycharm": {
     "name": "#%%\n"
    }
   }
  },
  {
   "cell_type": "code",
   "execution_count": 101,
   "outputs": [
    {
     "data": {
      "text/plain": "numpy.ndarray"
     },
     "execution_count": 101,
     "metadata": {},
     "output_type": "execute_result"
    }
   ],
   "source": [
    "type(features)"
   ],
   "metadata": {
    "collapsed": false,
    "pycharm": {
     "name": "#%%\n"
    }
   }
  },
  {
   "cell_type": "code",
   "execution_count": 102,
   "outputs": [
    {
     "name": "stdout",
     "output_type": "stream",
     "text": [
      "<class 'pandas.core.frame.DataFrame'>\n",
      "RangeIndex: 776 entries, 0 to 775\n",
      "Data columns (total 8 columns):\n",
      " #   Column                 Non-Null Count  Dtype \n",
      "---  ------                 --------------  ----- \n",
      " 0   Webindex               776 non-null    int64 \n",
      " 1   Title                  776 non-null    object\n",
      " 2   Tokenized Title        776 non-null    object\n",
      " 3   Company                689 non-null    object\n",
      " 4   Tokenized Company      776 non-null    object\n",
      " 5   Description            776 non-null    object\n",
      " 6   Tokenized Description  776 non-null    object\n",
      " 7   Category               776 non-null    object\n",
      "dtypes: int64(1), object(7)\n",
      "memory usage: 48.6+ KB\n"
     ]
    }
   ],
   "source": [
    "job_ad.info()"
   ],
   "metadata": {
    "collapsed": false,
    "pycharm": {
     "name": "#%%\n"
    }
   }
  },
  {
   "cell_type": "markdown",
   "source": [
    "#### Note: Creating tfijob_ad weighted document embeddings using Gensim\n",
    "\n",
    "In the previous sections, we tried very hard to create the tfijob_ad weighted document embeddings using the generated tf-idfweights save in previous activity.\n",
    "Indeed, we can using Genism to do this direction, and it's indeed, a bit less effor required 😑 Will show you below.\n",
    "We will use the in-house build Word2Vec model as an example."
   ],
   "metadata": {
    "collapsed": false,
    "pycharm": {
     "name": "#%% md\n"
    }
   }
  },
  {
   "cell_type": "code",
   "execution_count": 103,
   "outputs": [
    {
     "name": "stderr",
     "output_type": "stream",
     "text": [
      "2022-10-02 22:26:56,119 : INFO : adding document #0 to Dictionary<0 unique tokens: []>\n",
      "2022-10-02 22:26:56,124 : INFO : built Dictionary<0 unique tokens: []> from 776 documents (total 0 corpus positions)\n",
      "2022-10-02 22:26:56,125 : INFO : Dictionary lifecycle event {'msg': 'built Dictionary<0 unique tokens: []> from 776 documents (total 0 corpus positions)', 'datetime': '2022-10-02T22:26:56.125056', 'gensim': '4.2.0', 'python': '3.10.4 (main, Mar 31 2022, 03:38:35) [Clang 12.0.0 ]', 'platform': 'macOS-10.16-x86_64-i386-64bit', 'event': 'created'}\n",
      "2022-10-02 22:26:56,125 : INFO : discarding 0 tokens: []...\n",
      "2022-10-02 22:26:56,126 : INFO : keeping 0 tokens which were in no less than 5 and no more than 388 (=50.0%) documents\n",
      "2022-10-02 22:26:56,126 : INFO : resulting dictionary: Dictionary<0 unique tokens: []>\n"
     ]
    }
   ],
   "source": [
    "from gensim.corpora import Dictionary\n",
    "from gensim.models.tfidfmodel import TfidfModel\n",
    "\n",
    "# we have two vocabularies here, one from the in-house bulit Word2Vec, the other from the articles\n",
    "# note that althought the Word2Vec is built on the same dataset, but they might have done further\n",
    "# pre-processing during model build (e.g., setting min_count), and thus, might create mismatch in the two vocabularis.\n",
    "# therefore, we remove tokenized words that doesn't exist in the keyedvectors in the Word2Vec keyedvectors\n",
    "processed_text = [[w for w in t if w in bbcFT_wv.index_to_key] for t in job_ad['Tokenized Description']]\n",
    "\n",
    "# use the Gensim package to create a dictionary that encapsulates the mapping between normalized words and their integer ids.\n",
    "docs_dict = Dictionary(processed_text) # creates a dictionary from the text\n",
    "docs_dict.filter_extremes(no_below=5) # filtering words that appear less than 5 times\n",
    "docs_dict.compactify() # assign new word ids to all words, shrinking any gaps."
   ],
   "metadata": {
    "collapsed": false,
    "pycharm": {
     "name": "#%%\n"
    }
   }
  },
  {
   "cell_type": "code",
   "execution_count": 104,
   "outputs": [
    {
     "data": {
      "text/plain": "['experience',\n 'sales',\n 'role',\n 'work',\n 'business',\n 'team',\n 'working',\n 'job',\n 'care',\n 'skills',\n 'company',\n 'client',\n 'management',\n 'manager',\n 'support',\n 'uk',\n 'service',\n 'excellent',\n 'development',\n 'required',\n 'based',\n 'opportunity',\n 'services',\n 'knowledge',\n 'apply',\n 'successful',\n 'training',\n 'design',\n 'engineering',\n 'recruitment',\n 'customer',\n 'salary',\n 'candidate',\n 'clients',\n 'high',\n 'join',\n 'ability',\n 'strong',\n 'provide',\n 'home',\n 'ensure',\n 'leading',\n 'including',\n 'engineer',\n 'financial',\n 'good',\n 'staff',\n 'position',\n 'systems',\n 'full',\n 'time',\n 'cv',\n 'quality',\n 'www',\n 'key',\n 'benefits',\n 'requirements',\n 'opportunities',\n 'project',\n 'environment',\n 'career',\n 'contact',\n 'essential',\n 'candidates',\n 'information',\n 'nursing',\n 'employment',\n 'level',\n 'people',\n 'market',\n 'responsible',\n 'technical',\n 'include',\n 'industry',\n 'professional',\n 'communication',\n 'part',\n 'develop',\n 'experienced',\n 'customers',\n 'senior',\n 'posted',\n 'range',\n 'process',\n 'originally',\n 'product',\n 'jobseeking',\n 'nbsp',\n 'nurse',\n 'hours',\n 'products',\n 'health',\n 'area',\n 'qualified',\n 'manage',\n 'control',\n 'software',\n 'office',\n 'london',\n 'days',\n 'ideally',\n 'equipment',\n 'years',\n 'organisation',\n 'agency',\n 'account',\n 'registered',\n 'totaljobs',\n 'solutions',\n 'applications',\n 'manufacturing',\n 'relevant',\n 'projects',\n 'reporting',\n 'day',\n 'providing',\n 'commercial',\n 'offer',\n 'group',\n 'maintenance',\n 'accounts',\n 'managing',\n 'understanding',\n 'executive',\n 'field',\n 'call',\n 'electrical',\n 'highly',\n 'application',\n 'specialist',\n 'duties',\n 'mechanical',\n 'permanent',\n 'standards',\n 'email',\n 'package',\n 'responsibilities',\n 'ensuring',\n 'maintain',\n 'previous',\n 'internal',\n 'basic',\n 'background',\n 'risk',\n 'areas',\n 'contract',\n 'pension',\n 'sector',\n 'individual',\n 'assist',\n 'clinical',\n 'car',\n 'performance',\n 'production',\n 'general',\n 'planning',\n 'finance',\n 'location',\n 'competitive',\n 'basis',\n 'engineers',\n 'relationships',\n 'vacancy',\n 'global',\n 'proven',\n 'scheme',\n 'procedures',\n 'qualifications',\n 'online',\n 'safety',\n 'receive',\n 'applicants',\n 'practice',\n 'exciting',\n 'test',\n 'levels',\n 'great',\n 'recruit',\n 'bonus',\n 'week',\n 'send',\n 'responsibility',\n 'medical',\n 'personal',\n 'ideal',\n 'plans',\n 'plan',\n 'healthcare',\n 'flexible',\n 'analysis',\n 'degree',\n 'growth',\n 'compliance',\n 'managers',\n 'person',\n 'travel',\n 'existing',\n 'established',\n 'selling',\n 'lead',\n 'record',\n 'due',\n 'insurance',\n 'minimum',\n 'system',\n 'qualification',\n 'fantastic',\n 'developing',\n 'rgn',\n 'processes',\n 'track',\n 'year',\n 'director',\n 'forward',\n 'companies',\n 'international',\n 'activities',\n 'approach',\n 'post',\n 'operations',\n 'data',\n 'teams',\n 'demonstrate',\n 'number',\n 'targets',\n 'similar',\n 'date',\n 'shift',\n 'current',\n 'meet',\n 'consultant',\n 'growing',\n 'jobs',\n 'graduate',\n 'ote',\n 'interested',\n 'leader',\n 'programme',\n 'seeking',\n 'site',\n 'building',\n 'delivery',\n 'live',\n 'pay',\n 'large',\n 'effective',\n 'order',\n 'technology',\n 'line',\n 'recruiting',\n 'reports',\n 'considered',\n 'issues',\n 'marketing',\n 'build',\n 'social',\n 'life',\n 'holiday',\n 'hour',\n 'east',\n 'consultancy',\n 'corporate',\n 'make',\n 'potential',\n 'face',\n 'nurses',\n 'months',\n 'achieve',\n 'residents',\n 'world',\n 'equivalent',\n 'specific',\n 'bank',\n 'sectors',\n 'base',\n 'whilst',\n 'administration',\n 'south',\n 'motivated',\n 'drive',\n 'visit',\n 'standard',\n 'commission',\n 'controls',\n 'acting',\n 'details',\n 'offers',\n 'pm',\n 'review',\n 'security',\n 'members',\n 'extensive',\n 'patients',\n 'private',\n 'manner',\n 'set',\n 'progression',\n 'nhs',\n 'small',\n 'offering',\n 'individuals',\n 'supporting',\n 'deliver',\n 'consultants',\n 'advice',\n 'external',\n 'local',\n 'policy',\n 'documentation',\n 'expected',\n 'employer',\n 'provided',\n 'audit',\n 'mobile',\n 'relation',\n 'effectively',\n 'annual',\n 'processing',\n 'firm',\n 'covering',\n 'written',\n 'success',\n 'start',\n 'main',\n 'driving',\n 'focus',\n 'ongoing',\n 'centre',\n 'department',\n 'committed',\n 'driven',\n 'daily',\n 'excel',\n 'monitoring',\n 'progress',\n 'related',\n 'end',\n 'provider',\n 'users',\n 'assistant',\n 'media',\n 'detail',\n 'telephone',\n 'complete',\n 'homes',\n 'fully',\n 'maintaining',\n 'purpose',\n 'north',\n 'act',\n 'return',\n 'arisen',\n 'vacancies',\n 'accounting',\n 'desirable',\n 'involved',\n 'implementation',\n 'advantage',\n 'electronics',\n 'equal',\n 'temporary',\n 'policies',\n 'education',\n 'objectives',\n 'top',\n 'complex',\n 'additional',\n 'portfolio',\n 'require',\n 'volume',\n 'markets',\n 'wide',\n 'term',\n 'regulatory',\n 'aspects',\n 'national',\n 'future',\n 'construction',\n 'elderly',\n 'uncapped',\n 'leadership',\n 'tools',\n 'independent',\n 'variety',\n 'preferred',\n 'supply',\n 'assurance',\n 'monthly',\n 'limited',\n 'west',\n 'head',\n 'eligible',\n 'website',\n 'suitable',\n 'direct',\n 'liaise',\n 'delivering',\n 'testing',\n 'investment',\n 'accountant',\n 'dedicated',\n 'dealing',\n 'records',\n 'major',\n 'electronic',\n 'dynamic',\n 'unit',\n 'times',\n 'operating',\n 'retail',\n 'note',\n 'enthusiastic',\n 'community',\n 'preparation',\n 'mental',\n 'free',\n 'largest',\n 'expanding',\n 'cost',\n 'change',\n 'subject',\n 'research',\n 'gas',\n 'close',\n 'accurate',\n 'place',\n 'access',\n 'requires',\n 'long',\n 'vehicle',\n 'identify',\n 'improvement',\n 'operational',\n 'implement',\n 'personnel',\n 'nmc',\n 'possess',\n 'shifts',\n 'power',\n 'meetings',\n 'fast',\n 'friendly',\n 'attention',\n 'regular',\n 'interest',\n 'find',\n 'tax',\n 'report',\n 'challenge',\n 'cash',\n 'focused',\n 'important',\n 'communicate',\n 'busy',\n 'cover',\n 'month',\n 'workers',\n 'hold',\n 'produce',\n 'residential',\n 'positions',\n 'roles',\n 'hospital',\n 'microsoft',\n 'undertake',\n 'plant',\n 'taking',\n 'queries',\n 'branch',\n 'rates',\n 'exposure',\n 'friday',\n 'ambitious',\n 'contracts',\n 'europe',\n 'deputy',\n 'aware',\n 'tasks',\n 'closely',\n 'deadlines',\n 'supervision',\n 'public',\n 'computer',\n 'involve',\n 'assisting',\n 'today',\n 'preferably',\n 'timely',\n 'budget',\n 'cad',\n 'improve',\n 'desire',\n 'suit',\n 'applying',\n 'innovative',\n 'applicant',\n 'reviews',\n 'energy',\n 'attitude',\n 'registration',\n 'allowance',\n 'assessment',\n 'telesales',\n 'description',\n 'territory',\n 'title',\n 'learning',\n 'reference',\n 'multi',\n 'transport',\n 'advertised',\n 'confident',\n 'weekly',\n 'licence',\n 'specification',\n 'accordance',\n 'verbal',\n 'outstanding',\n 'recognised',\n 'follow',\n 'automotive',\n 'offices',\n 'll',\n 'carry',\n 'interview',\n 'paid',\n 'technician',\n 'understand',\n 'payments',\n 'player',\n 'awareness',\n 'banking',\n 'leads',\n 'defence',\n 'directly',\n 'rate',\n 'function',\n 'challenging',\n 'defined',\n 'significant',\n 'advantageous',\n 'analyst',\n 'monday',\n 'industrial',\n 'pound',\n 'depending',\n 'analytical',\n 'page',\n 'statutory',\n 'efficient',\n 'embedded',\n 'agreed',\n 'payroll',\n 'advertising',\n 'region',\n 'suppliers',\n 'preparing',\n 'works',\n 'liaising',\n 'industries',\n 'highest',\n 'prepare',\n 'includes',\n 'detailed',\n 'colleagues',\n 'organisations',\n 'member',\n 'st',\n 'businesses',\n 'ledger',\n 'crb',\n 'results',\n 'city',\n 'monitor',\n 'network',\n 'digital',\n 'credit',\n 'machinery',\n 'chance',\n 'practices',\n 'generous',\n 'programmes',\n 'division',\n 'alternatively',\n 'junior',\n 'discipline',\n 'rmn',\n 'installation',\n 'drawings',\n 'setting',\n 'continuous',\n 'strategy',\n 'capital',\n 'generation',\n 'winning',\n 'completion',\n 'target',\n 'word',\n 'earn',\n 'copy',\n 'award',\n 'proactive',\n 'worker',\n 'strategic',\n 'grow',\n 'activity',\n 'sell',\n 'executives',\n 'annum',\n 'comprehensive',\n 'aerospace',\n 'initiative',\n 'behalf',\n 'reputation',\n 'regulations',\n 'addition',\n 'problems',\n 'perform',\n 'check',\n 'problem',\n 'making',\n 'interpersonal',\n 'maintained',\n 'clear',\n 'water',\n 'skilled',\n 'regularly',\n 'pricing',\n 'implementing',\n 'central',\n 'relationship',\n 'expertise',\n 'overtime',\n 'commitment',\n 'criteria',\n 'patient',\n 'closing',\n 'conditions',\n 'hays',\n 'children',\n 'professionals',\n 'assessments',\n 'aca',\n 'pressure',\n 'enhanced',\n 'prospects',\n 'hard',\n 'validation',\n 'running',\n 'phone',\n 'models',\n 'keen',\n 'recent',\n 'gained',\n 'handling',\n 'legal',\n 'discuss',\n 'solid',\n 'promoting',\n 'provision',\n 'structure',\n 'medium',\n 'employees',\n 'back',\n 'expect',\n 'latest',\n 'dynamics',\n 'motor',\n 'oil',\n 'brand',\n 'expansion',\n 'manufacture',\n 'promote',\n 'passion',\n 'operate',\n 'create',\n 'contribute',\n 'calls',\n 'removed',\n 'holidays',\n 'stakeholders',\n 'positive',\n 'calling',\n 'regional',\n 'succeed',\n 'communications',\n 'period',\n 'conduct',\n 'agencies',\n 'risks',\n 'family',\n 'materials',\n 'improvements',\n 'exceed',\n 'machine',\n 'confidence',\n 'establish',\n 'solving',\n 'cnc',\n 'european',\n 'facilities',\n 'search',\n 'designs',\n 'treasury',\n 'resources',\n 'disability',\n 'fault',\n 'hear',\n 'acca',\n 'consulting',\n 'organisational',\n 'commutable',\n 'primary',\n 'identifying',\n 'move',\n 'dementia',\n 'requirement',\n 'english',\n 'providers',\n 'nvq',\n 'purchase',\n 'appointments',\n 'feel',\n 'audits',\n 'meeting',\n 'sites',\n 'unsuccessful',\n 'partners',\n 'manufacturer',\n 'practical',\n 'educated',\n 'revenue',\n 'extremely',\n 'real',\n 'ref',\n 'profit',\n 'status',\n 'overseas',\n 'alongside',\n 'immediately',\n 'coordinator',\n 'domiciliary',\n 'worldwide',\n 'offered',\n 'goals',\n 'finding',\n 'hardware',\n 'holder',\n 'sound',\n 'cold',\n 'achieved',\n 'night',\n 'michael',\n 'respond',\n 'repair',\n 'pharmaceutical',\n 'manual',\n 'thinking',\n 'benefit',\n 'met',\n 'ms',\n 'caring',\n 'assistance',\n 'legislation',\n 'midlands',\n 'share',\n 'worked',\n 'packages',\n 'techniques',\n 'liaison',\n 'circa',\n 'achieving',\n 'commissioning',\n 'give',\n 'short',\n 'yorkshire',\n 'passionate',\n 'hnc',\n 'form',\n 'safe',\n 'amp',\n 'randstad',\n 'delivered',\n 'laptop',\n 'locations',\n 'ownership',\n 'claims',\n 'england',\n 'continued',\n 'presentation',\n 'talented',\n 'user',\n 'planned',\n 'supplier',\n 'partnership',\n 'assistants',\n 'deal',\n 'exceptional',\n 'expert',\n 'sussex',\n 'url',\n 'weekends',\n 'helping',\n 'age',\n 'terms',\n 'guidelines',\n 'surrey',\n 'specialists',\n 'trained',\n 'profile',\n 'located',\n 'asap',\n 'achievement',\n 'progressive',\n 'dependent',\n 'programming',\n 'quoting',\n 'rewarding',\n 'class',\n 'letter',\n 'database',\n 'fire',\n 'varied',\n 'submarine',\n 'operates',\n 'costs',\n 'disabilities',\n 'initial',\n 'reconciliations',\n 'components',\n 'unique',\n 'departments',\n 'sized',\n 'diverse',\n 'multidisciplinary',\n 'nights',\n 'view',\n 'pcb',\n 'impact',\n 'writing',\n 'food',\n 'language',\n 'theatre',\n 'nature',\n 'medication',\n 'accuracy',\n 'organised',\n 'associates',\n 'essex',\n 'capable',\n 'marine',\n 'pin',\n 'type',\n 'physical',\n 'continue',\n 'point',\n 'kent',\n 'developed',\n 'forecasting',\n 'gain',\n 'budgets',\n 'acts',\n 'older',\n 'stores',\n 'relating',\n 'supervisor',\n 'broad',\n 'submit',\n 'action',\n 'stress',\n 'rapidly',\n 'plc',\n 'environmental',\n 'birmingham',\n 'beneficial',\n 'matters',\n 'supported',\n 'disciplines',\n 'sheet',\n 'selection',\n 'salestarget',\n 'directors',\n 'input',\n 'run',\n 'technicians',\n 'rail',\n 'ax',\n 'money',\n 'enthusiasm',\n 'net',\n 'enjoy',\n 'adults',\n 'pensions',\n 'decision',\n 'bristol',\n 'click',\n 'case',\n 'board',\n 'enhance',\n 'assessing',\n 'response',\n 'trading',\n 'automation',\n 'fixed',\n 'ad',\n 'model',\n 'events',\n 'stock',\n 'prior',\n 'orders',\n 'living',\n 'open',\n 'enquiries',\n 'council',\n 'clean',\n 'register',\n 'assess',\n 'leave',\n 'distribution',\n 'needed',\n 'payment',\n 'completed',\n 'genuine',\n 'mortgage',\n 'accept',\n 'civil',\n 'accountabilities',\n 'air',\n 'structured',\n 'young',\n 'administrator',\n 'specialising',\n 'leaders',\n 'attend',\n 'tight',\n 'supervising',\n 'increase',\n 'interviews',\n 'parts',\n 'bespoke',\n 'functions',\n 'metal',\n 'technologies',\n 'optical',\n 'play',\n 'actively',\n 'representative',\n 'wales',\n 'literate',\n 'recommendations',\n 'house',\n 'devices',\n 'involves',\n 'participate',\n 'profitability',\n 'proactively',\n 'locum',\n 'built',\n 'hertfordshire',\n 'modern',\n 'equivalents',\n 'trust',\n 'band',\n 'capacity',\n 'evidence',\n 'certificate',\n 'sme',\n 'visits',\n 'partner',\n 'acute',\n 'consumer',\n 'reviewed',\n 'analyse',\n 'gp',\n 'administrative',\n 'treatment',\n 'selected',\n 'schemes',\n 'history',\n 'resolve',\n 'pa',\n 'supervise',\n 'concept',\n 'nuclear',\n 'centres',\n 'guidance',\n 'hampshire',\n 'recommend',\n 'efficiently',\n 'privacy',\n 'found',\n 'competent',\n 'fsa',\n 'assume',\n 'bring',\n 'complaints',\n 'learn',\n 'expand',\n 'weeks',\n 'negotiation',\n ...]"
     },
     "execution_count": 104,
     "metadata": {},
     "output_type": "execute_result"
    }
   ],
   "source": [
    "# see what are the words that been get rid off when we do the fliter\n",
    "[w for w in bbcFT_wv.index_to_key if w not in docs_dict.values()]"
   ],
   "metadata": {
    "collapsed": false,
    "pycharm": {
     "name": "#%%\n"
    }
   }
  },
  {
   "cell_type": "code",
   "execution_count": 105,
   "outputs": [
    {
     "data": {
      "text/plain": "0"
     },
     "execution_count": 105,
     "metadata": {},
     "output_type": "execute_result"
    }
   ],
   "source": [
    "len(docs_dict.keys())"
   ],
   "metadata": {
    "collapsed": false,
    "pycharm": {
     "name": "#%%\n"
    }
   }
  },
  {
   "cell_type": "markdown",
   "source": [
    "This process yields a vocabulary with 8647 words.\n",
    "Then we use Gensim again to create a bag-of-words representation of each document, i.e., the tf-idfvector for each document.\n"
   ],
   "metadata": {
    "collapsed": false,
    "pycharm": {
     "name": "#%% md\n"
    }
   }
  },
  {
   "cell_type": "code",
   "execution_count": 106,
   "outputs": [
    {
     "ename": "TypeError",
     "evalue": "doc2bow expects an array of unicode tokens on input, not a single string",
     "output_type": "error",
     "traceback": [
      "\u001B[0;31m---------------------------------------------------------------------------\u001B[0m",
      "\u001B[0;31mTypeError\u001B[0m                                 Traceback (most recent call last)",
      "Input \u001B[0;32mIn [106]\u001B[0m, in \u001B[0;36m<cell line: 4>\u001B[0;34m()\u001B[0m\n\u001B[1;32m      1\u001B[0m \u001B[38;5;28;01mimport\u001B[39;00m \u001B[38;5;21;01mnumpy\u001B[39;00m \u001B[38;5;28;01mas\u001B[39;00m \u001B[38;5;21;01mnp\u001B[39;00m\n\u001B[1;32m      2\u001B[0m \u001B[38;5;28;01mfrom\u001B[39;00m \u001B[38;5;21;01mgensim\u001B[39;00m\u001B[38;5;21;01m.\u001B[39;00m\u001B[38;5;21;01mmatutils\u001B[39;00m \u001B[38;5;28;01mimport\u001B[39;00m sparse2full\n\u001B[0;32m----> 4\u001B[0m docs_corpus \u001B[38;5;241m=\u001B[39m [docs_dict\u001B[38;5;241m.\u001B[39mdoc2bow(doc) \u001B[38;5;28;01mfor\u001B[39;00m doc \u001B[38;5;129;01min\u001B[39;00m job_ad[\u001B[38;5;124m'\u001B[39m\u001B[38;5;124mTokenized Description\u001B[39m\u001B[38;5;124m'\u001B[39m]] \u001B[38;5;66;03m# convert corpus to Bag of Word format\u001B[39;00m\n\u001B[1;32m      5\u001B[0m model_tfidf \u001B[38;5;241m=\u001B[39m TfidfModel(docs_corpus, id2word\u001B[38;5;241m=\u001B[39mdocs_dict) \u001B[38;5;66;03m# fit the tfijob_ad model\u001B[39;00m\n\u001B[1;32m      6\u001B[0m \u001B[38;5;66;03m# apply model to the list of corpus document,\u001B[39;00m\n\u001B[1;32m      7\u001B[0m \u001B[38;5;66;03m# so each document is a list of tuples, (word_index, weight) for each word appears in the document\u001B[39;00m\n",
      "Input \u001B[0;32mIn [106]\u001B[0m, in \u001B[0;36m<listcomp>\u001B[0;34m(.0)\u001B[0m\n\u001B[1;32m      1\u001B[0m \u001B[38;5;28;01mimport\u001B[39;00m \u001B[38;5;21;01mnumpy\u001B[39;00m \u001B[38;5;28;01mas\u001B[39;00m \u001B[38;5;21;01mnp\u001B[39;00m\n\u001B[1;32m      2\u001B[0m \u001B[38;5;28;01mfrom\u001B[39;00m \u001B[38;5;21;01mgensim\u001B[39;00m\u001B[38;5;21;01m.\u001B[39;00m\u001B[38;5;21;01mmatutils\u001B[39;00m \u001B[38;5;28;01mimport\u001B[39;00m sparse2full\n\u001B[0;32m----> 4\u001B[0m docs_corpus \u001B[38;5;241m=\u001B[39m [\u001B[43mdocs_dict\u001B[49m\u001B[38;5;241;43m.\u001B[39;49m\u001B[43mdoc2bow\u001B[49m\u001B[43m(\u001B[49m\u001B[43mdoc\u001B[49m\u001B[43m)\u001B[49m \u001B[38;5;28;01mfor\u001B[39;00m doc \u001B[38;5;129;01min\u001B[39;00m job_ad[\u001B[38;5;124m'\u001B[39m\u001B[38;5;124mTokenized Description\u001B[39m\u001B[38;5;124m'\u001B[39m]] \u001B[38;5;66;03m# convert corpus to Bag of Word format\u001B[39;00m\n\u001B[1;32m      5\u001B[0m model_tfidf \u001B[38;5;241m=\u001B[39m TfidfModel(docs_corpus, id2word\u001B[38;5;241m=\u001B[39mdocs_dict) \u001B[38;5;66;03m# fit the tfijob_ad model\u001B[39;00m\n\u001B[1;32m      6\u001B[0m \u001B[38;5;66;03m# apply model to the list of corpus document,\u001B[39;00m\n\u001B[1;32m      7\u001B[0m \u001B[38;5;66;03m# so each document is a list of tuples, (word_index, weight) for each word appears in the document\u001B[39;00m\n",
      "File \u001B[0;32m~/.conda/envs/Advanced_Programming_for_Data_Science/lib/python3.10/site-packages/gensim/corpora/dictionary.py:241\u001B[0m, in \u001B[0;36mDictionary.doc2bow\u001B[0;34m(self, document, allow_update, return_missing)\u001B[0m\n\u001B[1;32m    209\u001B[0m \u001B[38;5;124;03m\"\"\"Convert `document` into the bag-of-words (BoW) format = list of `(token_id, token_count)` tuples.\u001B[39;00m\n\u001B[1;32m    210\u001B[0m \n\u001B[1;32m    211\u001B[0m \u001B[38;5;124;03mParameters\u001B[39;00m\n\u001B[0;32m   (...)\u001B[0m\n\u001B[1;32m    238\u001B[0m \n\u001B[1;32m    239\u001B[0m \u001B[38;5;124;03m\"\"\"\u001B[39;00m\n\u001B[1;32m    240\u001B[0m \u001B[38;5;28;01mif\u001B[39;00m \u001B[38;5;28misinstance\u001B[39m(document, \u001B[38;5;28mstr\u001B[39m):\n\u001B[0;32m--> 241\u001B[0m     \u001B[38;5;28;01mraise\u001B[39;00m \u001B[38;5;167;01mTypeError\u001B[39;00m(\u001B[38;5;124m\"\u001B[39m\u001B[38;5;124mdoc2bow expects an array of unicode tokens on input, not a single string\u001B[39m\u001B[38;5;124m\"\u001B[39m)\n\u001B[1;32m    243\u001B[0m \u001B[38;5;66;03m# Construct (word, frequency) mapping.\u001B[39;00m\n\u001B[1;32m    244\u001B[0m counter \u001B[38;5;241m=\u001B[39m defaultdict(\u001B[38;5;28mint\u001B[39m)\n",
      "\u001B[0;31mTypeError\u001B[0m: doc2bow expects an array of unicode tokens on input, not a single string"
     ]
    }
   ],
   "source": [
    "import numpy as np\n",
    "from gensim.matutils import sparse2full\n",
    "\n",
    "docs_corpus = [docs_dict.doc2bow(doc) for doc in job_ad['Tokenized Description']] # convert corpus to Bag of Word format\n",
    "model_tfidf = TfidfModel(docs_corpus, id2word=docs_dict) # fit the tfijob_ad model\n",
    "# apply model to the list of corpus document,\n",
    "# so each document is a list of tuples, (word_index, weight) for each word appears in the document\n",
    "docs_tfidf  = model_tfidf[docs_corpus]"
   ],
   "metadata": {
    "collapsed": false,
    "pycharm": {
     "name": "#%%\n"
    }
   }
  },
  {
   "cell_type": "code",
   "execution_count": null,
   "outputs": [],
   "source": [
    "# see for example, the tfijob_ad weights of the words in the 2nd document\n",
    "docs_tfidf[1]"
   ],
   "metadata": {
    "collapsed": false,
    "pycharm": {
     "name": "#%%\n"
    }
   }
  },
  {
   "cell_type": "markdown",
   "source": [
    "We can then transfer `docs_tfidf` to matrix form. `vstack` function from numpy can stack arrays in sequence vertically (row wise), and `sparse2full` function convert a document in sparse document format (in size of the number of words in the document) into a dense numpy array (of size of the vocabulary)"
   ],
   "metadata": {
    "collapsed": false,
    "pycharm": {
     "name": "#%% md\n"
    }
   }
  },
  {
   "cell_type": "code",
   "execution_count": null,
   "outputs": [],
   "source": [
    "docs_vecs   = np.vstack([sparse2full(c, len(docs_dict)) for c in docs_tfidf])"
   ],
   "metadata": {
    "collapsed": false,
    "pycharm": {
     "name": "#%%\n"
    }
   }
  },
  {
   "cell_type": "code",
   "execution_count": null,
   "outputs": [],
   "source": [
    "docs_vecs.shape"
   ],
   "metadata": {
    "collapsed": false,
    "pycharm": {
     "name": "#%%\n"
    }
   }
  },
  {
   "cell_type": "code",
   "execution_count": null,
   "outputs": [],
   "source": [
    "docs_vecs[0]"
   ],
   "metadata": {
    "collapsed": false,
    "pycharm": {
     "name": "#%%\n"
    }
   }
  },
  {
   "cell_type": "markdown",
   "source": [
    "The result, `docs_vecs`, is a matrix with 2225 rows (docs) and 8647 columns (tf-idfterms)."
   ],
   "metadata": {
    "collapsed": false,
    "pycharm": {
     "name": "#%% md\n"
    }
   }
  },
  {
   "cell_type": "markdown",
   "source": [
    "Let's see the performance of this tf-idfvector:"
   ],
   "metadata": {
    "collapsed": false,
    "pycharm": {
     "name": "#%% md\n"
    }
   }
  },
  {
   "cell_type": "code",
   "execution_count": null,
   "outputs": [],
   "source": [
    "# creating training and test split\n",
    "X_train, X_test, y_train, y_test,train_indices,test_indices = train_test_split(docs_vecs, job_ad['Category'], list(range(0,len(job_ad))),test_size=0.33, random_state=seed)\n",
    "\n",
    "model = LogisticRegression(max_iter = 1000,random_state=seed)\n",
    "model.fit(X_train, y_train)\n",
    "model.score(X_test, y_test)"
   ],
   "metadata": {
    "collapsed": false,
    "pycharm": {
     "name": "#%%\n"
    }
   }
  },
  {
   "cell_type": "markdown",
   "source": [
    "Wow~ quite good!\n",
    "\n",
    "Now try to use this tfijob_ad vector to create the weighted document embeddings.\n",
    "\n",
    "Be careful, the vocabulary are different, for instance,"
   ],
   "metadata": {
    "collapsed": false,
    "pycharm": {
     "name": "#%% md\n"
    }
   }
  },
  {
   "cell_type": "code",
   "execution_count": null,
   "outputs": [],
   "source": [
    "# see how many words are encoded in our in-house Word2Vec model?\n",
    "len(bbcFT_wv.index_to_key)"
   ],
   "metadata": {
    "collapsed": false,
    "pycharm": {
     "name": "#%%\n"
    }
   }
  },
  {
   "cell_type": "code",
   "execution_count": null,
   "outputs": [],
   "source": [
    "# how about the tfijob_ad vector?\n",
    "len(docs_dict)"
   ],
   "metadata": {
    "collapsed": false,
    "pycharm": {
     "name": "#%%\n"
    }
   }
  },
  {
   "cell_type": "markdown",
   "source": [
    "We only care about words that are in both vocabulary.\n",
    "In the following, we creates the word embeddings arrays for words exists in docs_dict"
   ],
   "metadata": {
    "collapsed": false,
    "pycharm": {
     "name": "#%% md\n"
    }
   }
  },
  {
   "cell_type": "code",
   "execution_count": null,
   "outputs": [],
   "source": [
    "word_emb_vecs = np.vstack([bbcFT_wv[docs_dict[i]] for i in range(len(docs_dict)) if docs_dict[i] in bbcFT_wv.index_to_key])"
   ],
   "metadata": {
    "collapsed": false,
    "pycharm": {
     "name": "#%%\n"
    }
   }
  },
  {
   "cell_type": "code",
   "execution_count": null,
   "outputs": [],
   "source": [
    "word_emb_vecs.shape"
   ],
   "metadata": {
    "collapsed": false,
    "pycharm": {
     "name": "#%%\n"
    }
   }
  },
  {
   "cell_type": "code",
   "execution_count": null,
   "outputs": [],
   "source": [
    "word_emb_vecs[0]"
   ],
   "metadata": {
    "collapsed": false,
    "pycharm": {
     "name": "#%%\n"
    }
   }
  },
  {
   "cell_type": "markdown",
   "source": [
    "Now we can do the dot product of the two vectors and get our tfijob_ad weighted document embeddings:"
   ],
   "metadata": {
    "collapsed": false,
    "pycharm": {
     "name": "#%% md\n"
    }
   }
  },
  {
   "cell_type": "code",
   "execution_count": null,
   "outputs": [],
   "source": [
    "tfijob_ad_docs_emb = np.dot(docs_vecs, word_emb_vecs)"
   ],
   "metadata": {
    "collapsed": false,
    "pycharm": {
     "name": "#%%\n"
    }
   }
  },
  {
   "cell_type": "code",
   "execution_count": null,
   "outputs": [],
   "source": [
    "# creating training and test split\n",
    "X_train, X_test, y_train, y_test,train_indices,test_indices = train_test_split(tfijob_ad_docs_emb, job_ad['Category'], list(range(0,len(job_ad))),test_size=0.33, random_state=seed)\n",
    "\n",
    "model = LogisticRegression(max_iter = 1000,random_state=seed)\n",
    "model.fit(X_train, y_train)\n",
    "model.score(X_test, y_test)"
   ],
   "metadata": {
    "collapsed": false,
    "pycharm": {
     "name": "#%%\n"
    }
   }
  },
  {
   "cell_type": "markdown",
   "source": [
    "Not much difference from the one we did ourselves (refer to the performance of the `Weighted In-house Word2Vec`.\n",
    "Comparing the performance of the tfijob_ad weighted document emeddings with our in-house built Word2Vec and the non-weighted on (referring to Section 2), adding the tfijob_ad weight indeed worsen the results in this example.\n",
    "Indeed, in this example, the most simply bag-of-word tfijob_ad vector representatino words much better, i.e., 0.978 accuracy 😆\n",
    "\n",
    "> **Discussion**\n",
    "Does adding the tfijob_ad weight to construct document embedding and/or having a more complicated model guarantees higher performance?\n"
   ],
   "metadata": {
    "collapsed": false,
    "pycharm": {
     "name": "#%% md\n"
    }
   }
  },
  {
   "cell_type": "markdown",
   "source": [
    "Cool! 🤩 It gets the right class (I hope you got the same, but maybe you have different results....)\n",
    "Try as many as you want and have fun! 😊\n",
    "\n",
    "If you run the infer_vecotr multiple time, every time you get a different vector. and thus, when you predict the class based on the different document vectors, you may get different results. 🤪 🤪 🤪\n",
    "Refer to the answer of the [this question](https://github.com/RaRe-Technologies/gensim/wiki/recipes-&-faq#q12-ive-used-doc2vec-infer_vector-on-a-single-text-but-the-resulting-vector-is-different-each-time-is-there-a-bug-or-have-i-made-a-mistake-doc2vec-inference-non-determinism) to understand why.\n"
   ],
   "metadata": {
    "collapsed": false,
    "pycharm": {
     "name": "#%% md\n"
    }
   }
  },
  {
   "cell_type": "code",
   "execution_count": null,
   "metadata": {
    "collapsed": false,
    "jupyter": {
     "outputs_hidden": false
    },
    "pycharm": {
     "name": "#%%\n"
    }
   },
   "outputs": [],
   "source": [
    "import os\n",
    "\n",
    "# The .py format of the jupyter notebook\n",
    "for fname in os.listdir():\n",
    "    if fname.endswith('ipynb'):\n",
    "        os.system(f'jupyter nbconvert {fname} --to python')"
   ]
  },
  {
   "cell_type": "markdown",
   "metadata": {
    "pycharm": {
     "name": "#%% md\n"
    }
   },
   "source": [
    "<h3 style=\"color:#ffc0cb;font-size:50px;font-family:Georgia;text-align:center;\"><strong>Summary</strong></h3>\n",
    "\n",
    "+ there are 3 different types of feature representation of documents that you need to\n",
    "build in this task, including count vector, two document embeddings (one TF-IDF weighted, and one\n",
    "unweighted version).\n",
    "\n",
    "+ Bag of Words just creates a set of vectors containing the count of word occurrences in the document (reviews), while the TF-IDF model contains information on the more important words and the less important ones as well.\n",
    "Bag of Words vectors are easy to interpret. However, TF-IDF usually performs better in machine learning models.\n",
    "\n",
    "+ The idea of TF-IDF is to reflect the importance of a word to its document or sentence by normalizing the words which occur frequently in the collection of documents. Recall task1, we also did a similar task by re,o,ving the top 50 most frequent words based on document frequency becase a word appears in almost every document means it’s not significant for the classification.\n",
    "\n",
    "+ The Binary, Count, and TF-IDF models completely depends on the frequency of occurrence, it doesn’t take the semantic similarities between words into consideration (e.g. equal and identical)"
   ]
  },
  {
   "cell_type": "markdown",
   "metadata": {
    "pycharm": {
     "name": "#%% md\n"
    }
   },
   "source": [
    "> # Discussion\n",
    "\n",
    ">> * Drawbacks of using a Bag-of-Words model is computationally expensive: If the new sentences contain new words, then our vocabulary size would increase and thereby, the length of the vectors would increase too. Additionally, the vectors would also contain many 0s, thereby resulting in a sparse matrix (which is what we would like to avoid). We are retaining no information on the grammar of the sentences nor on the ordering of the words in the text.\n",
    "\n",
    ">> * Task 2 only consider Unigrams (the single unique words in a sentence) which would lead to misleading for words the meaning is constructed by 2 or above number of words. Therefore, we would consider to implement Bigrams, or Trigrams.\n",
    "\n",
    ">> * The downstream analysis will determine how we should treat the text. Should we pre-process the `title` information if we put it into the classification model? Or ought we only concentrate on the `description` itself? Based on the analytical work's objectives, we can choose the appropriate downstream analysis task. For instance, we may use the whole document when doing tasks like document classification and clustering. In contrast, performing functions like document summary and information retrieval, a smaller unit, such as a paragraph or phrase, may be used."
   ]
  },
  {
   "cell_type": "markdown",
   "source": [
    "# Reference\n",
    "\n",
    "+ https://machinelearningmastery.com/multinomial-logistic-regression-with-python/\n",
    "+ https://towardsdatascience.com/introduction-to-natural-language-processing-for-text-df845750fb63\n",
    "+ https://www.analyticsvidhya.com/blog/2020/02/quick-introduction-bag-of-words-bow-tf-idf/\n",
    "+ [FastText paper from Facebook](https://arxiv.org/pdf/1607.04606.pdf)\n",
    "+ Gensim’s fastText. https://radimrehurek.com/gensim/auto_examples/tutorials/run_fasttext.html#sphx-glr-auto-examples-tutorials-run-fasttext-py\n",
    "+ https://thinkinfi.com/fasttext-word-embeddings-python-implementation/\n",
    "[1] [TFIDF with Word Embeddings](https://github.com/ytnvj2/DocumentEmbedding/blob/master/TFIDFwithEmbeddings.ipynb)  \n",
    "[2] [Problem-solving with ML: automatic document classification](https://cloud.google.com/blog/products/ai-machine-learning/problem-solving-with-ml-automatic-document-classification)     \n",
    "[3] [Creating TF-IDF Weighted Word Embeddings](http://dsgeek.com/2018/02/19/tfidf_vectors.html)    \n",
    "[4] [TSNE](https://scikit-learn.org/stable/modules/generated/sklearn.manifold.TSNE.html)"
   ],
   "metadata": {
    "collapsed": false,
    "pycharm": {
     "name": "#%% md\n"
    }
   }
  },
  {
   "cell_type": "code",
   "execution_count": null,
   "metadata": {
    "pycharm": {
     "name": "#%%\n",
     "is_executing": true
    }
   },
   "outputs": [],
   "source": []
  },
  {
   "cell_type": "code",
   "execution_count": null,
   "outputs": [],
   "source": [],
   "metadata": {
    "collapsed": false,
    "pycharm": {
     "name": "#%%\n"
    }
   }
  }
 ],
 "metadata": {
  "kernelspec": {
   "display_name": "Python 3 (ipykernel)",
   "language": "python",
   "name": "python3"
  },
  "language_info": {
   "codemirror_mode": {
    "name": "ipython",
    "version": 3
   },
   "file_extension": ".py",
   "mimetype": "text/x-python",
   "name": "python",
   "nbconvert_exporter": "python",
   "pygments_lexer": "ipython3",
   "version": "3.9.12"
  },
  "vscode": {
   "interpreter": {
    "hash": "31f2aee4e71d21fbe5cf8b01ff0e069b9275f58929596ceb00d14d90e3e16cd6"
   }
  }
 },
 "nbformat": 4,
 "nbformat_minor": 4
}