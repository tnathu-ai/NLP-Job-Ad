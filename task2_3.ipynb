{
 "cells": [
  {
   "cell_type": "markdown",
   "metadata": {},
   "source": [
    "# Milestone I Natural Language Processing\n",
    "\n",
    "<h3 style=\"color:#ffc0cb;font-size:40px;font-family:Georgia;text-align:center;\"><strong>Task 2&3.<br>Feature Representation & Classification</strong></h3>\n",
    "\n",
    "Date: \"October 2, 2022\"\n",
    "\n",
    "Version: 1.0\n",
    "\n",
    "Environment: Python 3 and Jupyter notebook\n",
    "\n",
    "Libraries used (please go to `requirements.txt` file for further details)\n",
    "* sklearn\n",
    "* collections\n",
    "* re\n",
    "* numpy\n",
    "* nltk\n",
    "* itertools\n",
    "* pandas\n",
    "* os\n",
    "* pylab\n",
    "* collections\n",
    "\n",
    "## Introduction\n",
    "\n",
    "Machine and Algorithm can not understand lossing categorical data. Therefore, we should encode those text into numerical values using feature representation\n",
    "We have pre-processed data in Task1. Once the text data is cleaned and tokenized it is ready for NLP analysis. Vectorization of the tokens allows us to mathematically represent text as vectors. There are numerous ways to create these vectors.\n",
    "\n",
    "+ Compare between ML models with different feature representation (count vector, weigthed and unweighted embedding models)\n",
    "\n",
    "+ Single model (e.g., logistic regression with count vector representation), and compare the performance with different amount of info. \n",
    "\n",
    "+ Unweighted, we just sum the word embeddings of an job ad as the representation of an job ad. \n",
    "\n",
    "+ Weighted sum, ou can do a weighted sum of word embeddings as representation instead of just sum.\n",
    "\n",
    "\n",
    "### Multi-class classification \n",
    "+ Model: we will use Linear Model (Logistic Regression) combine with different attributes and feature representations. \n",
    "+ Model evaluation:K-fold cross-validation (5 folds here) to avoid overfitting the data\n",
    "+ Metric: we will chose Accuracy to compare our models\n",
    "> * `accuracy = correct_predictions / total_predictions`\n",
    "\n",
    "## Steps\n",
    "+ 2.1. Examining and loading data\n",
    "\n",
    "+ 1.2. Basic Text Pre-processing\n",
    "    * Feature Representation: Binary, Count, TF-IDF\n",
    "    * Classification with Feature Representation\n",
    "    * FastText embedding model with unweighted and weighted vector\n",
    "    * Comparision\n",
    "    \n",
    "+ 1.3. Summary\n",
    "> * Discussion\n",
    "      \n",
    "+ 1.4. References\n",
    "\n",
    "\n",
    "## Dataset\n",
    "+ A small collection of job advertisement documents (around 776 jobs) inside the `data` folder.\n",
    "+ Inside the data folder, there are four different sub-folders: Accounting_Finance, Engineering, Healthcare_Nursing, and Sales, representing a job category.\n",
    "+ The job advertisement text documents of a particular category are in the corresponding sub-folder.\n",
    "+ Each job advertisement document is a txt file named `Job_<ID>.txt`. It contains the title, the webindex (some will also have information on the company name, some might not), and the full description of the job advertisement."
   ]
  },
  {
   "cell_type": "markdown",
   "metadata": {},
   "source": [
    "## Importing libraries & packages\n",
    "\n",
    "Install packages to the local environment for the whole project with `pip install -r requirements.txt`"
   ]
  },
  {
   "cell_type": "code",
   "execution_count": 1,
   "metadata": {
    "jupyter": {
     "outputs_hidden": false
    }
   },
   "outputs": [],
   "source": [
    "from sklearn.feature_extraction.text import CountVectorizer\n",
    "from sklearn.feature_extraction.text import TfidfVectorizer\n",
    "from sklearn.model_selection import train_test_split\n",
    "from sklearn.linear_model import LogisticRegression\n",
    "from gensim.models import Word2Vec\n",
    "from sklearn.model_selection import KFold\n",
    "\n",
    "# import code as a function\n",
    "from src.utils import *\n",
    "\n",
    "import pandas as pd\n",
    "import numpy as np\n",
    "import matplotlib.pyplot as plt\n",
    "import seaborn as sns\n",
    "\n",
    "# ignore warning\n",
    "import warnings\n",
    "warnings.filterwarnings('ignore')\n",
    "\n",
    "%matplotlib inline\n",
    "# set desired matplotlib gloabal figure size\n",
    "plt.rcParams[\"figure.figsize\"] = (20,10)"
   ]
  },
  {
   "cell_type": "code",
   "execution_count": 2,
   "metadata": {
    "jupyter": {
     "outputs_hidden": false
    }
   },
   "outputs": [
    {
     "name": "stdout",
     "output_type": "stream",
     "text": [
      "Numpy version:  1.21.5\n",
      "Pandas version:  1.4.2\n",
      "Python 3.10.4\n"
     ]
    }
   ],
   "source": [
    "# check the version of the main packages\n",
    "print(\"Numpy version: \", np.__version__)\n",
    "print(\"Pandas version: \",pd.__version__)\n",
    "! python --version"
   ]
  },
  {
   "cell_type": "markdown",
   "metadata": {},
   "source": [
    "<h3 style=\"color:#ffc0cb;font-size:50px;font-family:Georgia;text-align:center;\"><strong>Task 2 Feature Representation<br></strong></h3>\n",
    "\n",
    "# 2.1 Examining and loading data\n",
    "\n",
    "After doing any pre-processing in task1, we have several `.txt` files and a `.csv` file to further analysis\n",
    "\n",
    "The loaded `job_ad.csv` is then a dictionary, with the following attributes:\n",
    "\n",
    "| **ATTRIBUTES**        | **DESCRIPTION**                                        |\n",
    "|-----------------------|--------------------------------------------------------|\n",
    "| Webindex              | the 8 digit Id of the job advertisement on the website |\n",
    "| Title                 | the Title of the advertised job position               |\n",
    "| Tokenized Title       | the tokenized Title of the advertised job position     |\n",
    "| Company               | the Company of the advertised job position             |\n",
    "| Tokenized Company     | the tokenized Company of the advertised job position   |\n",
    "| Description           | the description of each job advertisement              |\n",
    "| Tokenized Description | the tokenized description of each job advertisement    |\n",
    "| Category              | the category of the advertised job position            |"
   ]
  },
  {
   "cell_type": "code",
   "execution_count": 3,
   "metadata": {
    "jupyter": {
     "outputs_hidden": false
    }
   },
   "outputs": [
    {
     "data": {
      "text/html": [
       "<div>\n",
       "<style scoped>\n",
       "    .dataframe tbody tr th:only-of-type {\n",
       "        vertical-align: middle;\n",
       "    }\n",
       "\n",
       "    .dataframe tbody tr th {\n",
       "        vertical-align: top;\n",
       "    }\n",
       "\n",
       "    .dataframe thead th {\n",
       "        text-align: right;\n",
       "    }\n",
       "</style>\n",
       "<table border=\"1\" class=\"dataframe\">\n",
       "  <thead>\n",
       "    <tr style=\"text-align: right;\">\n",
       "      <th></th>\n",
       "      <th>Webindex</th>\n",
       "      <th>Title</th>\n",
       "      <th>Tokenized Title</th>\n",
       "      <th>Company</th>\n",
       "      <th>Tokenized Company</th>\n",
       "      <th>Description</th>\n",
       "      <th>Tokenized Description</th>\n",
       "      <th>Category</th>\n",
       "    </tr>\n",
       "  </thead>\n",
       "  <tbody>\n",
       "    <tr>\n",
       "      <th>0</th>\n",
       "      <td>68997528</td>\n",
       "      <td>Finance / Accounts Asst Bromley to ****k</td>\n",
       "      <td>['finance', 'accounts', 'asst', 'bromley', 'to...</td>\n",
       "      <td>First Recruitment Services</td>\n",
       "      <td>['first', 'recruitment', 'services']</td>\n",
       "      <td>Accountant (partqualified) to **** p.a. South ...</td>\n",
       "      <td>['accountant', 'partqualified', 'south', 'east...</td>\n",
       "      <td>Accounting_Finance</td>\n",
       "    </tr>\n",
       "    <tr>\n",
       "      <th>1</th>\n",
       "      <td>68063513</td>\n",
       "      <td>Fund Accountant  Hedge Fund</td>\n",
       "      <td>['fund', 'accountant', 'hedge', 'fund']</td>\n",
       "      <td>Austin Andrew Ltd</td>\n",
       "      <td>['austin', 'andrew', 'ltd']</td>\n",
       "      <td>One of the leading Hedge Funds in London is cu...</td>\n",
       "      <td>['leading', 'hedge', 'funds', 'london', 'recru...</td>\n",
       "      <td>Accounting_Finance</td>\n",
       "    </tr>\n",
       "    <tr>\n",
       "      <th>2</th>\n",
       "      <td>68700336</td>\n",
       "      <td>Deputy Home Manager</td>\n",
       "      <td>['deputy', 'home', 'manager']</td>\n",
       "      <td>Caritas</td>\n",
       "      <td>['caritas']</td>\n",
       "      <td>An exciting opportunity has arisen to join an ...</td>\n",
       "      <td>['exciting', 'opportunity', 'arisen', 'join', ...</td>\n",
       "      <td>Healthcare_Nursing</td>\n",
       "    </tr>\n",
       "  </tbody>\n",
       "</table>\n",
       "</div>"
      ],
      "text/plain": [
       "   Webindex                                     Title  \\\n",
       "0  68997528  Finance / Accounts Asst Bromley to ****k   \n",
       "1  68063513               Fund Accountant  Hedge Fund   \n",
       "2  68700336                       Deputy Home Manager   \n",
       "\n",
       "                                     Tokenized Title  \\\n",
       "0  ['finance', 'accounts', 'asst', 'bromley', 'to...   \n",
       "1            ['fund', 'accountant', 'hedge', 'fund']   \n",
       "2                      ['deputy', 'home', 'manager']   \n",
       "\n",
       "                      Company                     Tokenized Company  \\\n",
       "0  First Recruitment Services  ['first', 'recruitment', 'services']   \n",
       "1           Austin Andrew Ltd           ['austin', 'andrew', 'ltd']   \n",
       "2                     Caritas                           ['caritas']   \n",
       "\n",
       "                                         Description  \\\n",
       "0  Accountant (partqualified) to **** p.a. South ...   \n",
       "1  One of the leading Hedge Funds in London is cu...   \n",
       "2  An exciting opportunity has arisen to join an ...   \n",
       "\n",
       "                               Tokenized Description            Category  \n",
       "0  ['accountant', 'partqualified', 'south', 'east...  Accounting_Finance  \n",
       "1  ['leading', 'hedge', 'funds', 'london', 'recru...  Accounting_Finance  \n",
       "2  ['exciting', 'opportunity', 'arisen', 'join', ...  Healthcare_Nursing  "
      ]
     },
     "execution_count": 3,
     "metadata": {},
     "output_type": "execute_result"
    }
   ],
   "source": [
    "# Read job_ad.csv\n",
    "job_ad = pd.read_csv('job_ad.csv')\n",
    "\n",
    "# assign webindex\n",
    "webindex = job_ad['Webindex']\n",
    "\n",
    "# print first 3 rows\n",
    "job_ad.head(3)"
   ]
  },
  {
   "cell_type": "code",
   "execution_count": 4,
   "metadata": {
    "jupyter": {
     "outputs_hidden": false
    }
   },
   "outputs": [
    {
     "name": "stdout",
     "output_type": "stream",
     "text": [
      "776\n"
     ]
    },
    {
     "data": {
      "text/plain": [
       "list"
      ]
     },
     "execution_count": 4,
     "metadata": {},
     "output_type": "execute_result"
    }
   ],
   "source": [
    "# read tokenized description from txt file\n",
    "descriptionFile = './description.txt'\n",
    "with open(descriptionFile) as f:\n",
    "    tk_description = f.read().splitlines() # read all the descriptions into a list\n",
    "    \n",
    "print(len(tk_description))\n",
    "type(tk_description)"
   ]
  },
  {
   "cell_type": "markdown",
   "metadata": {},
   "source": [
    "#### Converting each description text string into list of tokens"
   ]
  },
  {
   "cell_type": "code",
   "execution_count": 5,
   "metadata": {
    "jupyter": {
     "outputs_hidden": false
    }
   },
   "outputs": [
    {
     "name": "stdout",
     "output_type": "stream",
     "text": [
      "Vocabulary size:  5218\n",
      "Total number of tokens:  102975\n",
      "Lexical diversity:  0.05067249332362224\n",
      "Total number of description: 776\n",
      "Average description length: 132.69974226804123\n",
      "Maximum description length: 471\n",
      "Minimum description length: 12\n",
      "Standard deviation of description length: 70.3782402519735\n"
     ]
    }
   ],
   "source": [
    "tk_description = [description.split(\" \") for description in tk_description] # note that we have to revert the join string into\n",
    "\n",
    "# Explore the current statistics\n",
    "stats_print(tk_description)"
   ]
  },
  {
   "cell_type": "markdown",
   "metadata": {},
   "source": [
    "#### Reading the corresponding category labels"
   ]
  },
  {
   "cell_type": "code",
   "execution_count": 6,
   "metadata": {
    "jupyter": {
     "outputs_hidden": false
    }
   },
   "outputs": [
    {
     "name": "stdout",
     "output_type": "stream",
     "text": [
      "776\n"
     ]
    },
    {
     "data": {
      "text/plain": [
       "list"
      ]
     },
     "execution_count": 6,
     "metadata": {},
     "output_type": "execute_result"
    }
   ],
   "source": [
    "# read the category of the job ad\n",
    "categoryFile = './category.txt'\n",
    "with open(categoryFile) as f:\n",
    "    category = f.read().splitlines() # read all the category into a list\n",
    "    \n",
    "print(len(category))\n",
    "type(category)"
   ]
  },
  {
   "cell_type": "markdown",
   "metadata": {},
   "source": [
    "#### The distribution of the labels, how many description in a category"
   ]
  },
  {
   "cell_type": "code",
   "execution_count": 7,
   "metadata": {},
   "outputs": [
    {
     "name": "stdout",
     "output_type": "stream",
     "text": [
      "                    Webindex\n",
      "Category                    \n",
      "Accounting_Finance       191\n",
      "Engineering              231\n",
      "Healthcare_Nursing       198\n",
      "Sales                    156\n"
     ]
    },
    {
     "data": {
      "text/plain": [
       "<AxesSubplot:xlabel='Category'>"
      ]
     },
     "execution_count": 7,
     "metadata": {},
     "output_type": "execute_result"
    },
    {
     "data": {
      "image/png": "[encoded data removed]",
      "text/plain": [
       "<Figure size 1440x720 with 1 Axes>"
      ]
     },
     "metadata": {
      "needs_background": "light"
     },
     "output_type": "display_data"
    }
   ],
   "source": [
    "# number of description distribution across 4 categories\n",
    "job_ad_subset = job_ad[['Webindex','Category']]\n",
    "stats = job_ad_subset.groupby('Category').count()\n",
    "print(stats)\n",
    "stats.plot.bar(ylim=0, color='pink')"
   ]
  },
  {
   "cell_type": "markdown",
   "metadata": {},
   "source": [
    "### ---------> OBSERVATION: \n",
    "\n",
    "The dataset contains relatively balanced labels because the distribution between job description across 4 categories is approximately equal."
   ]
  },
  {
   "cell_type": "markdown",
   "metadata": {},
   "source": [
    "#### Constructing the Vocabulary\n",
    "\n",
    "We construct `vocab` sorted unique vocabulary below by converting the list of tokens to a **set**"
   ]
  },
  {
   "cell_type": "code",
   "execution_count": 8,
   "metadata": {
    "jupyter": {
     "outputs_hidden": false
    }
   },
   "outputs": [
    {
     "data": {
      "text/plain": [
       "5218"
      ]
     },
     "execution_count": 8,
     "metadata": {},
     "output_type": "execute_result"
    }
   ],
   "source": [
    "# generating the vocabulary\n",
    "\n",
    "# we put all the tokens in the corpus in a single list\n",
    "words = list(chain.from_iterable(tk_description))\n",
    "# set of unique words\n",
    "vocab = sorted(list(set(words)))\n",
    "# total number of the vocabulary\n",
    "len(vocab)"
   ]
  },
  {
   "cell_type": "code",
   "execution_count": 9,
   "metadata": {
    "jupyter": {
     "outputs_hidden": false
    }
   },
   "outputs": [
    {
     "name": "stdout",
     "output_type": "stream",
     "text": [
      "The number of the category: 776\n",
      "The number of the description: 776\n",
      "The number of the unique tokens: 5218\n"
     ]
    }
   ],
   "source": [
    "print(f'The number of the category: {len(category)}')\n",
    "print(f'The number of the description: {len(tk_description)}')\n",
    "print(f'The number of the unique tokens: {len(vocab)}')"
   ]
  },
  {
   "cell_type": "markdown",
   "metadata": {},
   "source": [
    "### ----------> OBSERVATION:\n",
    "\n",
    "We checked and know that we have adequate number of category and description"
   ]
  },
  {
   "cell_type": "markdown",
   "metadata": {},
   "source": [
    "### 7.4 Saving the Webindex\n",
    "\n",
    "Purpose of easily retrieve the labels of the article in downstream analysis. "
   ]
  },
  {
   "cell_type": "code",
   "execution_count": 10,
   "metadata": {},
   "outputs": [],
   "source": [
    "out_file = open(\"./webindex.txt\", 'w') # creates a txt file named 'webindex.txt' to save the id vector of each job ad\n",
    "for a_ind in range(0, len(tk_description)):\n",
    "    out_file.write(\"{}\\n\".format(webindex[a_ind])) # write the Webindex of each article\n",
    "out_file.close() # close the file"
   ]
  },
  {
   "cell_type": "markdown",
   "metadata": {},
   "source": [
    "<h3 style=\"color:#ffc0cb;font-size:50px;font-family:Georgia;text-align:center;\"><strong>Task 2. Generating Feature Representations</strong></h3>\n",
    "\n",
    "# Bag of words model\n",
    "\n",
    "Bag-of-words model: Generate the Count vector representation for each job advertisement description, and save them into a file\n",
    "\n",
    "In the following, we will demonstrate the usage of the following two classes:\n",
    "* [CountVectorizer](http://scikit-learn.org/stable/modules/generated/sklearn.feature_extraction.text.CountVectorizer.html#sklearn.feature_extraction.text.CountVectorizer): It converts a collection of text documents to a matrix of token counts. \n",
    "* [TfidfVectorizer](http://scikit-learn.org/stable/modules/generated/sklearn.feature_extraction.text.TfidfVectorizer.html#sklearn.feature_extraction.text.TfidfVectorizer):\n",
    "It converts a collection of raw documents to a matrix of TF-IDF features.\n",
    "\n",
    "\n",
    "So let's say we do binary feature representation but with 3 types of data, the title, the description, and title+description.\n",
    "\n",
    "# Generating Feature Vectors - Binary, Count, TF-IDF"
   ]
  },
  {
   "cell_type": "markdown",
   "metadata": {},
   "source": [
    "### Generating Binary Vectors\n",
    "In this subtask, let's start with generating the binary vector representation for each review.\n",
    "We need to first import the `CountVectorizer` and initialise it."
   ]
  },
  {
   "cell_type": "code",
   "execution_count": 11,
   "metadata": {
    "jupyter": {
     "outputs_hidden": false
    }
   },
   "outputs": [],
   "source": [
    "# binding the words together for each review\n",
    "joined_description = [' '.join(review) for review in tk_description]"
   ]
  },
  {
   "cell_type": "code",
   "execution_count": 12,
   "metadata": {
    "jupyter": {
     "outputs_hidden": false
    }
   },
   "outputs": [
    {
     "data": {
      "text/plain": [
       "(776, 5218)"
      ]
     },
     "execution_count": 12,
     "metadata": {},
     "output_type": "execute_result"
    }
   ],
   "source": [
    "bVectorizer = CountVectorizer(analyzer = \"word\",binary = True,vocabulary = vocab) # initialise the CountVectorizer\n",
    "binary_features = bVectorizer.fit_transform(joined_description)\n",
    "binary_features.shape"
   ]
  },
  {
   "cell_type": "code",
   "execution_count": 13,
   "metadata": {},
   "outputs": [
    {
     "name": "stdout",
     "output_type": "stream",
     "text": [
      "Successfully saved saved_txt_files/BinaryVectors/jobAd_bVector.txt into the directory\n"
     ]
    }
   ],
   "source": [
    "# save the binary vector into txt file\n",
    "bVector_file = \"saved_txt_files/BinaryVectors/jobAd_bVector.txt\" # file name of the binary vector\n",
    "write_vectorFile(binary_features,bVector_file) # write the binary vector to file\n",
    "print(f'Successfully saved {bVector_file} into the directory')"
   ]
  },
  {
   "cell_type": "markdown",
   "metadata": {},
   "source": [
    "### Generating Count Vectors\n",
    "\n",
    "Each word coresponding to a feature"
   ]
  },
  {
   "cell_type": "code",
   "execution_count": 14,
   "metadata": {
    "jupyter": {
     "outputs_hidden": false
    }
   },
   "outputs": [
    {
     "data": {
      "text/plain": [
       "(776, 5218)"
      ]
     },
     "execution_count": 14,
     "metadata": {},
     "output_type": "execute_result"
    }
   ],
   "source": [
    "cVectorizer = CountVectorizer(analyzer = \"word\",vocabulary = vocab) # initialised the CountVectorizer\n",
    "count_features = cVectorizer.fit_transform(joined_description)\n",
    "count_features.shape"
   ]
  },
  {
   "cell_type": "code",
   "execution_count": 15,
   "metadata": {},
   "outputs": [
    {
     "data": {
      "text/html": [
       "<div>\n",
       "<style scoped>\n",
       "    .dataframe tbody tr th:only-of-type {\n",
       "        vertical-align: middle;\n",
       "    }\n",
       "\n",
       "    .dataframe tbody tr th {\n",
       "        vertical-align: top;\n",
       "    }\n",
       "\n",
       "    .dataframe thead th {\n",
       "        text-align: right;\n",
       "    }\n",
       "</style>\n",
       "<table border=\"1\" class=\"dataframe\">\n",
       "  <thead>\n",
       "    <tr style=\"text-align: right;\">\n",
       "      <th></th>\n",
       "      <th>aap</th>\n",
       "      <th>aaron</th>\n",
       "      <th>aat</th>\n",
       "      <th>abb</th>\n",
       "      <th>abenefit</th>\n",
       "      <th>aberdeen</th>\n",
       "      <th>abi</th>\n",
       "      <th>abilities</th>\n",
       "      <th>ability</th>\n",
       "      <th>abreast</th>\n",
       "      <th>...</th>\n",
       "      <th>years</th>\n",
       "      <th>yeovil</th>\n",
       "      <th>yn</th>\n",
       "      <th>york</th>\n",
       "      <th>yorkshire</th>\n",
       "      <th>youmust</th>\n",
       "      <th>young</th>\n",
       "      <th>younger</th>\n",
       "      <th>yrs</th>\n",
       "      <th>zest</th>\n",
       "    </tr>\n",
       "  </thead>\n",
       "  <tbody>\n",
       "    <tr>\n",
       "      <th>128</th>\n",
       "      <td>0</td>\n",
       "      <td>0</td>\n",
       "      <td>0</td>\n",
       "      <td>0</td>\n",
       "      <td>0</td>\n",
       "      <td>0</td>\n",
       "      <td>0</td>\n",
       "      <td>0</td>\n",
       "      <td>3</td>\n",
       "      <td>0</td>\n",
       "      <td>...</td>\n",
       "      <td>1</td>\n",
       "      <td>0</td>\n",
       "      <td>0</td>\n",
       "      <td>0</td>\n",
       "      <td>0</td>\n",
       "      <td>0</td>\n",
       "      <td>0</td>\n",
       "      <td>0</td>\n",
       "      <td>0</td>\n",
       "      <td>0</td>\n",
       "    </tr>\n",
       "    <tr>\n",
       "      <th>316</th>\n",
       "      <td>0</td>\n",
       "      <td>0</td>\n",
       "      <td>0</td>\n",
       "      <td>0</td>\n",
       "      <td>0</td>\n",
       "      <td>0</td>\n",
       "      <td>0</td>\n",
       "      <td>0</td>\n",
       "      <td>0</td>\n",
       "      <td>0</td>\n",
       "      <td>...</td>\n",
       "      <td>0</td>\n",
       "      <td>0</td>\n",
       "      <td>0</td>\n",
       "      <td>0</td>\n",
       "      <td>0</td>\n",
       "      <td>0</td>\n",
       "      <td>0</td>\n",
       "      <td>0</td>\n",
       "      <td>0</td>\n",
       "      <td>0</td>\n",
       "    </tr>\n",
       "    <tr>\n",
       "      <th>355</th>\n",
       "      <td>0</td>\n",
       "      <td>0</td>\n",
       "      <td>0</td>\n",
       "      <td>0</td>\n",
       "      <td>0</td>\n",
       "      <td>0</td>\n",
       "      <td>0</td>\n",
       "      <td>0</td>\n",
       "      <td>0</td>\n",
       "      <td>0</td>\n",
       "      <td>...</td>\n",
       "      <td>0</td>\n",
       "      <td>0</td>\n",
       "      <td>0</td>\n",
       "      <td>0</td>\n",
       "      <td>0</td>\n",
       "      <td>0</td>\n",
       "      <td>0</td>\n",
       "      <td>0</td>\n",
       "      <td>0</td>\n",
       "      <td>0</td>\n",
       "    </tr>\n",
       "  </tbody>\n",
       "</table>\n",
       "<p>3 rows × 5218 columns</p>\n",
       "</div>"
      ],
      "text/plain": [
       "     aap  aaron  aat  abb  abenefit  aberdeen  abi  abilities  ability  \\\n",
       "128    0      0    0    0         0         0    0          0        3   \n",
       "316    0      0    0    0         0         0    0          0        0   \n",
       "355    0      0    0    0         0         0    0          0        0   \n",
       "\n",
       "     abreast  ...  years  yeovil  yn  york  yorkshire  youmust  young  \\\n",
       "128        0  ...      1       0   0     0          0        0      0   \n",
       "316        0  ...      0       0   0     0          0        0      0   \n",
       "355        0  ...      0       0   0     0          0        0      0   \n",
       "\n",
       "     younger  yrs  zest  \n",
       "128        0    0     0  \n",
       "316        0    0     0  \n",
       "355        0    0     0  \n",
       "\n",
       "[3 rows x 5218 columns]"
      ]
     },
     "execution_count": 15,
     "metadata": {},
     "output_type": "execute_result"
    }
   ],
   "source": [
    "count_array = count_features.toarray()\n",
    "\n",
    "# get_feature_names_out return the vocabulary of unique words\n",
    "df = pd.DataFrame(data=count_array,columns = cVectorizer.get_feature_names_out())\n",
    "# print out samples\n",
    "df.sample(3)"
   ]
  },
  {
   "cell_type": "code",
   "execution_count": 16,
   "metadata": {},
   "outputs": [
    {
     "name": "stdout",
     "output_type": "stream",
     "text": [
      "Successfully saved saved_txt_files/CountVectors/jobAd_cVector.txt into the directory\n"
     ]
    }
   ],
   "source": [
    "# save count vector into txt file\n",
    "cVector_file = \"saved_txt_files/CountVectors/jobAd_cVector.txt\" # file name of the count vector\n",
    "write_vectorFile(count_features,cVector_file) # write the count vector to file\n",
    "print(f'Successfully saved {cVector_file} into the directory')"
   ]
  },
  {
   "cell_type": "code",
   "execution_count": 18,
   "metadata": {
    "jupyter": {
     "outputs_hidden": false
    }
   },
   "outputs": [
    {
     "name": "stdout",
     "output_type": "stream",
     "text": [
      "Count vector representation saved to count_vectors.txt\n"
     ]
    }
   ],
   "source": [
    "count_features = cVectorizer.fit_transform(joined_description).toarray()\n",
    "\n",
    "def save_count_vector(count_features, webindex, filename):\n",
    "    with open(filename, 'w') as f:\n",
    "        for i in range(len(count_features)):\n",
    "            f.write('#' + str(webindex[i]) + ',')\n",
    "            for j in range(len(count_features[i])):\n",
    "                if count_features[i][j] != 0:\n",
    "                    f.write(str(j) + ':' + str(count_features[i][j]) + ',')\n",
    "            f.write('\\n')\n",
    "    f.close()\n",
    "    print('Count vector representation saved to ' + filename)\n",
    "\n",
    "\n",
    "save_count_vector(count_features, webindex, 'count_vectors.txt')"
   ]
  },
  {
   "cell_type": "markdown",
   "metadata": {},
   "source": [
    "### Generating TF-IDF Vectors\n",
    "\n",
    "TF-IDF also gives larger values for less frequent words and is high when both IDF and TF values are high i.e the word is rare in all the documents combined but frequent in a single document."
   ]
  },
  {
   "cell_type": "code",
   "execution_count": 19,
   "metadata": {
    "jupyter": {
     "outputs_hidden": false
    }
   },
   "outputs": [
    {
     "data": {
      "text/plain": [
       "(776, 5218)"
      ]
     },
     "execution_count": 19,
     "metadata": {},
     "output_type": "execute_result"
    }
   ],
   "source": [
    "tVectorizer = TfidfVectorizer(analyzer = \"word\",vocabulary = vocab) # initialised the TfidfVectorizer\n",
    "tfidf_features = tVectorizer.fit_transform(joined_description) # generate the tfidf vector representation for all articles\n",
    "tfidf_features.shape"
   ]
  },
  {
   "cell_type": "code",
   "execution_count": 20,
   "metadata": {},
   "outputs": [
    {
     "name": "stdout",
     "output_type": "stream",
     "text": [
      "Successfully saved saved_txt_files/TfidfVectors/jobAd_tVector.txt into the directory\n"
     ]
    }
   ],
   "source": [
    "tVector_file = \"saved_txt_files/TfidfVectors/jobAd_tVector.txt\" # file name of the tfidf vector\n",
    "\n",
    "write_vectorFile(tfidf_features,tVector_file) # write the tfidf vector to file\n",
    "print(f'Successfully saved {tVector_file} into the directory')"
   ]
  },
  {
   "cell_type": "markdown",
   "metadata": {},
   "source": [
    "<h3 style=\"color:#ffc0cb;font-size:40px;font-family:Georgia;text-align:center;\"><strong>Classification with Feature Representation</strong></h3>\n",
    "\n",
    "We are required to bulid logistic regression models based on different feature vectors (binary, count and tfidf vectors), explore the cases where the model produced false predictions, and evaluate the performance of the model using a 5-fold cross-validation."
   ]
  },
  {
   "cell_type": "code",
   "execution_count": 21,
   "metadata": {
    "jupyter": {
     "outputs_hidden": false
    }
   },
   "outputs": [
    {
     "data": {
      "text/plain": [
       "0.8589743589743589"
      ]
     },
     "execution_count": 21,
     "metadata": {},
     "output_type": "execute_result"
    }
   ],
   "source": [
    "# set seed number to ensure the output is reproducible\n",
    "seed = 3879312\n",
    "\n",
    "X_train, X_test, y_train, y_test,train_indices,test_indices = train_test_split(count_features, category, list(range(0,len(category))),test_size=0.2, random_state=seed)\n",
    "\n",
    "max_iter = 1000 # this is a relative harder problem and we have to increase the maximum iteration parameter of the logistic regression model.\n",
    "\n",
    "model = LogisticRegression(random_state=seed,max_iter=max_iter, multi_class='multinomial') # initial a logistic regression model\n",
    "model.fit(X_train, y_train) # fit the model\n",
    "model.score(X_test, y_test) # calculated the accuracy score on the test data"
   ]
  },
  {
   "cell_type": "markdown",
   "metadata": {},
   "source": [
    "Looking at the confusion matrix"
   ]
  },
  {
   "cell_type": "code",
   "execution_count": 22,
   "metadata": {
    "jupyter": {
     "outputs_hidden": false
    }
   },
   "outputs": [],
   "source": [
    "from sklearn.metrics import confusion_matrix\n",
    "y_pred = model.predict(X_test)\n",
    "conf_mat = confusion_matrix(y_test, y_pred)"
   ]
  },
  {
   "cell_type": "code",
   "execution_count": 23,
   "metadata": {
    "jupyter": {
     "outputs_hidden": false
    }
   },
   "outputs": [
    {
     "data": {
      "text/plain": [
       "Text(0.5, 68.09375, 'Predicted')"
      ]
     },
     "execution_count": 23,
     "metadata": {},
     "output_type": "execute_result"
    },
    {
     "data": {
      "image/png": "[encoded data removed]",
      "text/plain": [
       "<Figure size 1440x720 with 2 Axes>"
      ]
     },
     "metadata": {
      "needs_background": "light"
     },
     "output_type": "display_data"
    }
   ],
   "source": [
    "categories = ['Accounting_Finance', 'Engineering', 'Healthcare_Nursing', 'Sales'] # this gives sorted set of unique label names\n",
    "\n",
    "sns.heatmap(conf_mat, annot=True, fmt='d',\n",
    "            xticklabels=categories, yticklabels=categories, cmap=\"PiYG\") # creates a heatmap from the confusion matrix\n",
    "plt.ylabel('Actual')\n",
    "plt.xlabel('Predicted')"
   ]
  },
  {
   "cell_type": "markdown",
   "metadata": {},
   "source": [
    "### ----------> OBSERVATION \n",
    "\n",
    "As we can see, most of the category falls into the diagonal line meaning the labels are correctly predicted"
   ]
  },
  {
   "cell_type": "markdown",
   "metadata": {},
   "source": [
    "### 5-Fold Cross Validation"
   ]
  },
  {
   "cell_type": "code",
   "execution_count": 24,
   "metadata": {
    "jupyter": {
     "outputs_hidden": false
    }
   },
   "outputs": [
    {
     "name": "stdout",
     "output_type": "stream",
     "text": [
      "KFold(n_splits=5, random_state=3879312, shuffle=True)\n"
     ]
    }
   ],
   "source": [
    "num_folds = 5\n",
    "kf = KFold(n_splits= num_folds, random_state=seed, shuffle = True) # initialise a 5 fold validation\n",
    "print(kf)"
   ]
  },
  {
   "cell_type": "code",
   "execution_count": 25,
   "metadata": {
    "jupyter": {
     "outputs_hidden": false
    }
   },
   "outputs": [],
   "source": [
    "def evaluate(X_train,X_test,y_train, y_test,seed):\n",
    "    model = LogisticRegression(random_state=seed,max_iter = 1000)\n",
    "    model.fit(X_train, y_train)\n",
    "    return model.score(X_test, y_test)"
   ]
  },
  {
   "cell_type": "code",
   "execution_count": 26,
   "metadata": {
    "jupyter": {
     "outputs_hidden": false
    }
   },
   "outputs": [],
   "source": [
    "import pandas as pd\n",
    "from sklearn.linear_model import LogisticRegression\n",
    "\n",
    "num_models = 3\n",
    "cv_df = pd.DataFrame(columns = ['binary','count','tfidf'],index=range(num_folds)) # creates a dataframe to store the accuracy scores in all the folds\n",
    "\n",
    "fold = 0\n",
    "for train_index, test_index in kf.split(list(range(0,len(category)))):\n",
    "    y_train = [str(category[i]) for i in train_index]\n",
    "    y_test = [str(category[i]) for i in test_index]\n",
    "\n",
    "    X_train_binary, X_test_binary = binary_features[train_index], binary_features[test_index]\n",
    "    cv_df.loc[fold,'binary'] = evaluate(binary_features[train_index],binary_features[test_index],y_train,y_test,seed)\n",
    "\n",
    "    X_train_count, X_test_count = count_features[train_index], count_features[test_index]\n",
    "    cv_df.loc[fold,'count'] = evaluate(count_features[train_index],count_features[test_index],y_train,y_test,seed)\n",
    "\n",
    "    X_train_tfidf, X_test_tfidf = tfidf_features[train_index], tfidf_features[test_index]\n",
    "    cv_df.loc[fold,'tfidf'] = evaluate(tfidf_features[train_index],tfidf_features[test_index],y_train,y_test,seed)\n",
    "\n",
    "    fold +=1"
   ]
  },
  {
   "cell_type": "markdown",
   "metadata": {},
   "source": [
    "Printing the result of each fold for each vector representation:"
   ]
  },
  {
   "cell_type": "code",
   "execution_count": 27,
   "metadata": {
    "jupyter": {
     "outputs_hidden": false
    }
   },
   "outputs": [
    {
     "data": {
      "text/html": [
       "<div>\n",
       "<style scoped>\n",
       "    .dataframe tbody tr th:only-of-type {\n",
       "        vertical-align: middle;\n",
       "    }\n",
       "\n",
       "    .dataframe tbody tr th {\n",
       "        vertical-align: top;\n",
       "    }\n",
       "\n",
       "    .dataframe thead th {\n",
       "        text-align: right;\n",
       "    }\n",
       "</style>\n",
       "<table border=\"1\" class=\"dataframe\">\n",
       "  <thead>\n",
       "    <tr style=\"text-align: right;\">\n",
       "      <th></th>\n",
       "      <th>binary</th>\n",
       "      <th>count</th>\n",
       "      <th>tfidf</th>\n",
       "    </tr>\n",
       "  </thead>\n",
       "  <tbody>\n",
       "    <tr>\n",
       "      <th>0</th>\n",
       "      <td>0.833333</td>\n",
       "      <td>0.858974</td>\n",
       "      <td>0.858974</td>\n",
       "    </tr>\n",
       "    <tr>\n",
       "      <th>1</th>\n",
       "      <td>0.896774</td>\n",
       "      <td>0.890323</td>\n",
       "      <td>0.903226</td>\n",
       "    </tr>\n",
       "    <tr>\n",
       "      <th>2</th>\n",
       "      <td>0.890323</td>\n",
       "      <td>0.890323</td>\n",
       "      <td>0.890323</td>\n",
       "    </tr>\n",
       "    <tr>\n",
       "      <th>3</th>\n",
       "      <td>0.890323</td>\n",
       "      <td>0.896774</td>\n",
       "      <td>0.916129</td>\n",
       "    </tr>\n",
       "    <tr>\n",
       "      <th>4</th>\n",
       "      <td>0.870968</td>\n",
       "      <td>0.883871</td>\n",
       "      <td>0.929032</td>\n",
       "    </tr>\n",
       "  </tbody>\n",
       "</table>\n",
       "</div>"
      ],
      "text/plain": [
       "     binary     count     tfidf\n",
       "0  0.833333  0.858974  0.858974\n",
       "1  0.896774  0.890323  0.903226\n",
       "2  0.890323  0.890323  0.890323\n",
       "3  0.890323  0.896774  0.916129\n",
       "4  0.870968  0.883871  0.929032"
      ]
     },
     "execution_count": 27,
     "metadata": {},
     "output_type": "execute_result"
    }
   ],
   "source": [
    "cv_df"
   ]
  },
  {
   "cell_type": "code",
   "execution_count": 28,
   "metadata": {
    "jupyter": {
     "outputs_hidden": false
    }
   },
   "outputs": [
    {
     "data": {
      "text/plain": [
       "binary    0.876344\n",
       "count     0.884053\n",
       "tfidf     0.899537\n",
       "dtype: float64"
      ]
     },
     "execution_count": 28,
     "metadata": {},
     "output_type": "execute_result"
    }
   ],
   "source": [
    "cv_df.mean()"
   ]
  },
  {
   "cell_type": "markdown",
   "metadata": {},
   "source": [
    "### ------------> OBSERVATION:\n",
    "\n",
    "We can see 3 features representation works on the model give a good Accuracy score (all are above 80%)\n",
    "\n",
    "\n",
    "**The next part for embedding model and classification is in the notebook: `Task2_3_2.ipynb`\n",
    "\n",
    "<br>\n",
    "<hr>\n"
   ]
  },
  {
   "cell_type": "code",
   "execution_count": 56,
   "metadata": {
    "jupyter": {
     "outputs_hidden": false
    }
   },
   "outputs": [],
   "source": [
    "# import os\n",
    "\n",
    "# # The .py format of the jupyter notebook\n",
    "# for fname in os.listdir():\n",
    "#     if fname.endswith('ipynb'):\n",
    "#         os.system(f'jupyter nbconvert {fname} --to python')"
   ]
  },
  {
   "cell_type": "markdown",
   "metadata": {},
   "source": [
    "<h3 style=\"color:#ffc0cb;font-size:50px;font-family:Georgia;text-align:center;\"><strong>Summary</strong></h3>\n",
    "\n",
    "| **Logistic Models**        | **Accuracy**                                        |\n",
    "|-----------------------|--------------------------------------------------------|\n",
    "| binary vector             | 0.876344 |\n",
    "| count vector                 | 0.884053               |\n",
    "| tfidf       | 0.899537     |\n",
    "| FastText with unweighted vector               | 0.3151750972762646    |\n",
    "| tfidf gensim    | 0.9066147859922179 |\n",
    "| FastText with tfidf weighted vector gensim   | 0.8715953307392996    |\n",
    "\n",
    "\n",
    "+ In this work, we need to develop three distinct forms of feature representations for documents, including two FastText embeddings models (one TF-IDF weighted and one unweighted version) and three different types of vectors: Binary, Count, and TF-IDF, and feed them into multiple logistic classification models\n",
    "\n",
    "+ In contrast to the TF-IDF model, which contains data on the words that are more and less relevant, Bag of Words generates a set of vectors representing the occurrences in the document (description). The Bag of Words vectors is simple to understand. However, in machine learning models, TF-IDF often performs better.\n",
    "\n",
    "+ By normalizing the words that commonly appear in the collection of documents, the TF-IDF seeks to represent the significance of a word. Recall task1; we did a similar task by removing the top 50 most frequent words based on document frequency. A term appearing in almost every document is not significant for the classification.\n",
    "\n",
    "+ The Binary, Count, and TF-IDF models completely depend on the frequency of occurrence; it doesn't consider the semantic similarities between words (e.g., equal and identical)\n"
   ]
  },
  {
   "cell_type": "markdown",
   "metadata": {},
   "source": [
    "> # Discussion\n",
    "\n",
    ">> * The computational cost of a Bag-of-Words model is a drawback. If the new sentences use new terms, our vocabulary size and the vectors' length will grow. The vectors would also include a large number of 0s, creating a sparse matrix (which is what we would like to avoid). No details about the sentence structure or the word order within the text are retained by us.\n",
    "\n",
    ">> * The subsequent analysis will decide the treatment of the text. Should we pre-process it first if we include the \"title\" information in the classification model? Or should we focus on the word \"description\" itself? We can select the right downstream analysis job based on the goals of the analytical effort. For instance, we may use the entire document while doing tasks like document categorization and clustering. In contrast, a smaller unit, such as a paragraph or phrase, may be utilized to accomplish tasks like document summaries and information retrieval."
   ]
  },
  {
   "cell_type": "markdown",
   "metadata": {},
   "source": [
    "<h3 style=\"color:#ffc0cb;font-size:50px;font-family:Georgia;text-align:center;\"><strong>References</strong></h3>\n",
    "\n",
    "+ [1] [Multinomial Logistic Regression With Python](https://machinelearningmastery.com/multinomial-logistic-regression-with-python/)\n",
    "+ [2] [Quick Introduction to Bag-of-Words (BoW) and TF-IDF for Creating Features from Text](https://www.analyticsvidhya.com/blog/2020/02/quick-introduction-bag-of-words-bow-tf-idf/)\n",
    "+ [3] [FastText paper from Facebook](https://arxiv.org/pdf/1607.04606.pdf)\n",
    "+ [4] [Gensim’s fastText](https://radimrehurek.com/gensim/auto_examples/tutorials/run_fasttext.html#sphx-glr-auto-examples-tutorials-run-fasttext-py)\n",
    "+ [5] https://thinkinfi.com/fasttext-word-embeddings-python-implementation/\n",
    "+ [6] [TFIDF with Word Embeddings](https://github.com/ytnvj2/DocumentEmbedding/blob/master/TFIDFwithEmbeddings.ipynb)  \n",
    "+ [7] [Problem-solving with ML: automatic document classification](https://cloud.google.com/blog/products/ai-machine-learning/problem-solving-with-ml-automatic-document-classification)     \n",
    "+ [8] [Creating TF-IDF Weighted Word Embeddings](http://dsgeek.com/2018/02/19/tfidf_vectors.html)    \n",
    "+ [9] [TSNE](https://scikit-learn.org/stable/modules/generated/sklearn.manifold.TSNE.html)"
   ]
  },
  {
   "cell_type": "code",
   "execution_count": null,
   "metadata": {},
   "outputs": [],
   "source": []
  }
 ],
 "metadata": {
  "kernelspec": {
   "display_name": "Python 3 (ipykernel)",
   "language": "python",
   "name": "python3"
  },
  "language_info": {
   "codemirror_mode": {
    "name": "ipython",
    "version": 3
   },
   "file_extension": ".py",
   "mimetype": "text/x-python",
   "name": "python",
   "nbconvert_exporter": "python",
   "pygments_lexer": "ipython3",
   "version": "3.10.4"
  },
  "vscode": {
   "interpreter": {
    "hash": "31f2aee4e71d21fbe5cf8b01ff0e069b9275f58929596ceb00d14d90e3e16cd6"
   }
  }
 },
 "nbformat": 4,
 "nbformat_minor": 4
}
