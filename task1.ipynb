{
 "cells": [
  {
   "cell_type": "markdown",
   "metadata": {},
   "source": [
    "# Milestone I Natural Language Processing\n",
    "\n",
    "<h3 style=\"color:#ffc0cb;font-size:50px;font-family:Georgia;text-align:center;\"><strong>Task 1. Text Pre-processing</strong></h3>\n",
    "\n",
    "\n",
    "Version: 1.0\n",
    "\n",
    "Environment: Python 3 and Jupyter notebook\n",
    "\n",
    "Libraries used (please go to `requirements.txt` file for further details)\n",
    "* sklearn\n",
    "* collections\n",
    "* re\n",
    "* numpy\n",
    "* nltk\n",
    "* itertools\n",
    "* pandas\n",
    "* os\n",
    "* pylab\n",
    "* collections\n",
    "\n",
    "## Steps\n",
    "+ 1.1. Examining and loading data\n",
    "\n",
    "+ 1.2. Basic Text Pre-processing\n",
    "    * 1.2.1. Extract information from each job advertisement. Perform the following pre-processing steps to the description of each job advertisement;\n",
    "    * 1.2.2. Tokenize each job advertisement description. The word tokenization must use the following regular expression:\n",
    "    ```python\n",
    "    pattern = r\"[a-zA-Z]+(?:[-'][a-zA-Z]+)?\" \n",
    "    ```\n",
    "    * 1.2.3. All the words must be converted into the lower case;\n",
    "    * 1.2.4. Remove words with length less than 2.\n",
    "    * 1.2.5. Remove stopwords using the provided stop words list (i.e, stopwords_en.txt). It is located inside the same downloaded folder.\n",
    "    * 1.2.6. Remove the word that appears only once in the document collection, based on term frequency.\n",
    "    * 1.2.7. Remove the top 50 most frequent words based on document frequency.\n",
    "    * 1.2.8. Save all job advertisement text and information in txt file(s) \n",
    "    * 1.2.9. Build a vocabulary of the cleaned job advertisement descriptions, save it in a txt file (please refer to the required output)\n",
    "    \n",
    "+ 1.3. Summary\n",
    "> * Discussion\n",
    "      \n",
    "+ 1.4. References\n",
    "\n",
    "\n",
    "## Introduction\n",
    "\n",
    "Several websites for finding a job, like au.indeed.com and seek.com.au using keywords, salaries, and job categories, job seekers may search for appropriate positions on any job search website. Previously, the advertiser frequently manually entered an advertised job's type. As a result, the inappropriate employment class did not receive adequate exposure to the appropriate candidate groups.\n",
    "\n",
    "Automated job classification is now possible because of technological advancements in text pre-processing and analysis, which gives marketers logical options for job categories. This can enhance the user experience of the job-hunting website, decrease human data input errors, and expose more qualified candidates to open positions. We want an automated job advertising categorization system that aids in anticipating the categories of recently entered job adverts to achieve this.\n",
    "\n",
    "NLP uses a hierarchy to determine which groups of words and sentences belong to each other. The smallest level of text is a token which can be a sentence or an individual word. A group of tokens is called a document, for instance each text file containing job description. A group of documents is called a corpus, in this case the job category folder which containng several job adverisement files inside . Finally, a group of corpus is called a corpora, which can be several job categories we wish to compare and evaluate.\n",
    "\n",
    "In this **task1** notebook, we are going to explore a job advertisement data set, and focus on pre-processing the description only. In the next task **task2_3**, we will then use the pre-processed text reviews to generate data features and build classification models to predict the job's category.\n",
    "\n",
    "## Dataset\n",
    "+ A small collection of job advertisement documents (around 776 jobs) inside the `data` folder.\n",
    "+ Inside the data folder, there are four different sub-folders: Accounting_Finance, Engineering, Healthcare_Nursing, and Sales, representing a job category.\n",
    "+ The job advertisement text documents of a particular category are in the corresponding sub-folder.\n",
    "+ Each job advertisement document is a txt file named `Job_<ID>.txt`. It contains the title, the webindex (some will also have information on the company name, some might not), and the full description of the job advertisement.\n",
    "\n"
   ]
  },
  {
   "cell_type": "markdown",
   "metadata": {},
   "source": [
    "## Importing libraries & packages\n",
    "\n",
    "Install packages to the local environment for the whole project with `pip install -r requirements.txt`"
   ]
  },
  {
   "cell_type": "code",
   "execution_count": 118,
   "metadata": {},
   "outputs": [
    {
     "name": "stderr",
     "output_type": "stream",
     "text": [
      "[nltk_data] Downloading package punkt to /Users/tnathu-ai/nltk_data...\n",
      "[nltk_data]   Package punkt is already up-to-date!\n"
     ]
    }
   ],
   "source": [
    "import matplotlib.pyplot as plt\n",
    "import nltk\n",
    "nltk.download('punkt')\n",
    "\n",
    "from sklearn.datasets import load_files\n",
    "from nltk import RegexpTokenizer\n",
    "from nltk.tokenize import sent_tokenize\n",
    "from nltk import FreqDist\n",
    "from pylab import *\n",
    "\n",
    "# import code as a function\n",
    "from src.utils import *\n",
    "\n",
    "# import libraries\n",
    "import numpy as np\n",
    "import pandas as pd\n",
    "import re\n",
    "import os\n",
    "\n",
    "# ignore warning\n",
    "import warnings\n",
    "warnings.filterwarnings('ignore')\n",
    "\n",
    "# set desired matplotlib gloabal figure size\n",
    "plt.rcParams[\"figure.figsize\"] = (20,10)"
   ]
  },
  {
   "cell_type": "code",
   "execution_count": 119,
   "metadata": {},
   "outputs": [
    {
     "name": "stdout",
     "output_type": "stream",
     "text": [
      "Numpy version:  1.23.1\n",
      "Pandas version:  1.4.3\n",
      "Python 3.10.4\r\n"
     ]
    }
   ],
   "source": [
    "# check the version of the main packages\n",
    "print(\"Numpy version: \", np.__version__)\n",
    "print(\"Pandas version: \",pd.__version__)\n",
    "! python --version"
   ]
  },
  {
   "cell_type": "markdown",
   "metadata": {
    "tags": []
   },
   "source": [
    "<h3 style=\"color:#ffc0cb;font-size:50px;font-family:Georgia;text-align:center;\"><strong>1.1 Examining and loading data</strong></h3>\n",
    "\n",
    "\n",
    "Before doing any pre-processing, we need to load the data into a proper format. \n",
    "\n",
    "+ To load the data, we have to explore the data folder. Inside the `data` folder:`Accounting_Finance`, `Engineering`,`Healthcare_Nursing`, and `Sales`, each folder name is a job category.\n",
    "+ The job advertisement text documents of a particular category are located in the corresponding subfolder as its category.\n",
    "+ Each job advertisement document is a txt file, named as \"Job_<ID>.txt\". It contains the title, the webindex,(some will also have information on the company name, some might not), and the full description of the job advertisement. \n",
    "\n",
    "In this case, providing that the dataset is given in a very well organised way, we would use a super handy API [`load_files`](https://scikit-learn.org/stable/modules/generated/sklearn.datasets.load_files.html) from `sklearn.datasets`. \n",
    "    \n",
    "**import the function by:**\n",
    "```python\n",
    "from sklearn.datasets import load_files  \n",
    "```\n",
    "\n",
    "Then directly load the data and labels, for example:\n",
    "```python\n",
    "df = load_files(r\"data\")  \n",
    "```\n",
    "\n",
    "The loaded `data` is then a dictionary, with the following attributes:\n",
    "\n",
    "| **ATTRIBUTES**   | **DESCRIPTION**                                           |\n",
    "|--------------|---------------------------------------------------------------|\n",
    "| Webindex     | 8 digit Id of the job advertisement on the website            |\n",
    "| Title        | Title of the advertised job position                          |\n",
    "| Company      | Company (test_indexloyer) of the advertised job position      |\n",
    "| Description  | the description of each job advertisement                     |\n",
    "| Category     | The category of the advertised job position                   |"
   ]
  },
  {
   "cell_type": "code",
   "execution_count": 120,
   "metadata": {},
   "outputs": [
    {
     "name": "stdout",
     "output_type": "stream",
     "text": [
      "Data type of the loaded data and labels using sklearn API: <class 'sklearn.utils.Bunch'>\n"
     ]
    }
   ],
   "source": [
    "# load each folder and file inside the data folder\n",
    "df = load_files(r\"data\")\n",
    "\n",
    "# type of the loaded file\n",
    "print(f'Data type of the loaded data and labels using sklearn API: {type(df)}')"
   ]
  },
  {
   "cell_type": "code",
   "execution_count": 121,
   "metadata": {},
   "outputs": [
    {
     "data": {
      "text/plain": "array([0, 0, 2, 0, 2, 1, 2, 0, 3, 3, 0, 0, 1, 3, 1, 3, 3, 1, 3, 2, 2, 2,\n       3, 3, 0, 2, 2, 2, 0, 2, 3, 1, 2, 0, 1, 3, 3, 1, 1, 0, 2, 2, 2, 2,\n       0, 0, 2, 1, 3, 1, 1, 2, 2, 3, 0, 0, 1, 0, 2, 2, 3, 3, 3, 0, 3, 0,\n       1, 2, 3, 1, 3, 2, 3, 1, 3, 2, 1, 3, 2, 1, 3, 2, 2, 1, 0, 1, 1, 1,\n       3, 0, 3, 1, 3, 2, 2, 0, 2, 3, 2, 1, 0, 1, 1, 2, 0, 3, 0, 1, 3, 2,\n       1, 2, 0, 3, 1, 1, 1, 1, 1, 1, 1, 1, 3, 1, 1, 1, 1, 1, 3, 1, 1, 3,\n       2, 0, 0, 1, 3, 2, 0, 1, 0, 3, 1, 2, 1, 0, 0, 0, 3, 0, 1, 2, 3, 1,\n       1, 1, 2, 1, 0, 1, 0, 1, 0, 1, 1, 2, 0, 2, 2, 0, 2, 3, 2, 2, 0, 2,\n       1, 0, 1, 1, 1, 3, 1, 3, 1, 0, 3, 1, 0, 2, 0, 0, 2, 1, 1, 0, 1, 3,\n       0, 1, 1, 3, 0, 1, 0, 2, 3, 0, 2, 0, 1, 0, 1, 3, 1, 0, 1, 1, 0, 1,\n       0, 1, 2, 1, 3, 1, 2, 3, 1, 1, 2, 0, 0, 1, 2, 0, 3, 2, 3, 2, 2, 3,\n       0, 1, 1, 1, 1, 1, 1, 0, 3, 1, 1, 0, 0, 2, 1, 2, 2, 2, 2, 1, 3, 1,\n       2, 1, 2, 3, 2, 3, 0, 1, 3, 0, 2, 1, 0, 2, 1, 2, 0, 2, 1, 1, 1, 2,\n       2, 1, 2, 0, 2, 2, 1, 2, 0, 1, 0, 0, 3, 2, 1, 3, 0, 3, 1, 2, 0, 1,\n       0, 0, 0, 0, 2, 2, 0, 0, 2, 1, 2, 0, 0, 1, 2, 3, 1, 3, 2, 0, 2, 2,\n       1, 3, 1, 0, 1, 2, 3, 1, 0, 0, 1, 1, 0, 2, 1, 3, 2, 3, 3, 1, 3, 1,\n       2, 1, 1, 2, 2, 3, 3, 2, 2, 1, 1, 2, 0, 2, 3, 0, 0, 1, 0, 1, 2, 1,\n       1, 3, 0, 2, 0, 1, 3, 1, 3, 2, 0, 2, 1, 3, 0, 0, 0, 3, 3, 0, 2, 3,\n       3, 1, 3, 0, 1, 0, 3, 1, 3, 1, 3, 2, 1, 1, 2, 3, 0, 0, 3, 3, 3, 1,\n       2, 2, 3, 0, 0, 0, 1, 0, 2, 1, 3, 2, 1, 2, 2, 1, 2, 2, 0, 0, 2, 3,\n       2, 1, 2, 3, 1, 2, 1, 0, 1, 2, 1, 2, 0, 3, 2, 3, 2, 3, 0, 0, 3, 2,\n       0, 2, 1, 3, 0, 3, 2, 1, 1, 2, 1, 2, 3, 1, 1, 1, 3, 1, 2, 1, 0, 0,\n       3, 0, 2, 2, 3, 3, 0, 3, 1, 1, 2, 2, 2, 3, 2, 1, 1, 0, 2, 3, 0, 0,\n       0, 0, 2, 1, 3, 0, 2, 1, 2, 2, 3, 1, 2, 0, 2, 0, 3, 2, 1, 2, 2, 3,\n       1, 1, 0, 2, 2, 1, 1, 3, 0, 1, 0, 0, 2, 3, 3, 0, 0, 1, 1, 2, 3, 3,\n       3, 0, 0, 2, 3, 1, 3, 1, 3, 3, 1, 0, 0, 0, 1, 0, 3, 1, 2, 2, 1, 1,\n       0, 1, 2, 2, 3, 3, 3, 1, 2, 3, 1, 0, 1, 3, 3, 3, 3, 1, 0, 0, 1, 1,\n       0, 1, 0, 0, 1, 2, 2, 1, 3, 2, 2, 2, 1, 2, 1, 0, 2, 1, 2, 2, 0, 2,\n       0, 0, 0, 0, 2, 2, 2, 0, 1, 1, 3, 1, 2, 1, 2, 0, 1, 1, 1, 1, 0, 2,\n       3, 1, 1, 2, 3, 2, 0, 1, 3, 3, 1, 3, 0, 0, 0, 1, 0, 0, 0, 0, 0, 0,\n       1, 2, 1, 0, 2, 0, 2, 0, 1, 0, 0, 3, 2, 1, 2, 1, 1, 1, 2, 2, 1, 1,\n       1, 2, 1, 0, 3, 3, 0, 2, 1, 2, 1, 1, 3, 0, 0, 0, 3, 0, 1, 1, 0, 3,\n       2, 2, 1, 0, 0, 2, 0, 1, 0, 1, 1, 3, 2, 0, 2, 1, 1, 1, 2, 2, 0, 3,\n       0, 0, 0, 2, 2, 3, 0, 1, 3, 2, 2, 3, 3, 1, 1, 2, 0, 3, 0, 0, 2, 2,\n       3, 0, 0, 2, 3, 3, 0, 0, 2, 2, 3, 1, 1, 2, 2, 0, 2, 3, 1, 3, 0, 1,\n       3, 3, 1, 3, 2, 3])"
     },
     "execution_count": 121,
     "metadata": {},
     "output_type": "execute_result"
    }
   ],
   "source": [
    "df['target'] # this corresponding to the index value of the 4 categories"
   ]
  },
  {
   "cell_type": "code",
   "execution_count": 122,
   "metadata": {},
   "outputs": [
    {
     "data": {
      "text/plain": "['Accounting_Finance', 'Engineering', 'Healthcare_Nursing', 'Sales']"
     },
     "execution_count": 122,
     "metadata": {},
     "output_type": "execute_result"
    }
   ],
   "source": [
    "# Name of the categories\n",
    "df['target_names'] # this corresponding to the name value of the 4 categories"
   ]
  },
  {
   "cell_type": "code",
   "execution_count": 123,
   "metadata": {
    "jupyter": {
     "outputs_hidden": false
    }
   },
   "outputs": [
    {
     "name": "stdout",
     "output_type": "stream",
     "text": [
      "Category at index 0: Accounting_Finance\n",
      "Category at index 1: Engineering\n",
      "Category at index 2: Healthcare_Nursing\n",
      "Category at index 3: Sales\n"
     ]
    }
   ],
   "source": [
    "# loop through the index of the target_names and print the category name\n",
    "for i in range(len(df['target_names'])):\n",
    "    print(f'Category at index {i}: {df[\"target_names\"][i]}')"
   ]
  },
  {
   "cell_type": "markdown",
   "metadata": {},
   "source": [
    "**Create temporary variable and assign a number for testing at that index**\n",
    "\n",
    "`test_index` is a number to test whether the attribute at that position matches the desired outputs. So we don't need to print to whole lengthly output each test and void memory problems"
   ]
  },
  {
   "cell_type": "code",
   "execution_count": 124,
   "metadata": {},
   "outputs": [
    {
     "data": {
      "text/plain": "('data/Healthcare_Nursing/Job_00491.txt', 2)"
     },
     "execution_count": 124,
     "metadata": {},
     "output_type": "execute_result"
    }
   ],
   "source": [
    "test_index = 20 # an example to test for the whole task outputs.\n",
    "\n",
    "df['filenames'][test_index], df['target'][test_index] "
   ]
  },
  {
   "cell_type": "markdown",
   "metadata": {},
   "source": [
    "### --------------> OBSERVATION\n",
    "from the file path and the label we can manually check it's the correct label"
   ]
  },
  {
   "cell_type": "code",
   "execution_count": 125,
   "metadata": {},
   "outputs": [
    {
     "name": "stdout",
     "output_type": "stream",
     "text": [
      "Job description: b'Title: PERM Unit Mgr RGN Kid minster Flexi ****K due\\nWebindex: 71692209\\nDescription: Job Title: Unit Manager Reporting to: Registered Manager Job Purpose: To manage in a professional manner the day to day running of the home\\xe2\\x80\\x99s administration, clinical policies and procedures, training and care planning. To implement working practices that monitors the health and welfare of the home\\xe2\\x80\\x99s service users and staff and their respective environments. To promote quality care within a warm friendly ambience. Key Result Areas Managing To work with the Directors to achieve the home\\xe2\\x80\\x99s financial targets. To manage the home in a manner which will not bring the home or service users into disrepute. To maintain confidentiality on all aspects of care and staff management. To ensure all the home\\xe2\\x80\\x99s policies and procedures are implemented and followed by all staff. To inform the Registered Manager immediately if a serious difficulty or event occurs. Managing Support To delegate responsibility effectively and within legal boundaries. To ensure through clinical standards and audits that good practice is maintained throughout the home. Nursing Duties To perform nursing duties that reflect current best practice and keep abreast of latest developments To inform the Registered Manager of any nursing and medical matters affecting the service user\\xe2\\x80\\x99s care. To assist service users with personal care which includes; using the bath / bed bath or shower, feet and nail care, hair care, shaving, mouth care, denture care, toileting needs, all daily activities as per individual care plans including tidying bed and room. To assist clients with their psychological needs, which includes; talking, listening, excursions, liaising with family, assisting with hobbies and recreation activities. To care for the service user as an individual and maintain a high level of care for their particular condition ensuring physical needs, comfort and dignity are met. To care for service user\\xe2\\x80\\x99s at their end of life in a respectful and dignified manner. To administer medication strictly in accordance with the Drug Administration policy and NMC guidelines. To assist the Registered Manager in ensuring adequate supplies of medication and correct storage as per the medication policy. To assist with serving meals and other domestic duties such as laundry, occasional cleaning etc. To deal with any internal or external communications from service users or third parties. To ensure all documentation is kept up to date and recorded accurately. To maintain records / care plans as required by the Care Quality Commission. Business Management To work both with the Directors and independently to generate enquiries and proactively deal with members of the public, and care / medical professionals, to ensure a high level of occupancy rates. To manage and have a working knowledge of the Home\\xe2\\x80\\x99s Policies and Procedures and ensure they are maintained at all times. To promote and act strictly in accordance with the Home\\xe2\\x80\\x99s Health and Safety Policy and ensure good Health and Safety practice within the working environment to comply with COSHH / RIDDOR / Environmental Health / Fire regulations and the Care Standards Act. To bring to the Directors immediate attention any item of Health and Safety importance that would be of concern and potentially needing prompt action. To have an in depth operational knowledge of all emergency procedures and ensure they are cascaded down through all the staff and service users. To attend staff meetings as arranged and to ensure other staff informed of items discussed and decisions made. To attend at least 21 hours per annum of compulsory training outlined by your personal development plan. To participate in regular reviews and an annual appraisal in order to develop your training needs in relation to skills and knowledge. To promote the good name of the Home at all times. To cover colleagues duties in times of sickness and holidays. To develop and share ideas for the improvement of practice within the home. To implement change sensitively but effectively. To replenish stocks and exercise cost / stock control. To operate within the guidelines of the Data Protection Act and ensure total confidentiality, especially with regards to staff and service users. Managing People To assist and supervise staff training. To be responsible for covering staff absences and managing disputes where appropriate. To ensure all staff contribute to the best of their ability to the efficient running of the home and that high standards are maintained. To ensure staff have the qualifications and training necessary for the duties they perform. To ensure all staff have two monthly reviews and an annual appraisal as per company policy. FURTHER DUTIES: In addition to the responsibilities listed above it may be necessary to perform other duties as required by the Home\\xe2\\x80\\x99s management or senior staff. Consideration will be given to your skills and status when given these duties. NOTE: It is expected that all duties carried out will be performed in a spirit of cooperation required from a dedicated efficient team whose prime aim is to make the service user\\xe2\\x80\\x99s stay as comfortable and enjoyable as possible.'\n",
      "\n",
      "Corresponding to the label 2 inside the data/Healthcare_Nursing/Job_00491.txt directory\n"
     ]
    }
   ],
   "source": [
    "# assign variables\n",
    "full_description, category, directory = df.data, df.target, df.filenames\n",
    "\n",
    "# the test_index job advertisement description\n",
    "print(f'Job description: {full_description[test_index]}\\n\\nCorresponding to the label {category[test_index]} inside the {directory[test_index]} directory')"
   ]
  },
  {
   "cell_type": "markdown",
   "metadata": {},
   "source": [
    "### ------> OBSERVATION:\n",
    "\n",
    "As we can see, the current description is in the **binary** form and read as a byte object (a `b` in front of each description text). Therefore, we need to decode it into the normal string for further pre-processing. This is because the tokenizer cannot apply a string pattern on a bytes-like object. To resolve this, we decode each read `full_description` text using `utf-8` by writing a decode function.\n",
    "\n",
    "### Decode the description"
   ]
  },
  {
   "cell_type": "code",
   "execution_count": 126,
   "metadata": {
    "jupyter": {
     "outputs_hidden": false
    }
   },
   "outputs": [
    {
     "data": {
      "text/plain": "'Title: PERM Unit Mgr RGN Kid minster Flexi ****K due\\nWebindex: 71692209\\nDescription: Job Title: Unit Manager Reporting to: Registered Manager Job Purpose: To manage in a professional manner the day to day running of the home’s administration, clinical policies and procedures, training and care planning. To implement working practices that monitors the health and welfare of the home’s service users and staff and their respective environments. To promote quality care within a warm friendly ambience. Key Result Areas Managing To work with the Directors to achieve the home’s financial targets. To manage the home in a manner which will not bring the home or service users into disrepute. To maintain confidentiality on all aspects of care and staff management. To ensure all the home’s policies and procedures are implemented and followed by all staff. To inform the Registered Manager immediately if a serious difficulty or event occurs. Managing Support To delegate responsibility effectively and within legal boundaries. To ensure through clinical standards and audits that good practice is maintained throughout the home. Nursing Duties To perform nursing duties that reflect current best practice and keep abreast of latest developments To inform the Registered Manager of any nursing and medical matters affecting the service user’s care. To assist service users with personal care which includes; using the bath / bed bath or shower, feet and nail care, hair care, shaving, mouth care, denture care, toileting needs, all daily activities as per individual care plans including tidying bed and room. To assist clients with their psychological needs, which includes; talking, listening, excursions, liaising with family, assisting with hobbies and recreation activities. To care for the service user as an individual and maintain a high level of care for their particular condition ensuring physical needs, comfort and dignity are met. To care for service user’s at their end of life in a respectful and dignified manner. To administer medication strictly in accordance with the Drug Administration policy and NMC guidelines. To assist the Registered Manager in ensuring adequate supplies of medication and correct storage as per the medication policy. To assist with serving meals and other domestic duties such as laundry, occasional cleaning etc. To deal with any internal or external communications from service users or third parties. To ensure all documentation is kept up to date and recorded accurately. To maintain records / care plans as required by the Care Quality Commission. Business Management To work both with the Directors and independently to generate enquiries and proactively deal with members of the public, and care / medical professionals, to ensure a high level of occupancy rates. To manage and have a working knowledge of the Home’s Policies and Procedures and ensure they are maintained at all times. To promote and act strictly in accordance with the Home’s Health and Safety Policy and ensure good Health and Safety practice within the working environment to comply with COSHH / RIDDOR / Environmental Health / Fire regulations and the Care Standards Act. To bring to the Directors immediate attention any item of Health and Safety importance that would be of concern and potentially needing prompt action. To have an in depth operational knowledge of all emergency procedures and ensure they are cascaded down through all the staff and service users. To attend staff meetings as arranged and to ensure other staff informed of items discussed and decisions made. To attend at least 21 hours per annum of compulsory training outlined by your personal development plan. To participate in regular reviews and an annual appraisal in order to develop your training needs in relation to skills and knowledge. To promote the good name of the Home at all times. To cover colleagues duties in times of sickness and holidays. To develop and share ideas for the improvement of practice within the home. To implement change sensitively but effectively. To replenish stocks and exercise cost / stock control. To operate within the guidelines of the Data Protection Act and ensure total confidentiality, especially with regards to staff and service users. Managing People To assist and supervise staff training. To be responsible for covering staff absences and managing disputes where appropriate. To ensure all staff contribute to the best of their ability to the efficient running of the home and that high standards are maintained. To ensure staff have the qualifications and training necessary for the duties they perform. To ensure all staff have two monthly reviews and an annual appraisal as per company policy. FURTHER DUTIES: In addition to the responsibilities listed above it may be necessary to perform other duties as required by the Home’s management or senior staff. Consideration will be given to your skills and status when given these duties. NOTE: It is expected that all duties carried out will be performed in a spirit of cooperation required from a dedicated efficient team whose prime aim is to make the service user’s stay as comfortable and enjoyable as possible.'"
     },
     "execution_count": 126,
     "metadata": {},
     "output_type": "execute_result"
    }
   ],
   "source": [
    "# function to decode\n",
    "def decode(l):\n",
    "    if isinstance(l, list):\n",
    "        return [decode(x) for x in l]\n",
    "    else:\n",
    "        return l.decode('utf-8')\n",
    "\n",
    "# decode the binary description into utf-8 form and save it to full_description\n",
    "full_description = decode(full_description)\n",
    "\n",
    "# print out to test\n",
    "full_description[test_index]"
   ]
  },
  {
   "cell_type": "markdown",
   "metadata": {},
   "source": [
    "### ---------------> OBSERVATION:\n",
    "The current `full_description` contains these attributes:\n",
    "\n",
    "| **ATTRIBUTES**   | **MEANING**                                        |\n",
    "|--------------|----------------------------------------------------|\n",
    "| Webindex     | 8 digit Id of the job advertisement on the website |\n",
    "| Title        | Title of the advertised job position               |\n",
    "| Company      | Company (test_indexloyer) of the advertised job position  |\n",
    "| Description  | the description of each job advertisement          |\n",
    "\n",
    "I only want the description to perform text-preprocessing in task 1 and other attributes for further exploring different features of a job advertisement, e.g., the title in task 3, to test the accuracy. Therefore, I will extract each above attribute inside the `full_description`"
   ]
  },
  {
   "cell_type": "markdown",
   "metadata": {},
   "source": [
    "<h3 style=\"color:#ffc0cb;font-size:50px;font-family:Georgia;text-align:center;\"><strong>1.2 Pre-processing</strong></h3>\n",
    "\n",
    "* 1.2.1. Extract information from each job advertisement. Perform the following pre-processing steps to the description of each job advertisement;\n",
    "* 1.2.2. Tokenize each job advertisement description. The word tokenization must use the following regular expression, r\"[a-zA-Z]+(?:[-'][a-zA-Z]+)?\";\n",
    "* 1.2.3. All the words must be converted into the lower case;\n",
    "* 1.2.4. Remove words with length less than 2.\n",
    "* 1.2.5. Remove stopwords using the provided stop words list (i.e, stopwords_en.txt). It is located inside the same downloaded folder.\n",
    "* 1.2.6. Remove the word that appears only once in the document collection, based on term frequency.\n",
    "* 1.2.7. Remove the top 50 most frequent words based on document frequency.\n",
    "* 1.2.8. Save all job advertisement text and information in txt file(s) \n",
    "* 1.2.9. Build a vocabulary of the cleaned job advertisement descriptions, save it in a txt file\n",
    "\n",
    "## 1.2.1 Extract information from each job advertisement\n",
    "\n",
    "We use regular expression to extract different parts of description and use list comprehension to return the desire output across all document"
   ]
  },
  {
   "cell_type": "code",
   "execution_count": 127,
   "metadata": {},
   "outputs": [
    {
     "name": "stdout",
     "output_type": "stream",
     "text": [
      "Job description at index 20:\n",
      "Job Title: Unit Manager Reporting to: Registered Manager Job Purpose: To manage in a professional manner the day to day running of the home’s administration, clinical policies and procedures, training and care planning. To implement working practices that monitors the health and welfare of the home’s service users and staff and their respective environments. To promote quality care within a warm friendly ambience. Key Result Areas Managing To work with the Directors to achieve the home’s financial targets. To manage the home in a manner which will not bring the home or service users into disrepute. To maintain confidentiality on all aspects of care and staff management. To ensure all the home’s policies and procedures are implemented and followed by all staff. To inform the Registered Manager immediately if a serious difficulty or event occurs. Managing Support To delegate responsibility effectively and within legal boundaries. To ensure through clinical standards and audits that good practice is maintained throughout the home. Nursing Duties To perform nursing duties that reflect current best practice and keep abreast of latest developments To inform the Registered Manager of any nursing and medical matters affecting the service user’s care. To assist service users with personal care which includes; using the bath / bed bath or shower, feet and nail care, hair care, shaving, mouth care, denture care, toileting needs, all daily activities as per individual care plans including tidying bed and room. To assist clients with their psychological needs, which includes; talking, listening, excursions, liaising with family, assisting with hobbies and recreation activities. To care for the service user as an individual and maintain a high level of care for their particular condition ensuring physical needs, comfort and dignity are met. To care for service user’s at their end of life in a respectful and dignified manner. To administer medication strictly in accordance with the Drug Administration policy and NMC guidelines. To assist the Registered Manager in ensuring adequate supplies of medication and correct storage as per the medication policy. To assist with serving meals and other domestic duties such as laundry, occasional cleaning etc. To deal with any internal or external communications from service users or third parties. To ensure all documentation is kept up to date and recorded accurately. To maintain records / care plans as required by the Care Quality Commission. Business Management To work both with the Directors and independently to generate enquiries and proactively deal with members of the public, and care / medical professionals, to ensure a high level of occupancy rates. To manage and have a working knowledge of the Home’s Policies and Procedures and ensure they are maintained at all times. To promote and act strictly in accordance with the Home’s Health and Safety Policy and ensure good Health and Safety practice within the working environment to comply with COSHH / RIDDOR / Environmental Health / Fire regulations and the Care Standards Act. To bring to the Directors immediate attention any item of Health and Safety importance that would be of concern and potentially needing prompt action. To have an in depth operational knowledge of all emergency procedures and ensure they are cascaded down through all the staff and service users. To attend staff meetings as arranged and to ensure other staff informed of items discussed and decisions made. To attend at least 21 hours per annum of compulsory training outlined by your personal development plan. To participate in regular reviews and an annual appraisal in order to develop your training needs in relation to skills and knowledge. To promote the good name of the Home at all times. To cover colleagues duties in times of sickness and holidays. To develop and share ideas for the improvement of practice within the home. To implement change sensitively but effectively. To replenish stocks and exercise cost / stock control. To operate within the guidelines of the Data Protection Act and ensure total confidentiality, especially with regards to staff and service users. Managing People To assist and supervise staff training. To be responsible for covering staff absences and managing disputes where appropriate. To ensure all staff contribute to the best of their ability to the efficient running of the home and that high standards are maintained. To ensure staff have the qualifications and training necessary for the duties they perform. To ensure all staff have two monthly reviews and an annual appraisal as per company policy. FURTHER DUTIES: In addition to the responsibilities listed above it may be necessary to perform other duties as required by the Home’s management or senior staff. Consideration will be given to your skills and status when given these duties. NOTE: It is expected that all duties carried out will be performed in a spirit of cooperation required from a dedicated efficient team whose prime aim is to make the service user’s stay as comfortable and enjoyable as possible.\n",
      "\n",
      "\n",
      "Job title at index 20:\n",
      "PERM Unit Mgr RGN Kid minster Flexi ****K due\n",
      "\n",
      "\n",
      "Job webindex at index 20:\n",
      "71692209\n",
      "\n",
      "\n",
      "Job company at index 20:\n",
      "NA\n",
      "\n"
     ]
    }
   ],
   "source": [
    "# Extract description, title, webindex,  from each job advertisement and test using test_index\n",
    "\n",
    "# Extract description\n",
    "def extract_description(full_description):\n",
    "    description = [re.search(r'\\nDescription: (.*)', str(i)).group(1) for i in full_description]\n",
    "    return description\n",
    "description = extract_description(full_description)\n",
    "print(f'Job description at index {test_index}:\\n{description[test_index]}\\n\\n')\n",
    "\n",
    "# Extract title\n",
    "def extract_title(full_description):\n",
    "    title = [re.search(r'Title: (.*)', str(i)).group(1) for i in full_description]\n",
    "    return title\n",
    "title = extract_title(full_description)\n",
    "print(f'Job title at index {test_index}:\\n{title[test_index]}\\n\\n')\n",
    "\n",
    "# Extract webindex\n",
    "def extract_webindex(full_description):\n",
    "    webindex = [re.search(r'Webindex: (.*)', str(i)).group(1) for i in full_description]\n",
    "    return webindex\n",
    "webindex = extract_webindex(full_description)\n",
    "print(f'Job webindex at index {test_index}:\\n{webindex[test_index]}\\n\\n')\n",
    "\n",
    "# Extract company\n",
    "def extract_company(company):\n",
    "    company = [re.search(r'Company: (.*)', str(i)).group(1) if re.search(r'Company: (.*)', str(i)) else \"NA\" for i in company]\n",
    "    return company\n",
    "company = extract_company(full_description)\n",
    "print(f'Job company at index {test_index}:\\n{company[test_index]}\\n')"
   ]
  },
  {
   "cell_type": "markdown",
   "metadata": {},
   "source": [
    "## 1.2.2 + 1.2.3 \n",
    "## Tokenize description using regular expression & lowercase all words\n",
    "\n",
    "+ Case normalization is easy to perform, but it is a highly powerful technique. It will greatly decrease the vocabulary size for a big corpus, allowing the analysis algorithms to concentrate on the diverse meanings of tokens rather than their situations.\n",
    "\n",
    "+ The same case with using regex only to extract the desired pattern that we only want meaningful words not slash, comma, etc. do not carry any meaning themself"
   ]
  },
  {
   "cell_type": "code",
   "execution_count": 128,
   "metadata": {
    "jupyter": {
     "outputs_hidden": false
    }
   },
   "outputs": [
    {
     "name": "stdout",
     "output_type": "stream",
     "text": [
      "Raw description:\n",
      " Job Title: Unit Manager Reporting to: Registered Manager Job Purpose: To manage in a professional manner the day to day running of the home’s administration, clinical policies and procedures, training and care planning. To implement working practices that monitors the health and welfare of the home’s service users and staff and their respective environments. To promote quality care within a warm friendly ambience. Key Result Areas Managing To work with the Directors to achieve the home’s financial targets. To manage the home in a manner which will not bring the home or service users into disrepute. To maintain confidentiality on all aspects of care and staff management. To ensure all the home’s policies and procedures are implemented and followed by all staff. To inform the Registered Manager immediately if a serious difficulty or event occurs. Managing Support To delegate responsibility effectively and within legal boundaries. To ensure through clinical standards and audits that good practice is maintained throughout the home. Nursing Duties To perform nursing duties that reflect current best practice and keep abreast of latest developments To inform the Registered Manager of any nursing and medical matters affecting the service user’s care. To assist service users with personal care which includes; using the bath / bed bath or shower, feet and nail care, hair care, shaving, mouth care, denture care, toileting needs, all daily activities as per individual care plans including tidying bed and room. To assist clients with their psychological needs, which includes; talking, listening, excursions, liaising with family, assisting with hobbies and recreation activities. To care for the service user as an individual and maintain a high level of care for their particular condition ensuring physical needs, comfort and dignity are met. To care for service user’s at their end of life in a respectful and dignified manner. To administer medication strictly in accordance with the Drug Administration policy and NMC guidelines. To assist the Registered Manager in ensuring adequate supplies of medication and correct storage as per the medication policy. To assist with serving meals and other domestic duties such as laundry, occasional cleaning etc. To deal with any internal or external communications from service users or third parties. To ensure all documentation is kept up to date and recorded accurately. To maintain records / care plans as required by the Care Quality Commission. Business Management To work both with the Directors and independently to generate enquiries and proactively deal with members of the public, and care / medical professionals, to ensure a high level of occupancy rates. To manage and have a working knowledge of the Home’s Policies and Procedures and ensure they are maintained at all times. To promote and act strictly in accordance with the Home’s Health and Safety Policy and ensure good Health and Safety practice within the working environment to comply with COSHH / RIDDOR / Environmental Health / Fire regulations and the Care Standards Act. To bring to the Directors immediate attention any item of Health and Safety importance that would be of concern and potentially needing prompt action. To have an in depth operational knowledge of all emergency procedures and ensure they are cascaded down through all the staff and service users. To attend staff meetings as arranged and to ensure other staff informed of items discussed and decisions made. To attend at least 21 hours per annum of compulsory training outlined by your personal development plan. To participate in regular reviews and an annual appraisal in order to develop your training needs in relation to skills and knowledge. To promote the good name of the Home at all times. To cover colleagues duties in times of sickness and holidays. To develop and share ideas for the improvement of practice within the home. To implement change sensitively but effectively. To replenish stocks and exercise cost / stock control. To operate within the guidelines of the Data Protection Act and ensure total confidentiality, especially with regards to staff and service users. Managing People To assist and supervise staff training. To be responsible for covering staff absences and managing disputes where appropriate. To ensure all staff contribute to the best of their ability to the efficient running of the home and that high standards are maintained. To ensure staff have the qualifications and training necessary for the duties they perform. To ensure all staff have two monthly reviews and an annual appraisal as per company policy. FURTHER DUTIES: In addition to the responsibilities listed above it may be necessary to perform other duties as required by the Home’s management or senior staff. Consideration will be given to your skills and status when given these duties. NOTE: It is expected that all duties carried out will be performed in a spirit of cooperation required from a dedicated efficient team whose prime aim is to make the service user’s stay as comfortable and enjoyable as possible. \n",
      "\n",
      "Tokenized description:\n",
      " ['job', 'title', 'unit', 'manager', 'reporting', 'to', 'registered', 'manager', 'job', 'purpose', 'to', 'manage', 'in', 'a', 'professional', 'manner', 'the', 'day', 'to', 'day', 'running', 'of', 'the', 'home', 's', 'administration', 'clinical', 'policies', 'and', 'procedures', 'training', 'and', 'care', 'planning', 'to', 'implement', 'working', 'practices', 'that', 'monitors', 'the', 'health', 'and', 'welfare', 'of', 'the', 'home', 's', 'service', 'users', 'and', 'staff', 'and', 'their', 'respective', 'environments', 'to', 'promote', 'quality', 'care', 'within', 'a', 'warm', 'friendly', 'ambience', 'key', 'result', 'areas', 'managing', 'to', 'work', 'with', 'the', 'directors', 'to', 'achieve', 'the', 'home', 's', 'financial', 'targets', 'to', 'manage', 'the', 'home', 'in', 'a', 'manner', 'which', 'will', 'not', 'bring', 'the', 'home', 'or', 'service', 'users', 'into', 'disrepute', 'to', 'maintain', 'confidentiality', 'on', 'all', 'aspects', 'of', 'care', 'and', 'staff', 'management', 'to', 'ensure', 'all', 'the', 'home', 's', 'policies', 'and', 'procedures', 'are', 'implemented', 'and', 'followed', 'by', 'all', 'staff', 'to', 'inform', 'the', 'registered', 'manager', 'immediately', 'if', 'a', 'serious', 'difficulty', 'or', 'event', 'occurs', 'managing', 'support', 'to', 'delegate', 'responsibility', 'effectively', 'and', 'within', 'legal', 'boundaries', 'to', 'ensure', 'through', 'clinical', 'standards', 'and', 'audits', 'that', 'good', 'practice', 'is', 'maintained', 'throughout', 'the', 'home', 'nursing', 'duties', 'to', 'perform', 'nursing', 'duties', 'that', 'reflect', 'current', 'best', 'practice', 'and', 'keep', 'abreast', 'of', 'latest', 'developments', 'to', 'inform', 'the', 'registered', 'manager', 'of', 'any', 'nursing', 'and', 'medical', 'matters', 'affecting', 'the', 'service', 'user', 's', 'care', 'to', 'assist', 'service', 'users', 'with', 'personal', 'care', 'which', 'includes', 'using', 'the', 'bath', 'bed', 'bath', 'or', 'shower', 'feet', 'and', 'nail', 'care', 'hair', 'care', 'shaving', 'mouth', 'care', 'denture', 'care', 'toileting', 'needs', 'all', 'daily', 'activities', 'as', 'per', 'individual', 'care', 'plans', 'including', 'tidying', 'bed', 'and', 'room', 'to', 'assist', 'clients', 'with', 'their', 'psychological', 'needs', 'which', 'includes', 'talking', 'listening', 'excursions', 'liaising', 'with', 'family', 'assisting', 'with', 'hobbies', 'and', 'recreation', 'activities', 'to', 'care', 'for', 'the', 'service', 'user', 'as', 'an', 'individual', 'and', 'maintain', 'a', 'high', 'level', 'of', 'care', 'for', 'their', 'particular', 'condition', 'ensuring', 'physical', 'needs', 'comfort', 'and', 'dignity', 'are', 'met', 'to', 'care', 'for', 'service', 'user', 's', 'at', 'their', 'end', 'of', 'life', 'in', 'a', 'respectful', 'and', 'dignified', 'manner', 'to', 'administer', 'medication', 'strictly', 'in', 'accordance', 'with', 'the', 'drug', 'administration', 'policy', 'and', 'nmc', 'guidelines', 'to', 'assist', 'the', 'registered', 'manager', 'in', 'ensuring', 'adequate', 'supplies', 'of', 'medication', 'and', 'correct', 'storage', 'as', 'per', 'the', 'medication', 'policy', 'to', 'assist', 'with', 'serving', 'meals', 'and', 'other', 'domestic', 'duties', 'such', 'as', 'laundry', 'occasional', 'cleaning', 'etc', 'to', 'deal', 'with', 'any', 'internal', 'or', 'external', 'communications', 'from', 'service', 'users', 'or', 'third', 'parties', 'to', 'ensure', 'all', 'documentation', 'is', 'kept', 'up', 'to', 'date', 'and', 'recorded', 'accurately', 'to', 'maintain', 'records', 'care', 'plans', 'as', 'required', 'by', 'the', 'care', 'quality', 'commission', 'business', 'management', 'to', 'work', 'both', 'with', 'the', 'directors', 'and', 'independently', 'to', 'generate', 'enquiries', 'and', 'proactively', 'deal', 'with', 'members', 'of', 'the', 'public', 'and', 'care', 'medical', 'professionals', 'to', 'ensure', 'a', 'high', 'level', 'of', 'occupancy', 'rates', 'to', 'manage', 'and', 'have', 'a', 'working', 'knowledge', 'of', 'the', 'home', 's', 'policies', 'and', 'procedures', 'and', 'ensure', 'they', 'are', 'maintained', 'at', 'all', 'times', 'to', 'promote', 'and', 'act', 'strictly', 'in', 'accordance', 'with', 'the', 'home', 's', 'health', 'and', 'safety', 'policy', 'and', 'ensure', 'good', 'health', 'and', 'safety', 'practice', 'within', 'the', 'working', 'environment', 'to', 'comply', 'with', 'coshh', 'riddor', 'environmental', 'health', 'fire', 'regulations', 'and', 'the', 'care', 'standards', 'act', 'to', 'bring', 'to', 'the', 'directors', 'immediate', 'attention', 'any', 'item', 'of', 'health', 'and', 'safety', 'importance', 'that', 'would', 'be', 'of', 'concern', 'and', 'potentially', 'needing', 'prompt', 'action', 'to', 'have', 'an', 'in', 'depth', 'operational', 'knowledge', 'of', 'all', 'emergency', 'procedures', 'and', 'ensure', 'they', 'are', 'cascaded', 'down', 'through', 'all', 'the', 'staff', 'and', 'service', 'users', 'to', 'attend', 'staff', 'meetings', 'as', 'arranged', 'and', 'to', 'ensure', 'other', 'staff', 'informed', 'of', 'items', 'discussed', 'and', 'decisions', 'made', 'to', 'attend', 'at', 'least', 'hours', 'per', 'annum', 'of', 'compulsory', 'training', 'outlined', 'by', 'your', 'personal', 'development', 'plan', 'to', 'participate', 'in', 'regular', 'reviews', 'and', 'an', 'annual', 'appraisal', 'in', 'order', 'to', 'develop', 'your', 'training', 'needs', 'in', 'relation', 'to', 'skills', 'and', 'knowledge', 'to', 'promote', 'the', 'good', 'name', 'of', 'the', 'home', 'at', 'all', 'times', 'to', 'cover', 'colleagues', 'duties', 'in', 'times', 'of', 'sickness', 'and', 'holidays', 'to', 'develop', 'and', 'share', 'ideas', 'for', 'the', 'improvement', 'of', 'practice', 'within', 'the', 'home', 'to', 'implement', 'change', 'sensitively', 'but', 'effectively', 'to', 'replenish', 'stocks', 'and', 'exercise', 'cost', 'stock', 'control', 'to', 'operate', 'within', 'the', 'guidelines', 'of', 'the', 'data', 'protection', 'act', 'and', 'ensure', 'total', 'confidentiality', 'especially', 'with', 'regards', 'to', 'staff', 'and', 'service', 'users', 'managing', 'people', 'to', 'assist', 'and', 'supervise', 'staff', 'training', 'to', 'be', 'responsible', 'for', 'covering', 'staff', 'absences', 'and', 'managing', 'disputes', 'where', 'appropriate', 'to', 'ensure', 'all', 'staff', 'contribute', 'to', 'the', 'best', 'of', 'their', 'ability', 'to', 'the', 'efficient', 'running', 'of', 'the', 'home', 'and', 'that', 'high', 'standards', 'are', 'maintained', 'to', 'ensure', 'staff', 'have', 'the', 'qualifications', 'and', 'training', 'necessary', 'for', 'the', 'duties', 'they', 'perform', 'to', 'ensure', 'all', 'staff', 'have', 'two', 'monthly', 'reviews', 'and', 'an', 'annual', 'appraisal', 'as', 'per', 'company', 'policy', 'further', 'duties', 'in', 'addition', 'to', 'the', 'responsibilities', 'listed', 'above', 'it', 'may', 'be', 'necessary', 'to', 'perform', 'other', 'duties', 'as', 'required', 'by', 'the', 'home', 's', 'management', 'or', 'senior', 'staff', 'consideration', 'will', 'be', 'given', 'to', 'your', 'skills', 'and', 'status', 'when', 'given', 'these', 'duties', 'note', 'it', 'is', 'expected', 'that', 'all', 'duties', 'carried', 'out', 'will', 'be', 'performed', 'in', 'a', 'spirit', 'of', 'cooperation', 'required', 'from', 'a', 'dedicated', 'efficient', 'team', 'whose', 'prime', 'aim', 'is', 'to', 'make', 'the', 'service', 'user', 's', 'stay', 'as', 'comfortable', 'and', 'enjoyable', 'as', 'possible'] \n",
      "\n",
      "\n",
      "The original number of Tokenized description tokens:  776\n"
     ]
    }
   ],
   "source": [
    "def tokenizeDescription(raw_description):\n",
    "    \"\"\"\n",
    "        This function first convert all words to lowercases,\n",
    "        it then segment the raw description into sentences \n",
    "        and tokenize each sentences base on the regex pattern\n",
    "        and convert the description to a list of tokens.\n",
    "    \"\"\"\n",
    "    description = raw_description.lower() # convert all words to lowercase\n",
    "\n",
    "    # segment into sentences\n",
    "    sentences = sent_tokenize(description)\n",
    "\n",
    "    # tokenize each sentence\n",
    "    pattern = r\"[a-zA-Z]+(?:[-'][a-zA-Z]+)?\"\n",
    "    tokenizer = RegexpTokenizer(pattern)\n",
    "    token_lists = [tokenizer.tokenize(sen) for sen in sentences]\n",
    "\n",
    "    # merge them into a list of tokens\n",
    "    tokenised_description = list(chain.from_iterable(token_lists))\n",
    "    return tokenised_description\n",
    "\n",
    "# list comprehension, generate a list of tokenized description\n",
    "tk_description = [tokenizeDescription(r) for r in description] \n",
    "\n",
    "# I also want a list of tokenized title for task 3\n",
    "tk_title = [tokenizeDescription(r) for r in title] \n",
    "\n",
    "# I also want a list of tokenized company for task 3\n",
    "tk_company = [tokenizeDescription(r) for r in company] \n",
    "\n",
    "# print out to test\n",
    "print(\"Raw description:\\n\",description[test_index],'\\n')\n",
    "print(\"Tokenized description:\\n\",tk_description[test_index],'\\n\\n')\n",
    "print(\"The original number of Tokenized description tokens: \",len(tk_description))"
   ]
  },
  {
   "cell_type": "markdown",
   "metadata": {},
   "source": [
    "#### Text Descriptive Statistic\n",
    "\n",
    "We are interested to know a few statistics at this very beginning stage, including:\n",
    "* The total number of tokens across the corpus\n",
    "* The total number of types across the corpus, i.e., the size of vocabulary \n",
    "* The so-called [lexical diversity](https://en.wikipedia.org/wiki/Lexical_diversity) refers to the ratio of different unique word stems (types) to the total number of words (tokens).  \n",
    "* The average, minimum, and the maximum number of the token (i.e., document length) in the dataset.\n",
    "\n",
    "In the following, we wrap all these up as a function, `stats_print`. Since we will reuse this function several times, we put it into the python module inside the folder `src/utils.py` to make it easier to recall later to compare these statistic values before and after pre-processing."
   ]
  },
  {
   "cell_type": "code",
   "execution_count": 129,
   "metadata": {
    "jupyter": {
     "outputs_hidden": false
    }
   },
   "outputs": [
    {
     "name": "stdout",
     "output_type": "stream",
     "text": [
      "Intial text statistic:\n",
      "\n",
      "Vocabulary size:  9834\n",
      "Total number of tokens:  186952\n",
      "Lexical diversity:  0.052601737344345076\n",
      "Total number of description: 776\n",
      "Average description length: 240.91752577319588\n",
      "Maximum description length: 815\n",
      "Minimum description length: 13\n",
      "Standard deviation of description length: 124.97750685071483\n"
     ]
    }
   ],
   "source": [
    "print(\"Intial text statistic:\\n\")\n",
    "stats_print(tk_description)"
   ]
  },
  {
   "cell_type": "markdown",
   "metadata": {},
   "source": [
    "## Task 1.2.4 Remove words with length less than 2.\n",
    "remove any token that only contains a single character (a token that of length less than 2)."
   ]
  },
  {
   "cell_type": "code",
   "execution_count": 130,
   "metadata": {},
   "outputs": [
    {
     "name": "stdout",
     "output_type": "stream",
     "text": [
      "Before removing, the words that appear with length less than 2 at index 20:['a', 's', 's', 'a', 's', 'a', 's', 'a', 's', 'a', 's', 'a', 'a', 'a', 's', 's', 's', 'a', 'a', 's']\n",
      "Before removing, the words that appear with length less than 2 at index 20:[]\n"
     ]
    }
   ],
   "source": [
    "# assign variable to see tokenized description has the length less than 2\n",
    "tk_description_less_length_2 = [[w for w in description if len(w) < 2] for description in tk_description]\n",
    "\n",
    "# test\n",
    "print(f'Before removing, the words that appear with length less than 2 at index {test_index}:{tk_description_less_length_2[test_index]}')\n",
    "\n",
    "# filter out single character tokens\n",
    "tk_description = [[w for w in description if len(w) >=2] for description in tk_description]\n",
    "\n",
    "# assign variable to see tokenized description has the length less than 2\n",
    "tk_description_less_length_2 = [[w for w in description if len(w) < 2] for description in tk_description]\n",
    "\n",
    "# test\n",
    "print(f'Before removing, the words that appear with length less than 2 at index {test_index}:{tk_description_less_length_2[test_index]}')"
   ]
  },
  {
   "cell_type": "code",
   "execution_count": 131,
   "metadata": {},
   "outputs": [
    {
     "name": "stdout",
     "output_type": "stream",
     "text": [
      "Vocabulary size:  9808\n",
      "Total number of tokens:  180913\n",
      "Lexical diversity:  0.05421390392066905\n",
      "Total number of description: 776\n",
      "Average description length: 233.13530927835052\n",
      "Maximum description length: 795\n",
      "Minimum description length: 13\n",
      "Standard deviation of description length: 121.6048654015839\n"
     ]
    }
   ],
   "source": [
    "# few statistic\n",
    "stats_print(tk_description)"
   ]
  },
  {
   "cell_type": "markdown",
   "metadata": {},
   "source": [
    "## Task 1.2.5 Remove stopwords using the provided stop words list\n",
    "> **NOTE**: The purpose of this task is to pre-process the text reviews, and later on, we will use the pre-process text to build a sentiment analysis model. The stop word removal process requires careful consideration in this type of task.\n",
    "\n",
    "Remove the stop words from the tokenized text inside `stopwords_en.txt` file"
   ]
  },
  {
   "cell_type": "code",
   "execution_count": 132,
   "metadata": {
    "jupyter": {
     "outputs_hidden": false
    }
   },
   "outputs": [
    {
     "name": "stdout",
     "output_type": "stream",
     "text": [
      "The number of stop words inside stopwords_en.txt is 571 including:\n",
      "\n",
      "['a', \"a's\", 'able', 'about', 'above', 'according', 'accordingly', 'across', 'actually', 'after', 'afterwards', 'again', 'against', \"ain't\", 'all', 'allow', 'allows', 'almost', 'alone', 'along', 'already', 'also', 'although', 'always', 'am', 'among', 'amongst', 'an', 'and', 'another', 'any', 'anybody', 'anyhow', 'anyone', 'anything', 'anyway', 'anyways', 'anywhere', 'apart', 'appear', 'appreciate', 'appropriate', 'are', \"aren't\", 'around', 'as', 'aside', 'ask', 'asking', 'associated', 'at', 'available', 'away', 'awfully', 'b', 'be', 'became', 'because', 'become', 'becomes', 'becoming', 'been', 'before', 'beforehand', 'behind', 'being', 'believe', 'below', 'beside', 'besides', 'best', 'better', 'between', 'beyond', 'both', 'brief', 'but', 'by', 'c', \"c'mon\", \"c's\", 'came', 'can', \"can't\", 'cannot', 'cant', 'cause', 'causes', 'certain', 'certainly', 'changes', 'clearly', 'co', 'com', 'come', 'comes', 'concerning', 'consequently', 'consider', 'considering', 'contain', 'containing', 'contains', 'corresponding', 'could', \"couldn't\", 'course', 'currently', 'd', 'definitely', 'described', 'despite', 'did', \"didn't\", 'different', 'do', 'does', \"doesn't\", 'doing', \"don't\", 'done', 'down', 'downwards', 'during', 'e', 'each', 'edu', 'eg', 'eight', 'either', 'else', 'elsewhere', 'enough', 'entirely', 'especially', 'et', 'etc', 'even', 'ever', 'every', 'everybody', 'everyone', 'everything', 'everywhere', 'ex', 'exactly', 'example', 'except', 'f', 'far', 'few', 'fifth', 'first', 'five', 'followed', 'following', 'follows', 'for', 'former', 'formerly', 'forth', 'four', 'from', 'further', 'furthermore', 'g', 'get', 'gets', 'getting', 'given', 'gives', 'go', 'goes', 'going', 'gone', 'got', 'gotten', 'greetings', 'h', 'had', \"hadn't\", 'happens', 'hardly', 'has', \"hasn't\", 'have', \"haven't\", 'having', 'he', \"he's\", 'hello', 'help', 'hence', 'her', 'here', \"here's\", 'hereafter', 'hereby', 'herein', 'hereupon', 'hers', 'herself', 'hi', 'him', 'himself', 'his', 'hither', 'hopefully', 'how', 'howbeit', 'however', 'i', \"i'd\", \"i'll\", \"i'm\", \"i've\", 'ie', 'if', 'ignored', 'immediate', 'in', 'inasmuch', 'inc', 'indeed', 'indicate', 'indicated', 'indicates', 'inner', 'insofar', 'instead', 'into', 'inward', 'is', \"isn't\", 'it', \"it'd\", \"it'll\", \"it's\", 'its', 'itself', 'j', 'just', 'k', 'keep', 'keeps', 'kept', 'know', 'knows', 'known', 'l', 'last', 'lately', 'later', 'latter', 'latterly', 'least', 'less', 'lest', 'let', \"let's\", 'like', 'liked', 'likely', 'little', 'look', 'looking', 'looks', 'ltd', 'm', 'mainly', 'many', 'may', 'maybe', 'me', 'mean', 'meanwhile', 'merely', 'might', 'more', 'moreover', 'most', 'mostly', 'much', 'must', 'my', 'myself', 'n', 'name', 'namely', 'nd', 'near', 'nearly', 'necessary', 'need', 'needs', 'neither', 'never', 'nevertheless', 'new', 'next', 'nine', 'no', 'nobody', 'non', 'none', 'noone', 'nor', 'normally', 'not', 'nothing', 'novel', 'now', 'nowhere', 'o', 'obviously', 'of', 'off', 'often', 'oh', 'ok', 'okay', 'old', 'on', 'once', 'one', 'ones', 'only', 'onto', 'or', 'other', 'others', 'otherwise', 'ought', 'our', 'ours', 'ourselves', 'out', 'outside', 'over', 'overall', 'own', 'p', 'particular', 'particularly', 'per', 'perhaps', 'placed', 'please', 'plus', 'possible', 'presumably', 'probably', 'provides', 'q', 'que', 'quite', 'qv', 'r', 'rather', 'rd', 're', 'really', 'reasonably', 'regarding', 'regardless', 'regards', 'relatively', 'respectively', 'right', 's', 'said', 'same', 'saw', 'say', 'saying', 'says', 'second', 'secondly', 'see', 'seeing', 'seem', 'seemed', 'seeming', 'seems', 'seen', 'self', 'selves', 'sensible', 'sent', 'serious', 'seriously', 'seven', 'several', 'shall', 'she', 'should', \"shouldn't\", 'since', 'six', 'so', 'some', 'somebody', 'somehow', 'someone', 'something', 'sometime', 'sometimes', 'somewhat', 'somewhere', 'soon', 'sorry', 'specified', 'specify', 'specifying', 'still', 'sub', 'such', 'sup', 'sure', 't', \"t's\", 'take', 'taken', 'tell', 'tends', 'th', 'than', 'thank', 'thanks', 'thanx', 'that', \"that's\", 'thats', 'the', 'their', 'theirs', 'them', 'themselves', 'then', 'thence', 'there', \"there's\", 'thereafter', 'thereby', 'therefore', 'therein', 'theres', 'thereupon', 'these', 'they', \"they'd\", \"they'll\", \"they're\", \"they've\", 'think', 'third', 'this', 'thorough', 'thoroughly', 'those', 'though', 'three', 'through', 'throughout', 'thru', 'thus', 'to', 'together', 'too', 'took', 'toward', 'towards', 'tried', 'tries', 'truly', 'try', 'trying', 'twice', 'two', 'u', 'un', 'under', 'unfortunately', 'unless', 'unlikely', 'until', 'unto', 'up', 'upon', 'us', 'use', 'used', 'useful', 'uses', 'using', 'usually', 'uucp', 'v', 'value', 'various', 'very', 'via', 'viz', 'vs', 'w', 'want', 'wants', 'was', \"wasn't\", 'way', 'we', \"we'd\", \"we'll\", \"we're\", \"we've\", 'welcome', 'well', 'went', 'were', \"weren't\", 'what', \"what's\", 'whatever', 'when', 'whence', 'whenever', 'where', \"where's\", 'whereafter', 'whereas', 'whereby', 'wherein', 'whereupon', 'wherever', 'whether', 'which', 'while', 'whither', 'who', \"who's\", 'whoever', 'whole', 'whom', 'whose', 'why', 'will', 'willing', 'wish', 'with', 'within', 'without', \"won't\", 'wonder', 'would', 'would', \"wouldn't\", 'x', 'y', 'yes', 'yet', 'you', \"you'd\", \"you'll\", \"you're\", \"you've\", 'your', 'yours', 'yourself', 'yourselves', 'z', 'zero']\n"
     ]
    }
   ],
   "source": [
    "# remove the stop words inside `stopwords_en.txt` from the tokenized text\n",
    "stopwords_file = 'stopwords_en.txt'\n",
    "\n",
    "# read the stop words into a list\n",
    "with open(stopwords_file, 'r') as f:\n",
    "    stop_words = f.read().splitlines() \n",
    "print(f'The number of stop words inside {stopwords_file} is {len(stop_words)} including:\\n\\n{stop_words}')"
   ]
  },
  {
   "cell_type": "markdown",
   "metadata": {},
   "source": [
    "### -----------> OBSERVATION:\n",
    "+ There 571 stopwords in total, which are often function words in English, like description (e.g. \"the\", and \"an\"), pronouns (e.g. \"he\", \"him\", and \"they\"), pdescription (e.g., \"well\", \"however\" and \"thus\"), etc, and universal words in all job advertisement (e.g.'ask', 'asking', 'used', and 'useful')\n",
    "\n",
    "+ There is no universal list of stop words. This is just follow the requirement description"
   ]
  },
  {
   "cell_type": "code",
   "execution_count": 133,
   "metadata": {},
   "outputs": [
    {
     "name": "stdout",
     "output_type": "stream",
     "text": [
      "The number of tokens in the test_index index description BEFORE removing stop words: 795\n",
      "The number of tokens in the test_index index description AFTER removing stop words: 440\n",
      "Vocabulary size:  9404\n",
      "Total number of tokens:  107161\n",
      "Lexical diversity:  0.0877558066834016\n",
      "Total number of description: 776\n",
      "Average description length: 138.09407216494844\n",
      "Maximum description length: 487\n",
      "Minimum description length: 12\n",
      "Standard deviation of description length: 73.07847897002313\n"
     ]
    }
   ],
   "source": [
    "# print the test_index index description length before removing stop words\n",
    "print(\"The number of tokens in the test_index index description BEFORE removing stop words:\",len(tk_description[test_index]))\n",
    "\n",
    "# convert stop words list into a set to speed up the process to checking\n",
    "stopwordSet = set(stop_words)\n",
    "\n",
    "# filter stop words in each document for the whole tokenized description\n",
    "tk_description = [[token for token in description if token not in stopwordSet] for description in tk_description]\n",
    "\n",
    "# print the test_index index description length after removing stop words\n",
    "print(\"The number of tokens in the test_index index description AFTER removing stop words:\",len(tk_description[test_index]))\n",
    "\n",
    "# few statistic\n",
    "stats_print(tk_description)"
   ]
  },
  {
   "cell_type": "markdown",
   "metadata": {},
   "source": [
    "### ---------> OBSERVATION:\n",
    "\n",
    "The list comprehension \n",
    "```python\n",
    "    [token for token in description if token not in stop_words]\n",
    "```\n",
    "For each word in each Job Advertisement description, keep the word if the word is **NOT** in the stopword list. Checking for membership of a value in a list takes time proportional to the list's length in the average and worst cases. \n",
    "=> It causes the above code to run quite slow as we need to do the check for every word in each description\n",
    "and both the total number of tokens and the size of stopword list are large.\n",
    "\n",
    "However, if we have hashable items, which means both the item order and duplicates are disregarded, Python `set` is a better choice than `list`. The former runs much faster than the latter in terms of searching\n",
    "a large number of hashable items. Indeed, `set` takes constant time to check the membership.\n",
    "Let's try converting the stopword list into a stopword set, then search to remove all the stopwords.\n",
    "we can construct a `stopwordSet` from the stopword list and change the  `stop_words` (a list) to `stopwordSet`,"
   ]
  },
  {
   "cell_type": "markdown",
   "metadata": {},
   "source": [
    "# Removing the Most and Less Frequent Words\n",
    "\n",
    "The frequency distribution can tell us how frequent a word is in a given corpus in terms of either **term frequency** or **document frequency**:\n",
    "* **Term frequency** the total number of word tokens are distributed across the whole corpus regardless which document it is in.\n",
    "* **Document frequency** counts the number of documents a word occurs. \n",
    "\n",
    "For instance, if a word appear 3 times in a document, when we count the term frequency, this will be added 3 into the total number of occurrence; however, for document frequency, this will still be counted as 1 only. \n",
    "\n",
    "The words that only appear once or twice if the most prevalent terms don't help the subsequent text analysis tasks other than contributing noises? The frequency of word kinds in a particular corpus is another intriguing statistic in this case. Here, we will utilize document frequency as an illustration:"
   ]
  },
  {
   "cell_type": "code",
   "execution_count": 134,
   "metadata": {},
   "outputs": [
    {
     "name": "stdout",
     "output_type": "stream",
     "text": [
      "The actual y values: [4643, 1215, 654, 409, 305, 227, 167, 163, 117, 111, 1072, 194, 90, 37]\n"
     ]
    },
    {
     "data": {
      "text/plain": "<Figure size 2000x1000 with 1 Axes>",
      "image/png": "[encoded data removed]"
     },
     "metadata": {},
     "output_type": "display_data"
    }
   ],
   "source": [
    "words = list(chain.from_iterable([set(description) for description in tk_description]))\n",
    "doc_fd = FreqDist(words)\n",
    "ffd = FreqDist(doc_fd.values()) # ffd frequency of frequencies values\n",
    "\n",
    "y = [0]*14 # number of the y axis category we want to show\n",
    "\n",
    "for k, v in ffd.items(): # iterate the dictionary items of ffd\n",
    "    if k <= 10: # show the frequency value for each frequency of frequency equal to or lower than 10\n",
    "        y[k-1] = v\n",
    "    elif 10 < k <= 50: # aggregate the frequency of frequency values larger than 10 but smaller than or equal to 20\n",
    "        y[10] =  y[10] + v\n",
    "    elif 50 < k <= 100: # aggregate the frequency of frequency values larger than 50 but smaller than or equal to 100\n",
    "        y[11] =  y[11] + v\n",
    "    elif 100 < k <= 200: # aggregate the frequency of frequency values larger than 100 but smaller than or equal to 200\n",
    "        y[12] =  y[12] + v\n",
    "    else:\n",
    "        y[13] =  y[13] + v # aggregate the frequency of frequency values larger than 200\n",
    "x = range(1, 15) # generate integer from 1 to 14\n",
    "\n",
    "ytks = list(map(str, range(1, 11))) # covert a integer list to a string list, we will get ['0','1',...,'10']\n",
    "# appending other categories,  '10-50', '51-100', '101-200', '>200'\n",
    "# will use ytks as the values on the y-axis\n",
    "ytks.append('10-50') \n",
    "ytks.append('51-100')\n",
    "ytks.append('101-200')\n",
    "ytks.append('>200')\n",
    "print(f'The actual y values: {y}')\n",
    "barh(x,y, align='center', color='pink') # plot the bar chart\n",
    "yticks(x, ytks) # annotate x and y axies\n",
    "xlabel('Frequency of Frequency') # set x-axis caption\n",
    "ylabel('Word Frequency') # set y-axis caption\n",
    "grid(True) # make the bar chart grided, easier to view and compare\n",
    "# save the figure inside the folder `media/figure`\n",
    "plt.savefig('media/figure/word_frequency.png', dpi=300, bbox_inches='tight')\n",
    "show()"
   ]
  },
  {
   "cell_type": "markdown",
   "metadata": {},
   "source": [
    "### ------------> OBSERVATION:\n",
    "\n",
    "The horizontal bar chart generated above shows how many word types occur with a certain frequency.\n",
    "\n",
    "There are very small number (37) of types occurring over 200 times and therefore individually accounting for less than 1% (37/9404) of the vocabulary. \n",
    "\n",
    "However, on the other extreme, about 50% (4643/9404) of the word types occur only once in the corpus."
   ]
  },
  {
   "cell_type": "markdown",
   "metadata": {},
   "source": [
    "## Task 1.2.6 Remove the word that appears only once in the document collection, based on term frequency\n",
    "\n",
    "What are the most frequent words in terms of document frequency?\n",
    "Here we are going to count how many documents a word appears in.\n",
    "Instead of writing nested FOR loops to count the document frequency for each word,\n",
    "we can use  `FreqDist()` jointly with  `set()` as follows:\n",
    "1. Apply  `set()` to each Job Advertisement description to generate a set of unique words in the description and save all sets in a list.\n",
    "```python\n",
    "    [set(description) for description in tokenised_description]\n",
    "```\n",
    "2. Similar to what we have done before, we then put all the words in a list using  `chain.from_iterable` and pass it to `FreqDist`.\n",
    "\n",
    "The first step makes sure that each word in an description appears only once, thus the total number of \n",
    "times a word appears in all the sets is equal to the number of documents containing that word.\n",
    "\n",
    "* find out the list of words that appear only once in the **entire corpus**\n",
    "* remove these less frequent words from each tokenized description text\n",
    "\n",
    "We first need to find out the set of less frequent words by using the `hapaxes` function applied on the **term frequency** dictionary. \n",
    "\n",
    "Let's further remove those words that occur only once. \n",
    "To get those words, we can write the code like\n",
    "```python\n",
    "    lessFreqWords = set([k for k, v in doc_fd.items() if v < 2])\n",
    "```\n",
    "or choose to use `hapaxes()` function, which return a list of all tokens that occur once (hapax legomena)."
   ]
  },
  {
   "cell_type": "code",
   "execution_count": 135,
   "metadata": {},
   "outputs": [
    {
     "name": "stdout",
     "output_type": "stream",
     "text": [
      "The number of words that appear only once in the entire corpus is: 4186\n",
      "\n"
     ]
    },
    {
     "data": {
      "text/plain": "{'valueadd',\n \"manager's\",\n 'coleraine',\n 'kegworth',\n 'mrk',\n 'medically',\n 'selfmotived',\n 'cascaded',\n 'lgapiuenpcvwow',\n 'needham',\n 'quoted',\n 'registerednursermnnbarchesterhealthcare',\n 'conveyers',\n 'koonerpertemps',\n 'operability',\n 'commencement',\n 'environmentto',\n 'prescriptions',\n 'realtime',\n 'bodmin',\n 'requisite',\n 'exmouth',\n 'amending',\n 'announce',\n 'football',\n 'accurancy',\n 'psychometric',\n 'tenanted',\n 'mackenzieedenscott',\n 'careersflamehealth',\n 'mccall',\n 'mansion',\n 'projectmanager',\n 'cannulate',\n 'shaving',\n 'ryanh',\n 'attachment',\n 'joannaaesco',\n 'stations',\n 'scratch',\n 'nice',\n 'passes',\n 'rated',\n 'whiteshall',\n 'dewrance',\n 'conformance',\n 'reef',\n 'gartnavel',\n 'removal',\n 'portugal',\n 'riskandcompliancemanagercardpaymentswatford',\n 'pipefitting',\n 'redirects',\n 'comint',\n 'outturn',\n 'yourprimary',\n 'conforms',\n 'gave',\n 'utilization',\n 'omb',\n 'timehours',\n 'constructors',\n 'frome',\n 'graduatesalesexecutiveconstructionproductssurrey',\n 'serviceuser',\n 'intend',\n 'netley',\n 'eta',\n 'multitier',\n 'policymakers',\n 'evolving',\n 'clarke',\n 'congress',\n 'prerequisite',\n 'dietry',\n 'deserved',\n 'tunbridge',\n 'checklists',\n 'openigs',\n 'amx',\n 'ncm',\n 'rivalled',\n 'amplitude',\n 'senioroptomechanicalengineersouth',\n 'flexitime',\n 'personcentred',\n 'seniormanufacturingengineer',\n 'nhsaaa',\n 'recommissioning',\n 'jw',\n 'biological',\n 'prm',\n 'unqualified',\n 'compromising',\n 'clevedon',\n 'onpatch',\n 'mother',\n 'mov',\n 'ash',\n 'licenses',\n 'liberty',\n 'acrobat',\n 'witness',\n 'robwhiterecruitment',\n 'version',\n 'hymgynghorwyr',\n 'parental',\n 'rachel',\n 'brokerages',\n 'mdm',\n 'datrys',\n 'classleading',\n 'unmatched',\n 'wheels',\n 'assistantbranchmanager',\n 'logic',\n 'sar',\n 'voyagecare',\n 'websites',\n 'excessive',\n 'tem',\n 'inverness',\n 'paneuropean',\n 'fail',\n 'lyme',\n 'wybodaeth',\n 'chwilio',\n 'newyearnewcareersystemengineermfautomotiveproducts',\n 'daytime',\n 'rapportyou',\n 'populus',\n 'plump',\n 'authoring',\n 'sabre',\n 'humour',\n 'absolutely',\n 'longstanding',\n 'tilt',\n 'brosiectau',\n 'alliance',\n 'intel',\n 'unethical',\n 'parallel',\n 'steering',\n 'postal',\n 'mdu',\n 'respects',\n 'ofdm',\n 'achieveable',\n 'el',\n 'territorymanager',\n 'pact',\n 'cncmachinist',\n 'curious',\n 'shilley',\n 'restructures',\n 'hudson',\n 'subprojects',\n 'clinet',\n 'blaenoriaethu',\n 'becks',\n 'gamp',\n 'bran',\n 'staffs',\n 'possesses',\n 'ids',\n 'proses',\n 'reallocations',\n 'chose',\n 'hydrodynamic',\n 'monthsfor',\n 'consumption',\n 'focusa',\n 'vicepresident',\n 'searchrecruitmentconsultantmediaandtechnologybrighton',\n 'checkweighers',\n 'derail',\n 'mnos',\n 'pci',\n 'glesurfredlinegroup',\n 'react',\n 'photocopying',\n 'srl',\n 'isometric',\n 'rentals',\n 'opportunityto',\n 'dyddiad',\n 'dark',\n 'disruption',\n 'comparison',\n 'mange',\n 'simulationengineer',\n 'multidiscipline',\n 'accustomed',\n 'senioraccountexecutivesales',\n 'launder',\n 'skillsets',\n 'sufficiently',\n 'sarbanesoxley',\n 'inherent',\n 'functioning',\n 'mlse',\n 'krl',\n 'centers',\n 'neurone',\n 'alton',\n 'gatwick',\n 'greeks',\n 'stepping',\n 'formalising',\n 'polishes',\n 'treasurer',\n 'cousins',\n 'nonspecific',\n 'abandonment',\n 'newydd',\n 'ghc',\n 'nonreynolds',\n 'uncappedsales',\n 'ears',\n 'shortterm',\n 'customercentric',\n 'widespread',\n 'robinson',\n 'firstly',\n 'optimize',\n 'assemble',\n 'sgiliau',\n 'expensive',\n 'faro',\n 'ymgeisio',\n 'winches',\n 'distributions',\n 'autistic',\n 'salesmanagerwithdigitaladvertisingexperience',\n 'ing',\n 'phones',\n 'cfd',\n 'coherent',\n 'negotiated',\n 'condo',\n 'oq',\n 'werkshage',\n 'ess',\n 'roberts',\n 'ceremonies',\n 'extrusions',\n 'riskbased',\n 'electronicfireandsecuritysolutionsfieldsales',\n 'failed',\n 'mediasalesaccountexecutivenichemultimedia',\n 'cgmp',\n 'mitie',\n 'legislative',\n 'automating',\n 'shearer',\n 'president',\n 'liability',\n 'gastro',\n 'barnstaple',\n 'faint',\n 'accounant',\n 'trustee',\n 'diligence',\n 'completes',\n 'marsdenomnirms',\n 'negotiationskills',\n 'strgroup',\n 'biomedical',\n 'dockside',\n 'stays',\n 'barring',\n 'bpt',\n 'collaborate',\n 'timing',\n 'prize',\n 'trails',\n 'netherlands',\n 'nail',\n 'soldering',\n 'mechancial',\n 'sefydlog',\n 'nuhalch',\n 'highimpact',\n 'ome',\n 'uphold',\n \"hospital's\",\n 'validating',\n 'carbonus',\n 'teamto',\n 'habits',\n 'flagship',\n 'affordability',\n 'theukwithout',\n 'payrolls',\n 'commercialunderwritingmotorteamleader',\n 'rgnqualified',\n 'scrutiny',\n 'threepeople',\n 'netherton',\n 'managementpresenting',\n 'ifaclientsupport',\n 'wares',\n 'uncertainties',\n 'distribute',\n 'crossfunctional',\n 'remunerated',\n 'mlss',\n 'pmc',\n 'thunder',\n 'harmonious',\n 'finishers',\n 'salesexecutiveforddunfermline',\n 'relaxation',\n 'sevice',\n 'gofyn',\n 'midmarketsalesexecutive',\n 'borough',\n 'gears',\n 'shore',\n 'realisation',\n 'gyms',\n 'collating',\n 'brownfield',\n 'bond',\n 'alot',\n 'attribute',\n 'implies',\n 'enthuse',\n 'omega',\n 'assure',\n 'utilises',\n 'memory',\n 'euros',\n 'finalising',\n \"west's\",\n 'anaerobic',\n 'grave',\n 'cameron',\n 'clerkenwell',\n 'lng',\n 'marsha',\n 'souths',\n 'overflow',\n 'unwavering',\n 'donnington',\n 'utilize',\n 'asses',\n 'jim',\n 'byddwch',\n 'versions',\n 'uskv',\n 'entitlements',\n 'standby',\n 'mdonnellycobaltrecruitment',\n 'hierarchy',\n 'affiliate',\n 'altringham',\n 'borrow',\n 'adapting',\n 'retailsalesconsultantassistantsalesmanager',\n 'hdu',\n 'cica',\n 'racheal',\n 'renown',\n 'article',\n 'youyou',\n 'diagnostics',\n 'ota',\n 'electricaldesignengineerengineeringconsultancy',\n 'mechanicalmaintenancefitter',\n 'filler',\n 'revolutionising',\n 'percentage',\n 'geoff',\n \"o'n\",\n 'soc',\n 'reservior',\n 'negotiates',\n 'loaded',\n 'widen',\n 'gyfle',\n 'wrexham',\n 'recharge',\n 'ombudsman',\n 'subteams',\n 'opdef',\n 'sicrhau',\n 'wills',\n 'salesrepresentativeleadgenerator',\n 'welded',\n 'ooad',\n 'speedy',\n 'smartview',\n 'communicates',\n 'forces',\n 'solicitor',\n 'shutdown',\n 'vanilla',\n 'swiftly',\n 'adoperation',\n 'injured',\n 'enhancement',\n 'nsuring',\n 'vc',\n 'pi',\n 'hanham',\n 'servicesthis',\n 'fieldsalesexecutivederby',\n 'favourite',\n 'regulatorypolicymanager',\n 'wcdma',\n 'formula',\n 'remaining',\n 'formulating',\n 'selby',\n 'lower',\n 'max',\n 'adaptable',\n 'ohand',\n 'mpayment',\n 'churches',\n 'partaking',\n 'ukbased',\n 'gatekeeper',\n 'pairing',\n 'switchedon',\n 'mencap',\n 'traininga',\n 'alternating',\n 'peerreviewed',\n 'presses',\n 'accountmanagermanchesterote',\n 'leaver',\n 'citizenrecruit',\n 'underway',\n 'nominated',\n 'providedthis',\n 'diamonds',\n 'grows',\n 'tunstall',\n 'warranties',\n 'motherwell',\n 'stsm',\n 'corporates',\n 'gymru',\n 'singalongs',\n 'slots',\n 'oversees',\n 'catalogue',\n 'huntress',\n 'unsocial',\n 'industrysponsored',\n 'responsibilitiesassess',\n 'holsbenefits',\n 'clarified',\n 'fork',\n 'toworking',\n 'costings',\n 'irrbb',\n 'retford',\n 'chemistry',\n 'la',\n 'union',\n 'accounted',\n 'taylor',\n 'voyage',\n 'hackney',\n 'newhall',\n 'brilliantly',\n 'fats',\n 'businessdevelopmentexecutivefieldsalesdartford',\n 'proximity',\n 'themed',\n 'ampm',\n 'cement',\n 'deliveringhigh',\n 'totally',\n 'mwinnresourcingsolutions',\n 'illnesses',\n 'chiropodists',\n 'moore',\n 'rsquot',\n 'ovens',\n 'naseby',\n 'surpass',\n 'multicultural',\n 'registeredmanagers',\n 'quotation',\n 'gray',\n 'menu',\n 'alphanumeric',\n 'godalming',\n 'mortgageprocessor',\n 'twilight',\n 'recognises',\n 'mds',\n 'mechanicalbiasshiftmanager',\n 'learners',\n 'protax',\n 'leonardo',\n 'crewkerne',\n 'sixty',\n 'toptable',\n 'lunsars',\n 'rnmh',\n 'cradle',\n 'susurface',\n 'aelod',\n 'wwf',\n 'fidic',\n 'hughes',\n 'shaped',\n 'oxley',\n 'nuneaton',\n 'digitaltestengineer',\n 'eventbased',\n 'newquay',\n 'draughting',\n 'leiaf',\n 'commissioned',\n 'paediatrics',\n \"adult's\",\n 'remainder',\n 'intuition',\n 'diarising',\n 'progresses',\n 'sportsstrong',\n 'acces',\n 'laptopyour',\n 'angels',\n 'cco',\n 'cifs',\n 'countermeasures',\n 'curriculum',\n 'midlife',\n 'highvolume',\n 'doctor',\n 'supermarket',\n 'customerassurancemanager',\n 'pas',\n 'hants',\n 'ratio',\n 'authoritative',\n 'negligible',\n 'visualstudioskills',\n 'toilet',\n 'packaged',\n 'senioraccountexecutivemarketingprsoftware',\n 'spain',\n 'motability',\n 'burnhamonsea',\n 'bullexcellent',\n 'boasted',\n 'attire',\n 'lining',\n 'berks',\n 'selfregulated',\n 'ado',\n 'adstreamers',\n 'spends',\n 'pensioner',\n 'ise',\n 'liquids',\n 'sudbury',\n 'ntd',\n 'meadowhall',\n 'netting',\n 'fetching',\n 'candoattitude',\n 'commercialaccountant',\n 'akton',\n 'criticism',\n 'supportaccountant',\n 'buckbwpenman',\n 'fod',\n 'hillfoot',\n 'lbe',\n 'mpo',\n 'highenergy',\n 'achieves',\n 'firstrate',\n 'surpassing',\n 'timcryerbaker',\n 'attain',\n 'smarter',\n 'rpo',\n 'thame',\n 'reaching',\n 'china',\n 'npi',\n \"firm's\",\n 'mcafee',\n 'furnishings',\n 'onlymy',\n 'riskunderstanding',\n 'jobopps',\n 'campaigning',\n 'acma',\n 'beauty',\n 'harwich',\n 'homec',\n 'gls',\n 'psychology',\n 'aah',\n 'trustbased',\n 'manmanagement',\n 'anatomy',\n 'poynton',\n 'morekare',\n 'timekeeping',\n 'coat',\n 'replying',\n 'noa',\n 'ulcers',\n 'confused',\n 'tabulations',\n 'phoneas',\n 'partnershipdirector',\n 'begun',\n 'purchaseledgerclerk',\n 'bullproven',\n 'floorcoverings',\n 'applytodaystarttomorrownewsalesfor',\n 'bushings',\n 'scousinscompassltd',\n 'collateral',\n 'polices',\n 'supplements',\n 'neccessary',\n 'customerbased',\n 'helpdesk',\n 'configurator',\n 'yvonne',\n 'alan',\n 'qpa',\n 'xmc',\n 'spares',\n 'northlanarkshire',\n 'legally',\n 'abr',\n 'healthsalary',\n 'usb',\n 'catalogues',\n 'lcr',\n 'blackpool',\n 'pmisalesexecutive',\n 'denominations',\n 'unprecedented',\n 'accreditations',\n 'caats',\n 'bom',\n 'cynhelir',\n 'bushing',\n 'voip',\n 'sidmouth',\n 'sixth',\n \"today's\",\n 'temps',\n 'nonlife',\n 'bromsgrove',\n 'seniordeveloperwithc',\n 'destruction',\n 'electronicengineer',\n 'seasoned',\n 'wiling',\n 'attentive',\n 'developmentongoing',\n 'subsidized',\n 'mrp',\n 'alexanderlloyd',\n 'wilmslow',\n 'preparationof',\n 'highspec',\n 'brbenefits',\n 'datblygiad',\n 'switched',\n 'whorelishes',\n 'orrock',\n 'facilitators',\n 'likes',\n 'energised',\n 'accidents',\n 'vote',\n 'stationary',\n 'taxfree',\n 'merseyside',\n 'flows',\n 'bioscience',\n 'resultoriented',\n \"nmc's\",\n 'believer',\n 'nhbc',\n 'phoneyour',\n 'residency',\n 'owning',\n 'examples',\n 'thedition',\n 'helens',\n 'carryout',\n 'quantitysurveyorseniorquantitysurveyorcivils',\n 'churchdown',\n 'kalamazooreynolds',\n 'salesconsultant',\n 'faultfree',\n 'rfj',\n 'envolve',\n 'displays',\n 'hfss',\n 'barred',\n 'detector',\n 'countiesthis',\n 'origins',\n 'quqlification',\n 'receptionist',\n 'agilent',\n 'downtime',\n 'horsley',\n 'elimination',\n 'fanyleb',\n 'lawrence',\n 'systematic',\n 'fatigue',\n \"atm's\",\n 'equip',\n 'taxi',\n 'kitchens',\n 'groundbreaking',\n 'pharmeuceutical',\n 'bags',\n 'longwell',\n 'payrollassistant',\n 'sabbatical',\n 'dairy',\n 'savage',\n 'burelf',\n 'stuck',\n 'automotiveoem',\n 'jig',\n 'electrified',\n 'ddylunio',\n 'aspnetsoftwaredeveloperamigoloans',\n 'samplingward',\n 'representations',\n 'exploitations',\n 'apqp',\n 'reclaimable',\n 'cat',\n 'customerscontinual',\n 'banding',\n 'dsg',\n 'afcila',\n 'cii',\n 'mattunitystoke',\n 'tollbooths',\n 'hatstand',\n 'pressurized',\n 'survival',\n 'sponge',\n 'wedi',\n 'peirianneg',\n 'shortlisting',\n 'showcasing',\n 'connells',\n 'longevity',\n 'defect',\n 'vericut',\n \"people's\",\n 'nfs',\n 'fastgrowing',\n \"motor's\",\n 'leverage',\n 'onetoone',\n 'cmcconsulting',\n 'insa',\n 'cpb',\n 'lack',\n 'gateway',\n 'chasing',\n 'pe',\n 'nhsd',\n 'tenaciousyou',\n 'guideline',\n 'rhai',\n 'fairgrievematchtech',\n 'experiencedmachinistverticalborerheavyengineering',\n 'duplicates',\n 'immaculate',\n 'conceptualisation',\n 'nbspengineering',\n 'businessesproven',\n 'vitality',\n 'detectors',\n 'launches',\n 'bmssales',\n 'lunchtime',\n 'cmd',\n 'tick',\n 'bitton',\n 'filed',\n 'haves',\n 'refinery',\n 'insure',\n 'intrusive',\n 'caseloads',\n 'brexcellent',\n 'pensioners',\n \"chris's\",\n 'christchurch',\n 'insulation',\n 'occassional',\n 'indicating',\n 'honeywell',\n 'interconnected',\n 'cots',\n 'reconciled',\n 'classen',\n 'powered',\n 'differs',\n 'spinalcord',\n 'documentatation',\n 'thoughts',\n 'experienceyou',\n 'autoclaves',\n 'chp',\n 'facsimile',\n 'buffer',\n 'prepaid',\n 'delahuntyrandstad',\n 'careful',\n 'hamble',\n 'institutes',\n 'ashe',\n 'fat',\n 'showrooms',\n 'concisely',\n 'adeptness',\n 'explorer',\n 'storrington',\n 'sharedservice',\n 'os',\n 'hightech',\n 'economically',\n 'eich',\n 'aligning',\n 'exc',\n 'undergone',\n 'corff',\n 'centric',\n 'ascertaining',\n 'dey',\n 'arc',\n 'wagstaff',\n 'homeis',\n 'saltmarsh',\n 'tasc',\n 'specialties',\n 'weeklocation',\n 'eastern',\n 'deypenguinrecruitment',\n 'clever',\n 'othersthis',\n 'consequence',\n 'reigate',\n 'repeatable',\n 'enginerring',\n 'installs',\n 'seniormechanicalcontractsmanager',\n 'vessel',\n \"solution's\",\n 'sessional',\n 'benefitsmanchester',\n 'apologise',\n 'graham',\n 'theukandsouth',\n 'solenoids',\n 'ra',\n 'comparing',\n 'contractually',\n 'hurt',\n 'deficient',\n 'passenger',\n 'disappointed',\n 'journalists',\n 'willow',\n 'rod',\n 'referees',\n 'logo',\n 'motorbike',\n 'confer',\n 'interrogate',\n 'fothergill',\n 'personalities',\n 'horley',\n 'portsdown',\n 'evaluations',\n 'prohibited',\n 'telco',\n \"limited's\",\n 'hss',\n 'minority',\n 'educate',\n 'cullompton',\n 'bridgwater',\n 'alternatives',\n 'graduatesalesexecutivetraineefieldsales',\n 'assertiveness',\n 'applicationsdesignengineer',\n 'llywodraethu',\n 'sponsored',\n 'sustained',\n 'belgium',\n 'widest',\n 'persistence',\n 'gardening',\n 'elevators',\n 'donnelly',\n 'managerially',\n 'datacollectors',\n 'rmb',\n 'unlike',\n 'accumulation',\n 'boasting',\n 'stats',\n 'datacenters',\n 'lewisham',\n 'distract',\n 'levelexcellent',\n 'cumnock',\n 'spontaneous',\n 'publicly',\n 'agreeing',\n 'elective',\n 'agricultural',\n 'anffurfiol',\n 'datacentre',\n 'cutoff',\n 'reinvestment',\n 'jackson',\n 'grand',\n 'bourton',\n 'rs',\n 'lewishrguk',\n 'beers',\n 'sophisticated',\n 'associateconsultantlondon',\n 'drywalling',\n 'writer',\n 'polishing',\n 'mode',\n 'yw',\n 'organizations',\n 'vicinity',\n 'shoreham',\n 'simulators',\n 'brworking',\n 'renovations',\n 'ashworth',\n 'biotechnology',\n 'trader',\n 'frankfurt',\n 'headquarter',\n 'directs',\n 'outofhours',\n 'intricate',\n 'potentials',\n 'scal',\n 'radiant',\n 'inputting',\n 'bots',\n 'detroit',\n 'crack',\n 'settingas',\n 'nsrp',\n 'indemnity',\n 'championing',\n 'nwerkshageopentable',\n 'upheld',\n 'exposed',\n 'assuring',\n \"tv's\",\n 'introducers',\n 'barclay',\n 'tcg',\n 'ncr',\n 'dayyou',\n 'pensionsadministrator',\n 'oeic',\n 'reflex',\n 'engb',\n 'pb',\n 'postcodes',\n 'morley',\n 'lesser',\n 'fromthe',\n 'avoid',\n 'seminars',\n 'arriving',\n 'philippines',\n 'harlow',\n ...}"
     },
     "execution_count": 135,
     "metadata": {},
     "output_type": "execute_result"
    }
   ],
   "source": [
    "from nltk.probability import *\n",
    "from itertools import chain\n",
    "\n",
    "words = list(chain.from_iterable(tk_description)) # we put all the tokens in the corpus in a single list\n",
    "term_fd = FreqDist(words) # compute term frequency for each unique word/type\n",
    "\n",
    "# Using hapaxes() to see less frequent words in term frequency\n",
    "lessFreqWords = set(term_fd.hapaxes())\n",
    "print(f'The number of words that appear only once in the entire corpus is: {len(lessFreqWords)}\\n')\n",
    "\n",
    "# test\n",
    "lessFreqWords"
   ]
  },
  {
   "cell_type": "markdown",
   "metadata": {},
   "source": [
    "### -------> OBSERVATION:\n",
    "\n",
    "Most of the words do not carry any meaning which indicates maybe typos inside the description we might fix it or in this case I would eliminate it"
   ]
  },
  {
   "cell_type": "code",
   "execution_count": 136,
   "metadata": {},
   "outputs": [
    {
     "name": "stdout",
     "output_type": "stream",
     "text": [
      "Vocabulary size:  5218\n",
      "Total number of tokens:  102975\n",
      "Lexical diversity:  0.05067249332362224\n",
      "Total number of description: 776\n",
      "Average description length: 132.69974226804123\n",
      "Maximum description length: 471\n",
      "Minimum description length: 12\n",
      "Standard deviation of description length: 70.3782402519735\n"
     ]
    }
   ],
   "source": [
    "def removeLessFreqWords(description):\n",
    "    return [w for w in description if w not in lessFreqWords]\n",
    "\n",
    "tk_description = [removeLessFreqWords(description) for description in tk_description]\n",
    "\n",
    "# view the updated statistic\n",
    "stats_print(tk_description)"
   ]
  },
  {
   "cell_type": "markdown",
   "metadata": {},
   "source": [
    "## Task 1.2.7 Remove the top 50 most frequent words based on document frequency."
   ]
  },
  {
   "cell_type": "code",
   "execution_count": 137,
   "metadata": {},
   "outputs": [
    {
     "data": {
      "text/plain": "[('experience', 586),\n ('role', 499),\n ('work', 453),\n ('team', 431),\n ('working', 407),\n ('skills', 366),\n ('client', 358),\n ('job', 348),\n ('company', 343),\n ('business', 342),\n ('uk', 316),\n ('excellent', 309),\n ('management', 301),\n ('based', 287),\n ('apply', 286),\n ('opportunity', 280),\n ('salary', 270),\n ('required', 269),\n ('successful', 267),\n ('support', 261),\n ('join', 252),\n ('candidate', 248),\n ('service', 242),\n ('knowledge', 241),\n ('development', 235),\n ('leading', 234),\n ('high', 224),\n ('cv', 223),\n ('manager', 220),\n ('www', 220),\n ('training', 214),\n ('sales', 211),\n ('strong', 211),\n ('including', 209),\n ('provide', 209),\n ('services', 208),\n ('ability', 201),\n ('contact', 200),\n ('position', 199),\n ('recruitment', 196),\n ('full', 194),\n ('benefits', 193),\n ('posted', 192),\n ('jobseeking', 191),\n ('originally', 191),\n ('clients', 187),\n ('include', 187),\n ('good', 187),\n ('essential', 186),\n ('information', 184)]"
     },
     "execution_count": 137,
     "metadata": {},
     "output_type": "execute_result"
    }
   ],
   "source": [
    "words = list(chain.from_iterable([set(description) for description in tk_description]))\n",
    "doc_fd = FreqDist(words)  # compute document frequency for each unique word/type\n",
    "top50MostFreqWords = doc_fd.most_common(50)\n",
    "top50MostFreqWords"
   ]
  },
  {
   "cell_type": "markdown",
   "metadata": {},
   "source": [
    "### --------> OBSERVATION:\n",
    "\n",
    "Each unique token is a key, and the value is its corresponding frequency. The list above contains the 50 most frequent words. We can see that it is mostly dominated by the stop words of the English language, which occurs in most job descriptions making it cliché, which tells us nothing about the meaning of the text.\n",
    "\n",
    "#### Cumulative Frequency Plot\n",
    "We use [matplotlib.lines.Line2D](https://matplotlib.org/stable/api/_as_gen/matplotlib.lines.Line2D.html)\n",
    "to generate a cumulative frequency plot for proportion of the text <font color=\"pink\"><b>fd.plot(50, cumulative=True)</b></font>. These 50 words account for about 13% (i.e., 13000/102975, where 102975 is the total number of tokens) of the entire Job Ad corpus."
   ]
  },
  {
   "cell_type": "code",
   "execution_count": 138,
   "metadata": {},
   "outputs": [
    {
     "data": {
      "text/plain": "<Figure size 2000x1000 with 1 Axes>",
      "image/png": "[encoded data removed]"
     },
     "metadata": {},
     "output_type": "display_data"
    }
   ],
   "source": [
    "# cumulative frequency plot for most common 50 words\n",
    "plt = doc_fd.plot(50, cumulative=True, color='pink')\n",
    "# # save the figure inside the folder `media/figure`\n",
    "plt.figure.savefig('media/figure/cumulative_frequency.png', dpi=300, bbox_inches='tight')\n",
    "show()"
   ]
  },
  {
   "cell_type": "markdown",
   "metadata": {},
   "source": [
    "### -----------> OBSERVATION:\n",
    "\n",
    "From the previous printout of the most frequent words, we can see there might be some quite useful words. Before we decide to remove those words from our vocabulary, it might be worth checking what those words mean and the context of those words. \n",
    "\n",
    "Fortunately, NLTK provides a concordance function in the `nltk.text` module. A **concordance** view shows us every occurrence of a given the word, together with the corresponding context. For example:"
   ]
  },
  {
   "cell_type": "code",
   "execution_count": 139,
   "metadata": {},
   "outputs": [
    {
     "name": "stdout",
     "output_type": "stream",
     "text": [
      "Displaying 25 of 214 matches:\n",
      "nt cv users hospital care uptodate training conditions dedication dependent da\n",
      "husiastic planned hospital care uk training hpc echadwickeclypserecruitment wh\n",
      "ring maintain possibility positive training counties drive extremely face pass\n",
      " financial workshop areas maintain training extremely assessment days resource\n",
      "es financial talented presentation training path face resources phone horsham \n",
      "ay order ensuring driven easily uk training buying build drive whilst weekdays\n",
      "territory periods chain specialist training head uk resource erp problem enabl\n",
      "pancy maintain audits care promote training reviews staff total daily director\n",
      " areas managerial maintain care uk training staff resource effect conditions c\n",
      "es senior ideal users crawley care training staff advantageous sussex forward \n",
      "ls cv huddersfield specialist care training uk subject street nursing covering\n",
      "es financial interest enthusiastic training professionals drive build extremel\n",
      "r development ph working aerospace training applicant opportunity paying engin\n",
      "iew developed popular driven press training uk completion daily platforms days\n",
      "hift check enhances providing care training pattern caring life literacy indep\n",
      "oucestershire vendor detail ledger training problem organisational advantageou\n",
      "d group portfolio chain specialist training metal electronics control packagin\n",
      " licence work care working workers training applicant staff team sector ongoin\n",
      "re ad ensuring presentation driven training uk players content conjunction inv\n",
      "unts vat senior ad promotion mixed training staff management rapidly internati\n",
      "hing health industry care flexible training undertake remain daily person home\n",
      "privately decision talented driven training uk players involves build division\n",
      "ies territory decision driven care training leaders days exceptional managers \n",
      " majority pure developed audits uk training staff thames superb days subsidiar\n",
      "ng building bms developed maintain training uk bmsgraduates daily leaders prof\n"
     ]
    }
   ],
   "source": [
    "textList = nltk.Text(words) # Create the text of tokens\n",
    "textList.concordance('training') # shows the concordance view of the token 'said'"
   ]
  },
  {
   "cell_type": "code",
   "execution_count": 140,
   "metadata": {},
   "outputs": [
    {
     "name": "stdout",
     "output_type": "stream",
     "text": [
      "Vocabulary size:  5218\n",
      "Total number of tokens:  102975\n",
      "Lexical diversity:  0.05067249332362224\n",
      "Total number of description: 776\n",
      "Average description length: 132.69974226804123\n",
      "Maximum description length: 471\n",
      "Minimum description length: 12\n",
      "Standard deviation of description length: 70.3782402519735\n"
     ]
    }
   ],
   "source": [
    "def removeMostFreqWords(description):\n",
    "    return [w for w in description if w not in top50MostFreqWords]\n",
    "\n",
    "tk_description = [removeMostFreqWords(description) for description in tk_description]\n",
    "\n",
    "stats_print(tk_description)"
   ]
  },
  {
   "cell_type": "markdown",
   "metadata": {},
   "source": [
    "### The Updated Statistics\n",
    "In the above, we have done all required pre-processed steps, now let's have a look at the statistics again:"
   ]
  },
  {
   "cell_type": "code",
   "execution_count": 141,
   "metadata": {
    "jupyter": {
     "outputs_hidden": false
    }
   },
   "outputs": [
    {
     "name": "stdout",
     "output_type": "stream",
     "text": [
      "The final statistic description after pre-processing:\n",
      "\n",
      "Vocabulary size:  5218\n",
      "Total number of tokens:  102975\n",
      "Lexical diversity:  0.05067249332362224\n",
      "Total number of description: 776\n",
      "Average description length: 132.69974226804123\n",
      "Maximum description length: 471\n",
      "Minimum description length: 12\n",
      "Standard deviation of description length: 70.3782402519735\n"
     ]
    }
   ],
   "source": [
    "print(f'The final statistic description after pre-processing:\\n')\n",
    "stats_print(tk_description)"
   ]
  },
  {
   "cell_type": "markdown",
   "metadata": {},
   "source": [
    "**Recall, from the beginning, we have the following:**  \n",
    "_____________________________________________\n",
    "\n",
    "+ Vocabulary size:  9834\n",
    "+ Total number of tokens:  186952\n",
    "+ Lexical diversity:  0.052601737344345076\n",
    "+ Total number of description: 776\n",
    "+ Average description length: 240.91752577319588\n",
    "+ Maximum description length: 815\n",
    "+ Minimum description length: 13\n",
    "+ Standard deviation of description length: 124.97750685071483\n",
    "_____________________________________________\n",
    "\n",
    "\n",
    "### ------------> OBSERVATION:\n",
    "\n",
    "**We've shrunk more than 53% of vocabulary size (number of types across the corpus).**\n",
    "\n",
    "* The total number of tokens across the corpus shrunk by more than 55%\n",
    "* The ratio of different unique words stems from a significantly reduced total number of tokens.  \n",
    "* The average number of the token (i.e., document length) in the dataset shrunk by more than 55%\n",
    "* The maximum Maximum description length decreases by about 58%\n",
    "* The minimum description length increases by 7.7%\n",
    "* The Standard deviation of description length shrunk by about 56%"
   ]
  },
  {
   "cell_type": "markdown",
   "metadata": {},
   "source": [
    "## Task 1.2.8 Save all job advertisement text and information \n",
    "+ Save the vocabulary, bigrams, and job advertisement txt format.\n",
    "+ We are going to store all the preprocessed description texts and their corresponding labels into files for task 2.\n",
    "\n",
    "#### `.txt` files\n",
    "* `description.txt`: all the tokenized descriptions are stored in a .txt file\n",
    "    * each line is a description text, which contains all the tokens of the description text, separated by a space ' '\n",
    "* `category.txt`: All the corresponding labels are stored in a .txt file\n",
    "    * each line is a label (one of these 4 values: 0,1,2,3)\n",
    "* `title.txt`: All the corresponding titles are stored in a .txt file\n",
    "    * each line is a title"
   ]
  },
  {
   "cell_type": "code",
   "execution_count": 142,
   "metadata": {
    "jupyter": {
     "outputs_hidden": false
    }
   },
   "outputs": [
    {
     "name": "stdout",
     "output_type": "stream",
     "text": [
      "Successfully saved description into saved_txt_files/data/description.txt\n",
      "Successfully saved category into saved_txt_files/data/category.txt\n",
      "Successfully saved title into saved_txt_files/data/title.txt\n"
     ]
    }
   ],
   "source": [
    "# save description text\n",
    "def save_description(descriptionFilename,tk_description):\n",
    "    out_file = open(descriptionFilename, 'w') # creates a txt file and open to save the descriptions\n",
    "    # join the tokens in an description with space, and write the obtained string to the txt document\n",
    "    string = \"\\n\".join([\" \".join(description) for description in tk_description]) \n",
    "    out_file.write(string)\n",
    "    out_file.close() # close the file\n",
    "\n",
    "# save the category corresponding with the description text\n",
    "def save_category(categoryFilename,category):\n",
    "    out_file = open(categoryFilename, 'w') # creates a txt file and open to save category\n",
    "    string = \"\\n\".join([str(s) for s in category])\n",
    "    out_file.write(string)\n",
    "    out_file.close() # close the file\n",
    "\n",
    "# save the title corresponding with the description text\n",
    "def save_title(titleFilename,title):\n",
    "    out_file = open(titleFilename, 'w') # creates a txt file and open to save title\n",
    "    string = \"\\n\".join([str(s) for s in title])\n",
    "    out_file.write(string)\n",
    "    out_file.close() # close the file\n",
    "\n",
    "# create a directory to save the data\n",
    "if not os.path.exists('saved_txt_files/data/'):\n",
    "    os.makedirs('saved_txt_files/data/')\n",
    "\n",
    "# save description into txt file\n",
    "descriptionFilename = \"saved_txt_files/data/description.txt\"\n",
    "save_description(descriptionFilename,tk_description)\n",
    "print(f'Successfully saved description into {descriptionFilename}')\n",
    "\n",
    "# save category into txt file\n",
    "categoryFilename = \"saved_txt_files/data/category.txt\"\n",
    "save_category(categoryFilename,category)\n",
    "print(f'Successfully saved category into {categoryFilename}')\n",
    "\n",
    "# save title into txt file\n",
    "titleFilename = \"saved_txt_files/data/title.txt\"\n",
    "save_title(titleFilename,title)\n",
    "print(f'Successfully saved title into {titleFilename}')"
   ]
  },
  {
   "cell_type": "markdown",
   "metadata": {
    "tags": []
   },
   "source": [
    "#### `.csv` file\n",
    "* `job_ad.csv`: store information into a Dataframe and save into a CSV file\n",
    "    * the dataframe contains 776 observations and 6 attributes including `Title`, `Webindex`, `Company`, `Description`, `Tokenized Description`,`Category`"
   ]
  },
  {
   "cell_type": "code",
   "execution_count": 143,
   "metadata": {},
   "outputs": [
    {
     "name": "stdout",
     "output_type": "stream",
     "text": [
      "Category at index 0: Accounting_Finance\n",
      "Category at index 1: Engineering\n",
      "Category at index 2: Healthcare_Nursing\n",
      "Category at index 3: Sales\n"
     ]
    }
   ],
   "source": [
    "# loop through the index of the target_names and print the category name\n",
    "for i in range(len(df['target_names'])):\n",
    "    print(f'Category at index {i}: {df[\"target_names\"][i]}')"
   ]
  },
  {
   "cell_type": "code",
   "execution_count": 144,
   "metadata": {},
   "outputs": [
    {
     "name": "stdout",
     "output_type": "stream",
     "text": [
      "<class 'pandas.core.frame.DataFrame'>\n",
      "RangeIndex: 776 entries, 0 to 775\n",
      "Data columns (total 8 columns):\n",
      " #   Column                 Non-Null Count  Dtype \n",
      "---  ------                 --------------  ----- \n",
      " 0   Webindex               776 non-null    int64 \n",
      " 1   Title                  776 non-null    object\n",
      " 2   Tokenized Title        776 non-null    object\n",
      " 3   Company                776 non-null    object\n",
      " 4   Tokenized Company      776 non-null    object\n",
      " 5   Description            776 non-null    object\n",
      " 6   Tokenized Description  776 non-null    object\n",
      " 7   Category               776 non-null    object\n",
      "dtypes: int64(1), object(7)\n",
      "memory usage: 48.6+ KB\n",
      "None\n"
     ]
    },
    {
     "data": {
      "text/plain": "   Webindex                                     Title  \\\n0  68997528  Finance / Accounts Asst Bromley to ****k   \n1  68063513               Fund Accountant  Hedge Fund   \n2  68700336                       Deputy Home Manager   \n\n                             Tokenized Title                     Company  \\\n0  [finance, accounts, asst, bromley, to, k]  First Recruitment Services   \n1            [fund, accountant, hedge, fund]           Austin Andrew Ltd   \n2                    [deputy, home, manager]                     Caritas   \n\n                Tokenized Company  \\\n0  [first, recruitment, services]   \n1           [austin, andrew, ltd]   \n2                       [caritas]   \n\n                                         Description  \\\n0  Accountant (partqualified) to **** p.a. South ...   \n1  One of the leading Hedge Funds in London is cu...   \n2  An exciting opportunity has arisen to join an ...   \n\n                               Tokenized Description            Category  \n0  [accountant, partqualified, south, east, londo...  Accounting_Finance  \n1  [leading, hedge, funds, london, recruiting, fu...  Accounting_Finance  \n2  [exciting, opportunity, arisen, join, establis...  Healthcare_Nursing  ",
      "text/html": "<div>\n<style scoped>\n    .dataframe tbody tr th:only-of-type {\n        vertical-align: middle;\n    }\n\n    .dataframe tbody tr th {\n        vertical-align: top;\n    }\n\n    .dataframe thead th {\n        text-align: right;\n    }\n</style>\n<table border=\"1\" class=\"dataframe\">\n  <thead>\n    <tr style=\"text-align: right;\">\n      <th></th>\n      <th>Webindex</th>\n      <th>Title</th>\n      <th>Tokenized Title</th>\n      <th>Company</th>\n      <th>Tokenized Company</th>\n      <th>Description</th>\n      <th>Tokenized Description</th>\n      <th>Category</th>\n    </tr>\n  </thead>\n  <tbody>\n    <tr>\n      <th>0</th>\n      <td>68997528</td>\n      <td>Finance / Accounts Asst Bromley to ****k</td>\n      <td>[finance, accounts, asst, bromley, to, k]</td>\n      <td>First Recruitment Services</td>\n      <td>[first, recruitment, services]</td>\n      <td>Accountant (partqualified) to **** p.a. South ...</td>\n      <td>[accountant, partqualified, south, east, londo...</td>\n      <td>Accounting_Finance</td>\n    </tr>\n    <tr>\n      <th>1</th>\n      <td>68063513</td>\n      <td>Fund Accountant  Hedge Fund</td>\n      <td>[fund, accountant, hedge, fund]</td>\n      <td>Austin Andrew Ltd</td>\n      <td>[austin, andrew, ltd]</td>\n      <td>One of the leading Hedge Funds in London is cu...</td>\n      <td>[leading, hedge, funds, london, recruiting, fu...</td>\n      <td>Accounting_Finance</td>\n    </tr>\n    <tr>\n      <th>2</th>\n      <td>68700336</td>\n      <td>Deputy Home Manager</td>\n      <td>[deputy, home, manager]</td>\n      <td>Caritas</td>\n      <td>[caritas]</td>\n      <td>An exciting opportunity has arisen to join an ...</td>\n      <td>[exciting, opportunity, arisen, join, establis...</td>\n      <td>Healthcare_Nursing</td>\n    </tr>\n  </tbody>\n</table>\n</div>"
     },
     "execution_count": 144,
     "metadata": {},
     "output_type": "execute_result"
    }
   ],
   "source": [
    "# convert job ad to a dataframe\n",
    "job_ad = pd.DataFrame({'Webindex': webindex, 'Title': title, 'Tokenized Title': tk_title, 'Company': company, 'Tokenized Company': tk_company, 'Description': description,'Tokenized Description': tk_description, 'Category': category})\n",
    "\n",
    "# updated column Tokenized Description\n",
    "job_ad['Tokenized Description'] = job_ad['Tokenized Description']\n",
    "\n",
    "# updated column & replace the value in Category \n",
    "job_ad['Category'] = job_ad['Category'].replace([0,1,2,3],['Accounting_Finance','Engineering','Healthcare_Nursing','Sales'])\n",
    "\n",
    "# updated column & cast Webindex to int\n",
    "job_ad['Webindex'] = job_ad['Webindex'].astype(int)\n",
    "\n",
    "# save job ad to csv file\n",
    "job_ad.to_csv('job_ad.csv', index=False)\n",
    "\n",
    "# print basic info about the job_ad data frame\n",
    "print(job_ad.info())\n",
    "\n",
    "# print first 3 rows\n",
    "job_ad.head(3)"
   ]
  },
  {
   "cell_type": "markdown",
   "metadata": {},
   "source": [
    "## Task 1.2.9 Build a vocabulary of the cleaned job advertisement descriptions\n",
    "\n",
    "`vocab.txt`\n",
    "\n",
    "This file contains the unigram vocabulary, one each line, in the following format: `word_string:word_integer_index` sorted in **alphabetical order**, and the **index value starts from 0**. This file is the key to interpreting sparse encoding. For instance, in the following example, the word `benefit` is the word_string word (the corresponding integer_index as 4) in the vocabulary. "
   ]
  },
  {
   "cell_type": "code",
   "execution_count": 145,
   "metadata": {
    "tags": []
   },
   "outputs": [
    {
     "name": "stdout",
     "output_type": "stream",
     "text": [
      "['aap', 'aaron', 'aat', 'abb', 'abenefit', 'aberdeen', 'abi', 'abilities', 'ability', 'abreast']\n"
     ]
    }
   ],
   "source": [
    "def write_vocab(vocab, filename):\n",
    "    with open(filename, 'w') as f:  # creates a txt file open in write mode\n",
    "        for i, word in enumerate(vocab):\n",
    "            # write each index and vocabulary word, note that index start from 0\n",
    "            f.write(word + ':' + str(i) + '\\n')\n",
    "            \n",
    "# convert tokenized description into a alphabetically sorted list\n",
    "vocab = sorted(list(set(chain.from_iterable(tk_description))))\n",
    "\n",
    "# save the sorted vocabulary list into a file according to the required format\n",
    "write_vocab(vocab, 'saved_txt_files/vocab.txt')\n",
    "\n",
    "\n",
    "# print out the first 10 words in the vocabulary to test\n",
    "print(vocab[:10])"
   ]
  },
  {
   "cell_type": "markdown",
   "metadata": {},
   "source": [
    "### [Convert all `.ipynb` notebooks in the same directory into `.py` files](https://nbconvert.readthedocs.io/en/latest/usage.html#reveal-js-html-slideshow)"
   ]
  },
  {
   "cell_type": "code",
   "execution_count": 146,
   "metadata": {
    "jupyter": {
     "outputs_hidden": false
    }
   },
   "outputs": [],
   "source": [
    "# # The .py format of the jupyter notebook\n",
    "# for fname in os.listdir():\n",
    "#     if fname.endswith('.ipynb'):\n",
    "#         os.system(f'jupyter nbconvert {fname} --to script')"
   ]
  },
  {
   "cell_type": "markdown",
   "metadata": {},
   "source": [
    "<h3 style=\"color:#ffc0cb;font-size:50px;font-family:Georgia;text-align:center;\"><strong>1.3 Summary</strong></h3>\n",
    "\n",
    "We have demonstrated the basic text pre-processing steps of sentence segmentation and tokenization. We have covered the fundamentals of text pre-processing steps: \n",
    "> + Case Normalization, \n",
    "> + Stop Word Removing, \n",
    "> + Words base on term frequency and document frequency Removing, \n",
    "> + Regex Tokenization\n",
    "\n",
    "We also performed basic text pre-processing for title and company for task 3\n",
    "\n",
    "There is no one ideal approach to text pre-processing. It all relies on the corpus and the type of text analysis we're going to do. What qualifies as a token is the main concern of the tokenization process—some text analysis tasks. As previously noted, even if these actions have varied effects on the text, they all have one thing in common: they all result in smaller vocabulary sizes."
   ]
  },
  {
   "cell_type": "markdown",
   "metadata": {},
   "source": [
    "> # Discussion\n",
    "\n",
    ">> * The stopword removal technique requires extra consideration of **negative sentences**. In some cases, removing stop words from a phrase might eliminate important details and change the statement's context. For instance, while conducting a sentiment analysis, the term \"not,\" despite being a stop word, contains crucial information because \"do\" and \"not do\" clearly have radically different meanings. Failure to eliminate the stop word might ruin the purpose of the whole context and confuse the algorithm. We must constantly carefully analyze these circumstances and build our list of \"stop phrases\" to be eliminated to fit our goals.\n",
    "\n",
    ">> * For larger data sizes, it is highly recommended to reduce the vocabulary size further to either **Stemming or Lemmatization** of the words to their roots.\n",
    "\n",
    ">> * The downstream analysis will determine how we should treat the text. Should we pre-process the `title` information if we put it into the classification model? Or ought we only concentrate on the `description` itself? Based on the analytical work's objectives, we can choose the appropriate downstream analysis task. For instance, we may use the whole document when doing tasks like document classification and clustering. In contrast, performing functions like document summary and information retrieval, a smaller unit, such as a paragraph or phrase, may be used."
   ]
  },
  {
   "cell_type": "markdown",
   "metadata": {},
   "source": [
    "<h3 style=\"color:#ffc0cb;font-size:50px;font-family:Georgia;text-align:center;\"><strong>1.4 References</strong></h3>\n",
    "\n",
    "\n",
    "+ [1] Sentence boundary disambiguation. https://en.wikipedia.org/wiki/Sentence_boundary_disambiguation\n",
    "+ [2] Tokenization. https://nlp.stanford.edu/IR-book/html/htmledition/tokenization-1.html  \n",
    "+ [3] wer Guide to Natural Language Processing (NLP). https://towardsdatascience.com/wer-guide-to-natural-language-processing-nlp-48ea2511f6e1  \n",
    "+ [4] Introduction to Natural Language Processing for Text. https://towardsdatascience.com/introduction-to-natural-language-processing-for-text-df845750fb63  \n",
    "+ [5] [Accessing Text Corpora and Lexical Resources](http://www.nltk.org/book/ch02.html): Chapter 2 of \"Natural Language Processing with Python\" By Steven Bird, Ewan Kelin & Edward Loper.  \n",
    "+ [6]. [Corpus Readers](http://www.nltk.org/howto/corpus.html#tagged-corpora): An NLTK tutorial on accessing the contents of a diverse set of corpora.\n",
    "+ [7] Stop words. https://en.wikipedia.org/wiki/Stop_word  \n",
    "+ [8] Bird, Steven, Edward Loper and Ewan Klein (2009), [Natural Language Processing with Python](http://www.nltk.org/book/). O’Reilly Media Inc.  \n",
    "+ [9] Convert script to Python file. https://nbconvert.readthedocs.io/en/latest/usage.html#reveal-js-html-slideshow\n",
    "+ [10] matplotlib.lines.Line2D. https://matplotlib.org/stable/api/_as_gen/matplotlib.lines.Line2D.html\n",
    "+ [11] lexical diversity. https://en.wikipedia.org/wiki/Lexical_diversity"
   ]
  }
 ],
 "metadata": {
  "kernelspec": {
   "display_name": "Python 3 (ipykernel)",
   "language": "python",
   "name": "python3"
  },
  "language_info": {
   "codemirror_mode": {
    "name": "ipython",
    "version": 3
   },
   "file_extension": ".py",
   "mimetype": "text/x-python",
   "name": "python",
   "nbconvert_exporter": "python",
   "pygments_lexer": "ipython3",
   "version": "3.10.4"
  },
  "vscode": {
   "interpreter": {
    "hash": "31f2aee4e71d21fbe5cf8b01ff0e069b9275f58929596ceb00d14d90e3e16cd6"
   }
  }
 },
 "nbformat": 4,
 "nbformat_minor": 4
}
