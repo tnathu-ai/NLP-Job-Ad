{
 "cells": [
  {
   "cell_type": "markdown",
   "metadata": {
    "pycharm": {
     "name": "#%% md\n"
    }
   },
   "source": [
    "# Assignment 2: Milestone I Natural Language Processing\n",
    "\n",
    "<h3 style=\"color:#ffc0cb;font-size:50px;font-family:Georgia;text-align:center;\"><strong>Task 1. Text Pre-processing</strong></h3>\n",
    "\n",
    "#### Student Name: Tran Ngoc Anh Thu\n",
    "#### Student ID: s3879312\n",
    "\n",
    "Date: \"October 2, 2022\"\n",
    "\n",
    "Version: 1.0\n",
    "\n",
    "Environment: Python 3 and Jupyter notebook\n",
    "\n",
    "Libraries used (please go to `requirements.txt` file for further details)\n",
    "* sklearn\n",
    "* collections\n",
    "* re\n",
    "* numpy\n",
    "* nltk\n",
    "* itertools\n",
    "* pandas\n",
    "* os\n",
    "* pylab\n",
    "* collections\n",
    "\n",
    "## Steps\n",
    "+ 1.1. Examining and loading data\n",
    "\n",
    "+ 1.2. Basic Text Pre-processing\n",
    "    * 1.2.1. Extract information from each job advertisement. Perform the following pre-processing steps to the description of each job advertisement;\n",
    "    * 1.2.2. Tokenize each job advertisement description. The word tokenization must use the following regular expression:\n",
    "    ```python\n",
    "    pattern = r\"[a-zA-Z]+(?:[-'][a-zA-Z]+)?\" \n",
    "    ```\n",
    "    * 1.2.3. All the words must be converted into the lower case;\n",
    "    * 1.2.4. Remove words with length less than 2.\n",
    "    * 1.2.5. Remove stopwords using the provided stop words list (i.e, stopwords_en.txt). It is located inside the same downloaded folder.\n",
    "    * 1.2.6. Remove the word that appears only once in the document collection, based on term frequency.\n",
    "    * 1.2.7. Remove the top 50 most frequent words based on document frequency.\n",
    "    * 1.2.8. Save all job advertisement text and information in txt file(s) \n",
    "    * 1.2.9. Build a vocabulary of the cleaned job advertisement descriptions, save it in a txt file (please refer to the required output)\n",
    "    \n",
    "+ 1.3. Summary\n",
    "> * Discussion\n",
    "      \n",
    "+ 1.4. References\n",
    "\n",
    "\n",
    "## Introduction\n",
    "\n",
    "Several websites for finding a job, like au.indeed.com and seek.com.au using keywords, salaries, and job categories, job seekers may search for appropriate positions on any job search website. Previously, the advertiser frequently manually entered an advertised job's type. As a result, the inappropriate employment class did not receive adequate exposure to the appropriate candidate groups.\n",
    "\n",
    "Automated job classification is now possible because of technological advancements in text pre-processing and analysis, which gives marketers logical options for job categories. This can enhance the user experience of the job-hunting website, decrease human data input errors, and expose more qualified candidates to open positions. We want an automated job advertising categorization system that aids in anticipating the categories of recently entered job adverts to achieve this.\n",
    "\n",
    "NLP uses a hierarchy to determine which groups of words and sentences belong to each other. The smallest level of text is a token which can be a sentence or an individual word. A group of tokens is called a document, for instance each text file containing job description. A group of documents is called a corpus, in this case the job category folder which containng several job adverisement files inside . Finally, a group of corpus is called a corpora, which can be several job categories we wish to compare and evaluate.\n",
    "\n",
    "In this **task1** notebook, we are going to explore a job advertisement data set, and focus on pre-processing the description only. In the next task **task2_3**, we will then use the pre-processed text reviews to generate data features and build classification models to predict the job's category.\n",
    "\n",
    "## Dataset\n",
    "+ A small collection of job advertisement documents (around 776 jobs) inside the `data` folder.\n",
    "+ Inside the data folder, there are four different sub-folders: Accounting_Finance, Engineering, Healthcare_Nursing, and Sales, representing a job category.\n",
    "+ The job advertisement text documents of a particular category are in the corresponding sub-folder.\n",
    "+ Each job advertisement document is a txt file named `Job_<ID>.txt`. It contains the title, the webindex (some will also have information on the company name, some might not), and the full description of the job advertisement.\n",
    "\n"
   ]
  },
  {
   "cell_type": "markdown",
   "metadata": {
    "pycharm": {
     "name": "#%% md\n"
    }
   },
   "source": [
    "## Importing libraries & packages\n",
    "\n",
    "Install packages to the local environment for the whole project with `pip install -r requirements.txt`"
   ]
  },
  {
   "cell_type": "code",
   "execution_count": 1,
   "metadata": {
    "pycharm": {
     "name": "#%%\n"
    }
   },
   "outputs": [
    {
     "name": "stderr",
     "output_type": "stream",
     "text": [
      "[nltk_data] Downloading package punkt to /Users/tnathu-ai/nltk_data...\n",
      "[nltk_data]   Package punkt is already up-to-date!\n"
     ]
    }
   ],
   "source": [
    "import nltk\n",
    "nltk.download('punkt')\n",
    "\n",
    "from sklearn.datasets import load_files\n",
    "from collections import Counter\n",
    "from nltk import RegexpTokenizer\n",
    "from nltk.tokenize import sent_tokenize\n",
    "from itertools import chain\n",
    "from matplotlib import pyplot as plt\n",
    "from nltk.corpus import brown\n",
    "from nltk import FreqDist\n",
    "from pylab import *\n",
    "\n",
    "# import code as a function\n",
    "from src.utils import *\n",
    "\n",
    "# import libraries\n",
    "import numpy as np\n",
    "import pandas as pd\n",
    "import re\n",
    "import os\n",
    "\n",
    "# ignore warning\n",
    "import warnings\n",
    "warnings.filterwarnings('ignore')\n",
    "\n",
    "# set desired matplotlib gloabal figure size\n",
    "plt.rcParams[\"figure.figsize\"] = (20,10)"
   ]
  },
  {
   "cell_type": "code",
   "execution_count": 2,
   "metadata": {
    "pycharm": {
     "name": "#%%\n"
    }
   },
   "outputs": [
    {
     "name": "stdout",
     "output_type": "stream",
     "text": [
      "Numpy version:  1.21.5\n",
      "Pandas version:  1.4.2\n",
      "Python 3.9.12\n"
     ]
    }
   ],
   "source": [
    "# check the version of the main packages\n",
    "print(\"Numpy version: \", np.__version__)\n",
    "print(\"Pandas version: \",pd.__version__)\n",
    "! python --version"
   ]
  },
  {
   "cell_type": "markdown",
   "metadata": {
    "pycharm": {
     "name": "#%% md\n"
    },
    "tags": []
   },
   "source": [
    "<h3 style=\"color:#ffc0cb;font-size:50px;font-family:Georgia;text-align:center;\"><strong>1.1 Examining and loading data</strong></h3>\n",
    "\n",
    "\n",
    "Before doing any pre-processing, we need to load the data into a proper format. \n",
    "\n",
    "+ To load the data, we have to explore the data folder. Inside the `data` folder:`Accounting_Finance`, `Engineering`,`Healthcare_Nursing`, and `Sales`, each folder name is a job category.\n",
    "+ The job advertisement text documents of a particular category are located in the corresponding subfolder as its category.\n",
    "+ Each job advertisement document is a txt file, named as \"Job_<ID>.txt\". It contains the title, the webindex,(some will also have information on the company name, some might not), and the full description of the job advertisement. \n",
    "\n",
    "In this case, providing that the dataset is given in a very well organised way, we would use a super handy API [`load_files`](https://scikit-learn.org/stable/modules/generated/sklearn.datasets.load_files.html) from `sklearn.datasets`. \n",
    "    \n",
    "**import the function by:**\n",
    "```python\n",
    "from sklearn.datasets import load_files  \n",
    "```\n",
    "\n",
    "Then directly load the data and labels, for example:\n",
    "```python\n",
    "df = load_files(r\"data\")  \n",
    "```\n",
    "\n",
    "The loaded `data` is then a dictionary, with the following attributes:\n",
    "\n",
    "| **ATTRIBUTES**   | **DESCRIPTION**                                           |\n",
    "|--------------|---------------------------------------------------------------|\n",
    "| Webindex     | 8 digit Id of the job advertisement on the website            |\n",
    "| Title        | Title of the advertised job position                          |\n",
    "| Company      | Company (test_indexloyer) of the advertised job position      |\n",
    "| Description  | the description of each job advertisement                     |\n",
    "| Category     | The category of the advertised job position                   |"
   ]
  },
  {
   "cell_type": "code",
   "execution_count": 3,
   "metadata": {
    "pycharm": {
     "name": "#%%\n"
    }
   },
   "outputs": [
    {
     "name": "stdout",
     "output_type": "stream",
     "text": [
      "Data type of the loaded data and labels using sklearn API: <class 'sklearn.utils.Bunch'>\n"
     ]
    }
   ],
   "source": [
    "# load each folder and file inside the data folder\n",
    "df = load_files(r\"data\")\n",
    "\n",
    "# type of the loaded file\n",
    "print(f'Data type of the loaded data and labels using sklearn API: {type(df)}')"
   ]
  },
  {
   "cell_type": "code",
   "execution_count": 4,
   "metadata": {
    "pycharm": {
     "name": "#%%\n"
    }
   },
   "outputs": [
    {
     "data": {
      "text/plain": [
       "array([0, 0, 2, 0, 2, 1, 2, 0, 3, 3, 0, 0, 1, 3, 1, 3, 3, 1, 3, 2, 2, 2,\n",
       "       3, 3, 0, 2, 2, 2, 0, 2, 3, 1, 2, 0, 1, 3, 3, 1, 1, 0, 2, 2, 2, 2,\n",
       "       0, 0, 2, 1, 3, 1, 1, 2, 2, 3, 0, 0, 1, 0, 2, 2, 3, 3, 3, 0, 3, 0,\n",
       "       1, 2, 3, 1, 3, 2, 3, 1, 3, 2, 1, 3, 2, 1, 3, 2, 2, 1, 0, 1, 1, 1,\n",
       "       3, 0, 3, 1, 3, 2, 2, 0, 2, 3, 2, 1, 0, 1, 1, 2, 0, 3, 0, 1, 3, 2,\n",
       "       1, 2, 0, 3, 1, 1, 1, 1, 1, 1, 1, 1, 3, 1, 1, 1, 1, 1, 3, 1, 1, 3,\n",
       "       2, 0, 0, 1, 3, 2, 0, 1, 0, 3, 1, 2, 1, 0, 0, 0, 3, 0, 1, 2, 3, 1,\n",
       "       1, 1, 2, 1, 0, 1, 0, 1, 0, 1, 1, 2, 0, 2, 2, 0, 2, 3, 2, 2, 0, 2,\n",
       "       1, 0, 1, 1, 1, 3, 1, 3, 1, 0, 3, 1, 0, 2, 0, 0, 2, 1, 1, 0, 1, 3,\n",
       "       0, 1, 1, 3, 0, 1, 0, 2, 3, 0, 2, 0, 1, 0, 1, 3, 1, 0, 1, 1, 0, 1,\n",
       "       0, 1, 2, 1, 3, 1, 2, 3, 1, 1, 2, 0, 0, 1, 2, 0, 3, 2, 3, 2, 2, 3,\n",
       "       0, 1, 1, 1, 1, 1, 1, 0, 3, 1, 1, 0, 0, 2, 1, 2, 2, 2, 2, 1, 3, 1,\n",
       "       2, 1, 2, 3, 2, 3, 0, 1, 3, 0, 2, 1, 0, 2, 1, 2, 0, 2, 1, 1, 1, 2,\n",
       "       2, 1, 2, 0, 2, 2, 1, 2, 0, 1, 0, 0, 3, 2, 1, 3, 0, 3, 1, 2, 0, 1,\n",
       "       0, 0, 0, 0, 2, 2, 0, 0, 2, 1, 2, 0, 0, 1, 2, 3, 1, 3, 2, 0, 2, 2,\n",
       "       1, 3, 1, 0, 1, 2, 3, 1, 0, 0, 1, 1, 0, 2, 1, 3, 2, 3, 3, 1, 3, 1,\n",
       "       2, 1, 1, 2, 2, 3, 3, 2, 2, 1, 1, 2, 0, 2, 3, 0, 0, 1, 0, 1, 2, 1,\n",
       "       1, 3, 0, 2, 0, 1, 3, 1, 3, 2, 0, 2, 1, 3, 0, 0, 0, 3, 3, 0, 2, 3,\n",
       "       3, 1, 3, 0, 1, 0, 3, 1, 3, 1, 3, 2, 1, 1, 2, 3, 0, 0, 3, 3, 3, 1,\n",
       "       2, 2, 3, 0, 0, 0, 1, 0, 2, 1, 3, 2, 1, 2, 2, 1, 2, 2, 0, 0, 2, 3,\n",
       "       2, 1, 2, 3, 1, 2, 1, 0, 1, 2, 1, 2, 0, 3, 2, 3, 2, 3, 0, 0, 3, 2,\n",
       "       0, 2, 1, 3, 0, 3, 2, 1, 1, 2, 1, 2, 3, 1, 1, 1, 3, 1, 2, 1, 0, 0,\n",
       "       3, 0, 2, 2, 3, 3, 0, 3, 1, 1, 2, 2, 2, 3, 2, 1, 1, 0, 2, 3, 0, 0,\n",
       "       0, 0, 2, 1, 3, 0, 2, 1, 2, 2, 3, 1, 2, 0, 2, 0, 3, 2, 1, 2, 2, 3,\n",
       "       1, 1, 0, 2, 2, 1, 1, 3, 0, 1, 0, 0, 2, 3, 3, 0, 0, 1, 1, 2, 3, 3,\n",
       "       3, 0, 0, 2, 3, 1, 3, 1, 3, 3, 1, 0, 0, 0, 1, 0, 3, 1, 2, 2, 1, 1,\n",
       "       0, 1, 2, 2, 3, 3, 3, 1, 2, 3, 1, 0, 1, 3, 3, 3, 3, 1, 0, 0, 1, 1,\n",
       "       0, 1, 0, 0, 1, 2, 2, 1, 3, 2, 2, 2, 1, 2, 1, 0, 2, 1, 2, 2, 0, 2,\n",
       "       0, 0, 0, 0, 2, 2, 2, 0, 1, 1, 3, 1, 2, 1, 2, 0, 1, 1, 1, 1, 0, 2,\n",
       "       3, 1, 1, 2, 3, 2, 0, 1, 3, 3, 1, 3, 0, 0, 0, 1, 0, 0, 0, 0, 0, 0,\n",
       "       1, 2, 1, 0, 2, 0, 2, 0, 1, 0, 0, 3, 2, 1, 2, 1, 1, 1, 2, 2, 1, 1,\n",
       "       1, 2, 1, 0, 3, 3, 0, 2, 1, 2, 1, 1, 3, 0, 0, 0, 3, 0, 1, 1, 0, 3,\n",
       "       2, 2, 1, 0, 0, 2, 0, 1, 0, 1, 1, 3, 2, 0, 2, 1, 1, 1, 2, 2, 0, 3,\n",
       "       0, 0, 0, 2, 2, 3, 0, 1, 3, 2, 2, 3, 3, 1, 1, 2, 0, 3, 0, 0, 2, 2,\n",
       "       3, 0, 0, 2, 3, 3, 0, 0, 2, 2, 3, 1, 1, 2, 2, 0, 2, 3, 1, 3, 0, 1,\n",
       "       3, 3, 1, 3, 2, 3])"
      ]
     },
     "execution_count": 4,
     "metadata": {},
     "output_type": "execute_result"
    }
   ],
   "source": [
    "df['target'] # this corresponding to the index value of the 4 categories"
   ]
  },
  {
   "cell_type": "code",
   "execution_count": 5,
   "metadata": {
    "pycharm": {
     "name": "#%%\n"
    }
   },
   "outputs": [
    {
     "data": {
      "text/plain": [
       "['Accounting_Finance', 'Engineering', 'Healthcare_Nursing', 'Sales']"
      ]
     },
     "execution_count": 5,
     "metadata": {},
     "output_type": "execute_result"
    }
   ],
   "source": [
    "# Name of the categories\n",
    "df['target_names'] # this corresponding to the name value of the 4 categories"
   ]
  },
  {
   "cell_type": "code",
   "execution_count": 6,
   "metadata": {
    "collapsed": false,
    "jupyter": {
     "outputs_hidden": false
    },
    "pycharm": {
     "name": "#%%\n"
    }
   },
   "outputs": [
    {
     "name": "stdout",
     "output_type": "stream",
     "text": [
      "Category at index 0: Accounting_Finance\n",
      "Category at index 1: Engineering\n",
      "Category at index 2: Healthcare_Nursing\n",
      "Category at index 3: Sales\n"
     ]
    }
   ],
   "source": [
    "# loop through the index of the target_names and print the category name\n",
    "for i in range(len(df['target_names'])):\n",
    "    print(f'Category at index {i}: {df[\"target_names\"][i]}')"
   ]
  },
  {
   "cell_type": "markdown",
   "metadata": {
    "pycharm": {
     "name": "#%% md\n"
    }
   },
   "source": [
    "**Create temporary variable and assign a number for testing at that index**\n",
    "\n",
    "`test_index` is a number to test whether the attribute at that position matches the desired outputs. So we don't need to print to whole lengthly output each test and void memory problems"
   ]
  },
  {
   "cell_type": "code",
   "execution_count": 7,
   "metadata": {
    "pycharm": {
     "name": "#%%\n"
    }
   },
   "outputs": [
    {
     "data": {
      "text/plain": [
       "('data/Healthcare_Nursing/Job_00491.txt', 2)"
      ]
     },
     "execution_count": 7,
     "metadata": {},
     "output_type": "execute_result"
    }
   ],
   "source": [
    "test_index = 20 # an example to test for the whole task outputs.\n",
    "\n",
    "df['filenames'][test_index], df['target'][test_index] "
   ]
  },
  {
   "cell_type": "markdown",
   "metadata": {
    "pycharm": {
     "name": "#%% md\n"
    }
   },
   "source": [
    "### --------------> OBSERVATION\n",
    "from the file path and the label we can manually check it's the correct label"
   ]
  },
  {
   "cell_type": "code",
   "execution_count": 8,
   "metadata": {
    "pycharm": {
     "name": "#%%\n"
    }
   },
   "outputs": [
    {
     "name": "stdout",
     "output_type": "stream",
     "text": [
      "Job description: b'Title: PERM Unit Mgr RGN Kid minster Flexi ****K due\\nWebindex: 71692209\\nDescription: Job Title: Unit Manager Reporting to: Registered Manager Job Purpose: To manage in a professional manner the day to day running of the home\\xe2\\x80\\x99s administration, clinical policies and procedures, training and care planning. To implement working practices that monitors the health and welfare of the home\\xe2\\x80\\x99s service users and staff and their respective environments. To promote quality care within a warm friendly ambience. Key Result Areas Managing To work with the Directors to achieve the home\\xe2\\x80\\x99s financial targets. To manage the home in a manner which will not bring the home or service users into disrepute. To maintain confidentiality on all aspects of care and staff management. To ensure all the home\\xe2\\x80\\x99s policies and procedures are implemented and followed by all staff. To inform the Registered Manager immediately if a serious difficulty or event occurs. Managing Support To delegate responsibility effectively and within legal boundaries. To ensure through clinical standards and audits that good practice is maintained throughout the home. Nursing Duties To perform nursing duties that reflect current best practice and keep abreast of latest developments To inform the Registered Manager of any nursing and medical matters affecting the service user\\xe2\\x80\\x99s care. To assist service users with personal care which includes; using the bath / bed bath or shower, feet and nail care, hair care, shaving, mouth care, denture care, toileting needs, all daily activities as per individual care plans including tidying bed and room. To assist clients with their psychological needs, which includes; talking, listening, excursions, liaising with family, assisting with hobbies and recreation activities. To care for the service user as an individual and maintain a high level of care for their particular condition ensuring physical needs, comfort and dignity are met. To care for service user\\xe2\\x80\\x99s at their end of life in a respectful and dignified manner. To administer medication strictly in accordance with the Drug Administration policy and NMC guidelines. To assist the Registered Manager in ensuring adequate supplies of medication and correct storage as per the medication policy. To assist with serving meals and other domestic duties such as laundry, occasional cleaning etc. To deal with any internal or external communications from service users or third parties. To ensure all documentation is kept up to date and recorded accurately. To maintain records / care plans as required by the Care Quality Commission. Business Management To work both with the Directors and independently to generate enquiries and proactively deal with members of the public, and care / medical professionals, to ensure a high level of occupancy rates. To manage and have a working knowledge of the Home\\xe2\\x80\\x99s Policies and Procedures and ensure they are maintained at all times. To promote and act strictly in accordance with the Home\\xe2\\x80\\x99s Health and Safety Policy and ensure good Health and Safety practice within the working environment to comply with COSHH / RIDDOR / Environmental Health / Fire regulations and the Care Standards Act. To bring to the Directors immediate attention any item of Health and Safety importance that would be of concern and potentially needing prompt action. To have an in depth operational knowledge of all emergency procedures and ensure they are cascaded down through all the staff and service users. To attend staff meetings as arranged and to ensure other staff informed of items discussed and decisions made. To attend at least 21 hours per annum of compulsory training outlined by your personal development plan. To participate in regular reviews and an annual appraisal in order to develop your training needs in relation to skills and knowledge. To promote the good name of the Home at all times. To cover colleagues duties in times of sickness and holidays. To develop and share ideas for the improvement of practice within the home. To implement change sensitively but effectively. To replenish stocks and exercise cost / stock control. To operate within the guidelines of the Data Protection Act and ensure total confidentiality, especially with regards to staff and service users. Managing People To assist and supervise staff training. To be responsible for covering staff absences and managing disputes where appropriate. To ensure all staff contribute to the best of their ability to the efficient running of the home and that high standards are maintained. To ensure staff have the qualifications and training necessary for the duties they perform. To ensure all staff have two monthly reviews and an annual appraisal as per company policy. FURTHER DUTIES: In addition to the responsibilities listed above it may be necessary to perform other duties as required by the Home\\xe2\\x80\\x99s management or senior staff. Consideration will be given to your skills and status when given these duties. NOTE: It is expected that all duties carried out will be performed in a spirit of cooperation required from a dedicated efficient team whose prime aim is to make the service user\\xe2\\x80\\x99s stay as comfortable and enjoyable as possible.'\n",
      "\n",
      "Corresponding to the label 2 inside the data/Healthcare_Nursing/Job_00491.txt directory\n"
     ]
    }
   ],
   "source": [
    "# assign variables\n",
    "full_description, category, directory = df.data, df.target, df.filenames\n",
    "\n",
    "# the test_index job advertisement description\n",
    "print(f'Job description: {full_description[test_index]}\\n\\nCorresponding to the label {category[test_index]} inside the {directory[test_index]} directory')"
   ]
  },
  {
   "cell_type": "markdown",
   "metadata": {
    "pycharm": {
     "name": "#%% md\n"
    }
   },
   "source": [
    "### ------> OBSERVATION:\n",
    "\n",
    "As we can see, the current description is in the **binary** form and read as a byte object (a `b` in front of each description text). Therefore, we need to decode it into the normal string for further pre-processing. This is because the tokenizer cannot apply a string pattern on a bytes-like object. To resolve this, we decode each read `full_description` text using `utf-8` by writing a decode function.\n",
    "\n",
    "### Decode the description"
   ]
  },
  {
   "cell_type": "code",
   "execution_count": 9,
   "metadata": {
    "collapsed": false,
    "jupyter": {
     "outputs_hidden": false
    },
    "pycharm": {
     "name": "#%%\n"
    }
   },
   "outputs": [
    {
     "data": {
      "text/plain": [
       "'Title: PERM Unit Mgr RGN Kid minster Flexi ****K due\\nWebindex: 71692209\\nDescription: Job Title: Unit Manager Reporting to: Registered Manager Job Purpose: To manage in a professional manner the day to day running of the home’s administration, clinical policies and procedures, training and care planning. To implement working practices that monitors the health and welfare of the home’s service users and staff and their respective environments. To promote quality care within a warm friendly ambience. Key Result Areas Managing To work with the Directors to achieve the home’s financial targets. To manage the home in a manner which will not bring the home or service users into disrepute. To maintain confidentiality on all aspects of care and staff management. To ensure all the home’s policies and procedures are implemented and followed by all staff. To inform the Registered Manager immediately if a serious difficulty or event occurs. Managing Support To delegate responsibility effectively and within legal boundaries. To ensure through clinical standards and audits that good practice is maintained throughout the home. Nursing Duties To perform nursing duties that reflect current best practice and keep abreast of latest developments To inform the Registered Manager of any nursing and medical matters affecting the service user’s care. To assist service users with personal care which includes; using the bath / bed bath or shower, feet and nail care, hair care, shaving, mouth care, denture care, toileting needs, all daily activities as per individual care plans including tidying bed and room. To assist clients with their psychological needs, which includes; talking, listening, excursions, liaising with family, assisting with hobbies and recreation activities. To care for the service user as an individual and maintain a high level of care for their particular condition ensuring physical needs, comfort and dignity are met. To care for service user’s at their end of life in a respectful and dignified manner. To administer medication strictly in accordance with the Drug Administration policy and NMC guidelines. To assist the Registered Manager in ensuring adequate supplies of medication and correct storage as per the medication policy. To assist with serving meals and other domestic duties such as laundry, occasional cleaning etc. To deal with any internal or external communications from service users or third parties. To ensure all documentation is kept up to date and recorded accurately. To maintain records / care plans as required by the Care Quality Commission. Business Management To work both with the Directors and independently to generate enquiries and proactively deal with members of the public, and care / medical professionals, to ensure a high level of occupancy rates. To manage and have a working knowledge of the Home’s Policies and Procedures and ensure they are maintained at all times. To promote and act strictly in accordance with the Home’s Health and Safety Policy and ensure good Health and Safety practice within the working environment to comply with COSHH / RIDDOR / Environmental Health / Fire regulations and the Care Standards Act. To bring to the Directors immediate attention any item of Health and Safety importance that would be of concern and potentially needing prompt action. To have an in depth operational knowledge of all emergency procedures and ensure they are cascaded down through all the staff and service users. To attend staff meetings as arranged and to ensure other staff informed of items discussed and decisions made. To attend at least 21 hours per annum of compulsory training outlined by your personal development plan. To participate in regular reviews and an annual appraisal in order to develop your training needs in relation to skills and knowledge. To promote the good name of the Home at all times. To cover colleagues duties in times of sickness and holidays. To develop and share ideas for the improvement of practice within the home. To implement change sensitively but effectively. To replenish stocks and exercise cost / stock control. To operate within the guidelines of the Data Protection Act and ensure total confidentiality, especially with regards to staff and service users. Managing People To assist and supervise staff training. To be responsible for covering staff absences and managing disputes where appropriate. To ensure all staff contribute to the best of their ability to the efficient running of the home and that high standards are maintained. To ensure staff have the qualifications and training necessary for the duties they perform. To ensure all staff have two monthly reviews and an annual appraisal as per company policy. FURTHER DUTIES: In addition to the responsibilities listed above it may be necessary to perform other duties as required by the Home’s management or senior staff. Consideration will be given to your skills and status when given these duties. NOTE: It is expected that all duties carried out will be performed in a spirit of cooperation required from a dedicated efficient team whose prime aim is to make the service user’s stay as comfortable and enjoyable as possible.'"
      ]
     },
     "execution_count": 9,
     "metadata": {},
     "output_type": "execute_result"
    }
   ],
   "source": [
    "# function to decode\n",
    "def decode(l):\n",
    "    if isinstance(l, list):\n",
    "        return [decode(x) for x in l]\n",
    "    else:\n",
    "        return l.decode('utf-8')\n",
    "\n",
    "# decode the binary description into utf-8 form and save it to full_description\n",
    "full_description = decode(full_description)\n",
    "\n",
    "# print out to test\n",
    "full_description[test_index]"
   ]
  },
  {
   "cell_type": "markdown",
   "metadata": {
    "pycharm": {
     "name": "#%% md\n"
    }
   },
   "source": [
    "### ---------------> OBSERVATION:\n",
    "The current `full_description` contains these attributes:\n",
    "\n",
    "| **ATTRIBUTES**   | **MEANING**                                        |\n",
    "|--------------|----------------------------------------------------|\n",
    "| Webindex     | 8 digit Id of the job advertisement on the website |\n",
    "| Title        | Title of the advertised job position               |\n",
    "| Company      | Company (test_indexloyer) of the advertised job position  |\n",
    "| Description  | the description of each job advertisement          |\n",
    "\n",
    "I only want the description to perform text-preprocessing in task 1 and other attributes for further exploring different features of a job advertisement, e.g., the title in task 3, to test the accuracy. Therefore, I will extract each above attribute inside the `full_description`"
   ]
  },
  {
   "cell_type": "markdown",
   "metadata": {
    "pycharm": {
     "name": "#%% md\n"
    }
   },
   "source": [
    "<h3 style=\"color:#ffc0cb;font-size:50px;font-family:Georgia;text-align:center;\"><strong>1.2 Pre-processing</strong></h3>\n",
    "\n",
    "* 1.2.1. Extract information from each job advertisement. Perform the following pre-processing steps to the description of each job advertisement;\n",
    "* 1.2.2. Tokenize each job advertisement description. The word tokenization must use the following regular expression, r\"[a-zA-Z]+(?:[-'][a-zA-Z]+)?\";\n",
    "* 1.2.3. All the words must be converted into the lower case;\n",
    "* 1.2.4. Remove words with length less than 2.\n",
    "* 1.2.5. Remove stopwords using the provided stop words list (i.e, stopwords_en.txt). It is located inside the same downloaded folder.\n",
    "* 1.2.6. Remove the word that appears only once in the document collection, based on term frequency.\n",
    "* 1.2.7. Remove the top 50 most frequent words based on document frequency.\n",
    "* 1.2.8. Save all job advertisement text and information in txt file(s) \n",
    "* 1.2.9. Build a vocabulary of the cleaned job advertisement descriptions, save it in a txt file\n",
    "\n",
    "## 1.2.1 Extract information from each job advertisement\n",
    "\n",
    "We use regular expression to extract different parts of description and use list comprehension to return the desire output across all document"
   ]
  },
  {
   "cell_type": "code",
   "execution_count": 10,
   "metadata": {
    "pycharm": {
     "name": "#%%\n"
    }
   },
   "outputs": [
    {
     "name": "stdout",
     "output_type": "stream",
     "text": [
      "Job description at index 20:\n",
      "Job Title: Unit Manager Reporting to: Registered Manager Job Purpose: To manage in a professional manner the day to day running of the home’s administration, clinical policies and procedures, training and care planning. To implement working practices that monitors the health and welfare of the home’s service users and staff and their respective environments. To promote quality care within a warm friendly ambience. Key Result Areas Managing To work with the Directors to achieve the home’s financial targets. To manage the home in a manner which will not bring the home or service users into disrepute. To maintain confidentiality on all aspects of care and staff management. To ensure all the home’s policies and procedures are implemented and followed by all staff. To inform the Registered Manager immediately if a serious difficulty or event occurs. Managing Support To delegate responsibility effectively and within legal boundaries. To ensure through clinical standards and audits that good practice is maintained throughout the home. Nursing Duties To perform nursing duties that reflect current best practice and keep abreast of latest developments To inform the Registered Manager of any nursing and medical matters affecting the service user’s care. To assist service users with personal care which includes; using the bath / bed bath or shower, feet and nail care, hair care, shaving, mouth care, denture care, toileting needs, all daily activities as per individual care plans including tidying bed and room. To assist clients with their psychological needs, which includes; talking, listening, excursions, liaising with family, assisting with hobbies and recreation activities. To care for the service user as an individual and maintain a high level of care for their particular condition ensuring physical needs, comfort and dignity are met. To care for service user’s at their end of life in a respectful and dignified manner. To administer medication strictly in accordance with the Drug Administration policy and NMC guidelines. To assist the Registered Manager in ensuring adequate supplies of medication and correct storage as per the medication policy. To assist with serving meals and other domestic duties such as laundry, occasional cleaning etc. To deal with any internal or external communications from service users or third parties. To ensure all documentation is kept up to date and recorded accurately. To maintain records / care plans as required by the Care Quality Commission. Business Management To work both with the Directors and independently to generate enquiries and proactively deal with members of the public, and care / medical professionals, to ensure a high level of occupancy rates. To manage and have a working knowledge of the Home’s Policies and Procedures and ensure they are maintained at all times. To promote and act strictly in accordance with the Home’s Health and Safety Policy and ensure good Health and Safety practice within the working environment to comply with COSHH / RIDDOR / Environmental Health / Fire regulations and the Care Standards Act. To bring to the Directors immediate attention any item of Health and Safety importance that would be of concern and potentially needing prompt action. To have an in depth operational knowledge of all emergency procedures and ensure they are cascaded down through all the staff and service users. To attend staff meetings as arranged and to ensure other staff informed of items discussed and decisions made. To attend at least 21 hours per annum of compulsory training outlined by your personal development plan. To participate in regular reviews and an annual appraisal in order to develop your training needs in relation to skills and knowledge. To promote the good name of the Home at all times. To cover colleagues duties in times of sickness and holidays. To develop and share ideas for the improvement of practice within the home. To implement change sensitively but effectively. To replenish stocks and exercise cost / stock control. To operate within the guidelines of the Data Protection Act and ensure total confidentiality, especially with regards to staff and service users. Managing People To assist and supervise staff training. To be responsible for covering staff absences and managing disputes where appropriate. To ensure all staff contribute to the best of their ability to the efficient running of the home and that high standards are maintained. To ensure staff have the qualifications and training necessary for the duties they perform. To ensure all staff have two monthly reviews and an annual appraisal as per company policy. FURTHER DUTIES: In addition to the responsibilities listed above it may be necessary to perform other duties as required by the Home’s management or senior staff. Consideration will be given to your skills and status when given these duties. NOTE: It is expected that all duties carried out will be performed in a spirit of cooperation required from a dedicated efficient team whose prime aim is to make the service user’s stay as comfortable and enjoyable as possible.\n",
      "\n",
      "\n",
      "Job title at index 20:\n",
      "PERM Unit Mgr RGN Kid minster Flexi ****K due\n",
      "\n",
      "\n",
      "Job webindex at index 20:\n",
      "71692209\n",
      "\n",
      "\n",
      "Job company at index 20:\n",
      "NA\n",
      "\n"
     ]
    }
   ],
   "source": [
    "# Extract description, title, webindex,  from each job advertisement and test using test_index\n",
    "\n",
    "# Extract description\n",
    "def extract_description(full_description):\n",
    "    description = [re.search(r'\\nDescription: (.*)', str(i)).group(1) for i in full_description]\n",
    "    return description\n",
    "description = extract_description(full_description)\n",
    "print(f'Job description at index {test_index}:\\n{description[test_index]}\\n\\n')\n",
    "\n",
    "# Extract title\n",
    "def extract_title(full_description):\n",
    "    title = [re.search(r'Title: (.*)', str(i)).group(1) for i in full_description]\n",
    "    return title\n",
    "title = extract_title(full_description)\n",
    "print(f'Job title at index {test_index}:\\n{title[test_index]}\\n\\n')\n",
    "\n",
    "# Extract webindex\n",
    "def extract_webindex(full_description):\n",
    "    webindex = [re.search(r'Webindex: (.*)', str(i)).group(1) for i in full_description]\n",
    "    return webindex\n",
    "webindex = extract_webindex(full_description)\n",
    "print(f'Job webindex at index {test_index}:\\n{webindex[test_index]}\\n\\n')\n",
    "\n",
    "# Extract company\n",
    "def extract_company(company):\n",
    "    company = [re.search(r'Company: (.*)', str(i)).group(1) if re.search(r'Company: (.*)', str(i)) else \"NA\" for i in company]\n",
    "    return company\n",
    "company = extract_company(full_description)\n",
    "print(f'Job company at index {test_index}:\\n{company[test_index]}\\n')"
   ]
  },
  {
   "cell_type": "markdown",
   "metadata": {
    "pycharm": {
     "name": "#%% md\n"
    }
   },
   "source": [
    "## 1.2.2 + 1.2.3 \n",
    "## Tokenize description using regular expression & lowercase all words\n",
    "\n",
    "+ Case normalization is easy to perform, but it is a highly powerful technique. It will greatly decrease the vocabulary size for a big corpus, allowing the analysis algorithms to concentrate on the diverse meanings of tokens rather than their situations.\n",
    "\n",
    "+ The same case with using regex only to extract the desired pattern that we only want meaningful words not slash, comma, etc. do not carry any meaning themself"
   ]
  },
  {
   "cell_type": "code",
   "execution_count": 11,
   "metadata": {
    "collapsed": false,
    "jupyter": {
     "outputs_hidden": false
    },
    "pycharm": {
     "name": "#%%\n"
    }
   },
   "outputs": [
    {
     "name": "stdout",
     "output_type": "stream",
     "text": [
      "Raw description:\n",
      " Job Title: Unit Manager Reporting to: Registered Manager Job Purpose: To manage in a professional manner the day to day running of the home’s administration, clinical policies and procedures, training and care planning. To implement working practices that monitors the health and welfare of the home’s service users and staff and their respective environments. To promote quality care within a warm friendly ambience. Key Result Areas Managing To work with the Directors to achieve the home’s financial targets. To manage the home in a manner which will not bring the home or service users into disrepute. To maintain confidentiality on all aspects of care and staff management. To ensure all the home’s policies and procedures are implemented and followed by all staff. To inform the Registered Manager immediately if a serious difficulty or event occurs. Managing Support To delegate responsibility effectively and within legal boundaries. To ensure through clinical standards and audits that good practice is maintained throughout the home. Nursing Duties To perform nursing duties that reflect current best practice and keep abreast of latest developments To inform the Registered Manager of any nursing and medical matters affecting the service user’s care. To assist service users with personal care which includes; using the bath / bed bath or shower, feet and nail care, hair care, shaving, mouth care, denture care, toileting needs, all daily activities as per individual care plans including tidying bed and room. To assist clients with their psychological needs, which includes; talking, listening, excursions, liaising with family, assisting with hobbies and recreation activities. To care for the service user as an individual and maintain a high level of care for their particular condition ensuring physical needs, comfort and dignity are met. To care for service user’s at their end of life in a respectful and dignified manner. To administer medication strictly in accordance with the Drug Administration policy and NMC guidelines. To assist the Registered Manager in ensuring adequate supplies of medication and correct storage as per the medication policy. To assist with serving meals and other domestic duties such as laundry, occasional cleaning etc. To deal with any internal or external communications from service users or third parties. To ensure all documentation is kept up to date and recorded accurately. To maintain records / care plans as required by the Care Quality Commission. Business Management To work both with the Directors and independently to generate enquiries and proactively deal with members of the public, and care / medical professionals, to ensure a high level of occupancy rates. To manage and have a working knowledge of the Home’s Policies and Procedures and ensure they are maintained at all times. To promote and act strictly in accordance with the Home’s Health and Safety Policy and ensure good Health and Safety practice within the working environment to comply with COSHH / RIDDOR / Environmental Health / Fire regulations and the Care Standards Act. To bring to the Directors immediate attention any item of Health and Safety importance that would be of concern and potentially needing prompt action. To have an in depth operational knowledge of all emergency procedures and ensure they are cascaded down through all the staff and service users. To attend staff meetings as arranged and to ensure other staff informed of items discussed and decisions made. To attend at least 21 hours per annum of compulsory training outlined by your personal development plan. To participate in regular reviews and an annual appraisal in order to develop your training needs in relation to skills and knowledge. To promote the good name of the Home at all times. To cover colleagues duties in times of sickness and holidays. To develop and share ideas for the improvement of practice within the home. To implement change sensitively but effectively. To replenish stocks and exercise cost / stock control. To operate within the guidelines of the Data Protection Act and ensure total confidentiality, especially with regards to staff and service users. Managing People To assist and supervise staff training. To be responsible for covering staff absences and managing disputes where appropriate. To ensure all staff contribute to the best of their ability to the efficient running of the home and that high standards are maintained. To ensure staff have the qualifications and training necessary for the duties they perform. To ensure all staff have two monthly reviews and an annual appraisal as per company policy. FURTHER DUTIES: In addition to the responsibilities listed above it may be necessary to perform other duties as required by the Home’s management or senior staff. Consideration will be given to your skills and status when given these duties. NOTE: It is expected that all duties carried out will be performed in a spirit of cooperation required from a dedicated efficient team whose prime aim is to make the service user’s stay as comfortable and enjoyable as possible. \n",
      "\n",
      "Tokenized description:\n",
      " ['job', 'title', 'unit', 'manager', 'reporting', 'to', 'registered', 'manager', 'job', 'purpose', 'to', 'manage', 'in', 'a', 'professional', 'manner', 'the', 'day', 'to', 'day', 'running', 'of', 'the', 'home', 's', 'administration', 'clinical', 'policies', 'and', 'procedures', 'training', 'and', 'care', 'planning', 'to', 'implement', 'working', 'practices', 'that', 'monitors', 'the', 'health', 'and', 'welfare', 'of', 'the', 'home', 's', 'service', 'users', 'and', 'staff', 'and', 'their', 'respective', 'environments', 'to', 'promote', 'quality', 'care', 'within', 'a', 'warm', 'friendly', 'ambience', 'key', 'result', 'areas', 'managing', 'to', 'work', 'with', 'the', 'directors', 'to', 'achieve', 'the', 'home', 's', 'financial', 'targets', 'to', 'manage', 'the', 'home', 'in', 'a', 'manner', 'which', 'will', 'not', 'bring', 'the', 'home', 'or', 'service', 'users', 'into', 'disrepute', 'to', 'maintain', 'confidentiality', 'on', 'all', 'aspects', 'of', 'care', 'and', 'staff', 'management', 'to', 'ensure', 'all', 'the', 'home', 's', 'policies', 'and', 'procedures', 'are', 'implemented', 'and', 'followed', 'by', 'all', 'staff', 'to', 'inform', 'the', 'registered', 'manager', 'immediately', 'if', 'a', 'serious', 'difficulty', 'or', 'event', 'occurs', 'managing', 'support', 'to', 'delegate', 'responsibility', 'effectively', 'and', 'within', 'legal', 'boundaries', 'to', 'ensure', 'through', 'clinical', 'standards', 'and', 'audits', 'that', 'good', 'practice', 'is', 'maintained', 'throughout', 'the', 'home', 'nursing', 'duties', 'to', 'perform', 'nursing', 'duties', 'that', 'reflect', 'current', 'best', 'practice', 'and', 'keep', 'abreast', 'of', 'latest', 'developments', 'to', 'inform', 'the', 'registered', 'manager', 'of', 'any', 'nursing', 'and', 'medical', 'matters', 'affecting', 'the', 'service', 'user', 's', 'care', 'to', 'assist', 'service', 'users', 'with', 'personal', 'care', 'which', 'includes', 'using', 'the', 'bath', 'bed', 'bath', 'or', 'shower', 'feet', 'and', 'nail', 'care', 'hair', 'care', 'shaving', 'mouth', 'care', 'denture', 'care', 'toileting', 'needs', 'all', 'daily', 'activities', 'as', 'per', 'individual', 'care', 'plans', 'including', 'tidying', 'bed', 'and', 'room', 'to', 'assist', 'clients', 'with', 'their', 'psychological', 'needs', 'which', 'includes', 'talking', 'listening', 'excursions', 'liaising', 'with', 'family', 'assisting', 'with', 'hobbies', 'and', 'recreation', 'activities', 'to', 'care', 'for', 'the', 'service', 'user', 'as', 'an', 'individual', 'and', 'maintain', 'a', 'high', 'level', 'of', 'care', 'for', 'their', 'particular', 'condition', 'ensuring', 'physical', 'needs', 'comfort', 'and', 'dignity', 'are', 'met', 'to', 'care', 'for', 'service', 'user', 's', 'at', 'their', 'end', 'of', 'life', 'in', 'a', 'respectful', 'and', 'dignified', 'manner', 'to', 'administer', 'medication', 'strictly', 'in', 'accordance', 'with', 'the', 'drug', 'administration', 'policy', 'and', 'nmc', 'guidelines', 'to', 'assist', 'the', 'registered', 'manager', 'in', 'ensuring', 'adequate', 'supplies', 'of', 'medication', 'and', 'correct', 'storage', 'as', 'per', 'the', 'medication', 'policy', 'to', 'assist', 'with', 'serving', 'meals', 'and', 'other', 'domestic', 'duties', 'such', 'as', 'laundry', 'occasional', 'cleaning', 'etc', 'to', 'deal', 'with', 'any', 'internal', 'or', 'external', 'communications', 'from', 'service', 'users', 'or', 'third', 'parties', 'to', 'ensure', 'all', 'documentation', 'is', 'kept', 'up', 'to', 'date', 'and', 'recorded', 'accurately', 'to', 'maintain', 'records', 'care', 'plans', 'as', 'required', 'by', 'the', 'care', 'quality', 'commission', 'business', 'management', 'to', 'work', 'both', 'with', 'the', 'directors', 'and', 'independently', 'to', 'generate', 'enquiries', 'and', 'proactively', 'deal', 'with', 'members', 'of', 'the', 'public', 'and', 'care', 'medical', 'professionals', 'to', 'ensure', 'a', 'high', 'level', 'of', 'occupancy', 'rates', 'to', 'manage', 'and', 'have', 'a', 'working', 'knowledge', 'of', 'the', 'home', 's', 'policies', 'and', 'procedures', 'and', 'ensure', 'they', 'are', 'maintained', 'at', 'all', 'times', 'to', 'promote', 'and', 'act', 'strictly', 'in', 'accordance', 'with', 'the', 'home', 's', 'health', 'and', 'safety', 'policy', 'and', 'ensure', 'good', 'health', 'and', 'safety', 'practice', 'within', 'the', 'working', 'environment', 'to', 'comply', 'with', 'coshh', 'riddor', 'environmental', 'health', 'fire', 'regulations', 'and', 'the', 'care', 'standards', 'act', 'to', 'bring', 'to', 'the', 'directors', 'immediate', 'attention', 'any', 'item', 'of', 'health', 'and', 'safety', 'importance', 'that', 'would', 'be', 'of', 'concern', 'and', 'potentially', 'needing', 'prompt', 'action', 'to', 'have', 'an', 'in', 'depth', 'operational', 'knowledge', 'of', 'all', 'emergency', 'procedures', 'and', 'ensure', 'they', 'are', 'cascaded', 'down', 'through', 'all', 'the', 'staff', 'and', 'service', 'users', 'to', 'attend', 'staff', 'meetings', 'as', 'arranged', 'and', 'to', 'ensure', 'other', 'staff', 'informed', 'of', 'items', 'discussed', 'and', 'decisions', 'made', 'to', 'attend', 'at', 'least', 'hours', 'per', 'annum', 'of', 'compulsory', 'training', 'outlined', 'by', 'your', 'personal', 'development', 'plan', 'to', 'participate', 'in', 'regular', 'reviews', 'and', 'an', 'annual', 'appraisal', 'in', 'order', 'to', 'develop', 'your', 'training', 'needs', 'in', 'relation', 'to', 'skills', 'and', 'knowledge', 'to', 'promote', 'the', 'good', 'name', 'of', 'the', 'home', 'at', 'all', 'times', 'to', 'cover', 'colleagues', 'duties', 'in', 'times', 'of', 'sickness', 'and', 'holidays', 'to', 'develop', 'and', 'share', 'ideas', 'for', 'the', 'improvement', 'of', 'practice', 'within', 'the', 'home', 'to', 'implement', 'change', 'sensitively', 'but', 'effectively', 'to', 'replenish', 'stocks', 'and', 'exercise', 'cost', 'stock', 'control', 'to', 'operate', 'within', 'the', 'guidelines', 'of', 'the', 'data', 'protection', 'act', 'and', 'ensure', 'total', 'confidentiality', 'especially', 'with', 'regards', 'to', 'staff', 'and', 'service', 'users', 'managing', 'people', 'to', 'assist', 'and', 'supervise', 'staff', 'training', 'to', 'be', 'responsible', 'for', 'covering', 'staff', 'absences', 'and', 'managing', 'disputes', 'where', 'appropriate', 'to', 'ensure', 'all', 'staff', 'contribute', 'to', 'the', 'best', 'of', 'their', 'ability', 'to', 'the', 'efficient', 'running', 'of', 'the', 'home', 'and', 'that', 'high', 'standards', 'are', 'maintained', 'to', 'ensure', 'staff', 'have', 'the', 'qualifications', 'and', 'training', 'necessary', 'for', 'the', 'duties', 'they', 'perform', 'to', 'ensure', 'all', 'staff', 'have', 'two', 'monthly', 'reviews', 'and', 'an', 'annual', 'appraisal', 'as', 'per', 'company', 'policy', 'further', 'duties', 'in', 'addition', 'to', 'the', 'responsibilities', 'listed', 'above', 'it', 'may', 'be', 'necessary', 'to', 'perform', 'other', 'duties', 'as', 'required', 'by', 'the', 'home', 's', 'management', 'or', 'senior', 'staff', 'consideration', 'will', 'be', 'given', 'to', 'your', 'skills', 'and', 'status', 'when', 'given', 'these', 'duties', 'note', 'it', 'is', 'expected', 'that', 'all', 'duties', 'carried', 'out', 'will', 'be', 'performed', 'in', 'a', 'spirit', 'of', 'cooperation', 'required', 'from', 'a', 'dedicated', 'efficient', 'team', 'whose', 'prime', 'aim', 'is', 'to', 'make', 'the', 'service', 'user', 's', 'stay', 'as', 'comfortable', 'and', 'enjoyable', 'as', 'possible'] \n",
      "\n",
      "\n",
      "The original number of Tokenized description tokens:  776\n"
     ]
    }
   ],
   "source": [
    "def tokenizeDescription(raw_description):\n",
    "    \"\"\"\n",
    "        This function first convert all words to lowercases,\n",
    "        it then segment the raw description into sentences \n",
    "        and tokenize each sentences base on the regex pattern\n",
    "        and convert the description to a list of tokens.\n",
    "    \"\"\"\n",
    "    description = raw_description.lower() # convert all words to lowercase\n",
    "\n",
    "    # segment into sentences\n",
    "    sentences = sent_tokenize(description)\n",
    "\n",
    "    # tokenize each sentence\n",
    "    pattern = r\"[a-zA-Z]+(?:[-'][a-zA-Z]+)?\"\n",
    "    tokenizer = RegexpTokenizer(pattern)\n",
    "    token_lists = [tokenizer.tokenize(sen) for sen in sentences]\n",
    "\n",
    "    # merge them into a list of tokens\n",
    "    tokenised_description = list(chain.from_iterable(token_lists))\n",
    "    return tokenised_description\n",
    "\n",
    "# list comprehension, generate a list of tokenized description\n",
    "tk_description = [tokenizeDescription(r) for r in description] \n",
    "\n",
    "# I also want a list of tokenized title for task 3\n",
    "tk_title = [tokenizeDescription(r) for r in title] \n",
    "\n",
    "# I also want a list of tokenized company for task 3\n",
    "tk_company = [tokenizeDescription(r) for r in company] \n",
    "\n",
    "# print out to test\n",
    "print(\"Raw description:\\n\",description[test_index],'\\n')\n",
    "print(\"Tokenized description:\\n\",tk_description[test_index],'\\n\\n')\n",
    "print(\"The original number of Tokenized description tokens: \",len(tk_description))"
   ]
  },
  {
   "cell_type": "markdown",
   "metadata": {
    "pycharm": {
     "name": "#%% md\n"
    }
   },
   "source": [
    "#### Text Descriptive Statistic\n",
    "\n",
    "We are interested to know a few statistics at this very beginning stage, including:\n",
    "* The total number of tokens across the corpus\n",
    "* The total number of types across the corpus, i.e., the size of vocabulary \n",
    "* The so-called [lexical diversity](https://en.wikipedia.org/wiki/Lexical_diversity) refers to the ratio of different unique word stems (types) to the total number of words (tokens).  \n",
    "* The average, minimum, and the maximum number of the token (i.e., document length) in the dataset.\n",
    "\n",
    "In the following, we wrap all these up as a function, `stats_print`. Since we will reuse this function several times, we put it into the python module inside the folder `src/utils.py` to make it easier to recall later to compare these statistic values before and after pre-processing."
   ]
  },
  {
   "cell_type": "code",
   "execution_count": 12,
   "metadata": {
    "collapsed": false,
    "jupyter": {
     "outputs_hidden": false
    },
    "pycharm": {
     "name": "#%%\n"
    }
   },
   "outputs": [
    {
     "name": "stdout",
     "output_type": "stream",
     "text": [
      "Intial text statistic:\n",
      "\n",
      "Vocabulary size:  9834\n",
      "Total number of tokens:  186952\n",
      "Lexical diversity:  0.052601737344345076\n",
      "Total number of description: 776\n",
      "Average description length: 240.91752577319588\n",
      "Maximum description length: 815\n",
      "Minimum description length: 13\n",
      "Standard deviation of description length: 124.97750685071483\n"
     ]
    }
   ],
   "source": [
    "print(\"Intial text statistic:\\n\")\n",
    "stats_print(tk_description)"
   ]
  },
  {
   "cell_type": "markdown",
   "metadata": {
    "pycharm": {
     "name": "#%% md\n"
    }
   },
   "source": [
    "## Task 1.2.4 Remove words with length less than 2.\n",
    "remove any token that only contains a single character (a token that of length less than 2)."
   ]
  },
  {
   "cell_type": "code",
   "execution_count": 13,
   "metadata": {},
   "outputs": [
    {
     "name": "stdout",
     "output_type": "stream",
     "text": [
      "Before removing, the words that appear with length less than 2 at index 20:['a', 's', 's', 'a', 's', 'a', 's', 'a', 's', 'a', 's', 'a', 'a', 'a', 's', 's', 's', 'a', 'a', 's']\n",
      "Before removing, the words that appear with length less than 2 at index 20:[]\n"
     ]
    }
   ],
   "source": [
    "# assign variable to see tokenized description has the length less than 2\n",
    "tk_description_less_length_2 = [[w for w in description if len(w) < 2] for description in tk_description]\n",
    "\n",
    "# test\n",
    "print(f'Before removing, the words that appear with length less than 2 at index {test_index}:{tk_description_less_length_2[test_index]}')\n",
    "\n",
    "# filter out single character tokens\n",
    "tk_description = [[w for w in description if len(w) >=2] for description in tk_description]\n",
    "\n",
    "# assign variable to see tokenized description has the length less than 2\n",
    "tk_description_less_length_2 = [[w for w in description if len(w) < 2] for description in tk_description]\n",
    "\n",
    "# test\n",
    "print(f'Before removing, the words that appear with length less than 2 at index {test_index}:{tk_description_less_length_2[test_index]}')"
   ]
  },
  {
   "cell_type": "code",
   "execution_count": 14,
   "metadata": {},
   "outputs": [
    {
     "name": "stdout",
     "output_type": "stream",
     "text": [
      "Vocabulary size:  9808\n",
      "Total number of tokens:  180913\n",
      "Lexical diversity:  0.05421390392066905\n",
      "Total number of description: 776\n",
      "Average description length: 233.13530927835052\n",
      "Maximum description length: 795\n",
      "Minimum description length: 13\n",
      "Standard deviation of description length: 121.6048654015839\n"
     ]
    }
   ],
   "source": [
    "# few statistic\n",
    "stats_print(tk_description)"
   ]
  },
  {
   "cell_type": "markdown",
   "metadata": {
    "pycharm": {
     "name": "#%% md\n"
    }
   },
   "source": [
    "## Task 1.2.5 Remove stopwords using the provided stop words list\n",
    "> **NOTE**: The purpose of this task is to pre-process the text reviews, and later on, we will use the pre-process text to build a sentiment analysis model. The stop word removal process requires careful consideration in this type of task.\n",
    "\n",
    "Remove the stop words from the tokenized text inside `stopwords_en.txt` file"
   ]
  },
  {
   "cell_type": "code",
   "execution_count": 15,
   "metadata": {
    "collapsed": false,
    "jupyter": {
     "outputs_hidden": false
    },
    "pycharm": {
     "name": "#%%\n"
    }
   },
   "outputs": [
    {
     "name": "stdout",
     "output_type": "stream",
     "text": [
      "The number of stop words inside stopwords_en.txt is 571 including:\n",
      "\n",
      "['a', \"a's\", 'able', 'about', 'above', 'according', 'accordingly', 'across', 'actually', 'after', 'afterwards', 'again', 'against', \"ain't\", 'all', 'allow', 'allows', 'almost', 'alone', 'along', 'already', 'also', 'although', 'always', 'am', 'among', 'amongst', 'an', 'and', 'another', 'any', 'anybody', 'anyhow', 'anyone', 'anything', 'anyway', 'anyways', 'anywhere', 'apart', 'appear', 'appreciate', 'appropriate', 'are', \"aren't\", 'around', 'as', 'aside', 'ask', 'asking', 'associated', 'at', 'available', 'away', 'awfully', 'b', 'be', 'became', 'because', 'become', 'becomes', 'becoming', 'been', 'before', 'beforehand', 'behind', 'being', 'believe', 'below', 'beside', 'besides', 'best', 'better', 'between', 'beyond', 'both', 'brief', 'but', 'by', 'c', \"c'mon\", \"c's\", 'came', 'can', \"can't\", 'cannot', 'cant', 'cause', 'causes', 'certain', 'certainly', 'changes', 'clearly', 'co', 'com', 'come', 'comes', 'concerning', 'consequently', 'consider', 'considering', 'contain', 'containing', 'contains', 'corresponding', 'could', \"couldn't\", 'course', 'currently', 'd', 'definitely', 'described', 'despite', 'did', \"didn't\", 'different', 'do', 'does', \"doesn't\", 'doing', \"don't\", 'done', 'down', 'downwards', 'during', 'e', 'each', 'edu', 'eg', 'eight', 'either', 'else', 'elsewhere', 'enough', 'entirely', 'especially', 'et', 'etc', 'even', 'ever', 'every', 'everybody', 'everyone', 'everything', 'everywhere', 'ex', 'exactly', 'example', 'except', 'f', 'far', 'few', 'fifth', 'first', 'five', 'followed', 'following', 'follows', 'for', 'former', 'formerly', 'forth', 'four', 'from', 'further', 'furthermore', 'g', 'get', 'gets', 'getting', 'given', 'gives', 'go', 'goes', 'going', 'gone', 'got', 'gotten', 'greetings', 'h', 'had', \"hadn't\", 'happens', 'hardly', 'has', \"hasn't\", 'have', \"haven't\", 'having', 'he', \"he's\", 'hello', 'help', 'hence', 'her', 'here', \"here's\", 'hereafter', 'hereby', 'herein', 'hereupon', 'hers', 'herself', 'hi', 'him', 'himself', 'his', 'hither', 'hopefully', 'how', 'howbeit', 'however', 'i', \"i'd\", \"i'll\", \"i'm\", \"i've\", 'ie', 'if', 'ignored', 'immediate', 'in', 'inasmuch', 'inc', 'indeed', 'indicate', 'indicated', 'indicates', 'inner', 'insofar', 'instead', 'into', 'inward', 'is', \"isn't\", 'it', \"it'd\", \"it'll\", \"it's\", 'its', 'itself', 'j', 'just', 'k', 'keep', 'keeps', 'kept', 'know', 'knows', 'known', 'l', 'last', 'lately', 'later', 'latter', 'latterly', 'least', 'less', 'lest', 'let', \"let's\", 'like', 'liked', 'likely', 'little', 'look', 'looking', 'looks', 'ltd', 'm', 'mainly', 'many', 'may', 'maybe', 'me', 'mean', 'meanwhile', 'merely', 'might', 'more', 'moreover', 'most', 'mostly', 'much', 'must', 'my', 'myself', 'n', 'name', 'namely', 'nd', 'near', 'nearly', 'necessary', 'need', 'needs', 'neither', 'never', 'nevertheless', 'new', 'next', 'nine', 'no', 'nobody', 'non', 'none', 'noone', 'nor', 'normally', 'not', 'nothing', 'novel', 'now', 'nowhere', 'o', 'obviously', 'of', 'off', 'often', 'oh', 'ok', 'okay', 'old', 'on', 'once', 'one', 'ones', 'only', 'onto', 'or', 'other', 'others', 'otherwise', 'ought', 'our', 'ours', 'ourselves', 'out', 'outside', 'over', 'overall', 'own', 'p', 'particular', 'particularly', 'per', 'perhaps', 'placed', 'please', 'plus', 'possible', 'presumably', 'probably', 'provides', 'q', 'que', 'quite', 'qv', 'r', 'rather', 'rd', 're', 'really', 'reasonably', 'regarding', 'regardless', 'regards', 'relatively', 'respectively', 'right', 's', 'said', 'same', 'saw', 'say', 'saying', 'says', 'second', 'secondly', 'see', 'seeing', 'seem', 'seemed', 'seeming', 'seems', 'seen', 'self', 'selves', 'sensible', 'sent', 'serious', 'seriously', 'seven', 'several', 'shall', 'she', 'should', \"shouldn't\", 'since', 'six', 'so', 'some', 'somebody', 'somehow', 'someone', 'something', 'sometime', 'sometimes', 'somewhat', 'somewhere', 'soon', 'sorry', 'specified', 'specify', 'specifying', 'still', 'sub', 'such', 'sup', 'sure', 't', \"t's\", 'take', 'taken', 'tell', 'tends', 'th', 'than', 'thank', 'thanks', 'thanx', 'that', \"that's\", 'thats', 'the', 'their', 'theirs', 'them', 'themselves', 'then', 'thence', 'there', \"there's\", 'thereafter', 'thereby', 'therefore', 'therein', 'theres', 'thereupon', 'these', 'they', \"they'd\", \"they'll\", \"they're\", \"they've\", 'think', 'third', 'this', 'thorough', 'thoroughly', 'those', 'though', 'three', 'through', 'throughout', 'thru', 'thus', 'to', 'together', 'too', 'took', 'toward', 'towards', 'tried', 'tries', 'truly', 'try', 'trying', 'twice', 'two', 'u', 'un', 'under', 'unfortunately', 'unless', 'unlikely', 'until', 'unto', 'up', 'upon', 'us', 'use', 'used', 'useful', 'uses', 'using', 'usually', 'uucp', 'v', 'value', 'various', 'very', 'via', 'viz', 'vs', 'w', 'want', 'wants', 'was', \"wasn't\", 'way', 'we', \"we'd\", \"we'll\", \"we're\", \"we've\", 'welcome', 'well', 'went', 'were', \"weren't\", 'what', \"what's\", 'whatever', 'when', 'whence', 'whenever', 'where', \"where's\", 'whereafter', 'whereas', 'whereby', 'wherein', 'whereupon', 'wherever', 'whether', 'which', 'while', 'whither', 'who', \"who's\", 'whoever', 'whole', 'whom', 'whose', 'why', 'will', 'willing', 'wish', 'with', 'within', 'without', \"won't\", 'wonder', 'would', 'would', \"wouldn't\", 'x', 'y', 'yes', 'yet', 'you', \"you'd\", \"you'll\", \"you're\", \"you've\", 'your', 'yours', 'yourself', 'yourselves', 'z', 'zero']\n"
     ]
    }
   ],
   "source": [
    "# remove the stop words inside `stopwords_en.txt` from the tokenized text\n",
    "stopwords_file = 'stopwords_en.txt'\n",
    "\n",
    "# read the stop words into a list\n",
    "with open(stopwords_file, 'r') as f:\n",
    "    stop_words = f.read().splitlines() \n",
    "print(f'The number of stop words inside {stopwords_file} is {len(stop_words)} including:\\n\\n{stop_words}')"
   ]
  },
  {
   "cell_type": "markdown",
   "metadata": {
    "pycharm": {
     "name": "#%% md\n"
    }
   },
   "source": [
    "### -----------> OBSERVATION:\n",
    "+ There 571 stopwords in total, which are often function words in English, like description (e.g. \"the\", and \"an\"), pronouns (e.g. \"he\", \"him\", and \"they\"), pdescription (e.g., \"well\", \"however\" and \"thus\"), etc, and universal words in all job advertisement (e.g.'ask', 'asking', 'used', and 'useful')\n",
    "\n",
    "+ There is no universal list of stop words. This is just follow the requirement description"
   ]
  },
  {
   "cell_type": "code",
   "execution_count": 16,
   "metadata": {
    "pycharm": {
     "name": "#%%\n"
    }
   },
   "outputs": [
    {
     "name": "stdout",
     "output_type": "stream",
     "text": [
      "The number of tokens in the test_index index description BEFORE removing stop words: 795\n",
      "The number of tokens in the test_index index description AFTER removing stop words: 440\n",
      "Vocabulary size:  9404\n",
      "Total number of tokens:  107161\n",
      "Lexical diversity:  0.0877558066834016\n",
      "Total number of description: 776\n",
      "Average description length: 138.09407216494844\n",
      "Maximum description length: 487\n",
      "Minimum description length: 12\n",
      "Standard deviation of description length: 73.07847897002313\n"
     ]
    }
   ],
   "source": [
    "# print the test_index index description length before removing stop words\n",
    "print(\"The number of tokens in the test_index index description BEFORE removing stop words:\",len(tk_description[test_index]))\n",
    "\n",
    "# convert stop words list into a set to speed up the process to checking\n",
    "stopwordSet = set(stop_words)\n",
    "\n",
    "# filter stop words in each document for the whole tokenized description\n",
    "tk_description = [[token for token in description if token not in stopwordSet] for description in tk_description]\n",
    "\n",
    "# print the test_index index description length after removing stop words\n",
    "print(\"The number of tokens in the test_index index description AFTER removing stop words:\",len(tk_description[test_index]))\n",
    "\n",
    "# few statistic\n",
    "stats_print(tk_description)"
   ]
  },
  {
   "cell_type": "markdown",
   "metadata": {
    "jupyter": {
     "outputs_hidden": false
    },
    "pycharm": {
     "name": "#%%\n"
    }
   },
   "source": [
    "### ---------> OBSERVATION:\n",
    "\n",
    "The list comprehension \n",
    "```python\n",
    "    [token for token in description if token not in stop_words]\n",
    "```\n",
    "For each word in each Job Advertisement description, keep the word if the word is **NOT** in the stopword list. Checking for membership of a value in a list takes time proportional to the list's length in the average and worst cases. \n",
    "=> It causes the above code to run quite slow as we need to do the check for every word in each description\n",
    "and both the total number of tokens and the size of stopword list are large.\n",
    "\n",
    "However, if we have hashable items, which means both the item order and duplicates are disregarded, Python `set` is a better choice than `list`. The former runs much faster than the latter in terms of searching\n",
    "a large number of hashable items. Indeed, `set` takes constant time to check the membership.\n",
    "Let's try converting the stopword list into a stopword set, then search to remove all the stopwords.\n",
    "we can construct a `stopwordSet` from the stopword list and change the  `stop_words` (a list) to `stopwordSet`,"
   ]
  },
  {
   "cell_type": "markdown",
   "metadata": {},
   "source": [
    "# Removing the Most and Less Frequent Words\n",
    "\n",
    "The frequency distribution can tell us how frequent a word is in a given corpus in terms of either **term frequency** or **document frequency**:\n",
    "* **Term frequency** the total number of word tokens are distributed across the whole corpus regardless which document it is in.\n",
    "* **Document frequency** counts the number of documents a word occurs. \n",
    "\n",
    "For instance, if a word appear 3 times in a document, when we count the term frequency, this will be added 3 into the total number of occurrence; however, for document frequency, this will still be counted as 1 only. \n",
    "\n",
    "The words that only appear once or twice if the most prevalent terms don't help the subsequent text analysis tasks other than contributing noises? The frequency of word kinds in a particular corpus is another intriguing statistic in this case. Here, we will utilize document frequency as an illustration:"
   ]
  },
  {
   "cell_type": "code",
   "execution_count": 17,
   "metadata": {},
   "outputs": [
    {
     "name": "stdout",
     "output_type": "stream",
     "text": [
      "The actual y values: [4643, 1215, 654, 409, 305, 227, 167, 163, 117, 111, 1072, 194, 90, 37]\n"
     ]
    },
    {
     "data": {
      "image/png": "[encoded data removed]",
      "text/plain": [
       "<Figure size 1440x720 with 1 Axes>"
      ]
     },
     "metadata": {
      "needs_background": "light"
     },
     "output_type": "display_data"
    }
   ],
   "source": [
    "words = list(chain.from_iterable([set(description) for description in tk_description]))\n",
    "doc_fd = FreqDist(words)\n",
    "ffd = FreqDist(doc_fd.values()) # ffd frequency of frequencies values\n",
    "\n",
    "y = [0]*14 # number of y axis category we want to show\n",
    "\n",
    "for k, v in ffd.items(): # iterate the dictionary items of ffd\n",
    "    if k <= 10: # show the frequency value for each frequency of frequency equal to or lower than 10\n",
    "        y[k-1] = v\n",
    "    elif k >10 and k <= 50: # aggregate the frequency of frequency values larger than 10 but smaller than or equal to 20\n",
    "        y[10] =  y[10] + v\n",
    "    elif k >50 and k <= 100: # aggregate the frequency of frequency values larger than 50 but smaller than or equal to 100\n",
    "        y[11] =  y[11] + v\n",
    "    elif k > 100 and k <= 200: # aggregate the frequency of frequency values larger than 100 but smaller than or equal to 200\n",
    "        y[12] =  y[12] + v\n",
    "    else:\n",
    "        y[13] =  y[13] + v # aggregate the frequency of frequency values larger than 200\n",
    "x = range(1, 15) # generate integer from 1 to 14\n",
    "\n",
    "ytks = list(map(str, range(1, 11))) # covert a integer list to a string list, we will get ['0','1',...,'10']\n",
    "# appending other categories,  '10-50', '51-100', '101-200', '>200'\n",
    "# will use ytks as the values on the y-axis\n",
    "ytks.append('10-50') \n",
    "ytks.append('51-100')\n",
    "ytks.append('101-200')\n",
    "ytks.append('>200')\n",
    "print(f'The actual y values: {y}')\n",
    "barh(x,y, align='center', color='pink') # plot the bar chart\n",
    "yticks(x, ytks) # annotate x and y axies\n",
    "xlabel('Frequency of Frequency') # set x-axis caption\n",
    "ylabel('Word Frequency') # set y-axis caption\n",
    "grid(True) # make the bar chart grided, easier to view and compare"
   ]
  },
  {
   "cell_type": "markdown",
   "metadata": {},
   "source": [
    "### ------------> OBSERVATION:\n",
    "\n",
    "The horizontal bar chart generated above shows how many word types occur with a certain frequency.\n",
    "\n",
    "There are very small number (37) of types occurring over 200 times and therefore individually accounting for less than 1% (37/9404) of the vocabulary. \n",
    "\n",
    "However, on the other extreme, about 50% (4643/9404) of the word types occur only once in the corpus."
   ]
  },
  {
   "cell_type": "markdown",
   "metadata": {
    "pycharm": {
     "name": "#%% md\n"
    }
   },
   "source": [
    "## Task 1.2.6 Remove the word that appears only once in the document collection, based on term frequency\n",
    "\n",
    "What are the most frequent words in terms of document frequency?\n",
    "Here we are going to count how many documents a word appears in.\n",
    "Instead of writing nested FOR loops to count the document frequency for each word,\n",
    "we can use  `FreqDist()` jointly with  `set()` as follows:\n",
    "1. Apply  `set()` to each Job Advertisement description to generate a set of unique words in the description and save all sets in a list.\n",
    "```python\n",
    "    [set(description) for description in tokenised_description]\n",
    "```\n",
    "2. Similar to what we have done before, we then put all the words in a list using  `chain.from_iterable` and pass it to `FreqDist`.\n",
    "\n",
    "The first step makes sure that each word in an description appears only once, thus the total number of \n",
    "times a word appears in all the sets is equal to the number of documents containing that word.\n",
    "\n",
    "* find out the list of words that appear only once in the **entire corpus**\n",
    "* remove these less frequent words from each tokenized description text\n",
    "\n",
    "We first need to find out the set of less frequent words by using the `hapaxes` function applied on the **term frequency** dictionary. \n",
    "\n",
    "Let's further remove those words that occur only once. \n",
    "To get those words, we can write the code like\n",
    "```python\n",
    "    lessFreqWords = set([k for k, v in doc_fd.items() if v < 2])\n",
    "```\n",
    "or choose to use `hapaxes()` function, which return a list of all tokens that occur once (hapax legomena)."
   ]
  },
  {
   "cell_type": "code",
   "execution_count": 18,
   "metadata": {
    "pycharm": {
     "name": "#%%\n"
    }
   },
   "outputs": [
    {
     "name": "stdout",
     "output_type": "stream",
     "text": [
      "The number of words that appear only once in the entire corpus is: 4186\n",
      "\n"
     ]
    },
    {
     "data": {
      "text/plain": [
       "{'cutters',\n",
       " 'safer',\n",
       " 'afcila',\n",
       " 'plater',\n",
       " 'papercut',\n",
       " 'loft',\n",
       " 'wow',\n",
       " 'valueadded',\n",
       " 'assistantbranchmanager',\n",
       " 'oubound',\n",
       " 'berks',\n",
       " 'wed',\n",
       " 'consequence',\n",
       " 'roadmaps',\n",
       " 'withdrawals',\n",
       " 'fs',\n",
       " 'abstracts',\n",
       " 'qcf',\n",
       " 'calmly',\n",
       " 'travelconsultant',\n",
       " 'stacks',\n",
       " 'showrooms',\n",
       " 'bingley',\n",
       " 'buses',\n",
       " 'photocopying',\n",
       " 'corporatetaxaccounantcoventry',\n",
       " 'physiotherapists',\n",
       " 'formulate',\n",
       " 'discounting',\n",
       " 'kcar',\n",
       " 'bom',\n",
       " 'embolization',\n",
       " 'pretender',\n",
       " 'leveraging',\n",
       " 'flexitime',\n",
       " 'intricate',\n",
       " 'crosssite',\n",
       " 'brskills',\n",
       " 'trafodaeth',\n",
       " 'worldleading',\n",
       " 'pdr',\n",
       " 'pathways',\n",
       " 'responds',\n",
       " 'folder',\n",
       " 'rheoli',\n",
       " 'definitions',\n",
       " 'launder',\n",
       " 'smoking',\n",
       " 'hucknall',\n",
       " 'oesophageal',\n",
       " 'cultures',\n",
       " 'stuck',\n",
       " 'subsided',\n",
       " 'fluctuations',\n",
       " 'fail',\n",
       " 'fyddwch',\n",
       " 'ccst',\n",
       " 'entrepreneurs',\n",
       " 'beers',\n",
       " 'complicated',\n",
       " 'denmark',\n",
       " 'cgmp',\n",
       " 'nonconformance',\n",
       " 'lasts',\n",
       " 'stowmarket',\n",
       " 'bamber',\n",
       " 'soap',\n",
       " 'backlog',\n",
       " 'crawfordablyresources',\n",
       " \"atm's\",\n",
       " 'koteuncapp',\n",
       " 'stop',\n",
       " 'oeic',\n",
       " 'regulator',\n",
       " 'appreciated',\n",
       " 'linkage',\n",
       " 'carveout',\n",
       " 'nursinghome',\n",
       " 'sensor',\n",
       " 'cambs',\n",
       " 'staffnurse',\n",
       " 'autistic',\n",
       " 'btelesalestraineesgladlyaccepted',\n",
       " 'everincreasingly',\n",
       " 'sclerosis',\n",
       " 'confront',\n",
       " 'readily',\n",
       " 'completes',\n",
       " 'births',\n",
       " 'gatwick',\n",
       " 'venepuncture',\n",
       " 'analyzing',\n",
       " 'allocate',\n",
       " 'pob',\n",
       " 'vice',\n",
       " 'clactononsea',\n",
       " 'hindsight',\n",
       " 'empathetic',\n",
       " 'tagfeydd',\n",
       " 'competancies',\n",
       " 'infusion',\n",
       " 'wellloved',\n",
       " 'deputyhomemanager',\n",
       " 'marketspecific',\n",
       " 'partaking',\n",
       " 'phoneyour',\n",
       " 'memberships',\n",
       " 'borrows',\n",
       " 'cleint',\n",
       " 'solaris',\n",
       " 'cbt',\n",
       " 'clapham',\n",
       " 'prosesau',\n",
       " 'dcdc',\n",
       " 'bynnag',\n",
       " 'taxfree',\n",
       " 'productive',\n",
       " 'nbspengineering',\n",
       " 'excellant',\n",
       " 'earthworks',\n",
       " 'dutton',\n",
       " 'conductb',\n",
       " 'hong',\n",
       " 'accrued',\n",
       " 'termination',\n",
       " \"year's\",\n",
       " \"limited's\",\n",
       " 'agobespoke',\n",
       " 'expensive',\n",
       " 'intention',\n",
       " 'sessional',\n",
       " 'tpcp',\n",
       " 'highlymotivated',\n",
       " 'robinsonappointgroup',\n",
       " 'flm',\n",
       " 'initiating',\n",
       " 'picked',\n",
       " 'toilet',\n",
       " 'gartnavel',\n",
       " 'harmonious',\n",
       " 'cleveland',\n",
       " 'broomfield',\n",
       " 'tonometers',\n",
       " 'preeminent',\n",
       " 'vaccinations',\n",
       " 'gloucs',\n",
       " 'cyfeiriad',\n",
       " 'manger',\n",
       " 'nonlife',\n",
       " 'slots',\n",
       " 'em',\n",
       " 'ports',\n",
       " 'authoring',\n",
       " 'conveyers',\n",
       " 'ooa',\n",
       " 'thefollowing',\n",
       " 'volunteer',\n",
       " 'franchise',\n",
       " 'uskvmnloho',\n",
       " 'super',\n",
       " 'summarising',\n",
       " 'florida',\n",
       " 'fd',\n",
       " 'accountsauditsenior',\n",
       " 'cryer',\n",
       " 'hydrodynamic',\n",
       " 'conduction',\n",
       " 'faro',\n",
       " 'rejects',\n",
       " 'composites',\n",
       " 'keith',\n",
       " 'aah',\n",
       " 'permanently',\n",
       " 'solet',\n",
       " 'tydfil',\n",
       " 'industryinternational',\n",
       " 'amplitude',\n",
       " 'hurt',\n",
       " 'elevators',\n",
       " 'booster',\n",
       " 'embeddedsoftwareengineerbedfordshire',\n",
       " 'competitiveness',\n",
       " 'njc',\n",
       " 'laiddown',\n",
       " 'exit',\n",
       " 'poultry',\n",
       " 'dealt',\n",
       " 'ruane',\n",
       " 'fastgrowing',\n",
       " 'peiriannau',\n",
       " 'prioritize',\n",
       " 'jacksonastburymarsden',\n",
       " 'welded',\n",
       " 'normanton',\n",
       " 'gauge',\n",
       " 'fieldsalesexecutivederby',\n",
       " 'lettingsmanager',\n",
       " 'facsimile',\n",
       " 'scottaaronwallis',\n",
       " 'courteous',\n",
       " 'unplanned',\n",
       " 'intentionally',\n",
       " 'careersbmssales',\n",
       " 'estateagencyseniorsalesnegotiator',\n",
       " 'wiling',\n",
       " 'learned',\n",
       " 'newey',\n",
       " 'whiteshall',\n",
       " 'settingas',\n",
       " 'isometric',\n",
       " 'chorley',\n",
       " 'reduction',\n",
       " 'conformity',\n",
       " 'rpaynegenesisassociates',\n",
       " 'crowd',\n",
       " 'exponentially',\n",
       " 'messages',\n",
       " 'renal',\n",
       " 'senioraccountexecutivemarketingprsoftware',\n",
       " 'oohs',\n",
       " 'responsibliities',\n",
       " 'seniorengineermechanical',\n",
       " 'psd',\n",
       " 'speedy',\n",
       " 'rationale',\n",
       " 'resourcerkareplus',\n",
       " 'associations',\n",
       " 'failed',\n",
       " 'underground',\n",
       " 'utilization',\n",
       " 'dr',\n",
       " 'pen',\n",
       " 'msc',\n",
       " 'chertsey',\n",
       " 'receptionists',\n",
       " 'stretched',\n",
       " 'gbp',\n",
       " 'docklands',\n",
       " 'mendelsohn',\n",
       " 'clientsupportanalystbuysidetechnologylondoncity',\n",
       " 'financialaccountant',\n",
       " 'anaesthetic',\n",
       " 'fullyfuelled',\n",
       " 'accurancy',\n",
       " 'offaly',\n",
       " 'relocators',\n",
       " \"hunt's\",\n",
       " 'differing',\n",
       " 'encountered',\n",
       " 'replica',\n",
       " 'bitton',\n",
       " 'satisfactorily',\n",
       " 'penderels',\n",
       " 'resterilisation',\n",
       " 'proclaim',\n",
       " 'jig',\n",
       " 'passenger',\n",
       " 'excursions',\n",
       " 'sapa',\n",
       " 'horsley',\n",
       " 'iwerddon',\n",
       " 'attendances',\n",
       " 'callout',\n",
       " 'aftercaretheatre',\n",
       " 'deserved',\n",
       " 'seniorsalesexecutive',\n",
       " 'cramlington',\n",
       " 'ethicexcellent',\n",
       " 'europeansalesmanager',\n",
       " 'connect',\n",
       " 'redirects',\n",
       " 'pci',\n",
       " 'engb',\n",
       " 'ignore',\n",
       " 'tl',\n",
       " 'senioroptomechanicalengineersouth',\n",
       " 'salons',\n",
       " 'ddyfynnwyd',\n",
       " 'reallocations',\n",
       " 'clyde',\n",
       " 'clarke',\n",
       " 'simulationengineer',\n",
       " 'passes',\n",
       " 'costeffective',\n",
       " 'aligning',\n",
       " 'realization',\n",
       " 'humanitarian',\n",
       " 'suspicious',\n",
       " 'salesmanagerpremiumhealthclub',\n",
       " 'succinct',\n",
       " 'ambience',\n",
       " 'bestival',\n",
       " 'allocations',\n",
       " 'fairgrievematchtech',\n",
       " 'fin',\n",
       " 'pcbs',\n",
       " 'wishing',\n",
       " 'infirmary',\n",
       " 'buttress',\n",
       " 'usual',\n",
       " 'pi',\n",
       " 'neurology',\n",
       " 'shepton',\n",
       " 'pitches',\n",
       " 'nightshift',\n",
       " 'gill',\n",
       " 'intuition',\n",
       " 'outturn',\n",
       " 'spontaneity',\n",
       " 'recreations',\n",
       " 'thereof',\n",
       " 'headquarter',\n",
       " 'debating',\n",
       " \"cv's\",\n",
       " 'inhibit',\n",
       " 'churches',\n",
       " 'dixon',\n",
       " 'blwyddyn',\n",
       " 'weddings',\n",
       " 'onlymy',\n",
       " 'deadline',\n",
       " 'commercialfinancialanalyst',\n",
       " 'oddeutu',\n",
       " 'electricaldesignengineerengineeringconsultancy',\n",
       " 'deferred',\n",
       " 'nurture',\n",
       " 'sterile',\n",
       " 'accidents',\n",
       " 'vigour',\n",
       " 'internalsalesaccountmanager',\n",
       " 'patience',\n",
       " 'compliment',\n",
       " 'swallowing',\n",
       " 'grew',\n",
       " 'sut',\n",
       " 'swim',\n",
       " 'gardening',\n",
       " 'numberprevious',\n",
       " 'disrepute',\n",
       " 'acis',\n",
       " 'endorsed',\n",
       " 'crewkerne',\n",
       " 'riddor',\n",
       " 'precompletion',\n",
       " 'bmw',\n",
       " 'threats',\n",
       " 'purchases',\n",
       " 'query',\n",
       " \"pc's\",\n",
       " 'retailsalesconsultantassistantsalesmanager',\n",
       " 'overflow',\n",
       " 'engineeringetsgroup',\n",
       " 'fabricator',\n",
       " 'oemsalesmanageramericas',\n",
       " 'seizure',\n",
       " 'mouth',\n",
       " 'chks',\n",
       " 'tunstall',\n",
       " 'concluding',\n",
       " 'workflows',\n",
       " 'shortterm',\n",
       " 'transition',\n",
       " 'clientside',\n",
       " 'gormod',\n",
       " 'attercliffe',\n",
       " 'amx',\n",
       " 'gis',\n",
       " 'rmb',\n",
       " 'solutionsales',\n",
       " 'ricoh',\n",
       " 'ichgcp',\n",
       " 'ess',\n",
       " 'accountancyapprentice',\n",
       " 'modelsim',\n",
       " 'refrigerants',\n",
       " 'recklessly',\n",
       " 'literatesuccessful',\n",
       " 'complications',\n",
       " 'deputyhomemanagerrn',\n",
       " 'instances',\n",
       " 'angeles',\n",
       " 'midmarketsalesexecutive',\n",
       " 'dialoguelettersadviser',\n",
       " 'recuse',\n",
       " 'implies',\n",
       " 'truro',\n",
       " 'legalentitycontrolproductibanalysis',\n",
       " 'asian',\n",
       " 'bolton',\n",
       " 'contaminant',\n",
       " 'setups',\n",
       " 'attachment',\n",
       " 'rp',\n",
       " 'jasonaddtec',\n",
       " 'estimations',\n",
       " 'gael',\n",
       " 'fieldsalesexecutivesoftwareprinthardwaredocumentsolutions',\n",
       " 'inroads',\n",
       " 'realisation',\n",
       " 'collate',\n",
       " 'hdl',\n",
       " 'eating',\n",
       " 'privileged',\n",
       " 'pendrill',\n",
       " 'gyflawni',\n",
       " 'cumnock',\n",
       " 'unfamiliar',\n",
       " 'cica',\n",
       " 'rose',\n",
       " 'adoption',\n",
       " 'cti',\n",
       " 'fetching',\n",
       " 'acrobat',\n",
       " 'scal',\n",
       " 'synthesisers',\n",
       " 'absences',\n",
       " 'persistence',\n",
       " 'mitigation',\n",
       " 'proficiency',\n",
       " 'wallisdown',\n",
       " 'topnotch',\n",
       " 'taxis',\n",
       " 'advertisers',\n",
       " 'applicationsled',\n",
       " 'weekday',\n",
       " 'ukbased',\n",
       " 'vc',\n",
       " 'rochdale',\n",
       " 'shutdown',\n",
       " 'minuets',\n",
       " 'lanecramlingtonnorthumberlandne',\n",
       " 'hsqe',\n",
       " 'alloys',\n",
       " 'evens',\n",
       " 'modes',\n",
       " 'shipment',\n",
       " 'builder',\n",
       " 'nightrgnrequiredatnasebycareandnursinghome',\n",
       " 'successdriven',\n",
       " 'omb',\n",
       " 'boards',\n",
       " 'modem',\n",
       " 'conformance',\n",
       " 'verifying',\n",
       " 'lbe',\n",
       " \"i'r\",\n",
       " 'ride',\n",
       " 'achieveable',\n",
       " 'gyfle',\n",
       " 'socialwork',\n",
       " 'solvent',\n",
       " 'payrollmanager',\n",
       " 'overcoming',\n",
       " 'evident',\n",
       " 'huntingdon',\n",
       " 'portugal',\n",
       " 'vulnerabilities',\n",
       " 'blow',\n",
       " 'wheatley',\n",
       " 'jwildscompassltd',\n",
       " 'compliancemonitoringofficer',\n",
       " 'ranalyst',\n",
       " 'kilimanjaro',\n",
       " 'medicalrecruitmentaapct',\n",
       " 'pipes',\n",
       " 'assuring',\n",
       " 'formulating',\n",
       " 'fothergill',\n",
       " 'traineerecruitmentconsultant',\n",
       " 'mnos',\n",
       " 'brigg',\n",
       " 'soidworks',\n",
       " 'appx',\n",
       " 'mmr',\n",
       " 'beiriannau',\n",
       " 'nsrp',\n",
       " 'penarth',\n",
       " 'coshh',\n",
       " 'article',\n",
       " 'meredith',\n",
       " \"mae'r\",\n",
       " 'installers',\n",
       " 'comdue',\n",
       " 'rents',\n",
       " 'herts',\n",
       " 'solids',\n",
       " 'irish',\n",
       " 'marketsstrong',\n",
       " 'mitigations',\n",
       " 'workinprogress',\n",
       " 'subjectmatterexpert',\n",
       " 'upkeep',\n",
       " 'cass',\n",
       " 'communicational',\n",
       " 'grievance',\n",
       " 'wcdma',\n",
       " 'aftersales',\n",
       " 'packageread',\n",
       " 'thin',\n",
       " 'peiriannu',\n",
       " 'buxton',\n",
       " 'preventive',\n",
       " 'stafford',\n",
       " 'enter',\n",
       " 'skillsmust',\n",
       " 'tiers',\n",
       " 'glorious',\n",
       " 'firstly',\n",
       " 'expereinced',\n",
       " 'philip',\n",
       " 'boardroom',\n",
       " 'uniques',\n",
       " 'ccj',\n",
       " 'directive',\n",
       " 'gatekeeper',\n",
       " 'ajc',\n",
       " 'varies',\n",
       " 'purposebuilt',\n",
       " 'anaesthetists',\n",
       " 'dk',\n",
       " 'electrifying',\n",
       " 'winners',\n",
       " 'spontaneous',\n",
       " 'medically',\n",
       " 'fromthe',\n",
       " \"manager's\",\n",
       " 'totally',\n",
       " 'icas',\n",
       " 'pence',\n",
       " 'addressed',\n",
       " \"odp's\",\n",
       " 'venter',\n",
       " 'experiencedmachinistverticalborerheavyengineering',\n",
       " 'countiesthis',\n",
       " 'functioning',\n",
       " 'cofrestru',\n",
       " 'version',\n",
       " 'nmcuk',\n",
       " 'constcarillion',\n",
       " 'solvency',\n",
       " 'winches',\n",
       " 'rydym',\n",
       " 'housework',\n",
       " 'unsocial',\n",
       " 'multicultural',\n",
       " 'remediate',\n",
       " 'uncertainties',\n",
       " 'pain',\n",
       " 'perthnasol',\n",
       " 'categorised',\n",
       " 'smp',\n",
       " 'stops',\n",
       " 'bradshaw',\n",
       " 'gathered',\n",
       " 'validity',\n",
       " 'vanilla',\n",
       " 'fostered',\n",
       " 'examination',\n",
       " 'tightlyknit',\n",
       " 'triumph',\n",
       " 'port',\n",
       " 'followingup',\n",
       " 'allround',\n",
       " 'launches',\n",
       " 'audible',\n",
       " 'exploit',\n",
       " 'downloading',\n",
       " 'wimbledon',\n",
       " 'kennedyrandstad',\n",
       " 'ue',\n",
       " 'regrind',\n",
       " 'navigation',\n",
       " 'activitiesfor',\n",
       " 'ukthis',\n",
       " 'underfloor',\n",
       " 'risksbuild',\n",
       " 'accountsassistant',\n",
       " 'morley',\n",
       " 'als',\n",
       " 'staffs',\n",
       " 'convictions',\n",
       " 'earliest',\n",
       " 'examples',\n",
       " 'substantiation',\n",
       " 'antennas',\n",
       " 'unmatched',\n",
       " 'atkon',\n",
       " 'kuka',\n",
       " 'minority',\n",
       " 'displays',\n",
       " 'mov',\n",
       " 'signoffs',\n",
       " 'buzzard',\n",
       " 'pubs',\n",
       " 'mlss',\n",
       " 'customs',\n",
       " 'senioreducationrecruitmentconsultantbirmingham',\n",
       " 'alevels',\n",
       " 'negligible',\n",
       " 'label',\n",
       " 'recertification',\n",
       " 'kit',\n",
       " 'dignumers',\n",
       " 'drywall',\n",
       " 'indya',\n",
       " 'mwinnresourcingsolutions',\n",
       " 'orrock',\n",
       " 'liability',\n",
       " 'oes',\n",
       " 'managerially',\n",
       " 'washroom',\n",
       " 'heathfield',\n",
       " 'representations',\n",
       " 'befits',\n",
       " 'legislations',\n",
       " 'hazan',\n",
       " 'mansion',\n",
       " 'timesto',\n",
       " 'ota',\n",
       " 'recordkeeping',\n",
       " 'qualityengineertechnician',\n",
       " 'intravenous',\n",
       " 'winder',\n",
       " 'nuhalch',\n",
       " \"engineer's\",\n",
       " 'washington',\n",
       " 'coordinated',\n",
       " 'versions',\n",
       " 'rabaiotti',\n",
       " 'trowbridge',\n",
       " 'modify',\n",
       " 'mathematician',\n",
       " 'datatransfer',\n",
       " 'peaks',\n",
       " 'discoveries',\n",
       " 'netherlands',\n",
       " 'labview',\n",
       " 'farringdon',\n",
       " 'onpatch',\n",
       " 'medicaljobs',\n",
       " 'np',\n",
       " 'iris',\n",
       " 'fibre',\n",
       " 'violent',\n",
       " 'considerate',\n",
       " 'grip',\n",
       " 'ncm',\n",
       " 'manse',\n",
       " 'filtration',\n",
       " 'gray',\n",
       " 'nontechnical',\n",
       " 'remainder',\n",
       " 'adaptable',\n",
       " 'gladly',\n",
       " 'supplement',\n",
       " 'manson',\n",
       " 'petersfield',\n",
       " 'waiter',\n",
       " 'symbol',\n",
       " 'whls',\n",
       " 'immaculate',\n",
       " 'cardiovascular',\n",
       " 'negligence',\n",
       " 'eich',\n",
       " 'dictate',\n",
       " 'scrutiny',\n",
       " 'stsm',\n",
       " 'banner',\n",
       " 'swanage',\n",
       " 'connells',\n",
       " 'commercialfinanceanalyst',\n",
       " 'vitality',\n",
       " 'bolsover',\n",
       " 'mds',\n",
       " 'receivers',\n",
       " 'cumulative',\n",
       " 'lunchtime',\n",
       " 'enters',\n",
       " 'recruitmentsalesexecutive',\n",
       " 'xsd',\n",
       " 'counters',\n",
       " 'measurements',\n",
       " 'payrollassistant',\n",
       " 'bonusesfully',\n",
       " 'microprocessors',\n",
       " 'lends',\n",
       " 'technicalsalesmanagerscotlandlocated',\n",
       " 'levelexcellent',\n",
       " 'eyecare',\n",
       " 'eurocodes',\n",
       " 'translates',\n",
       " 'stroud',\n",
       " 'sainsbury',\n",
       " 'interactive',\n",
       " 'daytime',\n",
       " 'seniormechanicalcontractsmanager',\n",
       " 'diversified',\n",
       " 'gradually',\n",
       " 'communities',\n",
       " 'favoured',\n",
       " 'allegro',\n",
       " 'kawasaki',\n",
       " 'cpld',\n",
       " 'rebalancing',\n",
       " 'mips',\n",
       " 'onboarding',\n",
       " 'imagination',\n",
       " 'modularizing',\n",
       " 'supervises',\n",
       " 'celebrated',\n",
       " 'timorously',\n",
       " 'cath',\n",
       " 'seafield',\n",
       " 'experineced',\n",
       " 'ewch',\n",
       " 'honos',\n",
       " 'stayed',\n",
       " 'angels',\n",
       " 'acknowledge',\n",
       " 'desirables',\n",
       " 'philosophy',\n",
       " 'oe',\n",
       " 'psychiatry',\n",
       " 'joy',\n",
       " 'undergone',\n",
       " 'ascertaining',\n",
       " 'ghc',\n",
       " 'victims',\n",
       " 'disclosurescotland',\n",
       " 'signed',\n",
       " 'army',\n",
       " 'documentatation',\n",
       " 'emeabusinessdevelopmentmanager',\n",
       " 'werkshage',\n",
       " 'retired',\n",
       " 'safeguard',\n",
       " 'radiant',\n",
       " 'orbit',\n",
       " 'neurone',\n",
       " 'roller',\n",
       " 'pragmatic',\n",
       " 'inpatient',\n",
       " 'atmospherea',\n",
       " 'soutions',\n",
       " 'valve',\n",
       " 'frs',\n",
       " 'pvc',\n",
       " 'widest',\n",
       " 'castle',\n",
       " 'teller',\n",
       " 'weeklies',\n",
       " 'implication',\n",
       " 'eng',\n",
       " 'socialising',\n",
       " 'corporates',\n",
       " 'vw',\n",
       " \"driver's\",\n",
       " 'rolethe',\n",
       " 'str',\n",
       " 'halls',\n",
       " 'serial',\n",
       " 'choosing',\n",
       " 'sponsorship',\n",
       " 'leannecityscapeltd',\n",
       " 'cdp',\n",
       " 'investable',\n",
       " 'opticaltechnician',\n",
       " 'cro',\n",
       " 'bron',\n",
       " 'seniors',\n",
       " 'stamford',\n",
       " 'mths',\n",
       " 'saltford',\n",
       " 'dyfodol',\n",
       " 'argue',\n",
       " 'educate',\n",
       " 'homeaddress',\n",
       " 'compilation',\n",
       " 'el',\n",
       " 'lewistimerecruitment',\n",
       " 'implemention',\n",
       " 'fide',\n",
       " 'cannulate',\n",
       " 'warwickshire',\n",
       " 'clearing',\n",
       " 'qualityrewarded',\n",
       " 'deficient',\n",
       " 'taskcentred',\n",
       " 'airconditioningengineer',\n",
       " 'mediumspeed',\n",
       " 'spain',\n",
       " 'acknowledged',\n",
       " 'wave',\n",
       " 'august',\n",
       " 'worthington',\n",
       " 'grimsby',\n",
       " 'connects',\n",
       " 'concurrently',\n",
       " 'chelsea',\n",
       " 'dressings',\n",
       " 'manned',\n",
       " 'fundamentally',\n",
       " 'ordered',\n",
       " 'nfs',\n",
       " 'apparel',\n",
       " 'envolve',\n",
       " 'ems',\n",
       " 'highlyskilled',\n",
       " 'steering',\n",
       " 'matthews',\n",
       " 'tables',\n",
       " 'eager',\n",
       " 'filed',\n",
       " 'timehours',\n",
       " 'tdracupaktonrecruitment',\n",
       " 'tollbooths',\n",
       " 'cliche',\n",
       " 'aelodau',\n",
       " 'financialreportinganalyst',\n",
       " 'explorer',\n",
       " 'extraordinary',\n",
       " 'kris',\n",
       " 'specked',\n",
       " 'overnights',\n",
       " 'referees',\n",
       " 'nondisclosure',\n",
       " 'ontargetearnings',\n",
       " 'eleven',\n",
       " 'therapies',\n",
       " 'themed',\n",
       " 'ejr',\n",
       " 'bodybuilding',\n",
       " 'detoxification',\n",
       " 'plain',\n",
       " 'higgsfmctalent',\n",
       " 'ids',\n",
       " 'rrp',\n",
       " 'tiverton',\n",
       " 'mexico',\n",
       " 'broadbased',\n",
       " 'plethora',\n",
       " 'tape',\n",
       " 'businessdevelopmentmanagercourierservices',\n",
       " 'commentaries',\n",
       " 'akton',\n",
       " 'trim',\n",
       " 'defect',\n",
       " 'shrewsbury',\n",
       " 'adlington',\n",
       " 'union',\n",
       " 'liberty',\n",
       " 'testimonial',\n",
       " 'fordingbridge',\n",
       " 'articulately',\n",
       " 'dstlrecruitmentdstl',\n",
       " 'callington',\n",
       " 'emeainsidesalesagent',\n",
       " 'inventors',\n",
       " 'exemplary',\n",
       " 'dep',\n",
       " 'respects',\n",
       " 'relocating',\n",
       " 'designates',\n",
       " 'ryanh',\n",
       " 'managerkareplus',\n",
       " 'passing',\n",
       " 'independantly',\n",
       " 'gordon',\n",
       " 'prm',\n",
       " 'shirebrook',\n",
       " 'staging',\n",
       " 'misdescriptions',\n",
       " 'attire',\n",
       " 'selfdiscipline',\n",
       " 'koonerpertemps',\n",
       " 'eastern',\n",
       " 'presennol',\n",
       " 'rabaiottipenguinrecruitment',\n",
       " 'brought',\n",
       " 'theirnumber',\n",
       " 'datacenters',\n",
       " 'outsource',\n",
       " 'uniquely',\n",
       " 'thrust',\n",
       " 'smalikchase',\n",
       " 'lin',\n",
       " 'waking',\n",
       " 'marketresearch',\n",
       " 'distinctive',\n",
       " 'maturity',\n",
       " 'ise',\n",
       " 'carly',\n",
       " 'hearted',\n",
       " 'aga',\n",
       " 'trustee',\n",
       " 'homebased',\n",
       " 'moved',\n",
       " 'receivables',\n",
       " \"i'n\",\n",
       " 'therapeutics',\n",
       " 'pending',\n",
       " 'blurays',\n",
       " 'iosh',\n",
       " 'stan',\n",
       " 'impacting',\n",
       " 'tts',\n",
       " 'defeat',\n",
       " 'nick',\n",
       " 'formation',\n",
       " 'fridaysunday',\n",
       " 'noa',\n",
       " 'differs',\n",
       " 'pull',\n",
       " 'analytically',\n",
       " 'invaluable',\n",
       " 'kate',\n",
       " 'aftercareskills',\n",
       " 'diecasting',\n",
       " 'brownfield',\n",
       " 'transform',\n",
       " 'frameworks',\n",
       " 'embraces',\n",
       " 'declinature',\n",
       " 'thatcham',\n",
       " 'scoliosis',\n",
       " 'persistent',\n",
       " 'brislington',\n",
       " 'gordonamrgroup',\n",
       " 'pensioner',\n",
       " 'barred',\n",
       " 'microprocessor',\n",
       " 'rhino',\n",
       " 'introduces',\n",
       " 'srgeurope',\n",
       " 'openended',\n",
       " 'gaming',\n",
       " 'creatively',\n",
       " 'graduatesalesexecutiveconstructionproductssurrey',\n",
       " 'earlies',\n",
       " 'learnt',\n",
       " 'humour',\n",
       " \"homeware's\",\n",
       " 'maturation',\n",
       " 'rentals',\n",
       " 'kerr',\n",
       " 'arada',\n",
       " 'sacrifices',\n",
       " 'hants',\n",
       " 'concession',\n",
       " 'honeywell',\n",
       " 'configure',\n",
       " 'vicinity',\n",
       " 'geared',\n",
       " 'mdonnellycobaltrecruitment',\n",
       " 'fans',\n",
       " 'intrastat',\n",
       " 'tolerance',\n",
       " 'appealing',\n",
       " 'tm',\n",
       " 'souths',\n",
       " 'indicating',\n",
       " 'wagstaff',\n",
       " 'embodies',\n",
       " 'centric',\n",
       " 'pub',\n",
       " 'nejobsbmsuk',\n",
       " 'pvt',\n",
       " 'fullyadvised',\n",
       " 'flexsa',\n",
       " 'stepping',\n",
       " 'domination',\n",
       " 'standardisation',\n",
       " 'roberts',\n",
       " 'rivalled',\n",
       " 'coat',\n",
       " 'policyassess',\n",
       " 'distressed',\n",
       " 'elections',\n",
       " 'accompany',\n",
       " 'landlord',\n",
       " 'wilmslow',\n",
       " 'dct',\n",
       " 'aiming',\n",
       " 'attendant',\n",
       " 'businesslink',\n",
       " 'diagnostics',\n",
       " 'exc',\n",
       " 'rasen',\n",
       " 'automating',\n",
       " 'constipation',\n",
       " 'complianceofficer',\n",
       " 'communicates',\n",
       " 'mangers',\n",
       " 'continuation',\n",
       " 'prequalification',\n",
       " 'sgiliau',\n",
       " 'simpler',\n",
       " 'netbios',\n",
       " 'stanley',\n",
       " 'universal',\n",
       " ...}"
      ]
     },
     "execution_count": 18,
     "metadata": {},
     "output_type": "execute_result"
    }
   ],
   "source": [
    "from nltk.probability import *\n",
    "from itertools import chain\n",
    "\n",
    "words = list(chain.from_iterable(tk_description)) # we put all the tokens in the corpus in a single list\n",
    "term_fd = FreqDist(words) # compute term frequency for each unique word/type\n",
    "\n",
    "# Using hapaxes() to see less frequent words in term frequency\n",
    "lessFreqWords = set(term_fd.hapaxes())\n",
    "print(f'The number of words that appear only once in the entire corpus is: {len(lessFreqWords)}\\n')\n",
    "\n",
    "# test\n",
    "lessFreqWords"
   ]
  },
  {
   "cell_type": "markdown",
   "metadata": {},
   "source": [
    "### -------> OBSERVATION:\n",
    "\n",
    "Most of the words do not carry any meaning which indicates maybe typos inside the description we might fix it or in this case I would eliminate it"
   ]
  },
  {
   "cell_type": "code",
   "execution_count": 19,
   "metadata": {
    "pycharm": {
     "name": "#%%\n"
    }
   },
   "outputs": [
    {
     "name": "stdout",
     "output_type": "stream",
     "text": [
      "Vocabulary size:  5218\n",
      "Total number of tokens:  102975\n",
      "Lexical diversity:  0.05067249332362224\n",
      "Total number of description: 776\n",
      "Average description length: 132.69974226804123\n",
      "Maximum description length: 471\n",
      "Minimum description length: 12\n",
      "Standard deviation of description length: 70.3782402519735\n"
     ]
    }
   ],
   "source": [
    "def removeLessFreqWords(description):\n",
    "    return [w for w in description if w not in lessFreqWords]\n",
    "\n",
    "tk_description = [removeLessFreqWords(description) for description in tk_description]\n",
    "\n",
    "# view the updated statistic\n",
    "stats_print(tk_description)"
   ]
  },
  {
   "cell_type": "markdown",
   "metadata": {
    "pycharm": {
     "name": "#%% md\n"
    }
   },
   "source": [
    "## Task 1.2.7 Remove the top 50 most frequent words based on document frequency."
   ]
  },
  {
   "cell_type": "code",
   "execution_count": 20,
   "metadata": {
    "pycharm": {
     "name": "#%%\n"
    }
   },
   "outputs": [
    {
     "data": {
      "text/plain": [
       "[('experience', 586),\n",
       " ('role', 499),\n",
       " ('work', 453),\n",
       " ('team', 431),\n",
       " ('working', 407),\n",
       " ('skills', 366),\n",
       " ('client', 358),\n",
       " ('job', 348),\n",
       " ('company', 343),\n",
       " ('business', 342),\n",
       " ('uk', 316),\n",
       " ('excellent', 309),\n",
       " ('management', 301),\n",
       " ('based', 287),\n",
       " ('apply', 286),\n",
       " ('opportunity', 280),\n",
       " ('salary', 270),\n",
       " ('required', 269),\n",
       " ('successful', 267),\n",
       " ('support', 261),\n",
       " ('join', 252),\n",
       " ('candidate', 248),\n",
       " ('service', 242),\n",
       " ('knowledge', 241),\n",
       " ('development', 235),\n",
       " ('leading', 234),\n",
       " ('high', 224),\n",
       " ('cv', 223),\n",
       " ('manager', 220),\n",
       " ('www', 220),\n",
       " ('training', 214),\n",
       " ('sales', 211),\n",
       " ('strong', 211),\n",
       " ('provide', 209),\n",
       " ('including', 209),\n",
       " ('services', 208),\n",
       " ('ability', 201),\n",
       " ('contact', 200),\n",
       " ('position', 199),\n",
       " ('recruitment', 196),\n",
       " ('full', 194),\n",
       " ('benefits', 193),\n",
       " ('posted', 192),\n",
       " ('jobseeking', 191),\n",
       " ('originally', 191),\n",
       " ('clients', 187),\n",
       " ('include', 187),\n",
       " ('good', 187),\n",
       " ('essential', 186),\n",
       " ('information', 184)]"
      ]
     },
     "execution_count": 20,
     "metadata": {},
     "output_type": "execute_result"
    }
   ],
   "source": [
    "words = list(chain.from_iterable([set(description) for description in tk_description]))\n",
    "doc_fd = FreqDist(words)  # compute document frequency for each unique word/type\n",
    "top50MostFreqWords = doc_fd.most_common(50)\n",
    "top50MostFreqWords"
   ]
  },
  {
   "cell_type": "markdown",
   "metadata": {},
   "source": [
    "### --------> OBSERVATION:\n",
    "\n",
    "Each unique token is a key, and the value is its corresponding frequency. The list above contains the 50 most frequent words. We can see that it is mostly dominated by the stop words of the English language, which occurs in most job descriptions making it cliché, which tells us nothing about the meaning of the text.\n",
    "\n",
    "#### Cumulative Frequency Plot\n",
    "We use [matplotlib.lines.Line2D](https://matplotlib.org/stable/api/_as_gen/matplotlib.lines.Line2D.html)\n",
    "to generate a cumulative frequency plot for proportion of the text <font color=\"pink\"><b>fd.plot(50, cumulative=True)</b></font>. These 50 words account for about 13% (i.e., 13000/102975, where 102975 is the total number of tokens) of the entire Job Ad corpus."
   ]
  },
  {
   "cell_type": "code",
   "execution_count": 21,
   "metadata": {},
   "outputs": [
    {
     "data": {
      "image/png": "[encoded data removed]",
      "text/plain": [
       "<Figure size 1440x720 with 1 Axes>"
      ]
     },
     "metadata": {
      "needs_background": "light"
     },
     "output_type": "display_data"
    },
    {
     "data": {
      "text/plain": [
       "<AxesSubplot:xlabel='Samples', ylabel='Cumulative Counts'>"
      ]
     },
     "execution_count": 21,
     "metadata": {},
     "output_type": "execute_result"
    }
   ],
   "source": [
    "# cumulative frequency plot for most common 50 words\n",
    "doc_fd.plot(50, cumulative=True, color='pink')"
   ]
  },
  {
   "cell_type": "markdown",
   "metadata": {},
   "source": [
    "### -----------> OBSERVATION:\n",
    "\n",
    "From the previous printout of the most frequent words, we can see there might be some quite useful words. Before we decide to remove those words from our vocabulary, it might be worth checking what those words mean and the context of those words. \n",
    "\n",
    "Fortunately, NLTK provides a concordance function in the `nltk.text` module. A **concordance** view shows us every occurrence of a given the word, together with the corresponding context. For example:"
   ]
  },
  {
   "cell_type": "code",
   "execution_count": 22,
   "metadata": {},
   "outputs": [
    {
     "name": "stdout",
     "output_type": "stream",
     "text": [
      "Displaying 25 of 214 matches:\n",
      "nts users roles hour management cv training incomplete relation bonuses knowle\n",
      "sion management largest registered training norwich cv complex enthusiastic eq\n",
      "ntments newmarket programme proven training totaljobs basic attitude ahead tea\n",
      "chesterfield depending life return training areas agencies year expect pension\n",
      " path industry role candidate sell training horsham agencies year expect estab\n",
      "upported management sell telephone training inspect open genuine totaljobs saf\n",
      "head management departments highly training website nhs tom knowledge basic ma\n",
      "mental status plans registered aim training prime areas parties cover reportin\n",
      "drugs personnel largest registered training stores areas enhance loss cover ac\n",
      "management personnel individuality training specializes knowledge medium manag\n",
      "nies hour reimbursement loyalty cv training stores cover subject equal current\n",
      "ion return tools largest telephone training website single genuine enthusiasti\n",
      "ll apply work client employment cv training experience carried opportunities a\n",
      " generation send preference member training telephone highly crm enhance enthu\n",
      "ersatile vehicle life return check training shift community st attitude equal \n",
      "ent candidate eye recording highly training beneficial knowledge temporary lan\n",
      " advertising role group management training safety combination capital network\n",
      "nds require driving work cv employ training experience areas shift title crb c\n",
      "dle roles management aim telephone training complex spanish players relation r\n",
      "role larger meeting vat management training complex sme knowledge statutory gr\n",
      "tasks dressing seekers flexible wd training bathing experience areas home dipl\n",
      "feel months management life highly training type players relationships bonuses\n",
      " management depending plans highly training challenges allowance complex relat\n",
      "partments life audit largest plans training stores totaljobs st thames profit \n",
      "www expand companies visit website training relationships eligible basic manag\n"
     ]
    }
   ],
   "source": [
    "textList = nltk.Text(words) # Create the text of tokens\n",
    "textList.concordance('training') # shows the concordance view of the token 'said'"
   ]
  },
  {
   "cell_type": "code",
   "execution_count": 23,
   "metadata": {
    "pycharm": {
     "name": "#%%\n"
    }
   },
   "outputs": [
    {
     "name": "stdout",
     "output_type": "stream",
     "text": [
      "Vocabulary size:  5218\n",
      "Total number of tokens:  102975\n",
      "Lexical diversity:  0.05067249332362224\n",
      "Total number of description: 776\n",
      "Average description length: 132.69974226804123\n",
      "Maximum description length: 471\n",
      "Minimum description length: 12\n",
      "Standard deviation of description length: 70.3782402519735\n"
     ]
    }
   ],
   "source": [
    "def removeMostFreqWords(description):\n",
    "    return [w for w in description if w not in top50MostFreqWords]\n",
    "\n",
    "tk_description = [removeMostFreqWords(description) for description in tk_description]\n",
    "\n",
    "stats_print(tk_description)"
   ]
  },
  {
   "cell_type": "markdown",
   "metadata": {
    "pycharm": {
     "name": "#%% md\n"
    }
   },
   "source": [
    "### The Updated Statistics\n",
    "In the above, we have done all required pre-processed steps, now let's have a look at the statistics again:"
   ]
  },
  {
   "cell_type": "code",
   "execution_count": 24,
   "metadata": {
    "collapsed": false,
    "jupyter": {
     "outputs_hidden": false
    },
    "pycharm": {
     "name": "#%%\n"
    }
   },
   "outputs": [
    {
     "name": "stdout",
     "output_type": "stream",
     "text": [
      "The final statistic description after pre-processing:\n",
      "\n",
      "Vocabulary size:  5218\n",
      "Total number of tokens:  102975\n",
      "Lexical diversity:  0.05067249332362224\n",
      "Total number of description: 776\n",
      "Average description length: 132.69974226804123\n",
      "Maximum description length: 471\n",
      "Minimum description length: 12\n",
      "Standard deviation of description length: 70.3782402519735\n"
     ]
    }
   ],
   "source": [
    "print(f'The final statistic description after pre-processing:\\n')\n",
    "stats_print(tk_description)"
   ]
  },
  {
   "cell_type": "markdown",
   "metadata": {
    "pycharm": {
     "name": "#%% md\n"
    }
   },
   "source": [
    "**Recall, from the beginning, we have the following:**  \n",
    "_____________________________________________\n",
    "\n",
    "+ Vocabulary size:  9834\n",
    "+ Total number of tokens:  186952\n",
    "+ Lexical diversity:  0.052601737344345076\n",
    "+ Total number of description: 776\n",
    "+ Average description length: 240.91752577319588\n",
    "+ Maximum description length: 815\n",
    "+ Minimum description length: 13\n",
    "+ Standard deviation of description length: 124.97750685071483\n",
    "_____________________________________________\n",
    "\n",
    "\n",
    "### ------------> OBSERVATION:\n",
    "\n",
    "**We've shrunk more than 53% of vocabulary size (number of types across the corpus).**\n",
    "\n",
    "* The total number of tokens across the corpus shrunk by more than 55%\n",
    "* The ratio of different unique words stems from a significantly reduced total number of tokens.  \n",
    "* The average number of the token (i.e., document length) in the dataset shrunk by more than 55%\n",
    "* The maximum Maximum description length decreases by about 58%\n",
    "* The minimum description length increases by 7.7%\n",
    "* The Standard deviation of description length shrunk by about 56%"
   ]
  },
  {
   "cell_type": "markdown",
   "metadata": {
    "pycharm": {
     "name": "#%% md\n"
    }
   },
   "source": [
    "## Task 1.2.8 Save all job advertisement text and information \n",
    "+ Save the vocabulary, bigrams, and job advertisement txt format.\n",
    "+ We are going to store all the preprocessed description texts and their corresponding labels into files for task 2.\n",
    "\n",
    "#### `.txt` files\n",
    "* `description.txt`: all the tokenized descriptions are stored in a .txt file\n",
    "    * each line is a description text, which contains all the tokens of the description text, separated by a space ' '\n",
    "* `category.txt`: All the corresponding labels are stored in a .txt file\n",
    "    * each line is a label (one of these 4 values: 0,1,2,3)\n",
    "* `title.txt`: All the corresponding titles are stored in a .txt file\n",
    "    * each line is a title"
   ]
  },
  {
   "cell_type": "code",
   "execution_count": 25,
   "metadata": {
    "collapsed": false,
    "jupyter": {
     "outputs_hidden": false
    },
    "pycharm": {
     "name": "#%%\n"
    }
   },
   "outputs": [
    {
     "name": "stdout",
     "output_type": "stream",
     "text": [
      "Successfully saved description into description.txt\n",
      "Successfully saved category into category.txt\n",
      "Successfully saved title into title.txt\n"
     ]
    }
   ],
   "source": [
    "# save description text\n",
    "def save_description(descriptionFilename,tk_description):\n",
    "    out_file = open(descriptionFilename, 'w') # creates a txt file and open to save the descriptions\n",
    "    # join the tokens in an description with space, and write the obtained string to the txt document\n",
    "    string = \"\\n\".join([\" \".join(description) for description in tk_description]) \n",
    "    out_file.write(string)\n",
    "    out_file.close() # close the file\n",
    "\n",
    "# save the category corresponding with the description text\n",
    "def save_category(categoryFilename,category):\n",
    "    out_file = open(categoryFilename, 'w') # creates a txt file and open to save category\n",
    "    string = \"\\n\".join([str(s) for s in category])\n",
    "    out_file.write(string)\n",
    "    out_file.close() # close the file\n",
    "\n",
    "# save the title corresponding with the description text\n",
    "def save_title(titleFilename,title):\n",
    "    out_file = open(titleFilename, 'w') # creates a txt file and open to save title\n",
    "    string = \"\\n\".join([str(s) for s in title])\n",
    "    out_file.write(string)\n",
    "    out_file.close() # close the file\n",
    "\n",
    "# save description into txt file\n",
    "descriptionFilename = \"description.txt\"\n",
    "save_description(descriptionFilename,tk_description)\n",
    "print(f'Successfully saved description into {descriptionFilename}')\n",
    "\n",
    "# save category into txt file\n",
    "categoryFilename = \"category.txt\"\n",
    "save_category(categoryFilename,category)\n",
    "print(f'Successfully saved category into {categoryFilename}')\n",
    "\n",
    "# save title into txt file\n",
    "titleFilename = \"title.txt\"\n",
    "save_title(titleFilename,title)\n",
    "print(f'Successfully saved title into {titleFilename}')"
   ]
  },
  {
   "cell_type": "markdown",
   "metadata": {
    "tags": []
   },
   "source": [
    "#### `.csv` file\n",
    "* `job_ad.csv`: store information into a Dataframe and save into a CSV file\n",
    "    * the dataframe contains 776 observations and 6 attributes including `Title`, `Webindex`, `Company`, `Description`, `Tokenized Description`,`Category`"
   ]
  },
  {
   "cell_type": "code",
   "execution_count": 26,
   "metadata": {},
   "outputs": [
    {
     "name": "stdout",
     "output_type": "stream",
     "text": [
      "Category at index 0: Accounting_Finance\n",
      "Category at index 1: Engineering\n",
      "Category at index 2: Healthcare_Nursing\n",
      "Category at index 3: Sales\n"
     ]
    }
   ],
   "source": [
    "# loop through the index of the target_names and print the category name\n",
    "for i in range(len(df['target_names'])):\n",
    "    print(f'Category at index {i}: {df[\"target_names\"][i]}')"
   ]
  },
  {
   "cell_type": "code",
   "execution_count": 27,
   "metadata": {},
   "outputs": [
    {
     "name": "stdout",
     "output_type": "stream",
     "text": [
      "<class 'pandas.core.frame.DataFrame'>\n",
      "RangeIndex: 776 entries, 0 to 775\n",
      "Data columns (total 8 columns):\n",
      " #   Column                 Non-Null Count  Dtype \n",
      "---  ------                 --------------  ----- \n",
      " 0   Webindex               776 non-null    int64 \n",
      " 1   Title                  776 non-null    object\n",
      " 2   Tokenized Title        776 non-null    object\n",
      " 3   Company                776 non-null    object\n",
      " 4   Tokenized Company      776 non-null    object\n",
      " 5   Description            776 non-null    object\n",
      " 6   Tokenized Description  776 non-null    object\n",
      " 7   Category               776 non-null    object\n",
      "dtypes: int64(1), object(7)\n",
      "memory usage: 48.6+ KB\n",
      "None\n"
     ]
    },
    {
     "data": {
      "text/html": [
       "<div>\n",
       "<style scoped>\n",
       "    .dataframe tbody tr th:only-of-type {\n",
       "        vertical-align: middle;\n",
       "    }\n",
       "\n",
       "    .dataframe tbody tr th {\n",
       "        vertical-align: top;\n",
       "    }\n",
       "\n",
       "    .dataframe thead th {\n",
       "        text-align: right;\n",
       "    }\n",
       "</style>\n",
       "<table border=\"1\" class=\"dataframe\">\n",
       "  <thead>\n",
       "    <tr style=\"text-align: right;\">\n",
       "      <th></th>\n",
       "      <th>Webindex</th>\n",
       "      <th>Title</th>\n",
       "      <th>Tokenized Title</th>\n",
       "      <th>Company</th>\n",
       "      <th>Tokenized Company</th>\n",
       "      <th>Description</th>\n",
       "      <th>Tokenized Description</th>\n",
       "      <th>Category</th>\n",
       "    </tr>\n",
       "  </thead>\n",
       "  <tbody>\n",
       "    <tr>\n",
       "      <th>0</th>\n",
       "      <td>68997528</td>\n",
       "      <td>Finance / Accounts Asst Bromley to ****k</td>\n",
       "      <td>[finance, accounts, asst, bromley, to, k]</td>\n",
       "      <td>First Recruitment Services</td>\n",
       "      <td>[first, recruitment, services]</td>\n",
       "      <td>Accountant (partqualified) to **** p.a. South ...</td>\n",
       "      <td>[accountant, partqualified, south, east, londo...</td>\n",
       "      <td>Accounting_Finance</td>\n",
       "    </tr>\n",
       "    <tr>\n",
       "      <th>1</th>\n",
       "      <td>68063513</td>\n",
       "      <td>Fund Accountant  Hedge Fund</td>\n",
       "      <td>[fund, accountant, hedge, fund]</td>\n",
       "      <td>Austin Andrew Ltd</td>\n",
       "      <td>[austin, andrew, ltd]</td>\n",
       "      <td>One of the leading Hedge Funds in London is cu...</td>\n",
       "      <td>[leading, hedge, funds, london, recruiting, fu...</td>\n",
       "      <td>Accounting_Finance</td>\n",
       "    </tr>\n",
       "    <tr>\n",
       "      <th>2</th>\n",
       "      <td>68700336</td>\n",
       "      <td>Deputy Home Manager</td>\n",
       "      <td>[deputy, home, manager]</td>\n",
       "      <td>Caritas</td>\n",
       "      <td>[caritas]</td>\n",
       "      <td>An exciting opportunity has arisen to join an ...</td>\n",
       "      <td>[exciting, opportunity, arisen, join, establis...</td>\n",
       "      <td>Healthcare_Nursing</td>\n",
       "    </tr>\n",
       "  </tbody>\n",
       "</table>\n",
       "</div>"
      ],
      "text/plain": [
       "   Webindex                                     Title  \\\n",
       "0  68997528  Finance / Accounts Asst Bromley to ****k   \n",
       "1  68063513               Fund Accountant  Hedge Fund   \n",
       "2  68700336                       Deputy Home Manager   \n",
       "\n",
       "                             Tokenized Title                     Company  \\\n",
       "0  [finance, accounts, asst, bromley, to, k]  First Recruitment Services   \n",
       "1            [fund, accountant, hedge, fund]           Austin Andrew Ltd   \n",
       "2                    [deputy, home, manager]                     Caritas   \n",
       "\n",
       "                Tokenized Company  \\\n",
       "0  [first, recruitment, services]   \n",
       "1           [austin, andrew, ltd]   \n",
       "2                       [caritas]   \n",
       "\n",
       "                                         Description  \\\n",
       "0  Accountant (partqualified) to **** p.a. South ...   \n",
       "1  One of the leading Hedge Funds in London is cu...   \n",
       "2  An exciting opportunity has arisen to join an ...   \n",
       "\n",
       "                               Tokenized Description            Category  \n",
       "0  [accountant, partqualified, south, east, londo...  Accounting_Finance  \n",
       "1  [leading, hedge, funds, london, recruiting, fu...  Accounting_Finance  \n",
       "2  [exciting, opportunity, arisen, join, establis...  Healthcare_Nursing  "
      ]
     },
     "execution_count": 27,
     "metadata": {},
     "output_type": "execute_result"
    }
   ],
   "source": [
    "# convert job ad to a dataframe\n",
    "job_ad = pd.DataFrame({'Webindex': webindex, 'Title': title, 'Tokenized Title': tk_title, 'Company': company, 'Tokenized Company': tk_company, 'Description': description,'Tokenized Description': tk_description, 'Category': category})\n",
    "\n",
    "# updated column Tokenized Description\n",
    "job_ad['Tokenized Description'] = job_ad['Tokenized Description']\n",
    "\n",
    "# updated column & replace the value in Category \n",
    "job_ad['Category'] = job_ad['Category'].replace([0,1,2,3],['Accounting_Finance','Engineering','Healthcare_Nursing','Sales'])\n",
    "\n",
    "# updated column & cast Webindex to int\n",
    "job_ad['Webindex'] = job_ad['Webindex'].astype(int)\n",
    "\n",
    "# save job ad to csv file\n",
    "job_ad.to_csv('job_ad.csv', index=False)\n",
    "\n",
    "# print basic info about the job_ad data frame\n",
    "print(job_ad.info())\n",
    "\n",
    "# print first 3 rows\n",
    "job_ad.head(3)"
   ]
  },
  {
   "cell_type": "markdown",
   "metadata": {
    "pycharm": {
     "name": "#%% md\n"
    }
   },
   "source": [
    "## Task 1.2.9 Build a vocabulary of the cleaned job advertisement descriptions\n",
    "\n",
    "`vocab.txt`\n",
    "\n",
    "This file contains the unigram vocabulary, one each line, in the following format: `word_string:word_integer_index` sorted in **alphabetical order**, and the **index value starts from 0**. This file is the key to interpreting sparse encoding. For instance, in the following example, the word `benefit` is the word_string word (the corresponding integer_index as 4) in the vocabulary. "
   ]
  },
  {
   "cell_type": "code",
   "execution_count": 28,
   "metadata": {
    "pycharm": {
     "name": "#%%\n"
    },
    "tags": []
   },
   "outputs": [
    {
     "name": "stdout",
     "output_type": "stream",
     "text": [
      "['aap', 'aaron', 'aat', 'abb', 'abenefit', 'aberdeen', 'abi', 'abilities', 'ability', 'abreast']\n"
     ]
    }
   ],
   "source": [
    "def write_vocab(vocab, filename):\n",
    "    with open(filename, 'w') as f:  # creates a txt file open in write mode\n",
    "        for i, word in enumerate(vocab):\n",
    "            # write each index and vocabulary word, note that index start from 0\n",
    "            f.write(word + ':' + str(i) + '\\n')\n",
    "            \n",
    "# convert tokenized description into a alphabetically sorted list\n",
    "vocab = sorted(list(set(chain.from_iterable(tk_description))))\n",
    "\n",
    "# save the sorted vocabulary list into a file according to the required format\n",
    "write_vocab(vocab, 'vocab.txt')\n",
    "\n",
    "# print out the first 10 words in the vocabulary to test\n",
    "print(vocab[:10])"
   ]
  },
  {
   "cell_type": "markdown",
   "metadata": {
    "pycharm": {
     "name": "#%% md\n"
    }
   },
   "source": [
    "### [Convert all `.ipynb` notebooks in the same directory into `.py` files](https://nbconvert.readthedocs.io/en/latest/usage.html#reveal-js-html-slideshow)"
   ]
  },
  {
   "cell_type": "code",
   "execution_count": 29,
   "metadata": {
    "collapsed": false,
    "jupyter": {
     "outputs_hidden": false
    },
    "pycharm": {
     "name": "#%%\n"
    }
   },
   "outputs": [],
   "source": [
    "# # The .py format of the jupyter notebook\n",
    "# for fname in os.listdir():\n",
    "#     if fname.endswith('.ipynb'):\n",
    "#         os.system(f'jupyter nbconvert {fname} --to script')"
   ]
  },
  {
   "cell_type": "markdown",
   "metadata": {
    "pycharm": {
     "name": "#%% md\n"
    }
   },
   "source": [
    "<h3 style=\"color:#ffc0cb;font-size:50px;font-family:Georgia;text-align:center;\"><strong>1.3 Summary</strong></h3>\n",
    "\n",
    "We have demonstrated the basic text pre-processing steps of sentence segmentation and tokenization. We have covered the fundamentals of text pre-processing steps: \n",
    "> + Case Normalization, \n",
    "> + Stop Word Removing, \n",
    "> + Words base on term frequency and document frequency Removing, \n",
    "> + Regex Tokenization\n",
    "\n",
    "There is no one ideal approach to text pre-processing. It all relies on the corpus and the type of text analysis we're going to do. What qualifies as a token is the main concern of the tokenization process—some text analysis tasks. As previously noted, even if these actions have varied effects on the text, they all have one thing in common: they all result in smaller vocabulary sizes."
   ]
  },
  {
   "cell_type": "markdown",
   "metadata": {
    "pycharm": {
     "name": "#%% md\n"
    }
   },
   "source": [
    "> # Discussion\n",
    "\n",
    ">> * The stopword removal technique requires extra consideration of **negative sentences**. In some cases, removing stop words from a phrase might eliminate important details and change the statement's context. For instance, while conducting a sentiment analysis, the term \"not,\" despite being a stop word, contains crucial information because \"do\" and \"not do\" clearly have radically different meanings. Failure to eliminate the stop word might ruin the purpose of the whole context and confuse the algorithm. We must constantly carefully analyze these circumstances and build our list of \"stop phrases\" to be eliminated to fit our goals.\n",
    "\n",
    ">> * For larger data sizes, it is highly recommended to reduce the vocabulary size further to either **Stemming or Lemmatization** of the words to their roots.\n",
    "\n",
    ">> * The downstream analysis will determine how we should treat the text. Should we pre-process the `title` information if we put it into the classification model? Or ought we only concentrate on the `description` itself? Based on the analytical work's objectives, we can choose the appropriate downstream analysis task. For instance, we may use the whole document when doing tasks like document classification and clustering. In contrast, performing functions like document summary and information retrieval, a smaller unit, such as a paragraph or phrase, may be used."
   ]
  },
  {
   "cell_type": "markdown",
   "metadata": {
    "pycharm": {
     "name": "#%% md\n"
    }
   },
   "source": [
    "<h3 style=\"color:#ffc0cb;font-size:50px;font-family:Georgia;text-align:center;\"><strong>1.4 References</strong></h3>\n",
    "\n",
    "\n",
    "+ [1] Sentence boundary disambiguation. https://en.wikipedia.org/wiki/Sentence_boundary_disambiguation\n",
    "+ [2] Tokenization. https://nlp.stanford.edu/IR-book/html/htmledition/tokenization-1.html  \n",
    "+ [3] wer Guide to Natural Language Processing (NLP). https://towardsdatascience.com/wer-guide-to-natural-language-processing-nlp-48ea2511f6e1  \n",
    "+ [4] Introduction to Natural Language Processing for Text. https://towardsdatascience.com/introduction-to-natural-language-processing-for-text-df845750fb63  \n",
    "+ [5] [Accessing Text Corpora and Lexical Resources](http://www.nltk.org/book/ch02.html): Chapter 2 of \"Natural Language Processing with Python\" By Steven Bird, Ewan Kelin & Edward Loper.  \n",
    "+ [6]. [Corpus Readers](http://www.nltk.org/howto/corpus.html#tagged-corpora): An NLTK tutorial on accessing the contents of a diverse set of corpora.\n",
    "+ [7] Stop words. https://en.wikipedia.org/wiki/Stop_word  \n",
    "+ [8] Bird, Steven, Edward Loper and Ewan Klein (2009), [Natural Language Processing with Python](http://www.nltk.org/book/). O’Reilly Media Inc.  \n",
    "+ [9] Convert script to Python file. https://nbconvert.readthedocs.io/en/latest/usage.html#reveal-js-html-slideshow\n",
    "+ [10] matplotlib.lines.Line2D. https://matplotlib.org/stable/api/_as_gen/matplotlib.lines.Line2D.html\n",
    "+ [11] lexical diversity. https://en.wikipedia.org/wiki/Lexical_diversity"
   ]
  }
 ],
 "metadata": {
  "kernelspec": {
   "display_name": "Python 3 (ipykernel)",
   "language": "python",
   "name": "python3"
  },
  "language_info": {
   "codemirror_mode": {
    "name": "ipython",
    "version": 3
   },
   "file_extension": ".py",
   "mimetype": "text/x-python",
   "name": "python",
   "nbconvert_exporter": "python",
   "pygments_lexer": "ipython3",
   "version": "3.9.12"
  },
  "vscode": {
   "interpreter": {
    "hash": "31f2aee4e71d21fbe5cf8b01ff0e069b9275f58929596ceb00d14d90e3e16cd6"
   }
  }
 },
 "nbformat": 4,
 "nbformat_minor": 4
}
