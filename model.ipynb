{
 "cells": [
  {
   "cell_type": "markdown",
   "metadata": {
    "pycharm": {
     "name": "#%% md\n"
    }
   },
   "source": [
    "# Document Classification with Word Embeddings\n",
    "\n",
    "In this previous activity, we have enough fun playinng around the word embeddings. \n",
    "Now, we get to the stage that we will make real use of them, i.e., we are going to build on these embeddings machine learing models for document classification. 😊\n",
    "\n",
    "\n",
    "## The Dataset\n",
    "Same as in the previous activity, the document collection that we are going to use is the BBC News Dataset. For the origin of the dataset, please refer to [here](http://mlg.ucd.ie/datasets/bbc.html)\n",
    "To be brief, the dataset consists of 2225 documents from the BBC news website corresponding to stories in five topical areas, i.e., class Labels (business, entertainment, politics, sport, tech).\n",
    "\n",
    "In this activity, instead of using the raw dataset, we will utilised the pre-processed clean dataset we saved in our previous Activity 3 Generating Feature Vectors.\n",
    "Recall that at the end of Activity 3, we saved the pre-processed articles in a txt file named `bbcNews.txt`, where, each row is a document, with tokens seperated by whitespace.\n",
    "\n",
    "Before continue, please make sure you have the following files in the same folder as this jupyter notebook:\n",
    "* `bbcNews.txt`: contains the pre-process BBC news articles\n",
    "* `labels.csv`: contains the label/class of each article."
   ]
  },
  {
   "cell_type": "code",
   "execution_count": 1,
   "metadata": {
    "pycharm": {
     "name": "#%%\n"
    }
   },
   "outputs": [],
   "source": [
    "# logging for event tracking\n",
    "import logging\n",
    "logging.basicConfig(format='%(asctime)s : %(levelname)s : %(message)s', level=logging.INFO)"
   ]
  },
  {
   "cell_type": "markdown",
   "metadata": {
    "pycharm": {
     "name": "#%% md\n"
    }
   },
   "source": [
    "Let's read in the labels and article data, and construct a single dataframe to store them correspondingly. \n",
    "Note that the order of the articles are the same as the labels data, as they are all in sorted order of document names. "
   ]
  },
  {
   "cell_type": "code",
   "execution_count": 2,
   "metadata": {
    "pycharm": {
     "name": "#%%\n"
    }
   },
   "outputs": [
    {
     "data": {
      "text/html": [
       "<div>\n",
       "<style scoped>\n",
       "    .dataframe tbody tr th:only-of-type {\n",
       "        vertical-align: middle;\n",
       "    }\n",
       "\n",
       "    .dataframe tbody tr th {\n",
       "        vertical-align: top;\n",
       "    }\n",
       "\n",
       "    .dataframe thead th {\n",
       "        text-align: right;\n",
       "    }\n",
       "</style>\n",
       "<table border=\"1\" class=\"dataframe\">\n",
       "  <thead>\n",
       "    <tr style=\"text-align: right;\">\n",
       "      <th></th>\n",
       "      <th>Title</th>\n",
       "      <th>Webindex</th>\n",
       "      <th>Company</th>\n",
       "      <th>Description</th>\n",
       "      <th>Tokenized Description</th>\n",
       "      <th>Category</th>\n",
       "    </tr>\n",
       "  </thead>\n",
       "  <tbody>\n",
       "    <tr>\n",
       "      <th>642</th>\n",
       "      <td>Recruitment Branch Manager Birmingham</td>\n",
       "      <td>67332022</td>\n",
       "      <td>Ruth Moran</td>\n",
       "      <td>Recruitment Branch Manager Birmingham Basic sa...</td>\n",
       "      <td>recruitment branch manager birmingham basic sa...</td>\n",
       "      <td>Sales</td>\n",
       "    </tr>\n",
       "    <tr>\n",
       "      <th>643</th>\n",
       "      <td>Homecare Nurse HPN Therapies Manchester  Salford</td>\n",
       "      <td>70264328</td>\n",
       "      <td>BUPA Home Healthcare</td>\n",
       "      <td>Passionate about making lives better, Bupa is ...</td>\n",
       "      <td>passionate making lives bupa dedicated clinica...</td>\n",
       "      <td>Healthcare_Nursing</td>\n",
       "    </tr>\n",
       "    <tr>\n",
       "      <th>735</th>\n",
       "      <td>Senior Staff Nurse</td>\n",
       "      <td>69587191</td>\n",
       "      <td>Oxford University Hospitals NHS Trust</td>\n",
       "      <td>THE CHURCHILL HOSPITAL Senior Staff Nurse Job ...</td>\n",
       "      <td>hospital senior staff nurse job ref ng salary ...</td>\n",
       "      <td>Healthcare_Nursing</td>\n",
       "    </tr>\n",
       "    <tr>\n",
       "      <th>225</th>\n",
       "      <td>Digital Test Engineer</td>\n",
       "      <td>72453749</td>\n",
       "      <td>Enterprise Recruitment</td>\n",
       "      <td>Digital Test Engineer Are you an Digital Test ...</td>\n",
       "      <td>digital test engineer digital test engineer in...</td>\n",
       "      <td>Engineering</td>\n",
       "    </tr>\n",
       "    <tr>\n",
       "      <th>688</th>\n",
       "      <td>Finance Analyst</td>\n",
       "      <td>68711980</td>\n",
       "      <td>Exibio Financial Recruitment</td>\n",
       "      <td>An experienced Finance Analyst is required by ...</td>\n",
       "      <td>experienced finance analyst required large ret...</td>\n",
       "      <td>Accounting_Finance</td>\n",
       "    </tr>\n",
       "  </tbody>\n",
       "</table>\n",
       "</div>"
      ],
      "text/plain": [
       "                                                Title  Webindex  \\\n",
       "642             Recruitment Branch Manager Birmingham  67332022   \n",
       "643  Homecare Nurse HPN Therapies Manchester  Salford  70264328   \n",
       "735                                Senior Staff Nurse  69587191   \n",
       "225                             Digital Test Engineer  72453749   \n",
       "688                                   Finance Analyst  68711980   \n",
       "\n",
       "                                   Company  \\\n",
       "642                             Ruth Moran   \n",
       "643                   BUPA Home Healthcare   \n",
       "735  Oxford University Hospitals NHS Trust   \n",
       "225                 Enterprise Recruitment   \n",
       "688           Exibio Financial Recruitment   \n",
       "\n",
       "                                           Description  \\\n",
       "642  Recruitment Branch Manager Birmingham Basic sa...   \n",
       "643  Passionate about making lives better, Bupa is ...   \n",
       "735  THE CHURCHILL HOSPITAL Senior Staff Nurse Job ...   \n",
       "225  Digital Test Engineer Are you an Digital Test ...   \n",
       "688  An experienced Finance Analyst is required by ...   \n",
       "\n",
       "                                 Tokenized Description            Category  \n",
       "642  recruitment branch manager birmingham basic sa...               Sales  \n",
       "643  passionate making lives bupa dedicated clinica...  Healthcare_Nursing  \n",
       "735  hospital senior staff nurse job ref ng salary ...  Healthcare_Nursing  \n",
       "225  digital test engineer digital test engineer in...         Engineering  \n",
       "688  experienced finance analyst required large ret...  Accounting_Finance  "
      ]
     },
     "execution_count": 2,
     "metadata": {},
     "output_type": "execute_result"
    }
   ],
   "source": [
    "# reading the labels file\n",
    "import pandas as pd\n",
    "df = pd.read_csv('job_ad.csv')\n",
    "\n",
    "# print out 5 samples\n",
    "df.sample(5)"
   ]
  },
  {
   "cell_type": "markdown",
   "metadata": {
    "pycharm": {
     "name": "#%% md\n"
    }
   },
   "source": [
    "Read in the article text, and creates another list to store the tokenized version of the article text accordingly."
   ]
  },
  {
   "cell_type": "markdown",
   "metadata": {
    "pycharm": {
     "name": "#%% md\n"
    }
   },
   "source": [
    "Pre-trained embeddigns:\n",
    "- `preTW2v_wv`: Word2Vec embeddings pre-trained from Google news 300 dataset\n",
    "- `preTGloVe_wv`: pre-trained GloVe embeddings \n",
    "\n",
    "Embeddings trained on the BBC News data:\n",
    "- `bbcW2v_wv`\n",
    "- `bbcFT_wv`\n",
    "\n",
    "we are going to use them for document classification. \n",
    "Before we use, we will need to load them in this activity notebook one by one, and for each, we will need to construct the document representation, i.e., document embeddings based on the word embeddings.\n"
   ]
  },
  {
   "cell_type": "markdown",
   "metadata": {
    "pycharm": {
     "name": "#%% md\n"
    }
   },
   "source": [
    "## 1. Pre-trained word2vec model based on google news\n",
    "\n",
    "The pre-trained embeddings we can download from the web. Here, we first download the pre-trained word2vec model based on google news."
   ]
  },
  {
   "cell_type": "code",
   "execution_count": 3,
   "metadata": {
    "pycharm": {
     "name": "#%%\n"
    }
   },
   "outputs": [
    {
     "name": "stdout",
     "output_type": "stream",
     "text": [
      "[--------------------------------------------------] 1.5% 24.8/1662.8MB downloaded"
     ]
    },
    {
     "name": "stderr",
     "output_type": "stream",
     "text": [
      "IOPub message rate exceeded.\n",
      "The Jupyter server will temporarily stop sending output\n",
      "to the client in order to avoid crashing it.\n",
      "To change this limit, set the config variable\n",
      "`--ServerApp.iopub_msg_rate_limit`.\n",
      "\n",
      "Current values:\n",
      "ServerApp.iopub_msg_rate_limit=1000.0 (msgs/sec)\n",
      "ServerApp.rate_limit_window=3.0 (secs)\n",
      "\n"
     ]
    },
    {
     "name": "stdout",
     "output_type": "stream",
     "text": [
      "[=-------------------------------------------------] 3.1% 51.6/1662.8MB downloaded"
     ]
    },
    {
     "name": "stderr",
     "output_type": "stream",
     "text": [
      "IOPub message rate exceeded.\n",
      "The Jupyter server will temporarily stop sending output\n",
      "to the client in order to avoid crashing it.\n",
      "To change this limit, set the config variable\n",
      "`--ServerApp.iopub_msg_rate_limit`.\n",
      "\n",
      "Current values:\n",
      "ServerApp.iopub_msg_rate_limit=1000.0 (msgs/sec)\n",
      "ServerApp.rate_limit_window=3.0 (secs)\n",
      "\n"
     ]
    },
    {
     "name": "stdout",
     "output_type": "stream",
     "text": [
      "[==------------------------------------------------] 5.3% 88.1/1662.8MB downloaded"
     ]
    },
    {
     "name": "stderr",
     "output_type": "stream",
     "text": [
      "IOPub message rate exceeded.\n",
      "The Jupyter server will temporarily stop sending output\n",
      "to the client in order to avoid crashing it.\n",
      "To change this limit, set the config variable\n",
      "`--ServerApp.iopub_msg_rate_limit`.\n",
      "\n",
      "Current values:\n",
      "ServerApp.iopub_msg_rate_limit=1000.0 (msgs/sec)\n",
      "ServerApp.rate_limit_window=3.0 (secs)\n",
      "\n"
     ]
    },
    {
     "name": "stdout",
     "output_type": "stream",
     "text": [
      "[=====---------------------------------------------] 11.1% 184.0/1662.8MB downloaded"
     ]
    },
    {
     "ename": "KeyboardInterrupt",
     "evalue": "",
     "output_type": "error",
     "traceback": [
      "\u001b[0;31m---------------------------------------------------------------------------\u001b[0m",
      "\u001b[0;31mKeyboardInterrupt\u001b[0m                         Traceback (most recent call last)",
      "Input \u001b[0;32mIn [3]\u001b[0m, in \u001b[0;36m<cell line: 3>\u001b[0;34m()\u001b[0m\n\u001b[1;32m      1\u001b[0m \u001b[38;5;66;03m# loading the pre-trained word2vec model based on google news\u001b[39;00m\n\u001b[1;32m      2\u001b[0m \u001b[38;5;28;01mimport\u001b[39;00m \u001b[38;5;21;01mgensim\u001b[39;00m\u001b[38;5;21;01m.\u001b[39;00m\u001b[38;5;21;01mdownloader\u001b[39;00m \u001b[38;5;28;01mas\u001b[39;00m \u001b[38;5;21;01mapi\u001b[39;00m\n\u001b[0;32m----> 3\u001b[0m preTW2v_wv \u001b[38;5;241m=\u001b[39m \u001b[43mapi\u001b[49m\u001b[38;5;241;43m.\u001b[39;49m\u001b[43mload\u001b[49m\u001b[43m(\u001b[49m\u001b[38;5;124;43m'\u001b[39;49m\u001b[38;5;124;43mword2vec-google-news-300\u001b[39;49m\u001b[38;5;124;43m'\u001b[39;49m\u001b[43m)\u001b[49m\n",
      "File \u001b[0;32m~/opt/anaconda3/lib/python3.9/site-packages/gensim/downloader.py:496\u001b[0m, in \u001b[0;36mload\u001b[0;34m(name, return_path)\u001b[0m\n\u001b[1;32m    494\u001b[0m path \u001b[38;5;241m=\u001b[39m os\u001b[38;5;241m.\u001b[39mpath\u001b[38;5;241m.\u001b[39mjoin(folder_dir, file_name)\n\u001b[1;32m    495\u001b[0m \u001b[38;5;28;01mif\u001b[39;00m \u001b[38;5;129;01mnot\u001b[39;00m os\u001b[38;5;241m.\u001b[39mpath\u001b[38;5;241m.\u001b[39mexists(folder_dir):\n\u001b[0;32m--> 496\u001b[0m     \u001b[43m_download\u001b[49m\u001b[43m(\u001b[49m\u001b[43mname\u001b[49m\u001b[43m)\u001b[49m\n\u001b[1;32m    498\u001b[0m \u001b[38;5;28;01mif\u001b[39;00m return_path:\n\u001b[1;32m    499\u001b[0m     \u001b[38;5;28;01mreturn\u001b[39;00m path\n",
      "File \u001b[0;32m~/opt/anaconda3/lib/python3.9/site-packages/gensim/downloader.py:396\u001b[0m, in \u001b[0;36m_download\u001b[0;34m(name)\u001b[0m\n\u001b[1;32m    394\u001b[0m fname \u001b[38;5;241m=\u001b[39m \u001b[38;5;124m\"\u001b[39m\u001b[38;5;132;01m{fname}\u001b[39;00m\u001b[38;5;124m.gz\u001b[39m\u001b[38;5;124m\"\u001b[39m\u001b[38;5;241m.\u001b[39mformat(fname\u001b[38;5;241m=\u001b[39mname)\n\u001b[1;32m    395\u001b[0m dst_path \u001b[38;5;241m=\u001b[39m os\u001b[38;5;241m.\u001b[39mpath\u001b[38;5;241m.\u001b[39mjoin(tmp_dir, fname)\n\u001b[0;32m--> 396\u001b[0m \u001b[43murllib\u001b[49m\u001b[38;5;241;43m.\u001b[39;49m\u001b[43murlretrieve\u001b[49m\u001b[43m(\u001b[49m\u001b[43murl_data\u001b[49m\u001b[43m,\u001b[49m\u001b[43m \u001b[49m\u001b[43mdst_path\u001b[49m\u001b[43m,\u001b[49m\u001b[43m \u001b[49m\u001b[43mreporthook\u001b[49m\u001b[38;5;241;43m=\u001b[39;49m\u001b[43m_progress\u001b[49m\u001b[43m)\u001b[49m\n\u001b[1;32m    397\u001b[0m \u001b[38;5;28;01mif\u001b[39;00m _calculate_md5_checksum(dst_path) \u001b[38;5;241m==\u001b[39m _get_checksum(name):\n\u001b[1;32m    398\u001b[0m     sys\u001b[38;5;241m.\u001b[39mstdout\u001b[38;5;241m.\u001b[39mwrite(\u001b[38;5;124m\"\u001b[39m\u001b[38;5;130;01m\\n\u001b[39;00m\u001b[38;5;124m\"\u001b[39m)\n",
      "File \u001b[0;32m~/opt/anaconda3/lib/python3.9/urllib/request.py:268\u001b[0m, in \u001b[0;36murlretrieve\u001b[0;34m(url, filename, reporthook, data)\u001b[0m\n\u001b[1;32m    265\u001b[0m     reporthook(blocknum, bs, size)\n\u001b[1;32m    267\u001b[0m \u001b[38;5;28;01mwhile\u001b[39;00m \u001b[38;5;28;01mTrue\u001b[39;00m:\n\u001b[0;32m--> 268\u001b[0m     block \u001b[38;5;241m=\u001b[39m \u001b[43mfp\u001b[49m\u001b[38;5;241;43m.\u001b[39;49m\u001b[43mread\u001b[49m\u001b[43m(\u001b[49m\u001b[43mbs\u001b[49m\u001b[43m)\u001b[49m\n\u001b[1;32m    269\u001b[0m     \u001b[38;5;28;01mif\u001b[39;00m \u001b[38;5;129;01mnot\u001b[39;00m block:\n\u001b[1;32m    270\u001b[0m         \u001b[38;5;28;01mbreak\u001b[39;00m\n",
      "File \u001b[0;32m~/opt/anaconda3/lib/python3.9/http/client.py:463\u001b[0m, in \u001b[0;36mHTTPResponse.read\u001b[0;34m(self, amt)\u001b[0m\n\u001b[1;32m    460\u001b[0m \u001b[38;5;28;01mif\u001b[39;00m amt \u001b[38;5;129;01mis\u001b[39;00m \u001b[38;5;129;01mnot\u001b[39;00m \u001b[38;5;28;01mNone\u001b[39;00m:\n\u001b[1;32m    461\u001b[0m     \u001b[38;5;66;03m# Amount is given, implement using readinto\u001b[39;00m\n\u001b[1;32m    462\u001b[0m     b \u001b[38;5;241m=\u001b[39m \u001b[38;5;28mbytearray\u001b[39m(amt)\n\u001b[0;32m--> 463\u001b[0m     n \u001b[38;5;241m=\u001b[39m \u001b[38;5;28;43mself\u001b[39;49m\u001b[38;5;241;43m.\u001b[39;49m\u001b[43mreadinto\u001b[49m\u001b[43m(\u001b[49m\u001b[43mb\u001b[49m\u001b[43m)\u001b[49m\n\u001b[1;32m    464\u001b[0m     \u001b[38;5;28;01mreturn\u001b[39;00m \u001b[38;5;28mmemoryview\u001b[39m(b)[:n]\u001b[38;5;241m.\u001b[39mtobytes()\n\u001b[1;32m    465\u001b[0m \u001b[38;5;28;01melse\u001b[39;00m:\n\u001b[1;32m    466\u001b[0m     \u001b[38;5;66;03m# Amount is not given (unbounded read) so we must check self.length\u001b[39;00m\n\u001b[1;32m    467\u001b[0m     \u001b[38;5;66;03m# and self.chunked\u001b[39;00m\n",
      "File \u001b[0;32m~/opt/anaconda3/lib/python3.9/http/client.py:507\u001b[0m, in \u001b[0;36mHTTPResponse.readinto\u001b[0;34m(self, b)\u001b[0m\n\u001b[1;32m    502\u001b[0m         b \u001b[38;5;241m=\u001b[39m \u001b[38;5;28mmemoryview\u001b[39m(b)[\u001b[38;5;241m0\u001b[39m:\u001b[38;5;28mself\u001b[39m\u001b[38;5;241m.\u001b[39mlength]\n\u001b[1;32m    504\u001b[0m \u001b[38;5;66;03m# we do not use _safe_read() here because this may be a .will_close\u001b[39;00m\n\u001b[1;32m    505\u001b[0m \u001b[38;5;66;03m# connection, and the user is reading more bytes than will be provided\u001b[39;00m\n\u001b[1;32m    506\u001b[0m \u001b[38;5;66;03m# (for example, reading in 1k chunks)\u001b[39;00m\n\u001b[0;32m--> 507\u001b[0m n \u001b[38;5;241m=\u001b[39m \u001b[38;5;28;43mself\u001b[39;49m\u001b[38;5;241;43m.\u001b[39;49m\u001b[43mfp\u001b[49m\u001b[38;5;241;43m.\u001b[39;49m\u001b[43mreadinto\u001b[49m\u001b[43m(\u001b[49m\u001b[43mb\u001b[49m\u001b[43m)\u001b[49m\n\u001b[1;32m    508\u001b[0m \u001b[38;5;28;01mif\u001b[39;00m \u001b[38;5;129;01mnot\u001b[39;00m n \u001b[38;5;129;01mand\u001b[39;00m b:\n\u001b[1;32m    509\u001b[0m     \u001b[38;5;66;03m# Ideally, we would raise IncompleteRead if the content-length\u001b[39;00m\n\u001b[1;32m    510\u001b[0m     \u001b[38;5;66;03m# wasn't satisfied, but it might break compatibility.\u001b[39;00m\n\u001b[1;32m    511\u001b[0m     \u001b[38;5;28mself\u001b[39m\u001b[38;5;241m.\u001b[39m_close_conn()\n",
      "File \u001b[0;32m~/opt/anaconda3/lib/python3.9/socket.py:704\u001b[0m, in \u001b[0;36mSocketIO.readinto\u001b[0;34m(self, b)\u001b[0m\n\u001b[1;32m    702\u001b[0m \u001b[38;5;28;01mwhile\u001b[39;00m \u001b[38;5;28;01mTrue\u001b[39;00m:\n\u001b[1;32m    703\u001b[0m     \u001b[38;5;28;01mtry\u001b[39;00m:\n\u001b[0;32m--> 704\u001b[0m         \u001b[38;5;28;01mreturn\u001b[39;00m \u001b[38;5;28;43mself\u001b[39;49m\u001b[38;5;241;43m.\u001b[39;49m\u001b[43m_sock\u001b[49m\u001b[38;5;241;43m.\u001b[39;49m\u001b[43mrecv_into\u001b[49m\u001b[43m(\u001b[49m\u001b[43mb\u001b[49m\u001b[43m)\u001b[49m\n\u001b[1;32m    705\u001b[0m     \u001b[38;5;28;01mexcept\u001b[39;00m timeout:\n\u001b[1;32m    706\u001b[0m         \u001b[38;5;28mself\u001b[39m\u001b[38;5;241m.\u001b[39m_timeout_occurred \u001b[38;5;241m=\u001b[39m \u001b[38;5;28;01mTrue\u001b[39;00m\n",
      "File \u001b[0;32m~/opt/anaconda3/lib/python3.9/ssl.py:1241\u001b[0m, in \u001b[0;36mSSLSocket.recv_into\u001b[0;34m(self, buffer, nbytes, flags)\u001b[0m\n\u001b[1;32m   1237\u001b[0m     \u001b[38;5;28;01mif\u001b[39;00m flags \u001b[38;5;241m!=\u001b[39m \u001b[38;5;241m0\u001b[39m:\n\u001b[1;32m   1238\u001b[0m         \u001b[38;5;28;01mraise\u001b[39;00m \u001b[38;5;167;01mValueError\u001b[39;00m(\n\u001b[1;32m   1239\u001b[0m           \u001b[38;5;124m\"\u001b[39m\u001b[38;5;124mnon-zero flags not allowed in calls to recv_into() on \u001b[39m\u001b[38;5;132;01m%s\u001b[39;00m\u001b[38;5;124m\"\u001b[39m \u001b[38;5;241m%\u001b[39m\n\u001b[1;32m   1240\u001b[0m           \u001b[38;5;28mself\u001b[39m\u001b[38;5;241m.\u001b[39m\u001b[38;5;18m__class__\u001b[39m)\n\u001b[0;32m-> 1241\u001b[0m     \u001b[38;5;28;01mreturn\u001b[39;00m \u001b[38;5;28;43mself\u001b[39;49m\u001b[38;5;241;43m.\u001b[39;49m\u001b[43mread\u001b[49m\u001b[43m(\u001b[49m\u001b[43mnbytes\u001b[49m\u001b[43m,\u001b[49m\u001b[43m \u001b[49m\u001b[43mbuffer\u001b[49m\u001b[43m)\u001b[49m\n\u001b[1;32m   1242\u001b[0m \u001b[38;5;28;01melse\u001b[39;00m:\n\u001b[1;32m   1243\u001b[0m     \u001b[38;5;28;01mreturn\u001b[39;00m \u001b[38;5;28msuper\u001b[39m()\u001b[38;5;241m.\u001b[39mrecv_into(buffer, nbytes, flags)\n",
      "File \u001b[0;32m~/opt/anaconda3/lib/python3.9/ssl.py:1099\u001b[0m, in \u001b[0;36mSSLSocket.read\u001b[0;34m(self, len, buffer)\u001b[0m\n\u001b[1;32m   1097\u001b[0m \u001b[38;5;28;01mtry\u001b[39;00m:\n\u001b[1;32m   1098\u001b[0m     \u001b[38;5;28;01mif\u001b[39;00m buffer \u001b[38;5;129;01mis\u001b[39;00m \u001b[38;5;129;01mnot\u001b[39;00m \u001b[38;5;28;01mNone\u001b[39;00m:\n\u001b[0;32m-> 1099\u001b[0m         \u001b[38;5;28;01mreturn\u001b[39;00m \u001b[38;5;28;43mself\u001b[39;49m\u001b[38;5;241;43m.\u001b[39;49m\u001b[43m_sslobj\u001b[49m\u001b[38;5;241;43m.\u001b[39;49m\u001b[43mread\u001b[49m\u001b[43m(\u001b[49m\u001b[38;5;28;43mlen\u001b[39;49m\u001b[43m,\u001b[49m\u001b[43m \u001b[49m\u001b[43mbuffer\u001b[49m\u001b[43m)\u001b[49m\n\u001b[1;32m   1100\u001b[0m     \u001b[38;5;28;01melse\u001b[39;00m:\n\u001b[1;32m   1101\u001b[0m         \u001b[38;5;28;01mreturn\u001b[39;00m \u001b[38;5;28mself\u001b[39m\u001b[38;5;241m.\u001b[39m_sslobj\u001b[38;5;241m.\u001b[39mread(\u001b[38;5;28mlen\u001b[39m)\n",
      "\u001b[0;31mKeyboardInterrupt\u001b[0m: "
     ]
    }
   ],
   "source": [
    "# loading the pre-trained word2vec model based on google news\n",
    "import gensim.downloader as api\n",
    "preTW2v_wv = api.load('word2vec-google-news-300')"
   ]
  },
  {
   "cell_type": "markdown",
   "metadata": {
    "pycharm": {
     "name": "#%% md\n"
    }
   },
   "source": [
    "Easy 😎well, but we then need to generate the document embeddings based on that.....\n",
    "\n",
    "You should still remember how to play with these pre-trained embeddings, let's remind ourselves a little bit:"
   ]
  },
  {
   "cell_type": "code",
   "execution_count": null,
   "metadata": {
    "pycharm": {
     "name": "#%%\n"
    }
   },
   "outputs": [],
   "source": [
    "preTW2v_wv['king'] # retrieve the embedding of a word 'king'"
   ]
  },
  {
   "cell_type": "markdown",
   "metadata": {
    "pycharm": {
     "name": "#%% md\n"
    }
   },
   "source": [
    "Ok, now we do something more seriously. \n",
    "Since we are going to explore the use of different language model for document classification in this activity, we will need to generate docment embeddings based on word embeddings a couple of times. \n",
    "Let's construct a function for this so that we can resue it later.\n",
    "\n",
    "The following function takes:\n",
    "* wv, an word:embedding dictionary or KeyedVectors; and \n",
    "* tk_txts, a list of tokenized texts, each of an article\n",
    "\n",
    "as argument, it then does the following to generate the list of embedding vector representations, each for an article:\n",
    "1. creates an empty dataframe `docs_vectors` to store the document embeddings of articles\n",
    "2. it loop through every tokenized text:\n",
    "    - creates an empty dataframe `temp` to store all the word embeddings of the article\n",
    "    - for each word that exists in the word embeddings dictionary/keyedvectors, row bind the word embedding to `temp`\n",
    "    - take the sum of each column to create the document vector, i.e., the embedding of an article\n",
    "    - append the created document vector to the list of document vectors"
   ]
  },
  {
   "cell_type": "code",
   "execution_count": 9,
   "metadata": {
    "pycharm": {
     "name": "#%%\n"
    }
   },
   "outputs": [],
   "source": [
    "def gen_docVecs(wv,tk_txts): # generate vector representation for documents\n",
    "    docs_vectors = pd.DataFrame() # creating empty final dataframe\n",
    "    #stopwords = nltk.corpus.stopwords.words('english') # if we haven't pre-processed the articles, it's a good idea to remove stop words\n",
    "\n",
    "    for i in range(0,len(tk_txts)):\n",
    "        tokens = tk_txts[i]\n",
    "        temp = pd.DataFrame()  # creating a temporary dataframe(store value for 1st doc & for 2nd doc remove the details of 1st & proced through 2nd and so on..)\n",
    "        for w_ind in range(0, len(tokens)): # looping through each word of a single document and spliting through space\n",
    "            try:\n",
    "                word = tokens[w_ind]\n",
    "                word_vec = wv[word] # if word is present in embeddings(goole provides weights associate with words(300)) then proceed\n",
    "                temp = temp.append(pd.Series(word_vec), ignore_index = True) # if word is present then append it to temporary dataframe\n",
    "            except:\n",
    "                pass\n",
    "        doc_vector = temp.sum() # take the sum of each column\n",
    "        docs_vectors = docs_vectors.append(doc_vector, ignore_index = True) # append each document value to the final dataframe\n",
    "    return docs_vectors"
   ]
  },
  {
   "cell_type": "code",
   "execution_count": 10,
   "metadata": {
    "pycharm": {
     "name": "#%%\n"
    }
   },
   "outputs": [
    {
     "data": {
      "text/plain": [
       "0"
      ]
     },
     "execution_count": 10,
     "metadata": {},
     "output_type": "execute_result"
    }
   ],
   "source": [
    "# NOTE this can take some time to finish running\n",
    "preTW2v_dvs = gen_docVecs(preTW2v_wv,df['tk_text'])\n",
    "preTW2v_dvs.isna().any().sum() # check whether there is any null values in the document vectors dataframe."
   ]
  },
  {
   "cell_type": "markdown",
   "metadata": {
    "pycharm": {
     "name": "#%% md\n"
    }
   },
   "source": [
    "0 null record  😊"
   ]
  },
  {
   "cell_type": "markdown",
   "metadata": {
    "pycharm": {
     "name": "#%% md\n"
    }
   },
   "source": [
    "### 1.1 Understand your task by tSNE\n",
    "\n",
    "Alright! so we have the document embedding vector representation for each article now, we can proceed to the task of document classification. \n",
    "Before, we move on, a good habbit is to explore and understand how difficult the task is, whether there are too much noise in the data, making it impossible to clearly separate each category. \n",
    "\n",
    "One way to confirm that the feature space we are using is representative enough for our task (classifying articles into separate labels) to be solvable is to use dimensionality-reduction techniques: These methods project a high-dimensional vector into a lower number of dimensions, with different guarantees on this projection according to the method used. \n",
    "In this activity, we will use [t-SNE](https://en.wikipedia.org/wiki/T-distributed_stochastic_neighbor_embedding), a popular dimensionality reduction technique used in many fields, including NLP.\n",
    "\n",
    "Since we will do the same thing again and again when we try other embeddings, we will construct a function to do this again.\n",
    "The following function `plotTSNE` takes the following arugments:\n",
    "* labels, the lable/category of each article\n",
    "* features, a numpy array of document embeddings, each for an article.\n",
    "\n",
    "and projects the feature/document embedding vectors in a 2 dimension space and plot them out. \n",
    "It does the following:\n",
    "1. get the set of classes, called `categories` (5 categories)\n",
    "2. sample 30% of the data/document embeddings randomly, and record the indices selected\n",
    "3. project the selected document embeddings in 2 dimensional space using tSNE, each document embedding now corresponds to a 2 dimensional vector in `projected_features`\n",
    "4. plot them out as scatter plot and highlight different categories in different color"
   ]
  },
  {
   "cell_type": "code",
   "execution_count": 11,
   "metadata": {
    "pycharm": {
     "name": "#%%\n"
    }
   },
   "outputs": [],
   "source": [
    "from sklearn.manifold import TSNE\n",
    "import matplotlib.pyplot as plt\n",
    "import numpy as np\n",
    "def plotTSNE(labels,features): # features as a numpy array, each element of the array is the document embedding of an article\n",
    "    categories = sorted(labels.unique())\n",
    "    # Sampling a subset of our dataset because t-SNE is computationally expensive\n",
    "    SAMPLE_SIZE = int(len(features) * 0.3)\n",
    "    np.random.seed(0)\n",
    "    indices = np.random.choice(range(len(features)), size=SAMPLE_SIZE, replace=False)\n",
    "    projected_features = TSNE(n_components=2, random_state=0).fit_transform(features[indices])\n",
    "    colors = ['pink', 'green', 'midnightblue', 'orange', 'darkgrey']\n",
    "    for i in range(0,len(categories)):\n",
    "        points = projected_features[(labels[indices] == categories[i])]\n",
    "        plt.scatter(points[:, 0], points[:, 1], s=30, c=colors[i], label=categories[i])\n",
    "    plt.title(\"Feature vector for each article, projected on 2 dimensions.\",\n",
    "              fontdict=dict(fontsize=15))\n",
    "    plt.legend()\n",
    "    plt.show()"
   ]
  },
  {
   "cell_type": "code",
   "execution_count": 12,
   "metadata": {
    "pycharm": {
     "name": "#%%\n"
    }
   },
   "outputs": [
    {
     "data": {
      "image/png": "[encoded data removed]",
      "text/plain": [
       "<Figure size 432x288 with 1 Axes>"
      ]
     },
     "metadata": {
      "needs_background": "light"
     },
     "output_type": "display_data"
    }
   ],
   "source": [
    "features = preTW2v_dvs.to_numpy() # convert the document vector dataframe to a numpy array\n",
    "plotTSNE(df['Category'],features) # plot the tSNE to have a look"
   ]
  },
  {
   "cell_type": "markdown",
   "metadata": {
    "pycharm": {
     "name": "#%% md\n"
    }
   },
   "source": [
    "Oh! Not bad, there are a bit of noises, but overall, seems an easy one, the different categories are quite nicely seperated! Well~ if you remember this dataset prevoiusly, you would have a rough idea anyway, with the binary/count/tfidf vector representation, we have accuracy above 95% 😊\n",
    "Ok, now, let's move on to the serious task: Document Classfication"
   ]
  },
  {
   "cell_type": "markdown",
   "metadata": {
    "pycharm": {
     "name": "#%% md\n"
    }
   },
   "source": [
    "### 1.2 Document classification using pre-trained Word2Vec from GoogleNews 300"
   ]
  },
  {
   "cell_type": "code",
   "execution_count": 13,
   "metadata": {
    "pycharm": {
     "name": "#%%\n"
    }
   },
   "outputs": [],
   "source": [
    "seed = 0 # set a seed to make sure the experiment is reproducible"
   ]
  },
  {
   "cell_type": "code",
   "execution_count": 14,
   "metadata": {
    "pycharm": {
     "name": "#%%\n"
    }
   },
   "outputs": [
    {
     "data": {
      "text/plain": [
       "0.9741496598639455"
      ]
     },
     "execution_count": 14,
     "metadata": {},
     "output_type": "execute_result"
    }
   ],
   "source": [
    "from sklearn.model_selection import train_test_split\n",
    "from sklearn.linear_model import LogisticRegression\n",
    "\n",
    "# creating training and test split\n",
    "X_train, X_test, y_train, y_test,train_indices,test_indices = train_test_split(preTW2v_dvs, df['Category'], list(range(0,len(df))),test_size=0.33, random_state=seed)\n",
    "\n",
    "model = LogisticRegression(max_iter = 2000,random_state=seed) # increase the max_iter to 2000 for convergence\n",
    "model.fit(X_train, y_train)\n",
    "model.score(X_test, y_test)"
   ]
  },
  {
   "cell_type": "markdown",
   "metadata": {
    "pycharm": {
     "name": "#%% md\n"
    }
   },
   "source": [
    "Ah ha, very similar to what we've seen before with the traditional bag-of-word models 🙄haha, not much advantage demonstrated......\n",
    "\n",
    ">**Exercise**    \n",
    "Here we will leave you a task to examin the cases of mis-classification, and perhaps compare it with the one we experience before with the binary/count/tf-idf vectors.\n"
   ]
  },
  {
   "cell_type": "markdown",
   "metadata": {
    "pycharm": {
     "name": "#%% md\n"
    }
   },
   "source": [
    "## 2. Our in-house trained Word2vec model on bbc News data\n",
    "\n",
    "Ok, now let's see our own word2vec model trained on the BBC News data. \n",
    "Remember what I said before, we demonstrate how to save a model in the previous activity, and now we will show you how to load the saved model. \n",
    "Indeed, it's very simple, one line of code 😄, well, with Word2Vec library from Gensim. "
   ]
  },
  {
   "cell_type": "code",
   "execution_count": 15,
   "metadata": {
    "pycharm": {
     "name": "#%%\n"
    }
   },
   "outputs": [
    {
     "name": "stderr",
     "output_type": "stream",
     "text": [
      "2021-09-15 03:22:14,290 : INFO : loading Word2Vec object from bbc_w2v.model\n",
      "2021-09-15 03:22:14,326 : INFO : loading wv recursively from bbc_w2v.model.wv.* with mmap=None\n",
      "2021-09-15 03:22:14,327 : INFO : setting ignored attribute cum_table to None\n",
      "2021-09-15 03:22:14,428 : INFO : Word2Vec lifecycle event {'fname': 'bbc_w2v.model', 'datetime': '2021-09-15T03:22:14.428809', 'gensim': '4.1.1', 'python': '3.6.10 |Anaconda, Inc.| (default, May  7 2020, 19:46:08) [MSC v.1916 64 bit (AMD64)]', 'platform': 'Windows-10-10.0.18362-SP0', 'event': 'loaded'}\n"
     ]
    },
    {
     "name": "stdout",
     "output_type": "stream",
     "text": [
      "Word2Vec(vocab=9994, vector_size=100, alpha=0.025)\n"
     ]
    }
   ],
   "source": [
    "# loading the trained model based on bbc News data\n",
    "from gensim.models import Word2Vec\n",
    "bbc_w2v = Word2Vec.load(\"bbc_w2v.model\") # load our saved model\n",
    "print(bbc_w2v)\n",
    "bbcW2v_wv = bbc_w2v.wv # extract the keyedvetors from the model"
   ]
  },
  {
   "cell_type": "markdown",
   "metadata": {
    "pycharm": {
     "name": "#%% md\n"
    }
   },
   "source": [
    "Once loaded, we can then generate the document embeddings by calling our `gen_docVecs` function, it does all the jobs for us. hmm~ just love it 😀 "
   ]
  },
  {
   "cell_type": "code",
   "execution_count": 16,
   "metadata": {
    "pycharm": {
     "name": "#%%\n"
    }
   },
   "outputs": [
    {
     "data": {
      "text/plain": [
       "0"
      ]
     },
     "execution_count": 16,
     "metadata": {},
     "output_type": "execute_result"
    }
   ],
   "source": [
    "# NOTE this can take some time to finish running\n",
    "bbcW2v_dvs = gen_docVecs(bbcW2v_wv,df['tk_text']) # generate document embeddings\n",
    "pd.isnull(bbcW2v_dvs).isna().any().sum() # check whether there is any null values in the document vectors dataframe."
   ]
  },
  {
   "cell_type": "markdown",
   "metadata": {
    "pycharm": {
     "name": "#%% md\n"
    }
   },
   "source": [
    "haha, ok, and as usualy, have a look at how representative our features are:"
   ]
  },
  {
   "cell_type": "code",
   "execution_count": 17,
   "metadata": {
    "pycharm": {
     "name": "#%%\n"
    }
   },
   "outputs": [
    {
     "data": {
      "image/png": "[encoded data removed]",
      "text/plain": [
       "<Figure size 432x288 with 1 Axes>"
      ]
     },
     "metadata": {
      "needs_background": "light"
     },
     "output_type": "display_data"
    }
   ],
   "source": [
    "features = bbcW2v_dvs.to_numpy() # convert the document vector dataframe to a numpy array\n",
    "plotTSNE(df['Category'],features)"
   ]
  },
  {
   "cell_type": "markdown",
   "metadata": {
    "pycharm": {
     "name": "#%% md\n"
    }
   },
   "source": [
    "oo~ oops~~ seems a bit messier than what we've seen before with the pre-trained Word2Vec. \n",
    "Try the actually classfication task and see whether that confirms our observation through tSNE."
   ]
  },
  {
   "cell_type": "code",
   "execution_count": 18,
   "metadata": {
    "pycharm": {
     "name": "#%%\n"
    }
   },
   "outputs": [
    {
     "name": "stderr",
     "output_type": "stream",
     "text": [
      "C:\\Users\\E104857\\Anaconda3\\envs\\Python36\\lib\\site-packages\\sklearn\\linear_model\\_logistic.py:764: ConvergenceWarning: lbfgs failed to converge (status=1):\n",
      "STOP: TOTAL NO. of ITERATIONS REACHED LIMIT.\n",
      "\n",
      "Increase the number of iterations (max_iter) or scale the data as shown in:\n",
      "    https://scikit-learn.org/stable/modules/preprocessing.html\n",
      "Please also refer to the documentation for alternative solver options:\n",
      "    https://scikit-learn.org/stable/modules/linear_model.html#logistic-regression\n",
      "  extra_warning_msg=_LOGISTIC_SOLVER_CONVERGENCE_MSG)\n"
     ]
    },
    {
     "data": {
      "text/plain": [
       "0.9496598639455782"
      ]
     },
     "execution_count": 18,
     "metadata": {},
     "output_type": "execute_result"
    }
   ],
   "source": [
    "# creating training and test split\n",
    "X_train, X_test, y_train, y_test,train_indices,test_indices = train_test_split(bbcW2v_dvs, df['Category'], list(range(0,len(df))),test_size=0.33, random_state=seed)\n",
    "\n",
    "model = LogisticRegression(max_iter = 2000,random_state=seed)\n",
    "model.fit(X_train, y_train)\n",
    "model.score(X_test, y_test)"
   ]
  },
  {
   "cell_type": "markdown",
   "metadata": {
    "pycharm": {
     "name": "#%% md\n"
    }
   },
   "source": [
    "Oh, so the performance is a bit lower than the pre-trained model. \n",
    "There could be many different reasons for this, also remember the dimensions of the word embeddings (and thus, the document embeddings) are different. \n",
    "The pre-trained Word2Vec we tried before is 300 dimension, and our in-house trained model is 100 dimension only. \n",
    "Although, it is not guarantee that larger dimension will give a better results.\n",
    "So, we leave another task for you:\n",
    "> **Exercise**  \n",
    "Trained Word2Vec model on the BBC News dataset using other dimensions, e.g., 50, 200, 300, and use them to do document classifcation here. Compare the performance. "
   ]
  },
  {
   "cell_type": "markdown",
   "metadata": {
    "pycharm": {
     "name": "#%% md\n"
    }
   },
   "source": [
    "## 3. Pre-trained GloVe word embeddings\n",
    "\n",
    "In this section, we move on to try the pre-trained GloVe word embeddings. \n",
    "Again, the pre-trained GloVe embeddings are available [here](https://nlp.stanford.edu/projects/glove/), and we will use the 6B vesion here. \n",
    "Remember, if you don't have them yet, you have to download them (can do this by putting the following code):\n",
    "\n",
    "```\n",
    "!wget http://nlp.stanford.edu/data/glove.6B.zip\n",
    "!unzip -q glove.6B.zip -d glove\n",
    "```\n",
    "\n",
    "Hmm~ we really don't want to do the same thing again and again, or copy paste the code from the previous activity to construct the GloVe vectors from the downloaded files. \n",
    "Therefore, we move this block of code as a function `loadGloVe` and move it to external modules `utils`, and we just need to do an import. \n",
    "You feel free to explore the external file `utils.py`."
   ]
  },
  {
   "cell_type": "code",
   "execution_count": 25,
   "metadata": {
    "pycharm": {
     "name": "#%%\n"
    }
   },
   "outputs": [
    {
     "name": "stdout",
     "output_type": "stream",
     "text": [
      "Found 400000 word vectors.\n"
     ]
    }
   ],
   "source": [
    "from utils import loadGloVe\n",
    "\n",
    "fPath = \"glove/glove.6B.100d.txt\"\n",
    "preTGloVe_wv = loadGloVe(fPath) # load the GloVe embeddings"
   ]
  },
  {
   "cell_type": "code",
   "execution_count": 26,
   "metadata": {
    "pycharm": {
     "name": "#%%\n"
    }
   },
   "outputs": [
    {
     "data": {
      "text/plain": [
       "0"
      ]
     },
     "execution_count": 26,
     "metadata": {},
     "output_type": "execute_result"
    }
   ],
   "source": [
    "# NOTE this can take some time to finish running\n",
    "preTGloVe_dvs = gen_docVecs(preTGloVe_wv,df['tk_text']) # generate document embeddings\n",
    "preTGloVe_dvs.isna().any().sum() # check whether there is any null values in the document vectors dataframe."
   ]
  },
  {
   "cell_type": "markdown",
   "metadata": {
    "pycharm": {
     "name": "#%% md\n"
    }
   },
   "source": [
    "See how the classes are seperated in feature space:"
   ]
  },
  {
   "cell_type": "code",
   "execution_count": 27,
   "metadata": {
    "pycharm": {
     "name": "#%%\n"
    }
   },
   "outputs": [
    {
     "data": {
      "image/png": "[encoded data removed]",
      "text/plain": [
       "<Figure size 432x288 with 1 Axes>"
      ]
     },
     "metadata": {
      "needs_background": "light"
     },
     "output_type": "display_data"
    }
   ],
   "source": [
    "features = preTGloVe_dvs.to_numpy()\n",
    "plotTSNE(df['Category'],features)"
   ]
  },
  {
   "cell_type": "markdown",
   "metadata": {
    "pycharm": {
     "name": "#%% md\n"
    }
   },
   "source": [
    "Seem all fine, we then build a logistic classification model based on the document embeddings:"
   ]
  },
  {
   "cell_type": "code",
   "execution_count": 28,
   "metadata": {
    "pycharm": {
     "name": "#%%\n"
    }
   },
   "outputs": [
    {
     "name": "stderr",
     "output_type": "stream",
     "text": [
      "C:\\Users\\E104857\\Anaconda3\\envs\\Python36\\lib\\site-packages\\sklearn\\linear_model\\_logistic.py:764: ConvergenceWarning: lbfgs failed to converge (status=1):\n",
      "STOP: TOTAL NO. of ITERATIONS REACHED LIMIT.\n",
      "\n",
      "Increase the number of iterations (max_iter) or scale the data as shown in:\n",
      "    https://scikit-learn.org/stable/modules/preprocessing.html\n",
      "Please also refer to the documentation for alternative solver options:\n",
      "    https://scikit-learn.org/stable/modules/linear_model.html#logistic-regression\n",
      "  extra_warning_msg=_LOGISTIC_SOLVER_CONVERGENCE_MSG)\n"
     ]
    },
    {
     "data": {
      "text/plain": [
       "0.9714285714285714"
      ]
     },
     "execution_count": 28,
     "metadata": {},
     "output_type": "execute_result"
    }
   ],
   "source": [
    "# creating training and test split\n",
    "X_train, X_test, y_train, y_test,train_indices,test_indices = train_test_split(preTGloVe_dvs, df['Category'], list(range(0,len(df))),test_size=0.33, random_state=seed)\n",
    "\n",
    "model = LogisticRegression(max_iter = 1000,random_state=seed)\n",
    "model.fit(X_train, y_train)\n",
    "model.score(X_test, y_test)"
   ]
  },
  {
   "cell_type": "markdown",
   "metadata": {
    "pycharm": {
     "name": "#%% md\n"
    }
   },
   "source": [
    "## 3. FastText model trained on BBC News data\n",
    "\n",
    "Finally, we experiment the FastText embeddings. \n",
    "Similar, we:\n",
    "* load the FastText model saved in our prevoius activity;\n",
    "* generate document embeddings based on the load FastText word embeddings;\n",
    "* explore the reprensentiveness of the features through tSNE;\n",
    "* bulid the logistic regression model based on the generated document embeddings for news classfication."
   ]
  },
  {
   "cell_type": "code",
   "execution_count": 29,
   "metadata": {
    "pycharm": {
     "name": "#%%\n"
    }
   },
   "outputs": [
    {
     "name": "stderr",
     "output_type": "stream",
     "text": [
      "2021-09-15 03:53:48,861 : INFO : loading FastText object from bbcFT.model\n",
      "2021-09-15 03:53:48,910 : INFO : loading wv recursively from bbcFT.model.wv.* with mmap=None\n",
      "2021-09-15 03:53:48,912 : INFO : loading vectors_ngrams from bbcFT.model.wv.vectors_ngrams.npy with mmap=None\n",
      "2021-09-15 03:53:52,142 : INFO : setting ignored attribute vectors to None\n",
      "2021-09-15 03:53:52,142 : INFO : setting ignored attribute buckets_word to None\n",
      "2021-09-15 03:53:52,752 : INFO : setting ignored attribute cum_table to None\n",
      "2021-09-15 03:53:52,864 : INFO : FastText lifecycle event {'fname': 'bbcFT.model', 'datetime': '2021-09-15T03:53:52.861845', 'gensim': '4.1.1', 'python': '3.6.10 |Anaconda, Inc.| (default, May  7 2020, 19:46:08) [MSC v.1916 64 bit (AMD64)]', 'platform': 'Windows-10-10.0.18362-SP0', 'event': 'loaded'}\n"
     ]
    },
    {
     "name": "stdout",
     "output_type": "stream",
     "text": [
      "FastText(vocab=10485, vector_size=100, alpha=0.025)\n"
     ]
    }
   ],
   "source": [
    "# loading the trained Fasttext model based on bbc News data\n",
    "from gensim.models.fasttext import FastText\n",
    "bbcFT = FastText.load(\"bbcFT.model\")\n",
    "print(bbcFT)\n",
    "bbcFT_wv= bbcFT.wv"
   ]
  },
  {
   "cell_type": "code",
   "execution_count": null,
   "metadata": {
    "pycharm": {
     "name": "#%%\n"
    }
   },
   "outputs": [],
   "source": [
    "# NOTE this can take some time to finish running\n",
    "# generate document embeddings\n",
    "bbcFT_dvs = gen_docVecs(bbcFT_wv,df['tk_text'])\n",
    "bbcFT_dvs.isna().any().sum()"
   ]
  },
  {
   "cell_type": "code",
   "execution_count": 25,
   "metadata": {
    "pycharm": {
     "name": "#%%\n"
    }
   },
   "outputs": [
    {
     "data": {
      "image/png": "[encoded data removed]",
      "text/plain": [
       "<Figure size 432x288 with 1 Axes>"
      ]
     },
     "metadata": {
      "needs_background": "light"
     },
     "output_type": "display_data"
    }
   ],
   "source": [
    "# explore feature space\n",
    "features = bbcFT_dvs.to_numpy()\n",
    "plotTSNE(df['Category'],features)"
   ]
  },
  {
   "cell_type": "markdown",
   "metadata": {
    "pycharm": {
     "name": "#%% md\n"
    }
   },
   "source": [
    "er~~~ for some categories seems a bit messy also....."
   ]
  },
  {
   "cell_type": "code",
   "execution_count": 26,
   "metadata": {
    "pycharm": {
     "name": "#%%\n"
    }
   },
   "outputs": [
    {
     "name": "stderr",
     "output_type": "stream",
     "text": [
      "/Users/gregp/opt/anaconda3/lib/python3.8/site-packages/sklearn/linear_model/_logistic.py:762: ConvergenceWarning: lbfgs failed to converge (status=1):\n",
      "STOP: TOTAL NO. of ITERATIONS REACHED LIMIT.\n",
      "\n",
      "Increase the number of iterations (max_iter) or scale the data as shown in:\n",
      "    https://scikit-learn.org/stable/modules/preprocessing.html\n",
      "Please also refer to the documentation for alternative solver options:\n",
      "    https://scikit-learn.org/stable/modules/linear_model.html#logistic-regression\n",
      "  n_iter_i = _check_optimize_result(\n"
     ]
    },
    {
     "data": {
      "text/plain": [
       "0.9414965986394558"
      ]
     },
     "execution_count": 26,
     "metadata": {},
     "output_type": "execute_result"
    }
   ],
   "source": [
    "# build the classfication model and report results\n",
    "X_train, X_test, y_train, y_test,train_indices,test_indices = train_test_split(bbcFT_dvs, df['Category'], list(range(0,len(df))),test_size=0.33, random_state=seed)\n",
    "\n",
    "model = LogisticRegression(max_iter = 1000,random_state=seed)\n",
    "model.fit(X_train, y_train)\n",
    "model.score(X_test, y_test)"
   ]
  },
  {
   "cell_type": "markdown",
   "metadata": {
    "pycharm": {
     "name": "#%% md\n"
    }
   },
   "source": [
    "## 4. Generating TF-IDF weighted document vectors\n",
    "\n",
    "Ok, I hope you have lots of fun building document embeddings based on varoius word embedding models. \n",
    "Previously, when we generate the document embeddings, we just sum up the embeddings vector of each tokenized word in the article, a bit simplicity 🤔\n",
    "\n",
    "In this section, let's make it a bit more challenging, we are going to build the tf-idf document embeddings. \n",
    "What does that mean? 🤨\n",
    "Hmm~~ it's not magic, we just do a weigthed sum of the word embedding vectors, however, the weight here, refers to the tf-idf weight of the word. \n",
    "\n",
    "If you already forgot about what is `tf-idf`, please refer to Activity 3 Pre-processing Text and Generating Features. \n",
    "Otherwise, move on!\n",
    "So we've generated the tf-idf vector representation of documents in Activity 3 and saved in a txt file called `bbcNews_tVector.txt`. The format of this file is:\n",
    "- each line represents an article;\n",
    "- each line is of the format 'w_index:weight w_index:weight ......' \n",
    "\n",
    "Oh, but we don't have that word index `w_index` here in this activity, what should we do? 🤔\n",
    "ah ha, we also saved the vocabulary in a file `bbcNews_voc`, in which each line is a word, and of the format `index,word`. \n",
    "Theresore, based on these two files, we can create a word:weight mapping for each tokenized word in a document!\n",
    "\n",
    "Ok, in the following couple block of codes, this is exactly what we are trying to do, step by step. \n",
    "- the `gen_vocIndex` function reads the the vocabulary file, and create an w_index:word dictionary"
   ]
  },
  {
   "cell_type": "code",
   "execution_count": 27,
   "metadata": {
    "pycharm": {
     "name": "#%%\n"
    }
   },
   "outputs": [
    {
     "data": {
      "text/plain": [
       "{0: \"a'\",\n",
       " 1: 'a-half',\n",
       " 2: 'a-level',\n",
       " 3: 'a-levels',\n",
       " 4: 'a-list',\n",
       " 5: 'a.d.',\n",
       " 6: 'aaa',\n",
       " 7: \"aaa's\",\n",
       " 8: 'aaas',\n",
       " 9: 'aac',\n",
       " 10: 'aaron',\n",
       " 11: 'abacus',\n",
       " 12: 'abandon',\n",
       " 13: 'abandoned',\n",
       " 14: 'abandoning',\n",
       " 15: 'abandonment',\n",
       " 16: 'abating',\n",
       " 17: 'abba',\n",
       " 18: \"abba's\",\n",
       " 19: 'abbas',\n",
       " 20: 'abbasi',\n",
       " 21: 'abbey',\n",
       " 22: 'abbott',\n",
       " 23: 'abc',\n",
       " 24: 'abdellatif',\n",
       " 25: 'abdication',\n",
       " 26: 'abdominal',\n",
       " 27: 'abdullah',\n",
       " 28: 'aberdeen',\n",
       " 29: 'abeyie',\n",
       " 30: 'abhorrent',\n",
       " 31: 'abide',\n",
       " 32: 'abided',\n",
       " 33: 'abiding',\n",
       " 34: 'abilities',\n",
       " 35: 'ability',\n",
       " 36: 'able',\n",
       " 37: 'able-bodied',\n",
       " 38: 'abn',\n",
       " 39: 'abolish',\n",
       " 40: 'abolished',\n",
       " 41: 'abolishing',\n",
       " 42: 'abortion',\n",
       " 43: 'abortionist',\n",
       " 44: 'abraham',\n",
       " 45: 'abramovich',\n",
       " 46: \"abramovich's\",\n",
       " 47: 'abroad',\n",
       " 48: 'absa',\n",
       " 49: 'absence',\n",
       " 50: 'absent',\n",
       " 51: 'absentee',\n",
       " 52: 'absolute',\n",
       " 53: 'absolutely',\n",
       " 54: 'absorb',\n",
       " 55: 'absorbed',\n",
       " 56: 'absorbing',\n",
       " 57: 'absorbs',\n",
       " 58: 'absurd',\n",
       " 59: 'abundance',\n",
       " 60: 'aburizal',\n",
       " 61: 'abuse',\n",
       " 62: 'abused',\n",
       " 63: 'abuses',\n",
       " 64: 'abusing',\n",
       " 65: 'abusive',\n",
       " 66: 'abysmal',\n",
       " 67: 'ac',\n",
       " 68: 'academic',\n",
       " 69: 'academics',\n",
       " 70: 'academy',\n",
       " 71: 'accelerate',\n",
       " 72: 'accelerated',\n",
       " 73: 'accelerating',\n",
       " 74: 'acceleration',\n",
       " 75: 'accept',\n",
       " 76: 'acceptable',\n",
       " 77: 'acceptance',\n",
       " 78: 'accepted',\n",
       " 79: 'accepting',\n",
       " 80: 'accepts',\n",
       " 81: 'access',\n",
       " 82: 'accessed',\n",
       " 83: 'accessibility',\n",
       " 84: 'accessible',\n",
       " 85: 'accessing',\n",
       " 86: 'accession',\n",
       " 87: 'accessories',\n",
       " 88: 'accessory',\n",
       " 89: 'accident',\n",
       " 90: 'accidental',\n",
       " 91: 'accidentally',\n",
       " 92: 'accidents',\n",
       " 93: 'acclaim',\n",
       " 94: 'acclaimed',\n",
       " 95: 'accolade',\n",
       " 96: 'accolades',\n",
       " 97: 'accommodate',\n",
       " 98: 'accommodation',\n",
       " 99: 'accomodate',\n",
       " 100: 'accompanied',\n",
       " 101: 'accompanies',\n",
       " 102: 'accompany',\n",
       " 103: 'accompanying',\n",
       " 104: 'accomplices',\n",
       " 105: 'accomplish',\n",
       " 106: 'accomplished',\n",
       " 107: 'accomplishment',\n",
       " 108: 'accord',\n",
       " 109: 'accordance',\n",
       " 110: 'according',\n",
       " 111: 'accordingly',\n",
       " 112: 'account',\n",
       " 113: 'accountability',\n",
       " 114: 'accountable',\n",
       " 115: 'accountancy',\n",
       " 116: 'accountant',\n",
       " 117: 'accountants',\n",
       " 118: 'accounted',\n",
       " 119: 'accounting',\n",
       " 120: 'accounts',\n",
       " 121: 'accumulate',\n",
       " 122: 'accumulated',\n",
       " 123: 'accuracy',\n",
       " 124: 'accurate',\n",
       " 125: 'accurately',\n",
       " 126: 'accusation',\n",
       " 127: 'accusations',\n",
       " 128: 'accuse',\n",
       " 129: 'accused',\n",
       " 130: 'accuses',\n",
       " 131: 'accusing',\n",
       " 132: 'accustomed',\n",
       " 133: 'ace',\n",
       " 134: 'aceh',\n",
       " 135: 'achievable',\n",
       " 136: 'achieve',\n",
       " 137: 'achieved',\n",
       " 138: 'achievement',\n",
       " 139: 'achievements',\n",
       " 140: 'achieving',\n",
       " 141: 'achilles',\n",
       " 142: 'acknowledge',\n",
       " 143: 'acknowledged',\n",
       " 144: 'acknowledges',\n",
       " 145: 'acoustic',\n",
       " 146: 'acpo',\n",
       " 147: 'acquire',\n",
       " 148: 'acquired',\n",
       " 149: 'acquiring',\n",
       " 150: 'acquisition',\n",
       " 151: 'acquisitions',\n",
       " 152: 'acquittal',\n",
       " 153: 'acquitted',\n",
       " 154: 'acre',\n",
       " 155: 'acres',\n",
       " 156: 'acrimonious',\n",
       " 157: 'acrobatic',\n",
       " 158: 'across-the',\n",
       " 159: 'act',\n",
       " 160: \"act's\",\n",
       " 161: 'acted',\n",
       " 162: 'acting',\n",
       " 163: 'action',\n",
       " 164: 'actions',\n",
       " 165: 'activated',\n",
       " 166: 'activation',\n",
       " 167: 'active',\n",
       " 168: 'actively',\n",
       " 169: 'activison',\n",
       " 170: 'activist',\n",
       " 171: 'activists',\n",
       " 172: 'activities',\n",
       " 173: 'activity',\n",
       " 174: 'actor',\n",
       " 175: \"actor's\",\n",
       " 176: 'actors',\n",
       " 177: \"actors'\",\n",
       " 178: 'actress',\n",
       " 179: 'actresses',\n",
       " 180: 'acts',\n",
       " 181: 'actual',\n",
       " 182: 'actually',\n",
       " 183: 'ad',\n",
       " 184: 'ad-aware',\n",
       " 185: 'adage',\n",
       " 186: 'adair',\n",
       " 187: 'adam',\n",
       " 188: 'adamant',\n",
       " 189: 'adamind',\n",
       " 190: 'adams',\n",
       " 191: \"adams'\",\n",
       " 192: 'adapt',\n",
       " 193: 'adaptation',\n",
       " 194: 'adaptations',\n",
       " 195: 'adapted',\n",
       " 196: 'adapter',\n",
       " 197: 'adapters',\n",
       " 198: 'adapting',\n",
       " 199: 'adaptor',\n",
       " 200: 'adaptors',\n",
       " 201: 'add',\n",
       " 202: 'add-on',\n",
       " 203: 'add-ons',\n",
       " 204: 'added',\n",
       " 205: 'addicks',\n",
       " 206: 'addicted',\n",
       " 207: 'addiction',\n",
       " 208: 'addictive',\n",
       " 209: 'addicts',\n",
       " 210: 'adding',\n",
       " 211: 'addition',\n",
       " 212: 'additional',\n",
       " 213: 'address',\n",
       " 214: 'addressed',\n",
       " 215: 'addresses',\n",
       " 216: 'addressing',\n",
       " 217: 'adds',\n",
       " 218: 'adelaide',\n",
       " 219: 'adept',\n",
       " 220: 'adequate',\n",
       " 221: 'adequately',\n",
       " 222: 'adhere',\n",
       " 223: 'adheres',\n",
       " 224: 'adidas',\n",
       " 225: 'adjudged',\n",
       " 226: 'adjust',\n",
       " 227: 'adjusted',\n",
       " 228: 'adjusting',\n",
       " 229: 'adjustment',\n",
       " 230: 'adjustments',\n",
       " 231: 'adjusts',\n",
       " 232: 'administered',\n",
       " 233: 'administration',\n",
       " 234: \"administration's\",\n",
       " 235: 'administrative',\n",
       " 236: 'administrator',\n",
       " 237: 'administrators',\n",
       " 238: 'admirable',\n",
       " 239: 'admiration',\n",
       " 240: 'admire',\n",
       " 241: 'admired',\n",
       " 242: 'admirer',\n",
       " 243: 'admission',\n",
       " 244: 'admissions',\n",
       " 245: 'admit',\n",
       " 246: 'admits',\n",
       " 247: 'admitted',\n",
       " 248: 'admittedly',\n",
       " 249: 'admitting',\n",
       " 250: 'adolescent',\n",
       " 251: 'adolf',\n",
       " 252: 'adopt',\n",
       " 253: 'adopted',\n",
       " 254: 'adopting',\n",
       " 255: 'adoption',\n",
       " 256: 'adored',\n",
       " 257: 'adrian',\n",
       " 258: 'adriano',\n",
       " 259: 'adriatic',\n",
       " 260: 'ads',\n",
       " 261: 'adsl',\n",
       " 262: 'adult',\n",
       " 263: 'adults',\n",
       " 264: 'advance',\n",
       " 265: 'advanced',\n",
       " 266: 'advancement',\n",
       " 267: 'advances',\n",
       " 268: 'advancing',\n",
       " 269: 'advanta',\n",
       " 270: 'advantage',\n",
       " 271: 'advantages',\n",
       " 272: 'advent',\n",
       " 273: 'adventure',\n",
       " 274: 'adventures',\n",
       " 275: 'adventurous',\n",
       " 276: 'adverse',\n",
       " 277: 'adversely',\n",
       " 278: 'adversity',\n",
       " 279: 'advert',\n",
       " 280: 'advertise',\n",
       " 281: 'advertised',\n",
       " 282: 'advertisements',\n",
       " 283: 'advertiser-based',\n",
       " 284: 'advertisers',\n",
       " 285: 'advertising',\n",
       " 286: 'adverts',\n",
       " 287: 'advice',\n",
       " 288: 'advise',\n",
       " 289: 'advised',\n",
       " 290: 'adviser',\n",
       " 291: 'advisers',\n",
       " 292: 'advises',\n",
       " 293: 'advising',\n",
       " 294: 'advisor',\n",
       " 295: 'advisors',\n",
       " 296: 'advisory',\n",
       " 297: 'advocate',\n",
       " 298: 'advocates',\n",
       " 299: 'adware',\n",
       " 300: 'ae',\n",
       " 301: 'aero',\n",
       " 302: 'aerosmith',\n",
       " 303: 'aerospace',\n",
       " 304: 'aesthetic',\n",
       " 305: 'aesthetically',\n",
       " 306: 'aesthetics',\n",
       " 307: 'affair',\n",
       " 308: 'affairs',\n",
       " 309: 'affect',\n",
       " 310: 'affected',\n",
       " 311: 'affecting',\n",
       " 312: 'affection',\n",
       " 313: 'affects',\n",
       " 314: 'affiliate',\n",
       " 315: 'afflicting',\n",
       " 316: 'affluent',\n",
       " 317: 'afford',\n",
       " 318: 'affordability',\n",
       " 319: 'affordable',\n",
       " 320: 'afforded',\n",
       " 321: 'afghanistan',\n",
       " 322: 'afloat',\n",
       " 323: 'afoot',\n",
       " 324: 'afp',\n",
       " 325: 'afraid',\n",
       " 326: 'africa',\n",
       " 327: \"africa's\",\n",
       " 328: 'african',\n",
       " 329: 'african-american',\n",
       " 330: 'africans',\n",
       " 331: 'after-hours',\n",
       " 332: 'after-school',\n",
       " 333: 'afterlife',\n",
       " 334: 'aftermath',\n",
       " 335: 'afternoon',\n",
       " 336: 'ag',\n",
       " 337: 'agassi',\n",
       " 338: \"agassi's\",\n",
       " 339: 'age',\n",
       " 340: 'age-old',\n",
       " 341: 'aged',\n",
       " 342: 'ageing',\n",
       " 343: 'ageism',\n",
       " 344: 'agence',\n",
       " 345: 'agencies',\n",
       " 346: 'agency',\n",
       " 347: \"agency's\",\n",
       " 348: 'agenda',\n",
       " 349: 'agendas',\n",
       " 350: 'agent',\n",
       " 351: 'agents',\n",
       " 352: 'ages',\n",
       " 353: 'aggravated',\n",
       " 354: 'aggravating',\n",
       " 355: 'aggregate',\n",
       " 356: 'aggregator',\n",
       " 357: 'aggression',\n",
       " 358: 'aggressive',\n",
       " 359: 'aggressively',\n",
       " 360: 'aggrieved',\n",
       " 361: 'agitated',\n",
       " 362: 'agm',\n",
       " 363: 'agnelli',\n",
       " 364: 'agnostic',\n",
       " 365: 'ago',\n",
       " 366: 'agonisingly',\n",
       " 367: 'agree',\n",
       " 368: 'agreed',\n",
       " 369: 'agreeing',\n",
       " 370: 'agreement',\n",
       " 371: 'agreements',\n",
       " 372: 'agrees',\n",
       " 373: 'agricultural',\n",
       " 374: 'agriculture',\n",
       " 375: 'agroflora',\n",
       " 376: 'aguilera',\n",
       " 377: 'ah',\n",
       " 378: 'ahead',\n",
       " 379: 'ahern',\n",
       " 380: 'ahmed',\n",
       " 381: 'ai',\n",
       " 382: 'aid',\n",
       " 383: \"aid'\",\n",
       " 384: \"aid's\",\n",
       " 385: 'aidan',\n",
       " 386: 'aide',\n",
       " 387: 'aiden',\n",
       " 388: 'aides',\n",
       " 389: 'aiding',\n",
       " 390: 'aids',\n",
       " 391: 'aig',\n",
       " 392: 'ailing',\n",
       " 393: 'aim',\n",
       " 394: 'aimed',\n",
       " 395: 'aiming',\n",
       " 396: 'aims',\n",
       " 397: \"ain't\",\n",
       " 398: 'air',\n",
       " 399: 'airbus',\n",
       " 400: \"airbus'\",\n",
       " 401: 'aircraft',\n",
       " 402: 'aired',\n",
       " 403: 'aires',\n",
       " 404: 'airing',\n",
       " 405: 'airline',\n",
       " 406: \"airline's\",\n",
       " 407: 'airlines',\n",
       " 408: \"airlines'\",\n",
       " 409: 'airplane',\n",
       " 410: 'airplanes',\n",
       " 411: 'airplay',\n",
       " 412: 'airport',\n",
       " 413: 'airports',\n",
       " 414: 'airs',\n",
       " 415: 'airways',\n",
       " 416: \"airways'\",\n",
       " 417: 'aishwariya',\n",
       " 418: 'aishwarya',\n",
       " 419: 'aitken',\n",
       " 420: 'aiyar',\n",
       " 421: 'ajax',\n",
       " 422: 'ak',\n",
       " 423: 'aka',\n",
       " 424: 'akamai',\n",
       " 425: 'akhmetov',\n",
       " 426: 'akin',\n",
       " 427: 'akira',\n",
       " 428: 'al',\n",
       " 429: 'al-gharafa',\n",
       " 430: 'al-qaeda',\n",
       " 431: 'alabama',\n",
       " 432: 'alain',\n",
       " 433: 'alamos',\n",
       " 434: 'alan',\n",
       " 435: \"alan's\",\n",
       " 436: 'alarm',\n",
       " 437: 'alarmed',\n",
       " 438: 'alarming',\n",
       " 439: 'alarms',\n",
       " 440: 'alastair',\n",
       " 441: 'albania',\n",
       " 442: 'albanian',\n",
       " 443: 'albany',\n",
       " 444: 'albeit',\n",
       " 445: 'albert',\n",
       " 446: 'alberto',\n",
       " 447: 'album',\n",
       " 448: \"album's\",\n",
       " 449: 'albums',\n",
       " 450: 'alcatel',\n",
       " 451: 'alcohol',\n",
       " 452: 'alcoholism',\n",
       " 453: 'alda',\n",
       " 454: 'alegre',\n",
       " 455: 'alert',\n",
       " 456: 'alerted',\n",
       " 457: 'alerting',\n",
       " 458: 'alerts',\n",
       " 459: 'alessandro',\n",
       " 460: 'alex',\n",
       " 461: 'alexander',\n",
       " 462: 'alexandra',\n",
       " 463: 'alexei',\n",
       " 464: 'alexis',\n",
       " 465: 'alfa',\n",
       " 466: 'alfie',\n",
       " 467: 'alfonso',\n",
       " 468: 'alfred',\n",
       " 469: 'algeria',\n",
       " 470: 'algorithm',\n",
       " 471: 'algorithms',\n",
       " 472: 'ali',\n",
       " 473: 'aliadiere',\n",
       " 474: 'alias',\n",
       " 475: 'alice',\n",
       " 476: 'alicia',\n",
       " 477: 'alien',\n",
       " 478: 'aliens',\n",
       " 479: 'alight',\n",
       " 480: 'alike',\n",
       " 481: 'alistair',\n",
       " 482: 'alive',\n",
       " 483: \"all's\",\n",
       " 484: 'all-australian',\n",
       " 485: 'all-black',\n",
       " 486: 'all-dancing',\n",
       " 487: 'all-in',\n",
       " 488: 'all-male',\n",
       " 489: 'all-out',\n",
       " 490: 'all-party',\n",
       " 491: 'all-postal',\n",
       " 492: 'all-round',\n",
       " 493: 'all-singing',\n",
       " 494: 'all-star',\n",
       " 495: 'all-time',\n",
       " 496: 'allahgreen',\n",
       " 497: 'allan',\n",
       " 498: 'allardyce',\n",
       " 499: 'allay',\n",
       " 500: 'allegation',\n",
       " 501: 'allegations',\n",
       " 502: 'allege',\n",
       " 503: 'alleged',\n",
       " 504: 'allegedly',\n",
       " 505: 'alleges',\n",
       " 506: 'allegiance',\n",
       " 507: 'allegiances',\n",
       " 508: 'alleging',\n",
       " 509: 'allen',\n",
       " 510: \"allen's\",\n",
       " 511: 'alleviate',\n",
       " 512: 'alley',\n",
       " 513: 'alliance',\n",
       " 514: \"alliance's\",\n",
       " 515: 'alliances',\n",
       " 516: 'allianz',\n",
       " 517: 'allied',\n",
       " 518: 'allies',\n",
       " 519: 'allister',\n",
       " 520: 'allocated',\n",
       " 521: 'allow',\n",
       " 522: 'allowance',\n",
       " 523: 'allowances',\n",
       " 524: 'allowed',\n",
       " 525: 'allowing',\n",
       " 526: 'allows',\n",
       " 527: 'alltel',\n",
       " 528: 'alluding',\n",
       " 529: 'allure',\n",
       " 530: 'ally',\n",
       " 531: 'almodovar',\n",
       " 532: 'almunia',\n",
       " 533: 'alongside',\n",
       " 534: 'alonso',\n",
       " 535: 'aloud',\n",
       " 536: 'alphabet',\n",
       " 537: 'alphabetically',\n",
       " 538: 'alphabets',\n",
       " 539: 'alright',\n",
       " 540: 'alter',\n",
       " 541: 'altered',\n",
       " 542: 'altering',\n",
       " 543: 'alternative',\n",
       " 544: 'alternatives',\n",
       " 545: 'alto',\n",
       " 546: 'altogether',\n",
       " 547: 'altria',\n",
       " 548: 'aluminium',\n",
       " 549: 'alun',\n",
       " 550: 'alvin',\n",
       " 551: 'always-on',\n",
       " 552: \"alzheimer's\",\n",
       " 553: 'amanda',\n",
       " 554: 'amassed',\n",
       " 555: 'amateur',\n",
       " 556: 'amateurish',\n",
       " 557: 'amateurs',\n",
       " 558: 'amazed',\n",
       " 559: 'amazes',\n",
       " 560: 'amazing',\n",
       " 561: 'amazon',\n",
       " 562: \"amazon's\",\n",
       " 563: 'ambani',\n",
       " 564: 'ambassador',\n",
       " 565: 'ambassadors',\n",
       " 566: 'amber',\n",
       " 567: 'ambev',\n",
       " 568: 'ambition',\n",
       " 569: 'ambitions',\n",
       " 570: 'ambitious',\n",
       " 571: 'ambrose',\n",
       " 572: 'amd',\n",
       " 573: 'amelie',\n",
       " 574: 'amend',\n",
       " 575: 'amending',\n",
       " 576: 'amendment',\n",
       " 577: 'amendments',\n",
       " 578: 'amends',\n",
       " 579: 'ameobi',\n",
       " 580: 'america',\n",
       " 581: \"america's\",\n",
       " 582: 'american',\n",
       " 583: 'americans',\n",
       " 584: 'americas',\n",
       " 585: 'ames',\n",
       " 586: 'ami',\n",
       " 587: 'amicus',\n",
       " 588: \"amicus'\",\n",
       " 589: \"amicus's\",\n",
       " 590: 'amid',\n",
       " 591: 'amiga',\n",
       " 592: 'amma',\n",
       " 593: 'ammunition',\n",
       " 594: 'amnesty',\n",
       " 595: 'amounted',\n",
       " 596: 'amounting',\n",
       " 597: 'amounts',\n",
       " 598: 'ampas',\n",
       " 599: \"ampas'\",\n",
       " 600: 'ample',\n",
       " 601: 'amplification',\n",
       " 602: 'amplified',\n",
       " 603: 'amplifier',\n",
       " 604: 'amplifies',\n",
       " 605: 'amplify',\n",
       " 606: 'amro',\n",
       " 607: \"amro's\",\n",
       " 608: 'amsterdam',\n",
       " 609: 'amusing',\n",
       " 610: 'amy',\n",
       " 611: 'ana',\n",
       " 612: 'anabolic',\n",
       " 613: 'analogue',\n",
       " 614: 'analogy',\n",
       " 615: 'analyse',\n",
       " 616: 'analysed',\n",
       " 617: 'analysing',\n",
       " 618: 'analysis',\n",
       " 619: 'analyst',\n",
       " 620: 'analysts',\n",
       " 621: \"analysts'\",\n",
       " 622: 'analysys',\n",
       " 623: 'analytics',\n",
       " 624: 'anastacia',\n",
       " 625: 'anastasia',\n",
       " 626: 'anathema',\n",
       " 627: 'anatomy',\n",
       " 628: 'ancestors',\n",
       " 629: 'ancic',\n",
       " 630: 'ancient',\n",
       " 631: 'ancram',\n",
       " 632: 'anders',\n",
       " 633: 'andersen',\n",
       " 634: 'anderson',\n",
       " 635: \"anderson's\",\n",
       " 636: 'andhra',\n",
       " 637: 'andre',\n",
       " 638: 'andrea',\n",
       " 639: 'andreas',\n",
       " 640: 'andreev',\n",
       " 641: 'andrei',\n",
       " 642: 'andrew',\n",
       " 643: 'andrews',\n",
       " 644: 'andrey',\n",
       " 645: 'andriy',\n",
       " 646: 'andy',\n",
       " 647: 'anecdotal',\n",
       " 648: 'anelka',\n",
       " 649: 'anfield',\n",
       " 650: 'angel',\n",
       " 651: 'angela',\n",
       " 652: 'angeles',\n",
       " 653: 'angelina',\n",
       " 654: 'angels',\n",
       " 655: 'anger',\n",
       " 656: 'angered',\n",
       " 657: 'angering',\n",
       " 658: 'angie',\n",
       " 659: 'angle',\n",
       " 660: 'angled',\n",
       " 661: 'anglia',\n",
       " 662: 'anglo-american',\n",
       " 663: 'anglo-dutch',\n",
       " 664: 'angola',\n",
       " 665: 'angolan',\n",
       " 666: 'angrily',\n",
       " 667: 'angry',\n",
       " 668: 'anheuser-busch',\n",
       " 669: 'anil',\n",
       " 670: \"anil's\",\n",
       " 671: 'animal',\n",
       " 672: 'animals',\n",
       " 673: 'animated',\n",
       " 674: 'animation',\n",
       " 675: 'animations',\n",
       " 676: 'animators',\n",
       " 677: 'animosity',\n",
       " 678: 'anita',\n",
       " 679: 'ankara',\n",
       " 680: 'ankle',\n",
       " 681: 'ankles',\n",
       " 682: 'ann',\n",
       " 683: 'anna',\n",
       " 684: 'annadale',\n",
       " 685: 'anne',\n",
       " 686: 'annette',\n",
       " 687: 'annie',\n",
       " 688: 'anniversary',\n",
       " 689: 'announce',\n",
       " 690: 'announced',\n",
       " 691: 'announcement',\n",
       " 692: 'announcements',\n",
       " 693: 'announces',\n",
       " 694: 'announcing',\n",
       " 695: 'annoyance',\n",
       " 696: 'annoyances',\n",
       " 697: 'annoyed',\n",
       " 698: 'annoyingly',\n",
       " 699: 'annoys',\n",
       " 700: 'annual',\n",
       " 701: 'annually',\n",
       " 702: 'annuity',\n",
       " 703: 'annum',\n",
       " 704: 'anomalies',\n",
       " 705: 'anomaly',\n",
       " 706: 'anonymity',\n",
       " 707: 'anonymous',\n",
       " 708: 'anonymously',\n",
       " 709: 'anselmo',\n",
       " 710: 'ansheng',\n",
       " 711: 'answer',\n",
       " 712: 'answered',\n",
       " 713: 'answering',\n",
       " 714: 'answers',\n",
       " 715: 'ant',\n",
       " 716: 'ante',\n",
       " 717: 'antenna',\n",
       " 718: 'antennae',\n",
       " 719: 'anthem',\n",
       " 720: 'anthony',\n",
       " 721: 'anti-aids',\n",
       " 722: 'anti-american',\n",
       " 723: 'anti-copying',\n",
       " 724: 'anti-corruption',\n",
       " 725: 'anti-depressant',\n",
       " 726: 'anti-doping',\n",
       " 727: 'anti-europe',\n",
       " 728: 'anti-fraud',\n",
       " 729: 'anti-globalisation',\n",
       " 730: 'anti-hunt',\n",
       " 731: 'anti-immigration',\n",
       " 732: 'anti-jewish',\n",
       " 733: 'anti-noise',\n",
       " 734: 'anti-piracy',\n",
       " 735: 'anti-poverty',\n",
       " 736: 'anti-racism',\n",
       " 737: 'anti-racketeering',\n",
       " 738: 'anti-retroviral',\n",
       " 739: 'anti-semitic',\n",
       " 740: 'anti-semitism',\n",
       " 741: 'anti-smoking',\n",
       " 742: 'anti-social',\n",
       " 743: 'anti-spam',\n",
       " 744: 'anti-spyware',\n",
       " 745: 'anti-terror',\n",
       " 746: 'anti-terrorism',\n",
       " 747: 'anti-tory',\n",
       " 748: 'anti-violence',\n",
       " 749: 'anti-virus',\n",
       " 750: 'anti-war',\n",
       " 751: 'anticipate',\n",
       " 752: 'anticipated',\n",
       " 753: 'anticipation',\n",
       " 754: 'anton',\n",
       " 755: 'antonio',\n",
       " 756: 'antony',\n",
       " 757: 'anxious',\n",
       " 758: 'anybody',\n",
       " 759: 'anymore',\n",
       " 760: \"anyone's\",\n",
       " 761: 'anytime',\n",
       " 762: 'aol',\n",
       " 763: 'ap',\n",
       " 764: 'apace',\n",
       " 765: 'apacs',\n",
       " 766: 'apart',\n",
       " 767: 'apartheid',\n",
       " 768: 'apathetic',\n",
       " 769: 'apathy',\n",
       " 770: 'apiece',\n",
       " 771: 'apollo',\n",
       " 772: 'apologise',\n",
       " 773: 'apologised',\n",
       " 774: 'apology',\n",
       " 775: 'apparatus',\n",
       " 776: 'apparel',\n",
       " 777: 'apparent',\n",
       " 778: 'apparently',\n",
       " 779: 'appeal',\n",
       " 780: 'appealed',\n",
       " 781: 'appealing',\n",
       " 782: 'appeals',\n",
       " 783: 'appear',\n",
       " 784: 'appearance',\n",
       " 785: 'appearances',\n",
       " 786: 'appeared',\n",
       " 787: 'appearing',\n",
       " 788: 'appears',\n",
       " 789: 'appetite',\n",
       " 790: 'applaud',\n",
       " 791: 'applauded',\n",
       " 792: 'applause',\n",
       " 793: 'apple',\n",
       " 794: \"apple's\",\n",
       " 795: 'appleinsider',\n",
       " 796: 'appleton',\n",
       " 797: 'appliance',\n",
       " 798: 'appliances',\n",
       " 799: 'applicants',\n",
       " 800: 'application',\n",
       " 801: 'applications',\n",
       " 802: 'applied',\n",
       " 803: 'applies',\n",
       " 804: 'apply',\n",
       " 805: 'applying',\n",
       " 806: 'appoint',\n",
       " 807: 'appointed',\n",
       " 808: 'appointing',\n",
       " 809: 'appointment',\n",
       " 810: 'appointments',\n",
       " 811: 'appraising',\n",
       " 812: 'appreciably',\n",
       " 813: 'appreciate',\n",
       " 814: 'appreciated',\n",
       " 815: 'appreciation',\n",
       " 816: 'apprehended',\n",
       " 817: 'apprehension',\n",
       " 818: 'approach',\n",
       " 819: 'approached',\n",
       " 820: 'approaches',\n",
       " 821: 'approaching',\n",
       " 822: 'appropriate',\n",
       " 823: 'appropriately',\n",
       " 824: 'approval',\n",
       " 825: 'approvals',\n",
       " 826: 'approve',\n",
       " 827: 'approved',\n",
       " 828: 'approves',\n",
       " 829: 'approximately',\n",
       " 830: 'apps',\n",
       " 831: 'april',\n",
       " 832: 'aquatic',\n",
       " 833: 'ar',\n",
       " 834: 'arab',\n",
       " 835: 'arabia',\n",
       " 836: \"arabia's\",\n",
       " 837: 'arafat',\n",
       " 838: 'aragones',\n",
       " 839: \"aragones'\",\n",
       " 840: 'arash',\n",
       " 841: 'arbitrarily',\n",
       " 842: 'arbitrary',\n",
       " 843: 'arbitration',\n",
       " 844: 'arcade',\n",
       " 845: 'arcades',\n",
       " 846: 'archbishop',\n",
       " 847: 'archer',\n",
       " 848: 'architect',\n",
       " 849: 'architecture',\n",
       " 850: 'archive',\n",
       " 851: 'archived',\n",
       " 852: 'archives',\n",
       " 853: 'archos',\n",
       " 854: 'archy',\n",
       " 855: 'ard',\n",
       " 856: 'ardent',\n",
       " 857: 'arduous',\n",
       " 858: 'area',\n",
       " 859: 'areas',\n",
       " 860: \"aren't\",\n",
       " 861: 'arena',\n",
       " 862: 'arenas',\n",
       " 863: 'aretha',\n",
       " 864: 'argentina',\n",
       " 865: \"argentina's\",\n",
       " 866: 'argentine',\n",
       " 867: 'argonaut',\n",
       " 868: 'arguably',\n",
       " 869: 'argue',\n",
       " 870: 'argued',\n",
       " 871: 'argues',\n",
       " 872: 'arguing',\n",
       " 873: 'argument',\n",
       " 874: 'arguments',\n",
       " 875: 'ariadne',\n",
       " 876: 'ariel',\n",
       " 877: 'arise',\n",
       " 878: 'arisen',\n",
       " 879: 'arising',\n",
       " 880: 'arizona',\n",
       " 881: 'arjan',\n",
       " 882: 'arjen',\n",
       " 883: 'arkansas',\n",
       " 884: 'arm',\n",
       " 885: 'armband',\n",
       " 886: 'armed',\n",
       " 887: 'armes',\n",
       " 888: 'armour',\n",
       " 889: 'arms',\n",
       " 890: 'armstrong',\n",
       " 891: 'army',\n",
       " 892: 'arnaud',\n",
       " 893: 'arne',\n",
       " 894: 'arnesen',\n",
       " 895: 'arnold',\n",
       " 896: \"arnold's\",\n",
       " 897: 'arrange',\n",
       " 898: 'arranged',\n",
       " 899: 'arrangement',\n",
       " 900: 'arrangements',\n",
       " 901: 'array',\n",
       " 902: 'arrese',\n",
       " 903: 'arrest',\n",
       " 904: 'arrested',\n",
       " 905: 'arrests',\n",
       " 906: 'arrival',\n",
       " 907: 'arrivals',\n",
       " 908: 'arrive',\n",
       " 909: 'arrived',\n",
       " 910: 'arrives',\n",
       " 911: 'arriving',\n",
       " 912: 'arrogance',\n",
       " 913: 'arrogant',\n",
       " 914: 'arsenal',\n",
       " 915: \"arsenal's\",\n",
       " 916: 'arsene',\n",
       " 917: 'arsenide',\n",
       " 918: 'art',\n",
       " 919: 'art-deco',\n",
       " 920: 'art-house',\n",
       " 921: 'arteta',\n",
       " 922: 'arthur',\n",
       " 923: 'article',\n",
       " 924: 'articles',\n",
       " 925: 'artificial',\n",
       " 926: 'artificially',\n",
       " 927: 'artist',\n",
       " 928: 'artistic',\n",
       " 929: 'artistry',\n",
       " 930: 'artists',\n",
       " 931: \"artists'\",\n",
       " 932: 'artois',\n",
       " 933: 'arts',\n",
       " 934: 'arturo',\n",
       " 935: 'artwork',\n",
       " 936: 'artworks',\n",
       " 937: 'arvind',\n",
       " 938: 'asagoe',\n",
       " 939: 'asante',\n",
       " 940: 'ascii',\n",
       " 941: 'ash',\n",
       " 942: 'ashamed',\n",
       " 943: 'ashanti',\n",
       " 944: 'ashburton',\n",
       " 945: 'ashcroft',\n",
       " 946: 'ashdown',\n",
       " 947: 'asher',\n",
       " 948: 'ashes',\n",
       " 949: 'ashfield',\n",
       " 950: 'ashley',\n",
       " 951: 'ashvin',\n",
       " 952: 'asia',\n",
       " 953: \"asia's\",\n",
       " 954: 'asia-pacific',\n",
       " 955: 'asian',\n",
       " 956: 'asians',\n",
       " 957: 'aside',\n",
       " 958: 'asimo',\n",
       " 959: 'ask',\n",
       " 960: \"ask's\",\n",
       " 961: 'asked',\n",
       " 962: 'asking',\n",
       " 963: 'asks',\n",
       " 964: 'aspect',\n",
       " 965: 'aspects',\n",
       " 966: 'aspiration',\n",
       " 967: 'aspirations',\n",
       " 968: 'aspiring',\n",
       " 969: 'asplin',\n",
       " 970: 'ass-saver',\n",
       " 971: 'assassination',\n",
       " 972: 'assault',\n",
       " 973: 'assaulted',\n",
       " 974: 'assaults',\n",
       " 975: 'assembled',\n",
       " 976: 'assemblies',\n",
       " 977: 'assembly',\n",
       " 978: 'assert',\n",
       " 979: 'assertion',\n",
       " 980: 'asserts',\n",
       " 981: 'assess',\n",
       " 982: 'assessed',\n",
       " 983: 'assessing',\n",
       " 984: 'assessment',\n",
       " 985: 'assessments',\n",
       " 986: 'asset',\n",
       " 987: 'assets',\n",
       " 988: 'assigned',\n",
       " 989: 'assignment',\n",
       " 990: 'assigns',\n",
       " 991: 'assist',\n",
       " 992: 'assistance',\n",
       " 993: 'assistant',\n",
       " 994: 'assistants',\n",
       " 995: 'assisted',\n",
       " 996: 'assisting',\n",
       " 997: 'associate',\n",
       " 998: 'associated',\n",
       " 999: 'associates',\n",
       " ...}"
      ]
     },
     "execution_count": 27,
     "metadata": {},
     "output_type": "execute_result"
    }
   ],
   "source": [
    "def gen_vocIndex(voc_fname):\n",
    "    with open(voc_fname) as vocf: \n",
    "        voc_Ind = [l.split(',') for l in vocf.read().splitlines()] # each line is 'index,word'\n",
    "    return {int(vi[0]):vi[1] for vi in voc_Ind}\n",
    "\n",
    "\n",
    "# Generates the w_index:word dictionary\n",
    "voc_fname = './bbcNews_voc.txt' # path for the vocabulary\n",
    "voc_dict = gen_vocIndex(voc_fname)\n",
    "voc_dict"
   ]
  },
  {
   "cell_type": "markdown",
   "metadata": {
    "pycharm": {
     "name": "#%% md\n"
    }
   },
   "source": [
    "- the `doc_wordweights` function takes the tfidf document vector file, as well as the w_index:word dictionary, creates the mapping between w_index and the actual word, and creates a dictionary of word:weight or each unique word appear in the document."
   ]
  },
  {
   "cell_type": "code",
   "execution_count": 28,
   "metadata": {
    "pycharm": {
     "name": "#%%\n"
    }
   },
   "outputs": [],
   "source": [
    "def doc_wordweights(fName_tVectors, voc_dict):\n",
    "    tfidf_weights = [] # a list to store the  word:weight dictionaries of documents\n",
    "    \n",
    "    with open(fName_tVectors) as tVecf: \n",
    "        tVectors = tVecf.read().splitlines() # each line is a tfidf vector representation of a document in string format 'word_index:weight word_index:weight .......'\n",
    "    for tv in tVectors: # for each tfidf document vector\n",
    "        tv = tv.strip()\n",
    "        weights = tv.split(' ') # list of 'word_index:weight' entries\n",
    "        weights = [w.split(':') for w in weights] # change the format of weight to a list of '[word_index,weight]' entries\n",
    "        wordweight_dict = {voc_dict[int(w[0])]:w[1] for w in weights} # construct the weight dictionary, where each entry is 'word:weight'\n",
    "        tfidf_weights.append(wordweight_dict) \n",
    "    return tfidf_weights\n",
    "\n",
    "fName_tVectors = 'bbcNews_tVector.txt'\n",
    "tfidf_weights = doc_wordweights(fName_tVectors, voc_dict)"
   ]
  },
  {
   "cell_type": "code",
   "execution_count": 29,
   "metadata": {
    "pycharm": {
     "name": "#%%\n"
    }
   },
   "outputs": [
    {
     "data": {
      "text/plain": [
       "{'year': '0.02172550050662404',\n",
       " 'world': '0.029389015433271874',\n",
       " 'working': '0.044292026808015',\n",
       " 'visiting': '0.07222715579212276',\n",
       " 'visas': '0.3046502180924083',\n",
       " 'visa': '0.22674316817874562',\n",
       " 'uphill': '0.09024251451225522',\n",
       " 'union': '0.15136556796475625',\n",
       " 'uk': '0.03237195111969164',\n",
       " 'travel': '0.06297680542357942',\n",
       " 'tougher': '0.0762321820047836',\n",
       " 'tough': '0.05312248617163384',\n",
       " 'thanks': '0.06540996583652363',\n",
       " 'tape': '0.07763826387625275',\n",
       " 'tackle': '0.12019616154314977',\n",
       " 'success': '0.04807046974078493',\n",
       " 'succeeding': '0.09229972232892607',\n",
       " 'succeed': '0.06876386610398275',\n",
       " 'struggle': '0.07127350486148784',\n",
       " 'stance': '0.07558105605958187',\n",
       " 'sport': '0.05243205111228791',\n",
       " 'sponsor': '0.09229972232892607',\n",
       " 'spokeswoman': '0.06091959760690855',\n",
       " 'spokesman': '0.041399666276002056',\n",
       " 'situation': '0.053850599527964095',\n",
       " 'singer': '0.0552983208547527',\n",
       " 'simply': '0.05166924723836521',\n",
       " 'seller': '0.16842115320346146',\n",
       " 'seen': '0.08221696321178629',\n",
       " 'secretary': '0.046258139154235225',\n",
       " 'says': '0.07237254390071643',\n",
       " 'say': '0.03598855819187207',\n",
       " 'said': '0.06214481329039147',\n",
       " 'risk': '0.0557220210318461',\n",
       " 'requirements': '0.07840106775017544',\n",
       " 'require': '0.07038347948451944',\n",
       " 'regulations': '0.14992045246637475',\n",
       " 'red': '0.059324215616784234',\n",
       " 'record': '0.04087058877190325',\n",
       " 'raw': '0.07691671331061446',\n",
       " 'purposes': '0.08099216414371187',\n",
       " 'promotional': '0.08198116723966387',\n",
       " 'processed': '0.08304937196038273',\n",
       " 'process': '0.05336080383681429',\n",
       " 'problems': '0.04597864339730044',\n",
       " 'preventing': '0.08099216414371187',\n",
       " 'petition': '0.08688861424479609',\n",
       " 'performers': '0.07921012967596937',\n",
       " 'perform': '0.06698183163624025',\n",
       " 'people': '0.027035887851510246',\n",
       " 'pay': '0.04647167066330275',\n",
       " 'pages': '0.07379902159183938',\n",
       " 'orchestra': '0.09024251451225522',\n",
       " 'obtaining': '0.09473288274187029',\n",
       " 'nigel': '0.07691671331061446',\n",
       " 'nearly': '0.055160024958063096',\n",
       " 'musicians': '0.23520320325052632',\n",
       " 'music': '0.0864757842607058',\n",
       " 'mr': '0.08146040860123892',\n",
       " 'momentum': '0.07496022623318738',\n",
       " 'mistake': '0.06954911814905738',\n",
       " 'member': '0.05475353359651113',\n",
       " 'media': '0.046187714533798656',\n",
       " 'means': '0.04597864339730044',\n",
       " 'markets': '0.05692241934190298',\n",
       " 'market': '0.07524379094217233',\n",
       " 'make': '0.060128201745054136',\n",
       " 'maintaining': '0.07691671331061446',\n",
       " 'london': '0.0404071590617148',\n",
       " 'like': '0.03254771667488401',\n",
       " 'journalists': '0.07127350486148784',\n",
       " 'james': '0.05692241934190298',\n",
       " 'industry': '0.042794849466095214',\n",
       " 'india': '0.05895348526068833',\n",
       " 'including': '0.03842171860481629',\n",
       " 'impractical': '0.09771083041305606',\n",
       " 'important': '0.044170703839696554',\n",
       " 'importance': '0.06995977930742601',\n",
       " 'imagine': '0.07691671331061446',\n",
       " 'hoping': '0.057565697339449426',\n",
       " 'holy': '0.08688861424479609',\n",
       " 'groups': '0.10820481530261884',\n",
       " 'grail': '0.09024251451225522',\n",
       " 'going': '0.03480012351740186',\n",
       " 'general': '0.04179806704342735',\n",
       " 'forum': '0.07222715579212276',\n",
       " 'form': '0.09597966485672202',\n",
       " 'fight': '0.0526582503343172',\n",
       " 'facilitate': '0.09473288274187029',\n",
       " 'faced': '0.1205975355610281',\n",
       " 'face': '0.08907606513679595',\n",
       " 'experiencing': '0.08304937196038273',\n",
       " 'expense': '0.08007142428919696',\n",
       " 'expect': '0.05488765969638405',\n",
       " 'exchange': '0.0552983208547527',\n",
       " 'europe': '0.04226096088922964',\n",
       " 'entertainers': '0.09473288274187029',\n",
       " 'endorsed': '0.09024251451225522',\n",
       " 'end': '0.03553830805578216',\n",
       " 'embassy': '0.17692096008902541',\n",
       " 'doing': '0.04751598023958374',\n",
       " 'disadvantaged': '0.08548253237332694',\n",
       " 'developing': '0.05990036701308875',\n",
       " 'department': '0.056012150601776334',\n",
       " 'deal': '0.04274048916851704',\n",
       " 'current': '0.04447610468649272',\n",
       " 'culture': '0.06113312911597609',\n",
       " 'cultural': '0.07436699814280211',\n",
       " 'creaky': '0.10155007269746942',\n",
       " 'counterparts': '0.07921012967596937',\n",
       " 'compared': '0.053004904489397785',\n",
       " 'comparable': '0.09771083041305606',\n",
       " 'china': '0.0557220210318461',\n",
       " 'chances': '0.05951351573543941',\n",
       " 'career': '0.05035883197443649',\n",
       " 'calling': '0.06540996583652363',\n",
       " 'bureaucracy': '0.16609874392076546',\n",
       " 'british': '0.19827240353851813',\n",
       " 'blamed': '0.06511664777425875',\n",
       " 'biggest': '0.04236604359439008',\n",
       " 'best': '0.0366593242209764',\n",
       " 'behalf': '0.07127350486148784',\n",
       " 'ban': '0.06091959760690855',\n",
       " 'aware': '0.18339938734792827',\n",
       " 'atlantic': '0.07840106775017544',\n",
       " 'athletes': '0.0683879135077094',\n",
       " 'artists': '0.06322626006228708',\n",
       " 'applications': '0.07174181377516853',\n",
       " 'amounting': '0.09229972232892607',\n",
       " 'added': '0.09402076194499435',\n",
       " 'acts': '0.13604452457897523',\n",
       " 'ability': '0.0557220210318461'}"
      ]
     },
     "execution_count": 29,
     "metadata": {},
     "output_type": "execute_result"
    }
   ],
   "source": [
    "# take a look at the tfidf word weights dictionary of the first document\n",
    "tfidf_weights[0]"
   ]
  },
  {
   "cell_type": "markdown",
   "metadata": {
    "pycharm": {
     "name": "#%% md\n"
    }
   },
   "source": [
    "Ok, once we have the word:weight dictionary of each document, now we can construct the tf-idf weighted document embeddings. \n",
    "* the following `gen_docVecs` function is an revision/extension of the previous written function, that takes the word embeddings dictionary, the tokenized text of articles, and the tfidf weights (list of word:weight dictionaries, one for each article) as arguments, and generates the document embeddings:\n",
    " 1. creates an empty dataframe `docs_vectors` to store the document embeddings of articles\n",
    "  2. it loop through every tokenized text:\n",
    "    - creates an empty dataframe `temp` to store all the word embeddings of the article\n",
    "    - for each word that exists in the word embeddings dictionary/keyedvectors, \n",
    "        - if the argument `tfidf` weights are empty `[]`, it sets the weight of the word as 1\n",
    "        - otherwise, retrieve the weight of the word from the corresponding word:weight dictionary of the article from  `tfidf`\n",
    "    - row bind the weighted word embedding to `temp`\n",
    "    - takes the sum of each column to create the document vector, i.e., the embedding of an article\n",
    "    - append the created document vector to the list of document vectors"
   ]
  },
  {
   "cell_type": "code",
   "execution_count": 30,
   "metadata": {
    "pycharm": {
     "name": "#%%\n"
    }
   },
   "outputs": [],
   "source": [
    "# extended version of the `gen_docVecs` function\n",
    "def gen_docVecs(wv,tk_txts,tfidf = []): # generate vector representation for documents\n",
    "    docs_vectors = pd.DataFrame() # creating empty final dataframe\n",
    "    #stopwords = nltk.corpus.stopwords.words('english') # removing stop words\n",
    "\n",
    "    for i in range(0,len(tk_txts)):\n",
    "        tokens = list(set(tk_txts[i])) # get the list of distinct words of the document\n",
    "\n",
    "        temp = pd.DataFrame()  # creating a temporary dataframe(store value for 1st doc & for 2nd doc remove the details of 1st & proced through 2nd and so on..)\n",
    "        for w_ind in range(0, len(tokens)): # looping through each word of a single document and spliting through space\n",
    "            try:\n",
    "                word = tokens[w_ind]\n",
    "                word_vec = wv[word] # if word is present in embeddings(goole provides weights associate with words(300)) then proceed\n",
    "                \n",
    "                if tfidf != []:\n",
    "                    word_weight = float(tfidf[i][word])\n",
    "                else:\n",
    "                    word_weight = 1\n",
    "                temp = temp.append(pd.Series(word_vec*word_weight), ignore_index = True) # if word is present then append it to temporary dataframe\n",
    "            except:\n",
    "                pass\n",
    "        doc_vector = temp.sum() # take the sum of each column(w0, w1, w2,........w300)\n",
    "        docs_vectors = docs_vectors.append(doc_vector, ignore_index = True) # append each document value to the final dataframe\n",
    "    return docs_vectors"
   ]
  },
  {
   "cell_type": "markdown",
   "metadata": {
    "pycharm": {
     "name": "#%% md\n"
    }
   },
   "source": [
    "Ok we now have everything ready to generate the weight document embeddings. \n",
    "We can do this on any of our previous explored models, including the pretrained Word2Vec GoogleNews300, Glove, our in-house trained Word2Vec and FastText.\n",
    "\n",
    "Let's generated the weighted version of the document embedding vectors first"
   ]
  },
  {
   "cell_type": "code",
   "execution_count": 31,
   "metadata": {
    "pycharm": {
     "name": "#%%\n"
    }
   },
   "outputs": [],
   "source": [
    "weighted_preTW2v_dvs = gen_docVecs(preTW2v_wv,df['tk_text'],tfidf_weights)\n",
    "weighted_preTGloVe_dvs = gen_docVecs(preTGloVe_wv,df['tk_text'],tfidf_weights)\n",
    "weighted_bbcW2v_dvs = gen_docVecs(bbcW2v_wv,df['tk_text'],tfidf_weights)\n",
    "weighted_bbcFT_dvs = gen_docVecs(bbcFT_wv,df['tk_text'],tfidf_weights)"
   ]
  },
  {
   "cell_type": "markdown",
   "metadata": {
    "pycharm": {
     "name": "#%% md\n"
    }
   },
   "source": [
    "And we can do very much the same thing as what we do before for other models. \n",
    "Here, we will do this as loops, for each model:\n",
    "- we plot out the feature vectors  projected in a 2-dimensional space,then \n",
    "- we build the logistic regression model for document classfication and report the model performance."
   ]
  },
  {
   "cell_type": "code",
   "execution_count": 32,
   "metadata": {
    "pycharm": {
     "name": "#%%\n"
    }
   },
   "outputs": [
    {
     "name": "stdout",
     "output_type": "stream",
     "text": [
      "Weighted Pretrained Word2Vec: tSNE 2 dimensional projected Feature space\n"
     ]
    },
    {
     "data": {
      "image/png": "[encoded data removed]",
      "text/plain": [
       "<Figure size 432x288 with 1 Axes>"
      ]
     },
     "metadata": {
      "needs_background": "light"
     },
     "output_type": "display_data"
    },
    {
     "name": "stdout",
     "output_type": "stream",
     "text": [
      "Accuracy:  0.9673469387755103\n",
      "\n",
      "\n",
      "\n",
      "Weighted Pretrained GloVe: tSNE 2 dimensional projected Feature space\n"
     ]
    },
    {
     "data": {
      "image/png": "[encoded data removed]",
      "text/plain": [
       "<Figure size 432x288 with 1 Axes>"
      ]
     },
     "metadata": {
      "needs_background": "light"
     },
     "output_type": "display_data"
    },
    {
     "name": "stdout",
     "output_type": "stream",
     "text": [
      "Accuracy:  0.9700680272108844\n",
      "\n",
      "\n",
      "\n",
      "Weighted In-house Word2Vec: tSNE 2 dimensional projected Feature space\n"
     ]
    },
    {
     "data": {
      "image/png": "[encoded data removed]",
      "text/plain": [
       "<Figure size 432x288 with 1 Axes>"
      ]
     },
     "metadata": {
      "needs_background": "light"
     },
     "output_type": "display_data"
    },
    {
     "name": "stdout",
     "output_type": "stream",
     "text": [
      "Accuracy:  0.8979591836734694\n",
      "\n",
      "\n",
      "\n",
      "Weighted In-house FastText: tSNE 2 dimensional projected Feature space\n"
     ]
    },
    {
     "data": {
      "image/png": "[encoded data removed]",
      "text/plain": [
       "<Figure size 432x288 with 1 Axes>"
      ]
     },
     "metadata": {
      "needs_background": "light"
     },
     "output_type": "display_data"
    },
    {
     "name": "stdout",
     "output_type": "stream",
     "text": [
      "Accuracy:  0.9428571428571428\n",
      "\n",
      "\n",
      "\n"
     ]
    }
   ],
   "source": [
    "%matplotlib inline\n",
    "seed = 0\n",
    "from sklearn.model_selection import train_test_split\n",
    "from sklearn.linear_model import LogisticRegression\n",
    "\n",
    "models = [weighted_preTW2v_dvs,weighted_preTGloVe_dvs,weighted_bbcW2v_dvs,weighted_bbcFT_dvs]\n",
    "model_names = [\"Weighted Pretrained Word2Vec\", \"Weighted Pretrained GloVe\", \"Weighted In-house Word2Vec\",\"Weighted In-house FastText\"]\n",
    "for i in range(0,len(models)): #loop through each model\n",
    "    dv = models[i]\n",
    "    name = model_names[i]\n",
    "    features = dv.to_numpy() # convert the dataframe stored features to an numpy array\n",
    "    print(name + \": tSNE 2 dimensional projected Feature space\")\n",
    "    plotTSNE(df['Category'],features)\n",
    "    \n",
    "    # creating training and test split\n",
    "    X_train, X_test, y_train, y_test,train_indices,test_indices = train_test_split(dv, df['Category'], list(range(0,len(df))),test_size=0.33, random_state=seed)\n",
    "\n",
    "    model = LogisticRegression(max_iter = 2000,random_state=seed)\n",
    "    model.fit(X_train, y_train)\n",
    "    print(\"Accuracy: \", model.score(X_test, y_test))\n",
    "    print('\\n\\n')"
   ]
  },
  {
   "cell_type": "markdown",
   "metadata": {
    "pycharm": {
     "name": "#%% md\n"
    }
   },
   "source": [
    "#### Note: Creating tfidf weighted document embeddings using Gensim\n",
    "\n",
    "In the previous sections, we tried very hard to create the tfidf weighted document embeddings using the generated tf-idf weights save in previous activity. \n",
    "Indeed, we can using Genism to do this direction, and it's indeed, a bit less effor required 😑 Will show you below. \n",
    "We will use the in-house build Word2Vec model as an example."
   ]
  },
  {
   "cell_type": "code",
   "execution_count": 33,
   "metadata": {
    "pycharm": {
     "name": "#%%\n"
    }
   },
   "outputs": [
    {
     "name": "stderr",
     "output_type": "stream",
     "text": [
      "2021-06-03 16:24:59,112 : INFO : adding document #0 to Dictionary(0 unique tokens: [])\n",
      "2021-06-03 16:24:59,433 : INFO : built Dictionary(9869 unique tokens: ['ability', 'acts', 'added', 'amounting', 'applications']...) from 2225 documents (total 386939 corpus positions)\n",
      "2021-06-03 16:24:59,433 : INFO : Dictionary lifecycle event {'msg': \"built Dictionary(9869 unique tokens: ['ability', 'acts', 'added', 'amounting', 'applications']...) from 2225 documents (total 386939 corpus positions)\", 'datetime': '2021-06-03T16:24:59.433946', 'gensim': '4.0.1', 'python': '3.8.5 (default, Sep  4 2020, 02:22:02) \\n[Clang 10.0.0 ]', 'platform': 'macOS-10.14.6-x86_64-i386-64bit', 'event': 'created'}\n",
      "2021-06-03 16:24:59,440 : INFO : discarding 1222 tokens: [('physio', 4), ('confess', 2), ('hassan', 2), ('mido', 2), ('roma', 4), ('arrese', 4), ('mcenroe', 3), ('scarlets', 4), ('diving', 3), ('said', 1888)]...\n",
      "2021-06-03 16:24:59,442 : INFO : keeping 8647 tokens which were in no less than 5 and no more than 1112 (=50.0%) documents\n",
      "2021-06-03 16:24:59,450 : INFO : resulting dictionary: Dictionary(8647 unique tokens: ['ability', 'acts', 'added', 'amounting', 'applications']...)\n"
     ]
    }
   ],
   "source": [
    "from gensim.corpora import Dictionary\n",
    "from gensim.models.tfidfmodel import TfidfModel\n",
    "\n",
    "# we have two vocabularies here, one from the in-house bulit Word2Vec, the other from the articles \n",
    "# note that althought the Word2Vec is built on the same dataset, but they might have done further \n",
    "# pre-processing during model build (e.g., setting min_count), and thus, might create mismatch in the two vocabularis. \n",
    "# therefore, we remove tokenized words that doesn't exist in the keyedvectors in the Word2Vec keyedvectors\n",
    "processed_text = [[w for w in t if w in bbcW2v_wv.index_to_key] for t in df['tk_text']] \n",
    "\n",
    "# use the Gensim package to create a dictionary that encapsulates the mapping between normalized words and their integer ids.\n",
    "docs_dict = Dictionary(processed_text) # creates a dictionary from the text\n",
    "docs_dict.filter_extremes(no_below=5) # filtering words that appear less than 5 times\n",
    "docs_dict.compactify() # assign new word ids to all words, shrinking any gaps."
   ]
  },
  {
   "cell_type": "code",
   "execution_count": 34,
   "metadata": {
    "pycharm": {
     "name": "#%%\n"
    }
   },
   "outputs": [
    {
     "data": {
      "text/plain": [
       "['said',\n",
       " 'it',\n",
       " 're',\n",
       " 've',\n",
       " 'we',\n",
       " 'up',\n",
       " 'anti',\n",
       " 'that',\n",
       " 'didn',\n",
       " 'he',\n",
       " 'co',\n",
       " 'can',\n",
       " 'll',\n",
       " 'there',\n",
       " 'one',\n",
       " 'pre',\n",
       " 'they',\n",
       " 'you',\n",
       " 'doesn',\n",
       " 'two',\n",
       " 'to',\n",
       " 'so',\n",
       " 'on',\n",
       " 'off',\n",
       " 'isn',\n",
       " 'mails',\n",
       " 'in',\n",
       " 'fi',\n",
       " 'back',\n",
       " 'first',\n",
       " 'wasn',\n",
       " 'all',\n",
       " 'full',\n",
       " 'non',\n",
       " 'ex',\n",
       " 'gara',\n",
       " 'us',\n",
       " 'wouldn',\n",
       " 'three',\n",
       " 'wi',\n",
       " 'out',\n",
       " 'haven',\n",
       " 'semi',\n",
       " 'driscoll',\n",
       " 'five',\n",
       " 'top',\n",
       " 'well',\n",
       " 'four',\n",
       " 'forsyth',\n",
       " 'couldn',\n",
       " 'no',\n",
       " 'what',\n",
       " 'hi',\n",
       " 'she',\n",
       " 'ballet',\n",
       " 'wal',\n",
       " 'mart',\n",
       " 'blu',\n",
       " 'show',\n",
       " 'third',\n",
       " 'side',\n",
       " 'multi',\n",
       " 'connor',\n",
       " 'rover',\n",
       " 'firefox',\n",
       " 'francis',\n",
       " 'over',\n",
       " 'spider',\n",
       " 'simonetti',\n",
       " 'commodore',\n",
       " 'callaghan',\n",
       " 'of',\n",
       " 'connell',\n",
       " 'cairn',\n",
       " 'iptv',\n",
       " 'aren',\n",
       " 'rfid',\n",
       " 'uwb',\n",
       " 'skype',\n",
       " 'hasn',\n",
       " 'shouldn',\n",
       " 'have',\n",
       " 'juninho',\n",
       " 'mcletchie',\n",
       " 'casinos',\n",
       " 'qantas',\n",
       " 'cabir',\n",
       " 'for',\n",
       " 'millan',\n",
       " 'southcorp',\n",
       " 'wmc',\n",
       " 'exeem',\n",
       " 'hsdpa',\n",
       " 'aragones',\n",
       " 'tps',\n",
       " 'qwest',\n",
       " 'toulousain',\n",
       " 'fannie',\n",
       " 'under',\n",
       " 'mate',\n",
       " 'argonaut',\n",
       " 'enhancing',\n",
       " 'dyer',\n",
       " 'regiments',\n",
       " 'mutu',\n",
       " 'cyber',\n",
       " 'mae',\n",
       " 'gervais',\n",
       " 'computer',\n",
       " 'six',\n",
       " 'must',\n",
       " 'ira',\n",
       " 'bates',\n",
       " 'arcy',\n",
       " 'mock',\n",
       " 'telewest',\n",
       " 'mcclaren',\n",
       " 'umaga',\n",
       " 'reddy',\n",
       " 'ongc',\n",
       " 'woolf',\n",
       " 'neath',\n",
       " 'bloglines',\n",
       " 'leary',\n",
       " 'who',\n",
       " 'viotti',\n",
       " 'chartered',\n",
       " 'weren',\n",
       " 'and',\n",
       " 'vivendi',\n",
       " 'printer',\n",
       " 'suprnova',\n",
       " 'hendrix',\n",
       " 'voip',\n",
       " 'tb',\n",
       " 'anil',\n",
       " 'titled',\n",
       " 'anelka',\n",
       " 'drunk',\n",
       " 'jamieson',\n",
       " 'connors',\n",
       " 'bjorn',\n",
       " 'brando',\n",
       " 'galloway',\n",
       " 'carpenter',\n",
       " 'forensic',\n",
       " 'mpaa',\n",
       " 'tank',\n",
       " 'gogh',\n",
       " 'bp',\n",
       " 'davos',\n",
       " 'icann',\n",
       " 'cebit',\n",
       " 'gallery',\n",
       " 'seafarers',\n",
       " 'outkast',\n",
       " 'fsa',\n",
       " 'edu',\n",
       " 'tci',\n",
       " 'the',\n",
       " 'kapranos',\n",
       " 'fightstar',\n",
       " 'neill',\n",
       " 'roma',\n",
       " 'viacom',\n",
       " 'take',\n",
       " 'turkcell',\n",
       " 'fcc',\n",
       " 'cunningham',\n",
       " 'summary',\n",
       " 'ripguard',\n",
       " 'hardenne',\n",
       " 'henin',\n",
       " 'venezuelan',\n",
       " 'xstrata',\n",
       " 'borussia',\n",
       " 'reggae',\n",
       " 'gorges',\n",
       " 'jol',\n",
       " 'by',\n",
       " 'robson',\n",
       " 'csos',\n",
       " 'baa',\n",
       " 'trackers',\n",
       " 'macrovision',\n",
       " 'donofrio',\n",
       " 'duran',\n",
       " 'desailly',\n",
       " 'other',\n",
       " 'bogdanovic',\n",
       " 'jaynes',\n",
       " 'faroe',\n",
       " 'sharers',\n",
       " 'stan',\n",
       " 'podcasts',\n",
       " 'hoddle',\n",
       " 'paniccia',\n",
       " 'skulls',\n",
       " 'rodgers',\n",
       " 'frederick',\n",
       " 'newport',\n",
       " 'trek',\n",
       " 'ghosn',\n",
       " 'renault',\n",
       " 'tyranny',\n",
       " 'santini',\n",
       " 'baros',\n",
       " 'healey',\n",
       " 'fenice',\n",
       " 'last',\n",
       " 'isinbayeva',\n",
       " 'painkiller',\n",
       " 'cymru',\n",
       " 'sloncek',\n",
       " 'ossie',\n",
       " 'amicus',\n",
       " 'lira',\n",
       " 'eff',\n",
       " 'unilever',\n",
       " 'valve',\n",
       " 'ozzy',\n",
       " 'warcraft',\n",
       " 'sci',\n",
       " 'springboks',\n",
       " 'ambani',\n",
       " 'ppi',\n",
       " 'deaf',\n",
       " 'morquendi',\n",
       " 'kasabian',\n",
       " 'referees',\n",
       " 'hutt',\n",
       " 'begg',\n",
       " 'arnesen',\n",
       " 'symbian',\n",
       " 'textile',\n",
       " 'slovakia',\n",
       " 'abbas',\n",
       " 'seagrave',\n",
       " 'llewellyn',\n",
       " 'dancers',\n",
       " 'asimo',\n",
       " 'chidambaram',\n",
       " 'brien',\n",
       " 'abba',\n",
       " 'go',\n",
       " 'bourgoin',\n",
       " 'cardinal',\n",
       " 'mg',\n",
       " 'powys',\n",
       " 'awaited',\n",
       " 'dams',\n",
       " 'scarlets',\n",
       " 'mauresmo',\n",
       " 'kezman',\n",
       " 'semitic',\n",
       " 'carers',\n",
       " 'ism',\n",
       " 'bat',\n",
       " 'alfa',\n",
       " 'fowler',\n",
       " 'thunderbirds',\n",
       " 'dortmund',\n",
       " 'deccan',\n",
       " 'vogts',\n",
       " 'archer',\n",
       " 'guerrouj',\n",
       " 'ordinate',\n",
       " 'leaflet',\n",
       " 'negroponte',\n",
       " 'shortlists',\n",
       " 'bravery',\n",
       " 'restate',\n",
       " 'fiorina',\n",
       " 'beastie',\n",
       " 'inbev',\n",
       " 'muse',\n",
       " 'ba',\n",
       " 'confess',\n",
       " 'fashioned',\n",
       " 'searchers',\n",
       " 'rsa',\n",
       " 'hogan',\n",
       " 'euthanasia',\n",
       " 'kazaa',\n",
       " 'cheese',\n",
       " 'supercomputer',\n",
       " 'marine',\n",
       " 'cartridges',\n",
       " 'mozilla',\n",
       " 'emi',\n",
       " 'cml',\n",
       " 'eduvision',\n",
       " 'slug',\n",
       " 'slates',\n",
       " 'milanesi',\n",
       " 'lanzone',\n",
       " 'alerts',\n",
       " 'bdo',\n",
       " 'rochus',\n",
       " 'mccall',\n",
       " 'coldplay',\n",
       " 'godzilla',\n",
       " 'bowyer',\n",
       " 'bailey',\n",
       " 'digit',\n",
       " 'ordinator',\n",
       " 'bcc',\n",
       " 'cosby',\n",
       " 'closures',\n",
       " 'axa',\n",
       " 'ak',\n",
       " 'archives',\n",
       " 'toure',\n",
       " 'redford',\n",
       " 'sinclair',\n",
       " 'defra',\n",
       " 'yangtze',\n",
       " 'visitor',\n",
       " 'texting',\n",
       " 'disappearance',\n",
       " 'conductor',\n",
       " 'tabloid',\n",
       " 'pearson',\n",
       " 'evicted',\n",
       " 'abiding',\n",
       " 'carnival',\n",
       " 'nortel',\n",
       " 'literacy',\n",
       " 'cadbury',\n",
       " 'busted',\n",
       " 'nirvana',\n",
       " 'spector',\n",
       " 'bryan',\n",
       " 'dixon',\n",
       " 'householders',\n",
       " 'cesar',\n",
       " 'podcast',\n",
       " 'mido',\n",
       " 'call',\n",
       " 'castaignede',\n",
       " 'odpm',\n",
       " 'clarkson',\n",
       " 'gilbert',\n",
       " 'chorus',\n",
       " 'ge',\n",
       " 'juventus',\n",
       " 'yuganskneftegaz',\n",
       " 'lomu',\n",
       " 'toshack',\n",
       " 'ferrari',\n",
       " 'ufj',\n",
       " 'stansted',\n",
       " 'crawford',\n",
       " 'howl',\n",
       " 'prutton',\n",
       " 'mccririck',\n",
       " 'seasonally',\n",
       " 'wef',\n",
       " 'mittal',\n",
       " 'inter',\n",
       " 'calculator',\n",
       " 'investigators',\n",
       " 'printers',\n",
       " 'burglar',\n",
       " 'tarantino',\n",
       " 'spurlock',\n",
       " 'tods',\n",
       " 'sizzla',\n",
       " 'dudek',\n",
       " 'wham',\n",
       " 'adriano',\n",
       " 'halliwell',\n",
       " 'bowles',\n",
       " 'umd',\n",
       " 'brixton',\n",
       " 'absa',\n",
       " 'than',\n",
       " 'houlihan',\n",
       " 'rajasthan',\n",
       " 'godfather',\n",
       " 'goodbye',\n",
       " 'ljungberg',\n",
       " 'hamm',\n",
       " 'pin',\n",
       " 'montgomery',\n",
       " 'nao',\n",
       " 'do',\n",
       " 'mcallister',\n",
       " 'gen',\n",
       " 'carson',\n",
       " 'houllier',\n",
       " 'ddos',\n",
       " 'hopkins',\n",
       " 'crosby',\n",
       " 'mukesh',\n",
       " 'qaeda',\n",
       " 'zafi',\n",
       " 'dome',\n",
       " 'pubs',\n",
       " 'ilo',\n",
       " 'lomax',\n",
       " 'eads',\n",
       " 'fargo',\n",
       " 'mediation',\n",
       " 'parenting',\n",
       " 'burke',\n",
       " 'novo',\n",
       " 'tube',\n",
       " 'netratings',\n",
       " 'abbasi',\n",
       " 'mikoliunas',\n",
       " 'sa',\n",
       " 'demos',\n",
       " 'varga',\n",
       " 'gate',\n",
       " 'adapter',\n",
       " 'pitches',\n",
       " 'with',\n",
       " 'downlink',\n",
       " 'lishman',\n",
       " 'phytopharm',\n",
       " 'cursor',\n",
       " 'hat',\n",
       " 'portrait',\n",
       " 'celltick',\n",
       " 'boothroyd',\n",
       " 'goodman',\n",
       " 'musharraf',\n",
       " 'roche',\n",
       " 'moderators',\n",
       " 'expectancy',\n",
       " 'seychelles',\n",
       " 'whitbread',\n",
       " 'lvmh',\n",
       " 'ripping',\n",
       " 'chester',\n",
       " 'ashdown',\n",
       " 'hitachi',\n",
       " 'usability',\n",
       " 'paypal',\n",
       " 'gibbons',\n",
       " 'aguilera',\n",
       " 'hosford',\n",
       " 'chronometer',\n",
       " 'fischer',\n",
       " 'arash',\n",
       " 'sina',\n",
       " 'recipients',\n",
       " 'notebook',\n",
       " 'herren',\n",
       " 'manages',\n",
       " 'wgbh',\n",
       " 'booker',\n",
       " 'bagle',\n",
       " 'walliams',\n",
       " 'ceplak',\n",
       " 'murderers',\n",
       " 'ajax',\n",
       " 'heating',\n",
       " 'gracenote',\n",
       " 'heinze',\n",
       " 'moyes',\n",
       " 'carrey',\n",
       " 'berlusconi',\n",
       " 'gatwick',\n",
       " 'sociedad',\n",
       " 'fabregas',\n",
       " 'pasquale',\n",
       " 'tgwu',\n",
       " 'lasers',\n",
       " 'zambia',\n",
       " 'gatlin',\n",
       " 'bangladesh',\n",
       " 'energis',\n",
       " 'nigeria',\n",
       " 'tri',\n",
       " 'bosvelt',\n",
       " 'finnan',\n",
       " 'textbooks',\n",
       " 'mmorpgs',\n",
       " 'divorce',\n",
       " 'vaccine',\n",
       " 'jeunet',\n",
       " 'hadn',\n",
       " 'camara',\n",
       " 'mailed',\n",
       " 'helens',\n",
       " 'cas',\n",
       " 'usada',\n",
       " 'sheriff',\n",
       " 'diageo',\n",
       " 'rifle',\n",
       " 'benz',\n",
       " 'strains',\n",
       " 'clearstream',\n",
       " 'reoffending',\n",
       " 'housemates',\n",
       " 'much',\n",
       " 'persie',\n",
       " 'stallone',\n",
       " 'advertisers',\n",
       " 'ashcroft',\n",
       " 'hartson',\n",
       " 'dodgy',\n",
       " 'deport',\n",
       " 'idn',\n",
       " 'capriati',\n",
       " 'ecb',\n",
       " 'lucy',\n",
       " 'albania',\n",
       " 'wippit',\n",
       " 'drafting',\n",
       " 'capra',\n",
       " 'von',\n",
       " 'spamhaus',\n",
       " 'scammers',\n",
       " 'wartime',\n",
       " 'croatia',\n",
       " 'megapixels',\n",
       " 'ladies',\n",
       " 'valbon',\n",
       " 'mit',\n",
       " 'footed',\n",
       " 'sega',\n",
       " 'kewell',\n",
       " 'magistrates',\n",
       " 'duffy',\n",
       " 'burner',\n",
       " 'regiment',\n",
       " 'mauro',\n",
       " 'ace',\n",
       " 'ingram',\n",
       " 'maguire',\n",
       " 'barbarians',\n",
       " 'weir',\n",
       " 'tanzania',\n",
       " 'clooney',\n",
       " 'rattled',\n",
       " 'dvb',\n",
       " 'warehouse',\n",
       " 'wimax',\n",
       " 'else',\n",
       " 'oxfam',\n",
       " 'nots',\n",
       " 'telcos',\n",
       " 'du',\n",
       " 'icstis',\n",
       " 'disruptive',\n",
       " 'pvrs',\n",
       " 'gravesen',\n",
       " 'hereford',\n",
       " 'airplay',\n",
       " 'cab',\n",
       " 'burton',\n",
       " 'dca',\n",
       " 'petrov',\n",
       " 'pountney',\n",
       " 'madden',\n",
       " 'sainsbury',\n",
       " 'cragg',\n",
       " 'finegold',\n",
       " 'addictive',\n",
       " 'cps',\n",
       " 'raf',\n",
       " 'abeyie',\n",
       " 'telephoning',\n",
       " 'archos',\n",
       " 'essentials',\n",
       " 'flamini',\n",
       " 'qrio',\n",
       " 'rebellion',\n",
       " 'sanders',\n",
       " 'hotspot',\n",
       " 'hingis',\n",
       " 'lenovo',\n",
       " 'segas',\n",
       " 'lesotho',\n",
       " 'mauritius',\n",
       " 'deer',\n",
       " 'lazio',\n",
       " 'jamaica',\n",
       " 'creatures',\n",
       " 'demons',\n",
       " 'hsbc',\n",
       " 'procurement',\n",
       " 'manic',\n",
       " 'apacs',\n",
       " 'foo',\n",
       " 'southwest',\n",
       " 'part',\n",
       " 'marchionne',\n",
       " 'maserati',\n",
       " 'petrochemicals',\n",
       " 'after',\n",
       " 'charm',\n",
       " 'gerry',\n",
       " 'inquiries',\n",
       " 'canal',\n",
       " 'bold',\n",
       " 'mothers',\n",
       " 'jain',\n",
       " 'peugeot',\n",
       " 'sim',\n",
       " 'shanghai',\n",
       " 'krivorizhstal',\n",
       " 'iraqis',\n",
       " 'tremors',\n",
       " 'greer',\n",
       " 'fighters',\n",
       " 'bradshaw',\n",
       " 'faulty',\n",
       " 'drilling',\n",
       " 'gammell',\n",
       " 'bombardier',\n",
       " 'commissions',\n",
       " 'nine',\n",
       " 'portishead',\n",
       " 'racketeering',\n",
       " 'savage',\n",
       " 'fda',\n",
       " 'sub',\n",
       " 'serves',\n",
       " 'objections',\n",
       " 'kirchner',\n",
       " 'nogar',\n",
       " 'bishop',\n",
       " 'santander',\n",
       " 'auschwitz',\n",
       " 'calder',\n",
       " 'carmen',\n",
       " 'bribe',\n",
       " 'sumitomo',\n",
       " 'andersen',\n",
       " 'prime',\n",
       " 'pearce',\n",
       " 'riots',\n",
       " 'michel',\n",
       " 'deloitte',\n",
       " 'rand',\n",
       " 'christie',\n",
       " 'osbournes',\n",
       " 'bullock',\n",
       " 'panke',\n",
       " 'collector',\n",
       " 'tata',\n",
       " 'wang',\n",
       " 'winn',\n",
       " 'dixie',\n",
       " 'reinsurance',\n",
       " 'rupiah',\n",
       " 'maloney',\n",
       " 'baht',\n",
       " 'lr',\n",
       " 'valentine',\n",
       " 'lacroix',\n",
       " 'stalking',\n",
       " 'moreno',\n",
       " 'turkmenistan',\n",
       " 'front',\n",
       " 'ditch',\n",
       " 'bsa',\n",
       " 'cantona',\n",
       " 'soros',\n",
       " 'inspectors',\n",
       " 'presumption',\n",
       " 'resigning',\n",
       " 'cox',\n",
       " 'hatred',\n",
       " 'canterbury',\n",
       " 'birchfield',\n",
       " 'falic',\n",
       " 'mclennan',\n",
       " 'jerzy',\n",
       " 'yeo',\n",
       " 'scholl',\n",
       " 'leaflets',\n",
       " 'cube',\n",
       " 'blitz',\n",
       " 'punters',\n",
       " 'bondi',\n",
       " 'gethin',\n",
       " 'semitism',\n",
       " 'surfing',\n",
       " 'kluivert',\n",
       " 'florin',\n",
       " 'cellnet',\n",
       " 'dergarabedian',\n",
       " 'meadows',\n",
       " 'companion',\n",
       " 'diallers',\n",
       " 'webb',\n",
       " 'bethnal',\n",
       " 'aberdeen',\n",
       " 'mines',\n",
       " 'mongrel',\n",
       " 'ranieri',\n",
       " 'ivory',\n",
       " 'roaming',\n",
       " 'fleeing',\n",
       " 'rca',\n",
       " 'postcards',\n",
       " 'bach',\n",
       " 'gwent',\n",
       " 'thigh',\n",
       " 'butragueno',\n",
       " 'redwood',\n",
       " 'fao',\n",
       " 'saic',\n",
       " 'grass',\n",
       " 'logo',\n",
       " 'ginepri',\n",
       " 'sven',\n",
       " 'goran',\n",
       " 'rupee',\n",
       " 'cadillac',\n",
       " 'cherie',\n",
       " 'shark',\n",
       " 'rowling',\n",
       " 'minis',\n",
       " 'ampas',\n",
       " 'shrunk',\n",
       " 'vw',\n",
       " 'overly',\n",
       " 'breweries',\n",
       " 'bent',\n",
       " 'kilgore',\n",
       " 'cheadle',\n",
       " 'heirs',\n",
       " 'boogeyman',\n",
       " 'sonia',\n",
       " 'diploma',\n",
       " 'invite',\n",
       " 'hertfordshire',\n",
       " 'kenzie',\n",
       " 'internment',\n",
       " 'hmv',\n",
       " 'finalists',\n",
       " 'burma',\n",
       " 'anglo',\n",
       " 'committees',\n",
       " 'mars',\n",
       " 'napier',\n",
       " 'sunset',\n",
       " 'harmony',\n",
       " 'outsider',\n",
       " 'cj',\n",
       " 'manhunt',\n",
       " 'voyce',\n",
       " 'repaid',\n",
       " 'truancy',\n",
       " 'phantom',\n",
       " 'rigging',\n",
       " 'rwandan',\n",
       " 'morrissey',\n",
       " 'sfa',\n",
       " 'disgrace',\n",
       " 'snoop',\n",
       " 'communicator',\n",
       " 'registry',\n",
       " 'murders',\n",
       " 'polar',\n",
       " 'blears',\n",
       " 'palestinians',\n",
       " 'civic',\n",
       " 'swindon',\n",
       " 'unfavourable',\n",
       " 'moazzam',\n",
       " 'potato',\n",
       " 'whim',\n",
       " 'wada',\n",
       " 'hoon',\n",
       " 'suppose',\n",
       " 'calvisano',\n",
       " 'eight',\n",
       " 'stephenson',\n",
       " 'obscene',\n",
       " 'pascal',\n",
       " 'leak',\n",
       " 'angolan',\n",
       " 'mw',\n",
       " 'turnbull',\n",
       " 'highlands',\n",
       " 'longbridge',\n",
       " 'fatal',\n",
       " 'kruger',\n",
       " 'ferry',\n",
       " 'devil',\n",
       " 'masai',\n",
       " 'waits',\n",
       " 'cornwall',\n",
       " 'attacker',\n",
       " 'ronnies',\n",
       " 'physio',\n",
       " 'nem',\n",
       " 'prototypes',\n",
       " 'hassan',\n",
       " 'takenaka',\n",
       " 'ids',\n",
       " 'tracked',\n",
       " 'bonuses',\n",
       " 'gazpromneft',\n",
       " 'emcees',\n",
       " 'caballeros',\n",
       " 'miner',\n",
       " 'uranium',\n",
       " 'monsters',\n",
       " 'sigarchi',\n",
       " 'interbrew',\n",
       " 'cannabis',\n",
       " 'brizzel',\n",
       " 'aspiring',\n",
       " 'bba',\n",
       " 'mojtaba',\n",
       " 'timberlake',\n",
       " 'lazy',\n",
       " 'dvr',\n",
       " 'rubin',\n",
       " 'clyde',\n",
       " 'dab',\n",
       " 'wap',\n",
       " 'brc',\n",
       " 'aliens',\n",
       " 'madagascar',\n",
       " 'broadreach',\n",
       " 'pollard',\n",
       " 'em',\n",
       " 'doctorow',\n",
       " 'remittances',\n",
       " 'hayward',\n",
       " 'mcmanaman',\n",
       " 'prediction',\n",
       " 'weston',\n",
       " 'golf',\n",
       " 'armes',\n",
       " 'goldeneye',\n",
       " 'trotter',\n",
       " 'preachers',\n",
       " 'bud',\n",
       " 'insee',\n",
       " 'priest',\n",
       " 'ash',\n",
       " 'pessimistic',\n",
       " 'comfort',\n",
       " 'bureaucratic',\n",
       " 'chernin',\n",
       " 'inkjet',\n",
       " 'wrongful',\n",
       " 'termination',\n",
       " 'berlinale',\n",
       " 'heats',\n",
       " 'boundaries',\n",
       " 'lucent',\n",
       " 'ev',\n",
       " 'gigabit',\n",
       " 'sexism',\n",
       " 'zen',\n",
       " 'mains',\n",
       " 'katherine',\n",
       " 'ipo',\n",
       " 'cafe',\n",
       " 'winemaker',\n",
       " 'dunn',\n",
       " 'osi',\n",
       " 'electrodes',\n",
       " 'always',\n",
       " 'fade',\n",
       " 'crossover',\n",
       " 'vcr',\n",
       " 'jesus',\n",
       " 'britannia',\n",
       " 'psps',\n",
       " 'invasive',\n",
       " 'fisher',\n",
       " 'guinness',\n",
       " 'pouwelse',\n",
       " 'teraflops',\n",
       " 'supercomputing',\n",
       " 'kraft',\n",
       " 'paparazzi',\n",
       " 'longhorn',\n",
       " 'fraudsters',\n",
       " 'illiterate',\n",
       " 'probation',\n",
       " 'bryson',\n",
       " 'korn',\n",
       " 'cameroon',\n",
       " 'fares',\n",
       " 'ami',\n",
       " 'marlin',\n",
       " 'jugnot',\n",
       " 'paintings',\n",
       " 'topper',\n",
       " 'strachan',\n",
       " 'fundamentals',\n",
       " 'nm',\n",
       " 'erfurt',\n",
       " 'prozac',\n",
       " 'thoday',\n",
       " 'capella',\n",
       " 'springer',\n",
       " 'friendlies',\n",
       " 'kosslick',\n",
       " 'eerdekens',\n",
       " 'michigan',\n",
       " 'scrolling',\n",
       " 'spiritual',\n",
       " 'fearsome',\n",
       " 'savoy',\n",
       " 'amplify',\n",
       " 'fibre',\n",
       " 'optic',\n",
       " 'cancellations',\n",
       " 'electrons',\n",
       " 'haul',\n",
       " 'surrey',\n",
       " 'danton',\n",
       " 'postings',\n",
       " 'gasp',\n",
       " 'oxley',\n",
       " 'dre',\n",
       " 'shepherd',\n",
       " 'hasselbaink',\n",
       " 'dibaba',\n",
       " 'sarbanes',\n",
       " 'donaldson',\n",
       " 'altria',\n",
       " 'megabytes',\n",
       " 'diving',\n",
       " 'converting',\n",
       " 'scripts',\n",
       " 'journalism',\n",
       " 'hilton',\n",
       " 'huw',\n",
       " 'massenet',\n",
       " 'baggage',\n",
       " 'battlefront',\n",
       " 'sage',\n",
       " 'pesos',\n",
       " 'detector',\n",
       " 'nighty',\n",
       " 'dein',\n",
       " 'down',\n",
       " 'worsen',\n",
       " 'pal',\n",
       " 'hijacked',\n",
       " 'alright',\n",
       " 'suite',\n",
       " 'hodge',\n",
       " 'graduated',\n",
       " 'wanadoo',\n",
       " 'costed',\n",
       " 'bland',\n",
       " 'shadowcrew',\n",
       " 'milder',\n",
       " 'disk',\n",
       " 'malfunction',\n",
       " 'bombings',\n",
       " 'beam',\n",
       " 'simulator',\n",
       " 'popping',\n",
       " 'graphically',\n",
       " 'civilians',\n",
       " 'maiden',\n",
       " 'dictionary',\n",
       " 'rennard',\n",
       " 'lightbody',\n",
       " 'intact',\n",
       " 'akamai',\n",
       " 'humanoid',\n",
       " 'grieve',\n",
       " 'formation',\n",
       " 'textures',\n",
       " 'relayed',\n",
       " 'capgemini',\n",
       " 'tagged',\n",
       " 'greenfield',\n",
       " 'sin',\n",
       " 'manson',\n",
       " 'powerbook',\n",
       " 'streamcast',\n",
       " 'grokster',\n",
       " 'clearswift',\n",
       " 'disagreed',\n",
       " 'warmly',\n",
       " 'ghz',\n",
       " 'springing',\n",
       " 'dealers',\n",
       " 'photographer',\n",
       " 'pbs',\n",
       " 'irritating',\n",
       " 'pager',\n",
       " 'livermore',\n",
       " 'mapping',\n",
       " 'powerpage',\n",
       " 'likeable',\n",
       " 'interpreter',\n",
       " 'ofsted',\n",
       " 'dilemma',\n",
       " 'fingerprinting',\n",
       " 'millionaires',\n",
       " ...]"
      ]
     },
     "execution_count": 34,
     "metadata": {},
     "output_type": "execute_result"
    }
   ],
   "source": [
    "# see what are the words that been get rid off when we do the fliter\n",
    "[w for w in bbcW2v_wv.index_to_key if w not in docs_dict.values()]"
   ]
  },
  {
   "cell_type": "code",
   "execution_count": 35,
   "metadata": {
    "pycharm": {
     "name": "#%%\n"
    }
   },
   "outputs": [
    {
     "data": {
      "text/plain": [
       "8647"
      ]
     },
     "execution_count": 35,
     "metadata": {},
     "output_type": "execute_result"
    }
   ],
   "source": [
    "len(docs_dict.keys())"
   ]
  },
  {
   "cell_type": "markdown",
   "metadata": {
    "pycharm": {
     "name": "#%% md\n"
    }
   },
   "source": [
    "This process yields a vocabulary with 8647 words. \n",
    "Then we use Gensim again to create a bag-of-words representation of each document, i.e., the TF-IDF vector for each document.\n"
   ]
  },
  {
   "cell_type": "code",
   "execution_count": 36,
   "metadata": {
    "pycharm": {
     "name": "#%%\n"
    }
   },
   "outputs": [
    {
     "name": "stderr",
     "output_type": "stream",
     "text": [
      "2021-06-03 16:25:18,983 : INFO : collecting document frequencies\n",
      "2021-06-03 16:25:18,983 : INFO : PROGRESS: processing document #0\n",
      "2021-06-03 16:25:19,035 : INFO : TfidfModel lifecycle event {'msg': 'calculated IDF weights for 2225 documents and 8647 features (264775 matrix non-zeros)', 'datetime': '2021-06-03T16:25:19.035671', 'gensim': '4.0.1', 'python': '3.8.5 (default, Sep  4 2020, 02:22:02) \\n[Clang 10.0.0 ]', 'platform': 'macOS-10.14.6-x86_64-i386-64bit', 'event': 'initialize'}\n"
     ]
    }
   ],
   "source": [
    "import numpy as np\n",
    "from gensim.matutils import sparse2full\n",
    "\n",
    "docs_corpus = [docs_dict.doc2bow(doc) for doc in df['tk_text']] # convert corpus to Bag of Word format\n",
    "model_tfidf = TfidfModel(docs_corpus, id2word=docs_dict) # fit the tfidf model\n",
    "# apply model to the list of corpus document, \n",
    "# so each document is a list of tuples, (word_index, weight) for each word appears in the document\n",
    "docs_tfidf  = model_tfidf[docs_corpus]"
   ]
  },
  {
   "cell_type": "code",
   "execution_count": 37,
   "metadata": {
    "pycharm": {
     "name": "#%%\n"
    }
   },
   "outputs": [
    {
     "data": {
      "text/plain": [
       "[(0, 0.037585188351134724),\n",
       " (2, 0.015923414755672056),\n",
       " (7, 0.05822225982983302),\n",
       " (12, 0.07896578001299367),\n",
       " (25, 0.026077652797470197),\n",
       " (29, 0.03041070091465139),\n",
       " (31, 0.019897206572352263),\n",
       " (41, 0.031204750199672046),\n",
       " (44, 0.01909468815668866),\n",
       " (46, 0.036138725342624044),\n",
       " (52, 0.02219809207349025),\n",
       " (57, 0.016992806344911324),\n",
       " (60, 0.05954653921789411),\n",
       " (68, 0.012216591043295186),\n",
       " (69, 0.10588382441880882),\n",
       " (78, 0.05898368572990021),\n",
       " (86, 0.05683265479463029),\n",
       " (87, 0.024709557351865957),\n",
       " (96, 0.02458108414087194),\n",
       " (109, 0.06153004407372585),\n",
       " (116, 0.03555926324639878),\n",
       " (122, 0.022408776361915007),\n",
       " (123, 0.05898368572990021),\n",
       " (124, 0.0555896107326925),\n",
       " (125, 0.037331457999419726),\n",
       " (126, 0.03953280033983175),\n",
       " (127, 0.052494235401860385),\n",
       " (128, 0.04262817567066388),\n",
       " (129, 0.20575750040328514),\n",
       " (130, 0.10893028119951251),\n",
       " (131, 0.10910346014473972),\n",
       " (132, 0.04477920660593382),\n",
       " (133, 0.1359508382290516),\n",
       " (134, 0.04501755828074591),\n",
       " (135, 0.051619909055289466),\n",
       " (136, 0.06376736576231068),\n",
       " (137, 0.035693464702983485),\n",
       " (138, 0.03378152860063914),\n",
       " (139, 0.046022250667871585),\n",
       " (140, 0.04833164648597226),\n",
       " (141, 0.31154221653184877),\n",
       " (142, 0.05204897476221983),\n",
       " (143, 0.0679754191145258),\n",
       " (144, 0.0679754191145258),\n",
       " (145, 0.04950538907134005),\n",
       " (146, 0.02364001651428702),\n",
       " (147, 0.04150370553772763),\n",
       " (148, 0.03526439899605313),\n",
       " (149, 0.10893028119951251),\n",
       " (150, 0.19920004457835355),\n",
       " (151, 0.04712053209609927),\n",
       " (152, 0.04968146056734579),\n",
       " (153, 0.06501040982424845),\n",
       " (154, 0.050044504800214856),\n",
       " (155, 0.053940698410371066),\n",
       " (156, 0.04409174964174871),\n",
       " (157, 0.05120590143161172),\n",
       " (158, 0.0349525392539942),\n",
       " (159, 0.03999552657352336),\n",
       " (160, 0.037585188351134724),\n",
       " (161, 0.023483749241316344),\n",
       " (162, 0.0697940898566589),\n",
       " (163, 0.04865489976501212),\n",
       " (164, 0.035803214393258884),\n",
       " (165, 0.056194769359789024),\n",
       " (166, 0.04833164648597226),\n",
       " (167, 0.0697940898566589),\n",
       " (168, 0.045762943380752895),\n",
       " (169, 0.04741185570307433),\n",
       " (170, 0.030693301410968935),\n",
       " (171, 0.04064215451089644),\n",
       " (172, 0.021229678291898386),\n",
       " (173, 0.06501040982424845),\n",
       " (174, 0.04454557507786474),\n",
       " (175, 0.06501040982424845),\n",
       " (176, 0.05683265479463029),\n",
       " (177, 0.0455092130290379),\n",
       " (178, 0.04097926334834244),\n",
       " (179, 0.04168383127510168),\n",
       " (180, 0.050044504800214856),\n",
       " (181, 0.027736239582512378),\n",
       " (182, 0.02387836818909912),\n",
       " (183, 0.0390875397001912),\n",
       " (184, 0.03660145157631564),\n",
       " (185, 0.042826466163938544),\n",
       " (186, 0.04224132112370549),\n",
       " (187, 0.0382444663695831),\n",
       " (188, 0.09542111073889985),\n",
       " (189, 0.09367245804575802),\n",
       " (190, 0.12323266965408147),\n",
       " (191, 0.029536374568080483),\n",
       " (192, 0.1395881797133178),\n",
       " (193, 0.0697940898566589),\n",
       " (194, 0.03810963054051992),\n",
       " (195, 0.06501040982424845),\n",
       " (196, 0.04898725995814894),\n",
       " (197, 0.04865489976501212),\n",
       " (198, 0.06067199043147854),\n",
       " (199, 0.047710555369449924),\n",
       " (200, 0.0434421540256713),\n",
       " (201, 0.06640001485945118),\n",
       " (202, 0.043654736472997564),\n",
       " (203, 0.06376736576231068),\n",
       " (204, 0.033874793960850386),\n",
       " (205, 0.05295696163555198),\n",
       " (206, 0.05343857979742257),\n",
       " (207, 0.12753473152462136),\n",
       " (208, 0.046558616058500826),\n",
       " (209, 0.031896688270435104),\n",
       " (210, 0.05204897476221983),\n",
       " (211, 0.06501040982424845),\n",
       " (212, 0.052494235401860385),\n",
       " (213, 0.04015389145635409),\n",
       " (214, 0.0555896107326925),\n",
       " (215, 0.04683622902287901),\n",
       " (216, 0.03660145157631564),\n",
       " (217, 0.035370211423943636),\n",
       " (218, 0.0697940898566589),\n",
       " (219, 0.06501040982424845),\n",
       " (220, 0.032716323785285675),\n",
       " (221, 0.03784449563825342),\n",
       " (222, 0.06271009062042716),\n",
       " (223, 0.019586342904980642),\n",
       " (224, 0.07464918172867437),\n",
       " (225, 0.05683265479463029),\n",
       " (226, 0.03953280033983175),\n",
       " (227, 0.06501040982424845),\n",
       " (228, 0.022989718656810227),\n",
       " (229, 0.06376736576231068),\n",
       " (230, 0.06376736576231068),\n",
       " (231, 0.025465243525900776),\n",
       " (232, 0.0455092130290379),\n",
       " (233, 0.03708306973818623),\n",
       " (234, 0.04767661401512337),\n",
       " (235, 0.03999552657352336),\n",
       " (236, 0.031279658429900145),\n",
       " (237, 0.030909784670573034),\n",
       " (238, 0.045260824767804395),\n",
       " (239, 0.06264289562937442),\n",
       " (240, 0.04898725995814894),\n",
       " (241, 0.034352511310443146),\n",
       " (242, 0.054465140599756254),\n",
       " (243, 0.05979766408490764),\n",
       " (244, 0.052494235401860385),\n",
       " (245, 0.031204750199672046),\n",
       " (246, 0.1300208196484969),\n",
       " (247, 0.06640001485945118),\n",
       " (248, 0.028423696546697474),\n",
       " (249, 0.06640001485945118),\n",
       " (250, 0.03280150831872427),\n",
       " (251, 0.07194512079192884),\n",
       " (252, 0.02627266561142754),\n",
       " (253, 0.03280150831872427),\n",
       " (254, 0.046558616058500826),\n",
       " (255, 0.0973931984438348),\n",
       " (256, 0.026621892150005644),\n",
       " (257, 0.05177162212893831),\n",
       " (258, 0.04168383127510168),\n",
       " (259, 0.03306081560584296),\n",
       " (260, 0.03166150427093451),\n",
       " (261, 0.05501398405249718),\n",
       " (262, 0.04683622902287901),\n",
       " (263, 0.022302963934024506),\n",
       " (264, 0.02598134200445247),\n",
       " (265, 0.044914693749480476),\n",
       " (266, 0.054465140599756254),\n",
       " (267, 0.053845048825633214),\n",
       " (268, 0.04833164648597226),\n",
       " (269, 0.0697940898566589),\n",
       " (270, 0.10247729110221192),\n",
       " (271, 0.04628738557013808),\n",
       " (272, 0.06501040982424845),\n",
       " (273, 0.03602582489612032),\n",
       " (274, 0.022841779331230258),\n",
       " (275, 0.0697940898566589),\n",
       " (276, 0.04865489976501212),\n",
       " (277, 0.029536374568080483),\n",
       " (278, 0.03150727976597636),\n",
       " (279, 0.04477920660593382),\n",
       " (280, 0.06509555593401853),\n",
       " (281, 0.042052548990468556),\n",
       " (282, 0.09003511656149182),\n",
       " (283, 0.057507010139893365),\n",
       " (284, 0.03999552657352336),\n",
       " (285, 0.0555896107326925),\n",
       " (286, 0.0434421540256713),\n",
       " (287, 0.051619909055289466),\n",
       " (288, 0.02848283454834894),\n",
       " (289, 0.035803214393258884),\n",
       " (290, 0.03547698144337939),\n",
       " (291, 0.06096143792728534),\n",
       " (292, 0.08565293232787709),\n",
       " (293, 0.1395881797133178),\n",
       " (294, 0.04015389145635409),\n",
       " (295, 0.03558472654497834),\n",
       " (296, 0.03166150427093451),\n",
       " (297, 0.07194512079192884),\n",
       " (298, 0.032973745051038866),\n",
       " (299, 0.09936292113469158),\n",
       " (300, 0.054465140599756254),\n",
       " (301, 0.02364001651428702),\n",
       " (302, 0.16530515424370898),\n",
       " (303, 0.05683265479463029),\n",
       " (304, 0.028190065018628405),\n",
       " (305, 0.09475242004750833),\n",
       " (306, 0.03923410067345617),\n",
       " (307, 0.0697940898566589),\n",
       " (308, 0.0697940898566589),\n",
       " (309, 0.0334156696220507),\n",
       " (310, 0.042052548990468556),\n",
       " (311, 0.04115150008065703),\n",
       " (312, 0.03396880247917512),\n",
       " (313, 0.1396758481755025),\n",
       " (314, 0.031896688270435104),\n",
       " (315, 0.12672396337111647),\n",
       " (316, 0.0347491203074213),\n",
       " (317, 0.08373349954119338),\n",
       " (318, 0.04064215451089644),\n",
       " (319, 0.04477920660593382),\n",
       " (320, 0.06890084128209142),\n",
       " (321, 0.03660145157631564),\n",
       " (322, 0.024623753289106102),\n",
       " (323, 0.047710555369449924),\n",
       " (324, 0.0697940898566589),\n",
       " (325, 0.03445042064104571),\n",
       " (326, 0.04186674977059669),\n",
       " (327, 0.05979766408490764),\n",
       " (328, 0.05041907615332366),\n",
       " (329, 0.05120590143161172),\n",
       " (330, 0.06181956934114607),\n",
       " (331, 0.04431648037224221),\n",
       " (332, 0.031204750199672046),\n",
       " (333, 0.029279886061676866),\n",
       " (334, 0.02784806986650215),\n",
       " (335, 0.024203851082929096),\n",
       " (336, 0.04865489976501212),\n",
       " (337, 0.0697940898566589),\n",
       " (338, 0.1395881797133178),\n",
       " (339, 0.030693301410968935),\n",
       " (340, 0.046022250667871585),\n",
       " (341, 0.10333135597504313),\n",
       " (342, 0.04898725995814894),\n",
       " (343, 0.034063566094087325),\n",
       " (344, 0.03363011047376404),\n",
       " (345, 0.026826191741994115),\n",
       " (346, 0.04168383127510168),\n",
       " (347, 0.03602582489612032),\n",
       " (348, 0.0697940898566589),\n",
       " (349, 0.04575718122843966),\n",
       " (350, 0.06377551858615775),\n",
       " (351, 0.028497498739264524)]"
      ]
     },
     "execution_count": 37,
     "metadata": {},
     "output_type": "execute_result"
    }
   ],
   "source": [
    "# see for example, the tfidf weights of the words in the 2nd document\n",
    "docs_tfidf[1]"
   ]
  },
  {
   "cell_type": "markdown",
   "metadata": {
    "pycharm": {
     "name": "#%% md\n"
    }
   },
   "source": [
    "We can then transfer `docs_tfidf` to matrix form. `vstack` function from numpy can stack arrays in sequence vertically (row wise), and `sparse2full` function convert a document in sparse document format (in size of the number of words in the document) into a dense numpy array (of size of the vocabulary)"
   ]
  },
  {
   "cell_type": "code",
   "execution_count": 38,
   "metadata": {
    "pycharm": {
     "name": "#%%\n"
    }
   },
   "outputs": [],
   "source": [
    "docs_vecs   = np.vstack([sparse2full(c, len(docs_dict)) for c in docs_tfidf])"
   ]
  },
  {
   "cell_type": "code",
   "execution_count": 39,
   "metadata": {
    "pycharm": {
     "name": "#%%\n"
    }
   },
   "outputs": [
    {
     "data": {
      "text/plain": [
       "(2225, 8647)"
      ]
     },
     "execution_count": 39,
     "metadata": {},
     "output_type": "execute_result"
    }
   ],
   "source": [
    "docs_vecs.shape"
   ]
  },
  {
   "cell_type": "code",
   "execution_count": 40,
   "metadata": {
    "pycharm": {
     "name": "#%%\n"
    }
   },
   "outputs": [
    {
     "data": {
      "text/plain": [
       "array([0.05752827, 0.14894336, 0.07311762, ..., 0.        , 0.        ,\n",
       "       0.        ], dtype=float32)"
      ]
     },
     "execution_count": 40,
     "metadata": {},
     "output_type": "execute_result"
    }
   ],
   "source": [
    "docs_vecs[0]"
   ]
  },
  {
   "cell_type": "markdown",
   "metadata": {
    "pycharm": {
     "name": "#%% md\n"
    }
   },
   "source": [
    "The result, `docs_vecs`, is a matrix with 2225 rows (docs) and 8647 columns (TF-IDF terms). "
   ]
  },
  {
   "cell_type": "markdown",
   "metadata": {
    "pycharm": {
     "name": "#%% md\n"
    }
   },
   "source": [
    "Let's see the performance of this TF-IDF vector:"
   ]
  },
  {
   "cell_type": "code",
   "execution_count": 41,
   "metadata": {
    "pycharm": {
     "name": "#%%\n"
    }
   },
   "outputs": [
    {
     "data": {
      "text/plain": [
       "0.9782312925170068"
      ]
     },
     "execution_count": 41,
     "metadata": {},
     "output_type": "execute_result"
    }
   ],
   "source": [
    "# creating training and test split\n",
    "X_train, X_test, y_train, y_test,train_indices,test_indices = train_test_split(docs_vecs, df['Category'], list(range(0,len(df))),test_size=0.33, random_state=seed)\n",
    "\n",
    "model = LogisticRegression(max_iter = 1000,random_state=seed)\n",
    "model.fit(X_train, y_train)\n",
    "model.score(X_test, y_test)"
   ]
  },
  {
   "cell_type": "markdown",
   "metadata": {
    "pycharm": {
     "name": "#%% md\n"
    }
   },
   "source": [
    "Wow~ quite good!\n",
    "\n",
    "Now try to use this tfidf vector to create the weighted document embeddings.\n",
    "\n",
    "Be careful, the vocabulary are different, for instance, "
   ]
  },
  {
   "cell_type": "code",
   "execution_count": 42,
   "metadata": {
    "pycharm": {
     "name": "#%%\n"
    }
   },
   "outputs": [
    {
     "data": {
      "text/plain": [
       "9998"
      ]
     },
     "execution_count": 42,
     "metadata": {},
     "output_type": "execute_result"
    }
   ],
   "source": [
    "# see how many words are encoded in our in-house Word2Vec model?\n",
    "len(bbcW2v_wv.index_to_key)"
   ]
  },
  {
   "cell_type": "code",
   "execution_count": 43,
   "metadata": {
    "pycharm": {
     "name": "#%%\n"
    }
   },
   "outputs": [
    {
     "data": {
      "text/plain": [
       "8647"
      ]
     },
     "execution_count": 43,
     "metadata": {},
     "output_type": "execute_result"
    }
   ],
   "source": [
    "# how about the tfidf vector?\n",
    "len(docs_dict)"
   ]
  },
  {
   "cell_type": "markdown",
   "metadata": {
    "pycharm": {
     "name": "#%% md\n"
    }
   },
   "source": [
    "We only care about words that are in both vocabulary. \n",
    "In the following, we creates the word embeddings arrays for words exists in docs_dict"
   ]
  },
  {
   "cell_type": "code",
   "execution_count": 44,
   "metadata": {
    "pycharm": {
     "name": "#%%\n"
    }
   },
   "outputs": [],
   "source": [
    "word_emb_vecs = np.vstack([bbcW2v_wv[docs_dict[i]] for i in range(len(docs_dict)) if docs_dict[i] in bbcW2v_wv.index_to_key])"
   ]
  },
  {
   "cell_type": "code",
   "execution_count": 45,
   "metadata": {
    "pycharm": {
     "name": "#%%\n"
    }
   },
   "outputs": [
    {
     "data": {
      "text/plain": [
       "(8647, 100)"
      ]
     },
     "execution_count": 45,
     "metadata": {},
     "output_type": "execute_result"
    }
   ],
   "source": [
    "word_emb_vecs.shape"
   ]
  },
  {
   "cell_type": "code",
   "execution_count": 46,
   "metadata": {
    "pycharm": {
     "name": "#%%\n"
    }
   },
   "outputs": [
    {
     "data": {
      "text/plain": [
       "array([-0.2929201 ,  0.44457227,  0.41661334, -0.00993503,  0.12797031,\n",
       "       -0.6215264 ,  0.14019178,  0.5527939 , -0.46134558, -0.05682324,\n",
       "       -0.16148178, -0.62420964,  0.15920155,  0.23741966,  0.07914773,\n",
       "       -0.2960291 , -0.16056931, -0.18296768, -0.06547142, -0.59747607,\n",
       "       -0.16486514,  0.3039937 ,  0.01969554, -0.44235092, -0.03527321,\n",
       "       -0.10167501, -0.00954183, -0.37184316, -0.18727455, -0.18727255,\n",
       "        0.5133642 ,  0.11516113,  0.3015071 ,  0.3856861 , -0.2136822 ,\n",
       "        0.33342192,  0.60101795, -0.14174055, -0.43594658, -0.36434993,\n",
       "        0.3322594 , -0.31728825, -0.2502729 ,  0.2547167 , -0.0708171 ,\n",
       "       -0.13206714, -0.3474598 ,  0.1698129 ,  0.07031036,  0.03475913,\n",
       "       -0.3329973 , -0.3925153 , -0.07029969,  0.075527  , -0.17690136,\n",
       "        0.18067658,  0.43381363, -0.07157449, -0.03161514,  0.13418654,\n",
       "        0.31219614, -0.05191116, -0.0993911 , -0.449641  , -0.16066386,\n",
       "       -0.13596892, -0.33118725,  0.16445424, -0.2921404 ,  0.36270338,\n",
       "       -0.0852743 ,  0.48753333,  0.153283  , -0.20495962,  0.28309378,\n",
       "        0.17066354,  0.1963516 , -0.11029612, -0.5751975 , -0.3239089 ,\n",
       "        0.20716003, -0.1405657 ,  0.30300057,  0.3402568 ,  0.11191732,\n",
       "        0.11272526, -0.41975987, -0.03048764,  0.36542475,  0.6212939 ,\n",
       "        0.60987604,  0.14558022,  0.03830638,  0.08812808,  0.10725916,\n",
       "        0.13000537,  0.60036117, -0.23946732,  0.3608224 ,  0.4683849 ],\n",
       "      dtype=float32)"
      ]
     },
     "execution_count": 46,
     "metadata": {},
     "output_type": "execute_result"
    }
   ],
   "source": [
    "word_emb_vecs[0]"
   ]
  },
  {
   "cell_type": "markdown",
   "metadata": {
    "pycharm": {
     "name": "#%% md\n"
    }
   },
   "source": [
    "Now we can do the dot product of the two vectors and get our tfidf weighted document embeddings:"
   ]
  },
  {
   "cell_type": "code",
   "execution_count": 47,
   "metadata": {
    "pycharm": {
     "name": "#%%\n"
    }
   },
   "outputs": [],
   "source": [
    "tfidf_docs_emb = np.dot(docs_vecs, word_emb_vecs) "
   ]
  },
  {
   "cell_type": "code",
   "execution_count": 48,
   "metadata": {
    "pycharm": {
     "name": "#%%\n"
    }
   },
   "outputs": [
    {
     "data": {
      "text/plain": [
       "0.9034013605442177"
      ]
     },
     "execution_count": 48,
     "metadata": {},
     "output_type": "execute_result"
    }
   ],
   "source": [
    "# creating training and test split\n",
    "X_train, X_test, y_train, y_test,train_indices,test_indices = train_test_split(tfidf_docs_emb, df['Category'], list(range(0,len(df))),test_size=0.33, random_state=seed)\n",
    "\n",
    "model = LogisticRegression(max_iter = 1000,random_state=seed)\n",
    "model.fit(X_train, y_train)\n",
    "model.score(X_test, y_test)"
   ]
  },
  {
   "cell_type": "markdown",
   "metadata": {
    "pycharm": {
     "name": "#%% md\n"
    }
   },
   "source": [
    "Not much difference from the one we did ourselves (refer to the performance of the `Weighted In-house Word2Vec`.\n",
    "Comparing the performance of the tfidf weighted document emeddings with our in-house built Word2Vec and the non-weighted on (referring to Section 2), adding the tfidf weight indeed worsen the results in this example. \n",
    "Indeed, in this example, the most simply bag-of-word tfidf vector representatino words much better, i.e., 0.978 accuracy 😆\n",
    "\n",
    "> **Discussion**\n",
    "Does adding the tfidf weight to construct document embedding and/or having a more complicated model guarantees higher performance?\n"
   ]
  },
  {
   "cell_type": "markdown",
   "metadata": {
    "pycharm": {
     "name": "#%% md\n"
    }
   },
   "source": [
    "##  5. Doc2Vec Model\n",
    "\n",
    "In this very last section, we are going to quickly demonstrate the document to vector model implemented by Genism. \n",
    "Instead of suming up individual word embeddings to construct a document embedding, we can directly use the `Doc2Vec` model from Genism to directly generate document embedding."
   ]
  },
  {
   "cell_type": "code",
   "execution_count": 49,
   "metadata": {
    "pycharm": {
     "name": "#%%\n"
    }
   },
   "outputs": [],
   "source": [
    "from gensim.models.doc2vec import Doc2Vec, TaggedDocument\n",
    "# creates a tagged version of documents using the indexes of document as the tags, \n",
    "# prepare as input to the Doc2Vec model\n",
    "documents = [TaggedDocument(doc, [i]) for i, doc in enumerate(df['tk_text'])] "
   ]
  },
  {
   "cell_type": "code",
   "execution_count": 50,
   "metadata": {
    "pycharm": {
     "name": "#%%\n"
    }
   },
   "outputs": [
    {
     "data": {
      "text/plain": [
       "TaggedDocument(words=['doherty', 'on-stage', 'fight', 'rock', 'singer', 'pete', 'doherty', 'involved', 'fight', \"band's\", 'guitarist', 'biggest', 'gig', 'date', 'babyshambles', 'played', 'fans', \"london's\", 'brixton', 'academy', 'tuesday', 'libertines', 'singer', 'traded', 'blows', 'guitarist', 'patrick', 'walden', 'separated', 'bundled', 'stage', 'returning', 'end', 'set', 'earlier', 'held', 'audience', 'overcrowding', 'monday', 'doherty', 'faced', 'blackmail', 'robbery', 'charges', 'court', 'denies', 'bail', 'judge', 'agreed', 'extend', 'gmt', 'curfew', 'deadline', 'hours', 'play', 'brixton', 'gig', 'babyshambles', 'formed', 'acrimonious', 'departure', 'libertines', 'played', 'warm-up', 'garage', 'north', 'london', 'monday', 'tuesday', 'doherty', 'bandmates', 'introduced', 'crowd', 'mick', 'jones', 'clash', 'guitarist', 'produced', 'second', 'album', 'babyshambles', 'took', 'stage', 'reception', 'gmt', 'launching', 'single', 'reached', 'number', 'december', 'group', 'stop', 'song', 'persuade', 'fans', 'push', 'forward', 'allow', 'security', 'guards', 'pull', 'people', 'crush', 'doherty', 'appealed', 'fans', 'calm', 'saying', \"there's\", 'people', 'getting', 'hurt', \"you've\", 'got', 'music', 'resumed', 'minutes', 'later', 'songs', 'singer', 'appeared', 'accidentally', 'guitar', 'leading', 'pair', 'trade', 'kicks', 'stepped', 'band', 'left', 'stage', 'returned', 'minutes', 'finished', 'minute', 'performance', 'trouble', 'doherty', 'home', 'midnight', 'observe', 'curfew', 'conditions', 'bail', 'monday', 'judge', 'agreed', 'allow', 'perform', 'condition', 'requests', 'changes', 'bail', 'terms', 'regular', 'singer', 'arrested', 'fellow', 'musician', 'alan', 'wass', 'february', 'alleged', 'dispute', 'max', 'london', 'hotel', 'court', 'april'], tags=[2])"
      ]
     },
     "execution_count": 50,
     "metadata": {},
     "output_type": "execute_result"
    }
   ],
   "source": [
    "documents[2]"
   ]
  },
  {
   "cell_type": "code",
   "execution_count": 51,
   "metadata": {
    "pycharm": {
     "name": "#%%\n"
    }
   },
   "outputs": [
    {
     "name": "stderr",
     "output_type": "stream",
     "text": [
      "2021-06-03 16:25:22,454 : INFO : collecting all words and their counts\n",
      "2021-06-03 16:25:22,455 : INFO : PROGRESS: at example #0, processed 0 words (0/s), 0 word types, 0 tags\n",
      "2021-06-03 16:25:22,526 : INFO : collected 18349 word types and 2225 unique tags from a corpus of 2225 examples and 425145 words\n",
      "2021-06-03 16:25:22,527 : INFO : Creating a fresh vocabulary\n",
      "2021-06-03 16:25:22,560 : INFO : Doc2Vec lifecycle event {'msg': 'effective_min_count=5 retains 10488 unique words (57.15842825222083%% of original 18349, drops 7861)', 'datetime': '2021-06-03T16:25:22.560388', 'gensim': '4.0.1', 'python': '3.8.5 (default, Sep  4 2020, 02:22:02) \\n[Clang 10.0.0 ]', 'platform': 'macOS-10.14.6-x86_64-i386-64bit', 'event': 'prepare_vocab'}\n",
      "2021-06-03 16:25:22,561 : INFO : Doc2Vec lifecycle event {'msg': 'effective_min_count=5 leaves 403917 word corpus (95.00688000564513%% of original 425145, drops 21228)', 'datetime': '2021-06-03T16:25:22.561073', 'gensim': '4.0.1', 'python': '3.8.5 (default, Sep  4 2020, 02:22:02) \\n[Clang 10.0.0 ]', 'platform': 'macOS-10.14.6-x86_64-i386-64bit', 'event': 'prepare_vocab'}\n",
      "2021-06-03 16:25:22,615 : INFO : deleting the raw counts dictionary of 18349 items\n",
      "2021-06-03 16:25:22,617 : INFO : sample=0.001 downsamples 7 most-common words\n",
      "2021-06-03 16:25:22,620 : INFO : Doc2Vec lifecycle event {'msg': 'downsampling leaves estimated 395373.72599799145 word corpus (97.9%% of prior 403917)', 'datetime': '2021-06-03T16:25:22.620118', 'gensim': '4.0.1', 'python': '3.8.5 (default, Sep  4 2020, 02:22:02) \\n[Clang 10.0.0 ]', 'platform': 'macOS-10.14.6-x86_64-i386-64bit', 'event': 'prepare_vocab'}\n",
      "2021-06-03 16:25:22,733 : INFO : estimated required memory for 10488 words and 100 dimensions: 14969400 bytes\n",
      "2021-06-03 16:25:22,734 : INFO : resetting layer weights\n",
      "2021-06-03 16:25:22,742 : INFO : Doc2Vec lifecycle event {'msg': 'training model with 3 workers on 10488 vocabulary and 100 features, using sg=0 hs=0 sample=0.001 negative=5 window=5', 'datetime': '2021-06-03T16:25:22.742587', 'gensim': '4.0.1', 'python': '3.8.5 (default, Sep  4 2020, 02:22:02) \\n[Clang 10.0.0 ]', 'platform': 'macOS-10.14.6-x86_64-i386-64bit', 'event': 'train'}\n",
      "2021-06-03 16:25:23,098 : INFO : worker thread finished; awaiting finish of 2 more threads\n",
      "2021-06-03 16:25:23,102 : INFO : worker thread finished; awaiting finish of 1 more threads\n",
      "2021-06-03 16:25:23,116 : INFO : worker thread finished; awaiting finish of 0 more threads\n",
      "2021-06-03 16:25:23,117 : INFO : EPOCH - 1 : training on 425145 raw words (397674 effective words) took 0.4s, 1068065 effective words/s\n",
      "2021-06-03 16:25:23,472 : INFO : worker thread finished; awaiting finish of 2 more threads\n",
      "2021-06-03 16:25:23,474 : INFO : worker thread finished; awaiting finish of 1 more threads\n",
      "2021-06-03 16:25:23,491 : INFO : worker thread finished; awaiting finish of 0 more threads\n",
      "2021-06-03 16:25:23,492 : INFO : EPOCH - 2 : training on 425145 raw words (397588 effective words) took 0.4s, 1067124 effective words/s\n",
      "2021-06-03 16:25:23,846 : INFO : worker thread finished; awaiting finish of 2 more threads\n",
      "2021-06-03 16:25:23,850 : INFO : worker thread finished; awaiting finish of 1 more threads\n",
      "2021-06-03 16:25:23,864 : INFO : worker thread finished; awaiting finish of 0 more threads\n",
      "2021-06-03 16:25:23,865 : INFO : EPOCH - 3 : training on 425145 raw words (397608 effective words) took 0.4s, 1071565 effective words/s\n",
      "2021-06-03 16:25:24,211 : INFO : worker thread finished; awaiting finish of 2 more threads\n",
      "2021-06-03 16:25:24,214 : INFO : worker thread finished; awaiting finish of 1 more threads\n",
      "2021-06-03 16:25:24,230 : INFO : worker thread finished; awaiting finish of 0 more threads\n",
      "2021-06-03 16:25:24,231 : INFO : EPOCH - 4 : training on 425145 raw words (397539 effective words) took 0.4s, 1091727 effective words/s\n",
      "2021-06-03 16:25:24,602 : INFO : worker thread finished; awaiting finish of 2 more threads\n",
      "2021-06-03 16:25:24,605 : INFO : worker thread finished; awaiting finish of 1 more threads\n",
      "2021-06-03 16:25:24,620 : INFO : worker thread finished; awaiting finish of 0 more threads\n",
      "2021-06-03 16:25:24,621 : INFO : EPOCH - 5 : training on 425145 raw words (397531 effective words) took 0.4s, 1025828 effective words/s\n",
      "2021-06-03 16:25:24,989 : INFO : worker thread finished; awaiting finish of 2 more threads\n",
      "2021-06-03 16:25:24,993 : INFO : worker thread finished; awaiting finish of 1 more threads\n",
      "2021-06-03 16:25:25,010 : INFO : worker thread finished; awaiting finish of 0 more threads\n",
      "2021-06-03 16:25:25,011 : INFO : EPOCH - 6 : training on 425145 raw words (397681 effective words) took 0.4s, 1025723 effective words/s\n",
      "2021-06-03 16:25:25,379 : INFO : worker thread finished; awaiting finish of 2 more threads\n",
      "2021-06-03 16:25:25,383 : INFO : worker thread finished; awaiting finish of 1 more threads\n",
      "2021-06-03 16:25:25,401 : INFO : worker thread finished; awaiting finish of 0 more threads\n",
      "2021-06-03 16:25:25,401 : INFO : EPOCH - 7 : training on 425145 raw words (397564 effective words) took 0.4s, 1026471 effective words/s\n",
      "2021-06-03 16:25:25,764 : INFO : worker thread finished; awaiting finish of 2 more threads\n",
      "2021-06-03 16:25:25,769 : INFO : worker thread finished; awaiting finish of 1 more threads\n",
      "2021-06-03 16:25:25,780 : INFO : worker thread finished; awaiting finish of 0 more threads\n",
      "2021-06-03 16:25:25,781 : INFO : EPOCH - 8 : training on 425145 raw words (397716 effective words) took 0.4s, 1053220 effective words/s\n",
      "2021-06-03 16:25:26,134 : INFO : worker thread finished; awaiting finish of 2 more threads\n",
      "2021-06-03 16:25:26,136 : INFO : worker thread finished; awaiting finish of 1 more threads\n",
      "2021-06-03 16:25:26,150 : INFO : worker thread finished; awaiting finish of 0 more threads\n",
      "2021-06-03 16:25:26,151 : INFO : EPOCH - 9 : training on 425145 raw words (397694 effective words) took 0.4s, 1080320 effective words/s\n",
      "2021-06-03 16:25:26,512 : INFO : worker thread finished; awaiting finish of 2 more threads\n",
      "2021-06-03 16:25:26,516 : INFO : worker thread finished; awaiting finish of 1 more threads\n",
      "2021-06-03 16:25:26,531 : INFO : worker thread finished; awaiting finish of 0 more threads\n",
      "2021-06-03 16:25:26,532 : INFO : EPOCH - 10 : training on 425145 raw words (397607 effective words) took 0.4s, 1049837 effective words/s\n",
      "2021-06-03 16:25:26,533 : INFO : Doc2Vec lifecycle event {'msg': 'training on 4251450 raw words (3976202 effective words) took 3.8s, 1049052 effective words/s', 'datetime': '2021-06-03T16:25:26.533463', 'gensim': '4.0.1', 'python': '3.8.5 (default, Sep  4 2020, 02:22:02) \\n[Clang 10.0.0 ]', 'platform': 'macOS-10.14.6-x86_64-i386-64bit', 'event': 'train'}\n",
      "2021-06-03 16:25:26,534 : INFO : Doc2Vec lifecycle event {'params': 'Doc2Vec(dm/m,d100,n5,w5,mc5,s0.001,t3)', 'datetime': '2021-06-03T16:25:26.534010', 'gensim': '4.0.1', 'python': '3.8.5 (default, Sep  4 2020, 02:22:02) \\n[Clang 10.0.0 ]', 'platform': 'macOS-10.14.6-x86_64-i386-64bit', 'event': 'created'}\n"
     ]
    },
    {
     "name": "stdout",
     "output_type": "stream",
     "text": [
      "Doc2Vec(dm/m,d100,n5,w5,mc5,s0.001,t3)\n"
     ]
    }
   ],
   "source": [
    "bbcD2V = Doc2Vec(documents, vector_size=100) # fit the Doc2Vec mode, with vector size of 100\n",
    "print(bbcD2V)"
   ]
  },
  {
   "cell_type": "markdown",
   "metadata": {
    "pycharm": {
     "name": "#%% md\n"
    }
   },
   "source": [
    "Have a look at the embedding of the first document:"
   ]
  },
  {
   "cell_type": "code",
   "execution_count": 52,
   "metadata": {
    "pycharm": {
     "name": "#%%\n"
    }
   },
   "outputs": [
    {
     "data": {
      "text/plain": [
       "array([ 0.11454982, -0.032353  , -0.00071478,  0.00174901,  0.14497268,\n",
       "       -0.13748005,  0.06508344,  0.37048393, -0.20666318, -0.17072585,\n",
       "        0.02386918, -0.14049186, -0.16397001, -0.00455213, -0.01752029,\n",
       "       -0.07008539,  0.08772267, -0.03954367,  0.02102946,  0.0091915 ,\n",
       "        0.10841979,  0.10877393,  0.04509874,  0.07008179,  0.0984271 ,\n",
       "       -0.10320791, -0.0389216 ,  0.01583009, -0.02334722, -0.14877997,\n",
       "        0.11507697,  0.08543792, -0.01775257,  0.07316525, -0.07908443,\n",
       "       -0.03500553,  0.05572459, -0.00335365,  0.06653854, -0.13826336,\n",
       "        0.19994949, -0.12722845,  0.05407086,  0.01734333,  0.06343144,\n",
       "        0.00669588, -0.25352228,  0.13913569,  0.24033725,  0.03761184,\n",
       "       -0.0200149 ,  0.05118918,  0.04512421, -0.05603988, -0.0424746 ,\n",
       "        0.07957385,  0.06290326, -0.05604059, -0.08414457,  0.00919532,\n",
       "        0.03603332,  0.23975326, -0.05192368,  0.01331474, -0.08390708,\n",
       "        0.26071724,  0.08207896,  0.09352902, -0.09987403,  0.05977257,\n",
       "       -0.0743073 , -0.13868767,  0.10008006,  0.02062045,  0.10286862,\n",
       "        0.06238266,  0.22156261,  0.01200022, -0.08245392, -0.07276326,\n",
       "       -0.00819049,  0.10755119,  0.11903362,  0.09683774, -0.11930923,\n",
       "        0.11615483, -0.01970646,  0.0085587 , -0.1423847 , -0.02239007,\n",
       "        0.09996577,  0.07149452,  0.11550128,  0.16901623,  0.04662413,\n",
       "        0.16935475, -0.04500572, -0.04007171,  0.03013077,  0.01059199],\n",
       "      dtype=float32)"
      ]
     },
     "execution_count": 52,
     "metadata": {},
     "output_type": "execute_result"
    }
   ],
   "source": [
    "bbcD2V.dv[0]"
   ]
  },
  {
   "cell_type": "markdown",
   "metadata": {
    "pycharm": {
     "name": "#%% md\n"
    }
   },
   "source": [
    "Explore its feature space, know that we do not need to convert the document vectors `bbcD2V.dv` to numpy array, as it is already a numpy array. :)"
   ]
  },
  {
   "cell_type": "code",
   "execution_count": 54,
   "metadata": {
    "pycharm": {
     "name": "#%%\n"
    }
   },
   "outputs": [
    {
     "data": {
      "image/png": "[encoded data removed]",
      "text/plain": [
       "<Figure size 432x288 with 1 Axes>"
      ]
     },
     "metadata": {
      "needs_background": "light"
     },
     "output_type": "display_data"
    }
   ],
   "source": [
    "\n",
    "plotTSNE(df['Category'],bbcD2V.dv)"
   ]
  },
  {
   "cell_type": "markdown",
   "metadata": {
    "pycharm": {
     "name": "#%% md\n"
    }
   },
   "source": [
    "er...... seems not that great. \n",
    "Finally, let's build a logistic regression model for document classfication based on that:"
   ]
  },
  {
   "cell_type": "code",
   "execution_count": 55,
   "metadata": {
    "pycharm": {
     "name": "#%%\n"
    }
   },
   "outputs": [
    {
     "data": {
      "text/plain": [
       "0.8408163265306122"
      ]
     },
     "execution_count": 55,
     "metadata": {},
     "output_type": "execute_result"
    }
   ],
   "source": [
    "# creating training and test split\n",
    "X_train, X_test, y_train, y_test,train_indices,test_indices = train_test_split(bbcD2V.dv, df['Category'], list(range(0,len(df))),test_size=0.33, random_state=seed)\n",
    "\n",
    "model = LogisticRegression(max_iter = 1000,random_state=seed)\n",
    "model.fit(X_train, y_train)\n",
    "model.score(X_test, y_test)"
   ]
  },
  {
   "cell_type": "markdown",
   "metadata": {
    "pycharm": {
     "name": "#%% md\n"
    }
   },
   "source": [
    "er...... not as great 🤨"
   ]
  },
  {
   "cell_type": "markdown",
   "metadata": {
    "pycharm": {
     "name": "#%% md\n"
    }
   },
   "source": [
    "### Infer vector for a new document:\n",
    "\n",
    "Anyway, if we were to adopt this model in some other applicaitons. \n",
    "For a new document, we can easily infer the document vector embeddings. Just look at the following example:"
   ]
  },
  {
   "cell_type": "code",
   "execution_count": 59,
   "metadata": {
    "pycharm": {
     "name": "#%%\n"
    }
   },
   "outputs": [],
   "source": [
    "headline = \"\"\"\n",
    "Chelsea boss Thomas Tuchel has challenged Kai Havertz to show greater \"hunger and determination\" after the forward \n",
    "impressed in a dominant victory at Crystal Palace.\n",
    "\"\"\"\n",
    "\n",
    "# This is a sport news headline\n"
   ]
  },
  {
   "cell_type": "code",
   "execution_count": 78,
   "metadata": {
    "pycharm": {
     "name": "#%%\n"
    }
   },
   "outputs": [
    {
     "data": {
      "text/plain": [
       "array([ 0.01627132,  0.01884041,  0.02272608,  0.00397928,  0.04112453,\n",
       "       -0.07675812,  0.00797929,  0.0941938 , -0.04472687, -0.07459433,\n",
       "        0.00401609, -0.02161853, -0.09820293,  0.02484406, -0.05144409,\n",
       "       -0.02508348,  0.03704153, -0.05414223,  0.00354637,  0.04342475,\n",
       "        0.02274181,  0.02220371,  0.09736038, -0.01129432,  0.05073708,\n",
       "       -0.04289461,  0.04479956, -0.01034958, -0.00844936, -0.0949089 ,\n",
       "        0.02510142,  0.05808383, -0.00469825,  0.06541745, -0.0140554 ,\n",
       "       -0.00569261, -0.00806472,  0.00111972,  0.04123918, -0.05153571,\n",
       "        0.10586244, -0.06095417,  0.0506042 , -0.03120329,  0.0067398 ,\n",
       "        0.02296279, -0.13869114,  0.05641207,  0.06898411,  0.03726583,\n",
       "       -0.04221537,  0.02057075,  0.01869616,  0.03474297, -0.0214555 ,\n",
       "        0.03905592,  0.03942374, -0.01645545, -0.04051245, -0.01926499,\n",
       "        0.03686599,  0.10806303, -0.08938402, -0.00577636, -0.02820241,\n",
       "        0.07479814,  0.0344021 ,  0.02097556, -0.02456789,  0.03183738,\n",
       "       -0.04896957, -0.03354532,  0.08302622,  0.03162608,  0.0290267 ,\n",
       "       -0.0002456 ,  0.07037657, -0.03381246, -0.0753624 , -0.02174331,\n",
       "        0.02418654,  0.06314538,  0.09364508,  0.01400678, -0.03714443,\n",
       "        0.03629946, -0.02434877, -0.00072124, -0.06544312, -0.03464716,\n",
       "        0.05297368, -0.00544813,  0.06486796,  0.1194378 ,  0.02036501,\n",
       "        0.04804095, -0.03144307, -0.03573615,  0.00455935,  0.0608596 ],\n",
       "      dtype=float32)"
      ]
     },
     "execution_count": 78,
     "metadata": {},
     "output_type": "execute_result"
    }
   ],
   "source": [
    "from gensim.utils import simple_preprocess\n",
    "\n",
    "doc_vec = bbcD2V.infer_vector(simple_preprocess(headline))\n",
    "doc_vec"
   ]
  },
  {
   "cell_type": "markdown",
   "metadata": {
    "pycharm": {
     "name": "#%% md\n"
    }
   },
   "source": [
    "Once we got the document embedding, we can do the prediction. Let's see whether it gets it right:"
   ]
  },
  {
   "cell_type": "code",
   "execution_count": 81,
   "metadata": {
    "pycharm": {
     "name": "#%%\n"
    }
   },
   "outputs": [
    {
     "data": {
      "text/plain": [
       "array(['entertainment'], dtype=object)"
      ]
     },
     "execution_count": 81,
     "metadata": {},
     "output_type": "execute_result"
    }
   ],
   "source": [
    "model.predict([doc_vec])"
   ]
  },
  {
   "cell_type": "markdown",
   "metadata": {
    "pycharm": {
     "name": "#%% md\n"
    }
   },
   "source": [
    "Cool! 🤩 It gets the right class (I hope you got the same, but maybe you have different results....)\n",
    "Try as many as you want and have fun! 😊\n",
    "\n",
    "If you run the infer_vecotr multiple time, every time you get a different vector. and thus, when you predict the class based on the different document vectors, you may get different results. 🤪 🤪 🤪 \n",
    "Refer to the answer of the [this question](https://github.com/RaRe-Technologies/gensim/wiki/recipes-&-faq#q12-ive-used-doc2vec-infer_vector-on-a-single-text-but-the-resulting-vector-is-different-each-time-is-there-a-bug-or-have-i-made-a-mistake-doc2vec-inference-non-determinism) to understand why. \n"
   ]
  },
  {
   "cell_type": "markdown",
   "metadata": {
    "pycharm": {
     "name": "#%% md\n"
    }
   },
   "source": [
    "## Summary\n",
    "\n",
    "Phew~~ this is a big activity. I got exhausted written it up and I believe you got a bit exhaused looking through it too 🤣\n",
    "Give yourself a clap! Well done! 👏👏👏\n",
    "\n",
    "\n",
    "\n",
    "## Exericse:\n",
    "Ok, we leave a few exercises for you:\n",
    "- We have try vector size 100 so far, but there are many alternatives, e.g., 50,200,300. Try other size and report performance. Discuss and share your thoughts with your peers: does larger vector size guarantees better performance?\n",
    "- So far, in this activities, we have been using the cleaned articles. Many of these libraries (including Genism) has included functionalities to do simply cleaning of text. Try them on and compare the performance.\n",
    "- Oh, one other very important thing. The results we presented so for in this activity, are based on a single run. To report more robust results, you should do Cross validation. Implement cross validation on the models we explore in this activity, and do a comprehensive comparsion on them.\n",
    "    \n"
   ]
  },
  {
   "cell_type": "markdown",
   "metadata": {
    "pycharm": {
     "name": "#%% md\n"
    }
   },
   "source": [
    "## References\n",
    "[1] [TFIDF with Word Embeddings](https://github.com/ytnvj2/DocumentEmbedding/blob/master/TFIDFwithEmbeddings.ipynb)  \n",
    "[2] [Problem-solving with ML: automatic document classification](https://cloud.google.com/blog/products/ai-machine-learning/problem-solving-with-ml-automatic-document-classification)     \n",
    "[3] [Creating TF-IDF Weighted Word Embeddings](http://dsgeek.com/2018/02/19/tfidf_vectors.html)    "
   ]
  }
 ],
 "metadata": {
  "kernelspec": {
   "display_name": "Python 3 (ipykernel)",
   "language": "python",
   "name": "python3"
  },
  "language_info": {
   "codemirror_mode": {
    "name": "ipython",
    "version": 3
   },
   "file_extension": ".py",
   "mimetype": "text/x-python",
   "name": "python",
   "nbconvert_exporter": "python",
   "pygments_lexer": "ipython3",
   "version": "3.9.12"
  }
 },
 "nbformat": 4,
 "nbformat_minor": 4
}
